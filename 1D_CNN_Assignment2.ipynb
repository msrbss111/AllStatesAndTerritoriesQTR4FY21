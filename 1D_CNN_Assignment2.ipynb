{
  "nbformat": 4,
  "nbformat_minor": 0,
  "metadata": {
    "kernelspec": {
      "name": "python3",
      "display_name": "Python 3"
    },
    "colab": {
      "name": "CNN_Assignment2.ipynb",
      "provenance": [],
      "collapsed_sections": []
    },
    "language_info": {
      "name": "python"
    },
    "accelerator": "GPU"
  },
  "cells": [
    {
      "cell_type": "code",
      "metadata": {
        "colab": {
          "base_uri": "https://localhost:8080/"
        },
        "id": "rSKgcytwiitR",
        "outputId": "5944cac6-d44a-431f-b176-12dde27a33ae"
      },
      "source": [
        "!nvidia-smi"
      ],
      "execution_count": 4,
      "outputs": [
        {
          "output_type": "stream",
          "name": "stdout",
          "text": [
            "Sun Dec  5 08:34:56 2021       \n",
            "+-----------------------------------------------------------------------------+\n",
            "| NVIDIA-SMI 495.44       Driver Version: 460.32.03    CUDA Version: 11.2     |\n",
            "|-------------------------------+----------------------+----------------------+\n",
            "| GPU  Name        Persistence-M| Bus-Id        Disp.A | Volatile Uncorr. ECC |\n",
            "| Fan  Temp  Perf  Pwr:Usage/Cap|         Memory-Usage | GPU-Util  Compute M. |\n",
            "|                               |                      |               MIG M. |\n",
            "|===============================+======================+======================|\n",
            "|   0  Tesla K80           Off  | 00000000:00:04.0 Off |                    0 |\n",
            "| N/A   68C    P8    33W / 149W |      0MiB / 11441MiB |      0%      Default |\n",
            "|                               |                      |                  N/A |\n",
            "+-------------------------------+----------------------+----------------------+\n",
            "                                                                               \n",
            "+-----------------------------------------------------------------------------+\n",
            "| Processes:                                                                  |\n",
            "|  GPU   GI   CI        PID   Type   Process name                  GPU Memory |\n",
            "|        ID   ID                                                   Usage      |\n",
            "|=============================================================================|\n",
            "|  No running processes found                                                 |\n",
            "+-----------------------------------------------------------------------------+\n"
          ]
        }
      ]
    },
    {
      "cell_type": "code",
      "metadata": {
        "id": "smv5yh81iZHI"
      },
      "source": [
        "import numpy as np\n",
        "import pandas as pd\n"
      ],
      "execution_count": 5,
      "outputs": []
    },
    {
      "cell_type": "code",
      "metadata": {
        "colab": {
          "base_uri": "https://localhost:8080/"
        },
        "id": "QYFTI8jK09-B",
        "outputId": "94573457-4eb7-4ceb-9228-96066082300d"
      },
      "source": [
        "from google.colab import drive\n",
        "drive.mount('/content/drive')"
      ],
      "execution_count": 6,
      "outputs": [
        {
          "output_type": "stream",
          "name": "stdout",
          "text": [
            "Mounted at /content/drive\n"
          ]
        }
      ]
    },
    {
      "cell_type": "code",
      "metadata": {
        "id": "SRXXPh2RiZHM"
      },
      "source": [
        "data = pd.read_excel('/content/drive/MyDrive/Colab Notebooks/AllStatesAndTerritoriesQTR4FY21.xlsx', sheet_name = None)"
      ],
      "execution_count": 7,
      "outputs": []
    },
    {
      "cell_type": "code",
      "metadata": {
        "scrolled": true,
        "colab": {
          "base_uri": "https://localhost:8080/"
        },
        "id": "8R4GZJ47iZHN",
        "outputId": "01754605-7b09-43c1-d2db-118b3f6de1b2"
      },
      "source": [
        "data.keys()"
      ],
      "execution_count": 8,
      "outputs": [
        {
          "output_type": "execute_result",
          "data": {
            "text/plain": [
              "dict_keys(['ALABAMA', 'ALASKA', 'ARIZONA', 'ARKANSAS', 'CALIFORNIA', 'COLORADO', 'CONNECTICUT', 'DELAWARE', 'FLORIDA', 'GEORGIA', 'GUAM', 'IDAHO', 'ILLINOIS', 'INDIANA', 'IOWA', 'KANSAS', 'KENTUCKY', 'LOUISIANA', 'MAINE', 'MARYLAND', 'MASSACHUSETTS', 'MICHIGAN', 'MINNESOTA', 'MISSISSIPPI', 'MISSOURI', 'MONTANA', 'NEBRASKA', 'NEVADA', 'NEW HAMPSHIRE', 'NEW JERSEY', 'NEW MEXICO', 'NEW YORK', 'NORTH CAROLINA', 'NORTH DAKOTA', 'NORTHERN MARIANA ISLANDS', 'OHIO', 'OKLAHOMA', 'OREGON', 'PENNSYLVANIA', 'PUERTO RICO', 'RHODE ISLAND', 'SOUTH CAROLINA', 'SOUTH DAKOTA', 'TENNESSEE', 'TEXAS', 'UTAH', 'VERMONT', 'VIRGIN ISLANDS OF THE U.S.', 'VIRGINIA', 'WASHINGTON', 'WEST VIRGINIA', 'WISCONSIN', 'WYOMING'])"
            ]
          },
          "metadata": {},
          "execution_count": 8
        }
      ]
    },
    {
      "cell_type": "code",
      "metadata": {
        "id": "Y2KZnGyBiZHO"
      },
      "source": [
        "df = pd.concat(data[frame] for frame in data.keys()) "
      ],
      "execution_count": 9,
      "outputs": []
    },
    {
      "cell_type": "code",
      "metadata": {
        "scrolled": true,
        "id": "26E2ku3RiZHO"
      },
      "source": [
        "df = df.reset_index()"
      ],
      "execution_count": 10,
      "outputs": []
    },
    {
      "cell_type": "code",
      "metadata": {
        "colab": {
          "base_uri": "https://localhost:8080/",
          "height": 424
        },
        "id": "Dtzh3h_eiZHP",
        "outputId": "81231993-2d47-4c10-ead2-0f3c25ed3413"
      },
      "source": [
        "df = df.drop(labels = 'index', axis = 1)\n",
        "df"
      ],
      "execution_count": 11,
      "outputs": [
        {
          "output_type": "execute_result",
          "data": {
            "text/html": [
              "<div>\n",
              "<style scoped>\n",
              "    .dataframe tbody tr th:only-of-type {\n",
              "        vertical-align: middle;\n",
              "    }\n",
              "\n",
              "    .dataframe tbody tr th {\n",
              "        vertical-align: top;\n",
              "    }\n",
              "\n",
              "    .dataframe thead th {\n",
              "        text-align: right;\n",
              "    }\n",
              "</style>\n",
              "<table border=\"1\" class=\"dataframe\">\n",
              "  <thead>\n",
              "    <tr style=\"text-align: right;\">\n",
              "      <th></th>\n",
              "      <th>State</th>\n",
              "      <th>Agency Name</th>\n",
              "      <th>NSN</th>\n",
              "      <th>Item Name</th>\n",
              "      <th>Quantity</th>\n",
              "      <th>UI</th>\n",
              "      <th>Acquisition Value</th>\n",
              "      <th>DEMIL Code</th>\n",
              "      <th>DEMIL IC</th>\n",
              "      <th>Ship Date</th>\n",
              "      <th>Station Type</th>\n",
              "    </tr>\n",
              "  </thead>\n",
              "  <tbody>\n",
              "    <tr>\n",
              "      <th>0</th>\n",
              "      <td>AL</td>\n",
              "      <td>ABBEVILLE POLICE DEPT</td>\n",
              "      <td>2540-01-565-4700</td>\n",
              "      <td>BALLISTIC BLANKET KIT</td>\n",
              "      <td>10</td>\n",
              "      <td>Kit</td>\n",
              "      <td>15871.59</td>\n",
              "      <td>D</td>\n",
              "      <td>1.0</td>\n",
              "      <td>2018-01-30</td>\n",
              "      <td>State</td>\n",
              "    </tr>\n",
              "    <tr>\n",
              "      <th>1</th>\n",
              "      <td>AL</td>\n",
              "      <td>ABBEVILLE POLICE DEPT</td>\n",
              "      <td>1240-DS-OPT-SIGH</td>\n",
              "      <td>OPTICAL SIGHTING AND RANGING EQUIPMENT</td>\n",
              "      <td>1</td>\n",
              "      <td>Each</td>\n",
              "      <td>245.88</td>\n",
              "      <td>D</td>\n",
              "      <td>NaN</td>\n",
              "      <td>2016-06-02</td>\n",
              "      <td>State</td>\n",
              "    </tr>\n",
              "    <tr>\n",
              "      <th>2</th>\n",
              "      <td>AL</td>\n",
              "      <td>ABBEVILLE POLICE DEPT</td>\n",
              "      <td>2355-01-553-4634</td>\n",
              "      <td>MINE RESISTANT VEHICLE</td>\n",
              "      <td>1</td>\n",
              "      <td>Each</td>\n",
              "      <td>658000.00</td>\n",
              "      <td>C</td>\n",
              "      <td>1.0</td>\n",
              "      <td>2016-11-09</td>\n",
              "      <td>State</td>\n",
              "    </tr>\n",
              "    <tr>\n",
              "      <th>3</th>\n",
              "      <td>AL</td>\n",
              "      <td>ABBEVILLE POLICE DEPT</td>\n",
              "      <td>1240-01-411-1265</td>\n",
              "      <td>SIGHT,REFLEX</td>\n",
              "      <td>9</td>\n",
              "      <td>Each</td>\n",
              "      <td>333.00</td>\n",
              "      <td>D</td>\n",
              "      <td>1.0</td>\n",
              "      <td>2016-09-14</td>\n",
              "      <td>State</td>\n",
              "    </tr>\n",
              "    <tr>\n",
              "      <th>4</th>\n",
              "      <td>AL</td>\n",
              "      <td>ABBEVILLE POLICE DEPT</td>\n",
              "      <td>5855-01-577-7174</td>\n",
              "      <td>ILLUMINATOR,INFRARED</td>\n",
              "      <td>10</td>\n",
              "      <td>Each</td>\n",
              "      <td>926.00</td>\n",
              "      <td>D</td>\n",
              "      <td>1.0</td>\n",
              "      <td>2017-03-28</td>\n",
              "      <td>State</td>\n",
              "    </tr>\n",
              "    <tr>\n",
              "      <th>...</th>\n",
              "      <td>...</td>\n",
              "      <td>...</td>\n",
              "      <td>...</td>\n",
              "      <td>...</td>\n",
              "      <td>...</td>\n",
              "      <td>...</td>\n",
              "      <td>...</td>\n",
              "      <td>...</td>\n",
              "      <td>...</td>\n",
              "      <td>...</td>\n",
              "      <td>...</td>\n",
              "    </tr>\n",
              "    <tr>\n",
              "      <th>130953</th>\n",
              "      <td>WY</td>\n",
              "      <td>WESTON COUNTY SHERIFF'S OFFICE</td>\n",
              "      <td>1005-00-589-1271</td>\n",
              "      <td>RIFLE,7.62 MILLIMETER</td>\n",
              "      <td>1</td>\n",
              "      <td>Each</td>\n",
              "      <td>138.00</td>\n",
              "      <td>D</td>\n",
              "      <td>1.0</td>\n",
              "      <td>1993-09-01</td>\n",
              "      <td>State</td>\n",
              "    </tr>\n",
              "    <tr>\n",
              "      <th>130954</th>\n",
              "      <td>WY</td>\n",
              "      <td>WESTON COUNTY SHERIFF'S OFFICE</td>\n",
              "      <td>1005-00-589-1271</td>\n",
              "      <td>RIFLE,7.62 MILLIMETER</td>\n",
              "      <td>1</td>\n",
              "      <td>Each</td>\n",
              "      <td>138.00</td>\n",
              "      <td>D</td>\n",
              "      <td>1.0</td>\n",
              "      <td>1993-09-01</td>\n",
              "      <td>State</td>\n",
              "    </tr>\n",
              "    <tr>\n",
              "      <th>130955</th>\n",
              "      <td>WY</td>\n",
              "      <td>WESTON COUNTY SHERIFF'S OFFICE</td>\n",
              "      <td>1005-00-589-1271</td>\n",
              "      <td>RIFLE,7.62 MILLIMETER</td>\n",
              "      <td>1</td>\n",
              "      <td>Each</td>\n",
              "      <td>138.00</td>\n",
              "      <td>D</td>\n",
              "      <td>1.0</td>\n",
              "      <td>1993-09-01</td>\n",
              "      <td>State</td>\n",
              "    </tr>\n",
              "    <tr>\n",
              "      <th>130956</th>\n",
              "      <td>WY</td>\n",
              "      <td>WESTON COUNTY SHERIFF'S OFFICE</td>\n",
              "      <td>1005-00-589-1271</td>\n",
              "      <td>RIFLE,7.62 MILLIMETER</td>\n",
              "      <td>1</td>\n",
              "      <td>Each</td>\n",
              "      <td>138.00</td>\n",
              "      <td>D</td>\n",
              "      <td>1.0</td>\n",
              "      <td>1993-09-01</td>\n",
              "      <td>State</td>\n",
              "    </tr>\n",
              "    <tr>\n",
              "      <th>130957</th>\n",
              "      <td>WY</td>\n",
              "      <td>WESTON COUNTY SHERIFF'S OFFICE</td>\n",
              "      <td>1005-00-589-1271</td>\n",
              "      <td>RIFLE,7.62 MILLIMETER</td>\n",
              "      <td>1</td>\n",
              "      <td>Each</td>\n",
              "      <td>138.00</td>\n",
              "      <td>D</td>\n",
              "      <td>1.0</td>\n",
              "      <td>1993-09-01</td>\n",
              "      <td>State</td>\n",
              "    </tr>\n",
              "  </tbody>\n",
              "</table>\n",
              "<p>130958 rows × 11 columns</p>\n",
              "</div>"
            ],
            "text/plain": [
              "       State                     Agency Name  ...  Ship Date Station Type\n",
              "0         AL           ABBEVILLE POLICE DEPT  ... 2018-01-30        State\n",
              "1         AL           ABBEVILLE POLICE DEPT  ... 2016-06-02        State\n",
              "2         AL           ABBEVILLE POLICE DEPT  ... 2016-11-09        State\n",
              "3         AL           ABBEVILLE POLICE DEPT  ... 2016-09-14        State\n",
              "4         AL           ABBEVILLE POLICE DEPT  ... 2017-03-28        State\n",
              "...      ...                             ...  ...        ...          ...\n",
              "130953    WY  WESTON COUNTY SHERIFF'S OFFICE  ... 1993-09-01        State\n",
              "130954    WY  WESTON COUNTY SHERIFF'S OFFICE  ... 1993-09-01        State\n",
              "130955    WY  WESTON COUNTY SHERIFF'S OFFICE  ... 1993-09-01        State\n",
              "130956    WY  WESTON COUNTY SHERIFF'S OFFICE  ... 1993-09-01        State\n",
              "130957    WY  WESTON COUNTY SHERIFF'S OFFICE  ... 1993-09-01        State\n",
              "\n",
              "[130958 rows x 11 columns]"
            ]
          },
          "metadata": {},
          "execution_count": 11
        }
      ]
    },
    {
      "cell_type": "code",
      "metadata": {
        "scrolled": true,
        "colab": {
          "base_uri": "https://localhost:8080/"
        },
        "id": "Ndm605WoiZHP",
        "outputId": "55bedc9e-2f91-4445-c21f-e6a847ce44d0"
      },
      "source": [
        "df.count()"
      ],
      "execution_count": 12,
      "outputs": [
        {
          "output_type": "execute_result",
          "data": {
            "text/plain": [
              "State                130958\n",
              "Agency Name          130958\n",
              "NSN                  130958\n",
              "Item Name            130958\n",
              "Quantity             130958\n",
              "UI                   130958\n",
              "Acquisition Value    130958\n",
              "DEMIL Code           130958\n",
              "DEMIL IC             121048\n",
              "Ship Date            130958\n",
              "Station Type         130958\n",
              "dtype: int64"
            ]
          },
          "metadata": {},
          "execution_count": 12
        }
      ]
    },
    {
      "cell_type": "code",
      "metadata": {
        "scrolled": false,
        "colab": {
          "base_uri": "https://localhost:8080/"
        },
        "id": "VpwAxGs6iZHQ",
        "outputId": "efa40619-371b-4967-9437-3bbfc4ebb483"
      },
      "source": [
        "# There are 814 rows that are having null values and all are from column DEMIL IC\n",
        "df.isnull().sum()"
      ],
      "execution_count": 13,
      "outputs": [
        {
          "output_type": "execute_result",
          "data": {
            "text/plain": [
              "State                   0\n",
              "Agency Name             0\n",
              "NSN                     0\n",
              "Item Name               0\n",
              "Quantity                0\n",
              "UI                      0\n",
              "Acquisition Value       0\n",
              "DEMIL Code              0\n",
              "DEMIL IC             9910\n",
              "Ship Date               0\n",
              "Station Type            0\n",
              "dtype: int64"
            ]
          },
          "metadata": {},
          "execution_count": 13
        }
      ]
    },
    {
      "cell_type": "code",
      "metadata": {
        "id": "v3wlTUBuiZHR"
      },
      "source": [
        "df = df.fillna(1)"
      ],
      "execution_count": 14,
      "outputs": []
    },
    {
      "cell_type": "code",
      "metadata": {
        "colab": {
          "base_uri": "https://localhost:8080/"
        },
        "id": "aBnko7ZdenXh",
        "outputId": "df6aec71-0cc3-4f80-d25a-5346f534cd1a"
      },
      "source": [
        "# We will drop state since all the instances have station type as state which as no significance \n",
        "df.groupby('Station Type').count()['State']"
      ],
      "execution_count": 15,
      "outputs": [
        {
          "output_type": "execute_result",
          "data": {
            "text/plain": [
              "Station Type\n",
              "State    130958\n",
              "Name: State, dtype: int64"
            ]
          },
          "metadata": {},
          "execution_count": 15
        }
      ]
    },
    {
      "cell_type": "code",
      "metadata": {
        "id": "_62cuBo5eodq"
      },
      "source": [
        "df = df.drop('Station Type', 1)"
      ],
      "execution_count": 16,
      "outputs": []
    },
    {
      "cell_type": "code",
      "metadata": {
        "colab": {
          "base_uri": "https://localhost:8080/",
          "height": 424
        },
        "id": "IXpsFJ_GiZHS",
        "outputId": "5feda1cc-eccd-4386-c02e-caaa2ae6e99f"
      },
      "source": [
        "df"
      ],
      "execution_count": 17,
      "outputs": [
        {
          "output_type": "execute_result",
          "data": {
            "text/html": [
              "<div>\n",
              "<style scoped>\n",
              "    .dataframe tbody tr th:only-of-type {\n",
              "        vertical-align: middle;\n",
              "    }\n",
              "\n",
              "    .dataframe tbody tr th {\n",
              "        vertical-align: top;\n",
              "    }\n",
              "\n",
              "    .dataframe thead th {\n",
              "        text-align: right;\n",
              "    }\n",
              "</style>\n",
              "<table border=\"1\" class=\"dataframe\">\n",
              "  <thead>\n",
              "    <tr style=\"text-align: right;\">\n",
              "      <th></th>\n",
              "      <th>State</th>\n",
              "      <th>Agency Name</th>\n",
              "      <th>NSN</th>\n",
              "      <th>Item Name</th>\n",
              "      <th>Quantity</th>\n",
              "      <th>UI</th>\n",
              "      <th>Acquisition Value</th>\n",
              "      <th>DEMIL Code</th>\n",
              "      <th>DEMIL IC</th>\n",
              "      <th>Ship Date</th>\n",
              "    </tr>\n",
              "  </thead>\n",
              "  <tbody>\n",
              "    <tr>\n",
              "      <th>0</th>\n",
              "      <td>AL</td>\n",
              "      <td>ABBEVILLE POLICE DEPT</td>\n",
              "      <td>2540-01-565-4700</td>\n",
              "      <td>BALLISTIC BLANKET KIT</td>\n",
              "      <td>10</td>\n",
              "      <td>Kit</td>\n",
              "      <td>15871.59</td>\n",
              "      <td>D</td>\n",
              "      <td>1.0</td>\n",
              "      <td>2018-01-30</td>\n",
              "    </tr>\n",
              "    <tr>\n",
              "      <th>1</th>\n",
              "      <td>AL</td>\n",
              "      <td>ABBEVILLE POLICE DEPT</td>\n",
              "      <td>1240-DS-OPT-SIGH</td>\n",
              "      <td>OPTICAL SIGHTING AND RANGING EQUIPMENT</td>\n",
              "      <td>1</td>\n",
              "      <td>Each</td>\n",
              "      <td>245.88</td>\n",
              "      <td>D</td>\n",
              "      <td>1.0</td>\n",
              "      <td>2016-06-02</td>\n",
              "    </tr>\n",
              "    <tr>\n",
              "      <th>2</th>\n",
              "      <td>AL</td>\n",
              "      <td>ABBEVILLE POLICE DEPT</td>\n",
              "      <td>2355-01-553-4634</td>\n",
              "      <td>MINE RESISTANT VEHICLE</td>\n",
              "      <td>1</td>\n",
              "      <td>Each</td>\n",
              "      <td>658000.00</td>\n",
              "      <td>C</td>\n",
              "      <td>1.0</td>\n",
              "      <td>2016-11-09</td>\n",
              "    </tr>\n",
              "    <tr>\n",
              "      <th>3</th>\n",
              "      <td>AL</td>\n",
              "      <td>ABBEVILLE POLICE DEPT</td>\n",
              "      <td>1240-01-411-1265</td>\n",
              "      <td>SIGHT,REFLEX</td>\n",
              "      <td>9</td>\n",
              "      <td>Each</td>\n",
              "      <td>333.00</td>\n",
              "      <td>D</td>\n",
              "      <td>1.0</td>\n",
              "      <td>2016-09-14</td>\n",
              "    </tr>\n",
              "    <tr>\n",
              "      <th>4</th>\n",
              "      <td>AL</td>\n",
              "      <td>ABBEVILLE POLICE DEPT</td>\n",
              "      <td>5855-01-577-7174</td>\n",
              "      <td>ILLUMINATOR,INFRARED</td>\n",
              "      <td>10</td>\n",
              "      <td>Each</td>\n",
              "      <td>926.00</td>\n",
              "      <td>D</td>\n",
              "      <td>1.0</td>\n",
              "      <td>2017-03-28</td>\n",
              "    </tr>\n",
              "    <tr>\n",
              "      <th>...</th>\n",
              "      <td>...</td>\n",
              "      <td>...</td>\n",
              "      <td>...</td>\n",
              "      <td>...</td>\n",
              "      <td>...</td>\n",
              "      <td>...</td>\n",
              "      <td>...</td>\n",
              "      <td>...</td>\n",
              "      <td>...</td>\n",
              "      <td>...</td>\n",
              "    </tr>\n",
              "    <tr>\n",
              "      <th>130953</th>\n",
              "      <td>WY</td>\n",
              "      <td>WESTON COUNTY SHERIFF'S OFFICE</td>\n",
              "      <td>1005-00-589-1271</td>\n",
              "      <td>RIFLE,7.62 MILLIMETER</td>\n",
              "      <td>1</td>\n",
              "      <td>Each</td>\n",
              "      <td>138.00</td>\n",
              "      <td>D</td>\n",
              "      <td>1.0</td>\n",
              "      <td>1993-09-01</td>\n",
              "    </tr>\n",
              "    <tr>\n",
              "      <th>130954</th>\n",
              "      <td>WY</td>\n",
              "      <td>WESTON COUNTY SHERIFF'S OFFICE</td>\n",
              "      <td>1005-00-589-1271</td>\n",
              "      <td>RIFLE,7.62 MILLIMETER</td>\n",
              "      <td>1</td>\n",
              "      <td>Each</td>\n",
              "      <td>138.00</td>\n",
              "      <td>D</td>\n",
              "      <td>1.0</td>\n",
              "      <td>1993-09-01</td>\n",
              "    </tr>\n",
              "    <tr>\n",
              "      <th>130955</th>\n",
              "      <td>WY</td>\n",
              "      <td>WESTON COUNTY SHERIFF'S OFFICE</td>\n",
              "      <td>1005-00-589-1271</td>\n",
              "      <td>RIFLE,7.62 MILLIMETER</td>\n",
              "      <td>1</td>\n",
              "      <td>Each</td>\n",
              "      <td>138.00</td>\n",
              "      <td>D</td>\n",
              "      <td>1.0</td>\n",
              "      <td>1993-09-01</td>\n",
              "    </tr>\n",
              "    <tr>\n",
              "      <th>130956</th>\n",
              "      <td>WY</td>\n",
              "      <td>WESTON COUNTY SHERIFF'S OFFICE</td>\n",
              "      <td>1005-00-589-1271</td>\n",
              "      <td>RIFLE,7.62 MILLIMETER</td>\n",
              "      <td>1</td>\n",
              "      <td>Each</td>\n",
              "      <td>138.00</td>\n",
              "      <td>D</td>\n",
              "      <td>1.0</td>\n",
              "      <td>1993-09-01</td>\n",
              "    </tr>\n",
              "    <tr>\n",
              "      <th>130957</th>\n",
              "      <td>WY</td>\n",
              "      <td>WESTON COUNTY SHERIFF'S OFFICE</td>\n",
              "      <td>1005-00-589-1271</td>\n",
              "      <td>RIFLE,7.62 MILLIMETER</td>\n",
              "      <td>1</td>\n",
              "      <td>Each</td>\n",
              "      <td>138.00</td>\n",
              "      <td>D</td>\n",
              "      <td>1.0</td>\n",
              "      <td>1993-09-01</td>\n",
              "    </tr>\n",
              "  </tbody>\n",
              "</table>\n",
              "<p>130958 rows × 10 columns</p>\n",
              "</div>"
            ],
            "text/plain": [
              "       State                     Agency Name  ... DEMIL IC  Ship Date\n",
              "0         AL           ABBEVILLE POLICE DEPT  ...      1.0 2018-01-30\n",
              "1         AL           ABBEVILLE POLICE DEPT  ...      1.0 2016-06-02\n",
              "2         AL           ABBEVILLE POLICE DEPT  ...      1.0 2016-11-09\n",
              "3         AL           ABBEVILLE POLICE DEPT  ...      1.0 2016-09-14\n",
              "4         AL           ABBEVILLE POLICE DEPT  ...      1.0 2017-03-28\n",
              "...      ...                             ...  ...      ...        ...\n",
              "130953    WY  WESTON COUNTY SHERIFF'S OFFICE  ...      1.0 1993-09-01\n",
              "130954    WY  WESTON COUNTY SHERIFF'S OFFICE  ...      1.0 1993-09-01\n",
              "130955    WY  WESTON COUNTY SHERIFF'S OFFICE  ...      1.0 1993-09-01\n",
              "130956    WY  WESTON COUNTY SHERIFF'S OFFICE  ...      1.0 1993-09-01\n",
              "130957    WY  WESTON COUNTY SHERIFF'S OFFICE  ...      1.0 1993-09-01\n",
              "\n",
              "[130958 rows x 10 columns]"
            ]
          },
          "metadata": {},
          "execution_count": 17
        }
      ]
    },
    {
      "cell_type": "code",
      "metadata": {
        "colab": {
          "base_uri": "https://localhost:8080/"
        },
        "id": "fMtha-q-iZHS",
        "outputId": "aaf37ffc-78af-43bf-e015-c1525d016073"
      },
      "source": [
        "df.info()"
      ],
      "execution_count": 18,
      "outputs": [
        {
          "output_type": "stream",
          "name": "stdout",
          "text": [
            "<class 'pandas.core.frame.DataFrame'>\n",
            "RangeIndex: 130958 entries, 0 to 130957\n",
            "Data columns (total 10 columns):\n",
            " #   Column             Non-Null Count   Dtype         \n",
            "---  ------             --------------   -----         \n",
            " 0   State              130958 non-null  object        \n",
            " 1   Agency Name        130958 non-null  object        \n",
            " 2   NSN                130958 non-null  object        \n",
            " 3   Item Name          130958 non-null  object        \n",
            " 4   Quantity           130958 non-null  int64         \n",
            " 5   UI                 130958 non-null  object        \n",
            " 6   Acquisition Value  130958 non-null  float64       \n",
            " 7   DEMIL Code         130958 non-null  object        \n",
            " 8   DEMIL IC           130958 non-null  float64       \n",
            " 9   Ship Date          130958 non-null  datetime64[ns]\n",
            "dtypes: datetime64[ns](1), float64(2), int64(1), object(6)\n",
            "memory usage: 10.0+ MB\n"
          ]
        }
      ]
    },
    {
      "cell_type": "code",
      "metadata": {
        "id": "iuXhCALRiZHT"
      },
      "source": [
        "from sklearn.preprocessing import LabelEncoder\n",
        "\n",
        "le =LabelEncoder()\n",
        "\n",
        "df['State'] = le.fit_transform(df['State'])\n",
        "df['Agency Name'] = le.fit_transform(df['Agency Name'])\n",
        "df['NSN'] = le.fit_transform(df['NSN'])\n",
        "df['Item Name'] = le.fit_transform(df['Item Name'])\n",
        "df['UI'] = le.fit_transform(df['UI'])\n",
        "df['DEMIL Code'] = le.fit_transform(df['DEMIL Code'])\n",
        "df['Ship Date'] = le.fit_transform(df['Ship Date'])\n",
        "\n",
        "\n",
        "\n"
      ],
      "execution_count": 19,
      "outputs": []
    },
    {
      "cell_type": "code",
      "metadata": {
        "scrolled": true,
        "colab": {
          "base_uri": "https://localhost:8080/",
          "height": 363
        },
        "id": "Ij6M-S39iZHT",
        "outputId": "3b5c0d06-193a-4cb7-b126-c8e05bf0af49"
      },
      "source": [
        "df.corr()"
      ],
      "execution_count": 20,
      "outputs": [
        {
          "output_type": "execute_result",
          "data": {
            "text/html": [
              "<div>\n",
              "<style scoped>\n",
              "    .dataframe tbody tr th:only-of-type {\n",
              "        vertical-align: middle;\n",
              "    }\n",
              "\n",
              "    .dataframe tbody tr th {\n",
              "        vertical-align: top;\n",
              "    }\n",
              "\n",
              "    .dataframe thead th {\n",
              "        text-align: right;\n",
              "    }\n",
              "</style>\n",
              "<table border=\"1\" class=\"dataframe\">\n",
              "  <thead>\n",
              "    <tr style=\"text-align: right;\">\n",
              "      <th></th>\n",
              "      <th>State</th>\n",
              "      <th>Agency Name</th>\n",
              "      <th>NSN</th>\n",
              "      <th>Item Name</th>\n",
              "      <th>Quantity</th>\n",
              "      <th>UI</th>\n",
              "      <th>Acquisition Value</th>\n",
              "      <th>DEMIL Code</th>\n",
              "      <th>DEMIL IC</th>\n",
              "      <th>Ship Date</th>\n",
              "    </tr>\n",
              "  </thead>\n",
              "  <tbody>\n",
              "    <tr>\n",
              "      <th>State</th>\n",
              "      <td>1.000000</td>\n",
              "      <td>0.007716</td>\n",
              "      <td>0.009308</td>\n",
              "      <td>0.008374</td>\n",
              "      <td>-0.010061</td>\n",
              "      <td>-0.014232</td>\n",
              "      <td>0.001140</td>\n",
              "      <td>0.005336</td>\n",
              "      <td>0.009781</td>\n",
              "      <td>0.061788</td>\n",
              "    </tr>\n",
              "    <tr>\n",
              "      <th>Agency Name</th>\n",
              "      <td>0.007716</td>\n",
              "      <td>1.000000</td>\n",
              "      <td>0.021460</td>\n",
              "      <td>-0.012198</td>\n",
              "      <td>0.007939</td>\n",
              "      <td>0.026054</td>\n",
              "      <td>-0.004720</td>\n",
              "      <td>-0.031039</td>\n",
              "      <td>-0.004451</td>\n",
              "      <td>0.015957</td>\n",
              "    </tr>\n",
              "    <tr>\n",
              "      <th>NSN</th>\n",
              "      <td>0.009308</td>\n",
              "      <td>0.021460</td>\n",
              "      <td>1.000000</td>\n",
              "      <td>-0.360693</td>\n",
              "      <td>0.081456</td>\n",
              "      <td>0.197884</td>\n",
              "      <td>0.008735</td>\n",
              "      <td>-0.357071</td>\n",
              "      <td>0.160561</td>\n",
              "      <td>0.632406</td>\n",
              "    </tr>\n",
              "    <tr>\n",
              "      <th>Item Name</th>\n",
              "      <td>0.008374</td>\n",
              "      <td>-0.012198</td>\n",
              "      <td>-0.360693</td>\n",
              "      <td>1.000000</td>\n",
              "      <td>-0.067334</td>\n",
              "      <td>-0.081001</td>\n",
              "      <td>-0.032489</td>\n",
              "      <td>0.182463</td>\n",
              "      <td>-0.028624</td>\n",
              "      <td>-0.257155</td>\n",
              "    </tr>\n",
              "    <tr>\n",
              "      <th>Quantity</th>\n",
              "      <td>-0.010061</td>\n",
              "      <td>0.007939</td>\n",
              "      <td>0.081456</td>\n",
              "      <td>-0.067334</td>\n",
              "      <td>1.000000</td>\n",
              "      <td>0.021148</td>\n",
              "      <td>-0.009467</td>\n",
              "      <td>-0.078962</td>\n",
              "      <td>-0.004195</td>\n",
              "      <td>0.099630</td>\n",
              "    </tr>\n",
              "    <tr>\n",
              "      <th>UI</th>\n",
              "      <td>-0.014232</td>\n",
              "      <td>0.026054</td>\n",
              "      <td>0.197884</td>\n",
              "      <td>-0.081001</td>\n",
              "      <td>0.021148</td>\n",
              "      <td>1.000000</td>\n",
              "      <td>-0.006709</td>\n",
              "      <td>-0.170494</td>\n",
              "      <td>-0.009302</td>\n",
              "      <td>0.152234</td>\n",
              "    </tr>\n",
              "    <tr>\n",
              "      <th>Acquisition Value</th>\n",
              "      <td>0.001140</td>\n",
              "      <td>-0.004720</td>\n",
              "      <td>0.008735</td>\n",
              "      <td>-0.032489</td>\n",
              "      <td>-0.009467</td>\n",
              "      <td>-0.006709</td>\n",
              "      <td>1.000000</td>\n",
              "      <td>-0.015225</td>\n",
              "      <td>0.025192</td>\n",
              "      <td>0.053920</td>\n",
              "    </tr>\n",
              "    <tr>\n",
              "      <th>DEMIL Code</th>\n",
              "      <td>0.005336</td>\n",
              "      <td>-0.031039</td>\n",
              "      <td>-0.357071</td>\n",
              "      <td>0.182463</td>\n",
              "      <td>-0.078962</td>\n",
              "      <td>-0.170494</td>\n",
              "      <td>-0.015225</td>\n",
              "      <td>1.000000</td>\n",
              "      <td>0.287777</td>\n",
              "      <td>-0.392149</td>\n",
              "    </tr>\n",
              "    <tr>\n",
              "      <th>DEMIL IC</th>\n",
              "      <td>0.009781</td>\n",
              "      <td>-0.004451</td>\n",
              "      <td>0.160561</td>\n",
              "      <td>-0.028624</td>\n",
              "      <td>-0.004195</td>\n",
              "      <td>-0.009302</td>\n",
              "      <td>0.025192</td>\n",
              "      <td>0.287777</td>\n",
              "      <td>1.000000</td>\n",
              "      <td>0.166042</td>\n",
              "    </tr>\n",
              "    <tr>\n",
              "      <th>Ship Date</th>\n",
              "      <td>0.061788</td>\n",
              "      <td>0.015957</td>\n",
              "      <td>0.632406</td>\n",
              "      <td>-0.257155</td>\n",
              "      <td>0.099630</td>\n",
              "      <td>0.152234</td>\n",
              "      <td>0.053920</td>\n",
              "      <td>-0.392149</td>\n",
              "      <td>0.166042</td>\n",
              "      <td>1.000000</td>\n",
              "    </tr>\n",
              "  </tbody>\n",
              "</table>\n",
              "</div>"
            ],
            "text/plain": [
              "                      State  Agency Name  ...  DEMIL IC  Ship Date\n",
              "State              1.000000     0.007716  ...  0.009781   0.061788\n",
              "Agency Name        0.007716     1.000000  ... -0.004451   0.015957\n",
              "NSN                0.009308     0.021460  ...  0.160561   0.632406\n",
              "Item Name          0.008374    -0.012198  ... -0.028624  -0.257155\n",
              "Quantity          -0.010061     0.007939  ... -0.004195   0.099630\n",
              "UI                -0.014232     0.026054  ... -0.009302   0.152234\n",
              "Acquisition Value  0.001140    -0.004720  ...  0.025192   0.053920\n",
              "DEMIL Code         0.005336    -0.031039  ...  0.287777  -0.392149\n",
              "DEMIL IC           0.009781    -0.004451  ...  1.000000   0.166042\n",
              "Ship Date          0.061788     0.015957  ...  0.166042   1.000000\n",
              "\n",
              "[10 rows x 10 columns]"
            ]
          },
          "metadata": {},
          "execution_count": 20
        }
      ]
    },
    {
      "cell_type": "code",
      "metadata": {
        "id": "-oSCygMHiZHT"
      },
      "source": [
        "from tensorflow.keras.optimizers import Adam\n",
        "import numpy as np\n",
        "from sklearn.model_selection import train_test_split\n",
        "from sklearn.preprocessing import OneHotEncoder\n",
        "from keras.models import Sequential\n",
        "from keras.layers import Dense\n",
        "\n"
      ],
      "execution_count": 21,
      "outputs": []
    },
    {
      "cell_type": "code",
      "metadata": {
        "id": "7X-1wsIciZHU"
      },
      "source": [
        "from sklearn.preprocessing import normalize\n",
        "from tensorflow.keras.utils import to_categorical\n",
        "\n",
        "# 'State','Ship Date', 'Agency Name', 'NSN', 'Item Name', 'Acquisition Value',\n",
        "#                      'DEMIL Code' , 'DEMIL IC'\n",
        "\n",
        "X = df.drop(labels = ['DEMIL Code' ], axis = 1)\n",
        "\n",
        "y = df['DEMIL Code']\n",
        "# y = df.iloc[:, 0:1]\n",
        "# df['State']\n",
        "X = normalize(X)\n",
        "\n",
        "# y = to_categorical(y)\n",
        "\n",
        "X_train, X_test,y_train, y_test = train_test_split(X, y, test_size = 0.3, random_state = True)\n",
        "\n",
        "\n",
        "\n"
      ],
      "execution_count": 22,
      "outputs": []
    },
    {
      "cell_type": "code",
      "metadata": {
        "id": "-2tAD4NuiZHU"
      },
      "source": [
        "from sklearn.metrics import accuracy_score\n",
        "from sklearn.preprocessing import MinMaxScaler\n",
        "from sklearn.metrics import confusion_matrix\n",
        "from sklearn.metrics import classification_report"
      ],
      "execution_count": 23,
      "outputs": []
    },
    {
      "cell_type": "code",
      "metadata": {
        "id": "PG1oxqvliZHW"
      },
      "source": [
        ""
      ],
      "execution_count": 23,
      "outputs": []
    },
    {
      "cell_type": "code",
      "metadata": {
        "scrolled": true,
        "colab": {
          "base_uri": "https://localhost:8080/",
          "height": 424
        },
        "id": "1c8umCuEiZHX",
        "outputId": "45eaa5ed-6ae0-4866-daaf-451504242a06"
      },
      "source": [
        "df"
      ],
      "execution_count": 24,
      "outputs": [
        {
          "output_type": "execute_result",
          "data": {
            "text/html": [
              "<div>\n",
              "<style scoped>\n",
              "    .dataframe tbody tr th:only-of-type {\n",
              "        vertical-align: middle;\n",
              "    }\n",
              "\n",
              "    .dataframe tbody tr th {\n",
              "        vertical-align: top;\n",
              "    }\n",
              "\n",
              "    .dataframe thead th {\n",
              "        text-align: right;\n",
              "    }\n",
              "</style>\n",
              "<table border=\"1\" class=\"dataframe\">\n",
              "  <thead>\n",
              "    <tr style=\"text-align: right;\">\n",
              "      <th></th>\n",
              "      <th>State</th>\n",
              "      <th>Agency Name</th>\n",
              "      <th>NSN</th>\n",
              "      <th>Item Name</th>\n",
              "      <th>Quantity</th>\n",
              "      <th>UI</th>\n",
              "      <th>Acquisition Value</th>\n",
              "      <th>DEMIL Code</th>\n",
              "      <th>DEMIL IC</th>\n",
              "      <th>Ship Date</th>\n",
              "    </tr>\n",
              "  </thead>\n",
              "  <tbody>\n",
              "    <tr>\n",
              "      <th>0</th>\n",
              "      <td>1</td>\n",
              "      <td>9</td>\n",
              "      <td>2255</td>\n",
              "      <td>253</td>\n",
              "      <td>10</td>\n",
              "      <td>17</td>\n",
              "      <td>15871.59</td>\n",
              "      <td>3</td>\n",
              "      <td>1.0</td>\n",
              "      <td>4064</td>\n",
              "    </tr>\n",
              "    <tr>\n",
              "      <th>1</th>\n",
              "      <td>1</td>\n",
              "      <td>9</td>\n",
              "      <td>766</td>\n",
              "      <td>2750</td>\n",
              "      <td>1</td>\n",
              "      <td>13</td>\n",
              "      <td>245.88</td>\n",
              "      <td>3</td>\n",
              "      <td>1.0</td>\n",
              "      <td>3600</td>\n",
              "    </tr>\n",
              "    <tr>\n",
              "      <th>2</th>\n",
              "      <td>1</td>\n",
              "      <td>9</td>\n",
              "      <td>1951</td>\n",
              "      <td>2554</td>\n",
              "      <td>1</td>\n",
              "      <td>13</td>\n",
              "      <td>658000.00</td>\n",
              "      <td>2</td>\n",
              "      <td>1.0</td>\n",
              "      <td>3724</td>\n",
              "    </tr>\n",
              "    <tr>\n",
              "      <th>3</th>\n",
              "      <td>1</td>\n",
              "      <td>9</td>\n",
              "      <td>608</td>\n",
              "      <td>3729</td>\n",
              "      <td>9</td>\n",
              "      <td>13</td>\n",
              "      <td>333.00</td>\n",
              "      <td>3</td>\n",
              "      <td>1.0</td>\n",
              "      <td>3677</td>\n",
              "    </tr>\n",
              "    <tr>\n",
              "      <th>4</th>\n",
              "      <td>1</td>\n",
              "      <td>9</td>\n",
              "      <td>5631</td>\n",
              "      <td>1996</td>\n",
              "      <td>10</td>\n",
              "      <td>13</td>\n",
              "      <td>926.00</td>\n",
              "      <td>3</td>\n",
              "      <td>1.0</td>\n",
              "      <td>3832</td>\n",
              "    </tr>\n",
              "    <tr>\n",
              "      <th>...</th>\n",
              "      <td>...</td>\n",
              "      <td>...</td>\n",
              "      <td>...</td>\n",
              "      <td>...</td>\n",
              "      <td>...</td>\n",
              "      <td>...</td>\n",
              "      <td>...</td>\n",
              "      <td>...</td>\n",
              "      <td>...</td>\n",
              "      <td>...</td>\n",
              "    </tr>\n",
              "    <tr>\n",
              "      <th>130953</th>\n",
              "      <td>52</td>\n",
              "      <td>5427</td>\n",
              "      <td>39</td>\n",
              "      <td>3375</td>\n",
              "      <td>1</td>\n",
              "      <td>13</td>\n",
              "      <td>138.00</td>\n",
              "      <td>3</td>\n",
              "      <td>1.0</td>\n",
              "      <td>22</td>\n",
              "    </tr>\n",
              "    <tr>\n",
              "      <th>130954</th>\n",
              "      <td>52</td>\n",
              "      <td>5427</td>\n",
              "      <td>39</td>\n",
              "      <td>3375</td>\n",
              "      <td>1</td>\n",
              "      <td>13</td>\n",
              "      <td>138.00</td>\n",
              "      <td>3</td>\n",
              "      <td>1.0</td>\n",
              "      <td>22</td>\n",
              "    </tr>\n",
              "    <tr>\n",
              "      <th>130955</th>\n",
              "      <td>52</td>\n",
              "      <td>5427</td>\n",
              "      <td>39</td>\n",
              "      <td>3375</td>\n",
              "      <td>1</td>\n",
              "      <td>13</td>\n",
              "      <td>138.00</td>\n",
              "      <td>3</td>\n",
              "      <td>1.0</td>\n",
              "      <td>22</td>\n",
              "    </tr>\n",
              "    <tr>\n",
              "      <th>130956</th>\n",
              "      <td>52</td>\n",
              "      <td>5427</td>\n",
              "      <td>39</td>\n",
              "      <td>3375</td>\n",
              "      <td>1</td>\n",
              "      <td>13</td>\n",
              "      <td>138.00</td>\n",
              "      <td>3</td>\n",
              "      <td>1.0</td>\n",
              "      <td>22</td>\n",
              "    </tr>\n",
              "    <tr>\n",
              "      <th>130957</th>\n",
              "      <td>52</td>\n",
              "      <td>5427</td>\n",
              "      <td>39</td>\n",
              "      <td>3375</td>\n",
              "      <td>1</td>\n",
              "      <td>13</td>\n",
              "      <td>138.00</td>\n",
              "      <td>3</td>\n",
              "      <td>1.0</td>\n",
              "      <td>22</td>\n",
              "    </tr>\n",
              "  </tbody>\n",
              "</table>\n",
              "<p>130958 rows × 10 columns</p>\n",
              "</div>"
            ],
            "text/plain": [
              "        State  Agency Name   NSN  ...  DEMIL Code  DEMIL IC  Ship Date\n",
              "0           1            9  2255  ...           3       1.0       4064\n",
              "1           1            9   766  ...           3       1.0       3600\n",
              "2           1            9  1951  ...           2       1.0       3724\n",
              "3           1            9   608  ...           3       1.0       3677\n",
              "4           1            9  5631  ...           3       1.0       3832\n",
              "...       ...          ...   ...  ...         ...       ...        ...\n",
              "130953     52         5427    39  ...           3       1.0         22\n",
              "130954     52         5427    39  ...           3       1.0         22\n",
              "130955     52         5427    39  ...           3       1.0         22\n",
              "130956     52         5427    39  ...           3       1.0         22\n",
              "130957     52         5427    39  ...           3       1.0         22\n",
              "\n",
              "[130958 rows x 10 columns]"
            ]
          },
          "metadata": {},
          "execution_count": 24
        }
      ]
    },
    {
      "cell_type": "code",
      "metadata": {
        "colab": {
          "base_uri": "https://localhost:8080/"
        },
        "id": "AhCvyI4uiZHX",
        "outputId": "64bbd011-97f5-4dd2-dc12-d75914a31e69"
      },
      "source": [
        "X_train #State #\tAgency Name\tNSN\tItem Name\tQuantity\tUI\tAcquisition Value\tDEMIL Code\tDEMIL IC\tShip Date\tStation Type"
      ],
      "execution_count": 25,
      "outputs": [
        {
          "output_type": "execute_result",
          "data": {
            "text/plain": [
              "array([[2.61332951e-04, 2.56498291e-01, 5.57815183e-01, ...,\n",
              "        4.10031399e-03, 1.30666475e-04, 6.11780437e-01],\n",
              "       [4.23698044e-03, 2.82430915e-01, 5.60624850e-01, ...,\n",
              "        5.49154001e-01, 1.03340986e-04, 3.94969249e-01],\n",
              "       [9.90413176e-03, 5.55981942e-01, 1.37307281e-02, ...,\n",
              "        1.32152631e-02, 2.25093904e-04, 4.98582996e-01],\n",
              "       ...,\n",
              "       [3.77333989e-03, 4.53409390e-01, 5.76103796e-01, ...,\n",
              "        1.02245339e-03, 1.21720642e-04, 5.88154140e-01],\n",
              "       [7.47117938e-03, 8.50985554e-02, 1.20085542e-01, ...,\n",
              "        6.06805545e-02, 1.82223887e-04, 7.16139877e-01],\n",
              "       [9.82978305e-03, 3.91028770e-01, 2.45744576e-02, ...,\n",
              "        1.47250150e-01, 1.96595661e-04, 6.20259310e-01]])"
            ]
          },
          "metadata": {},
          "execution_count": 25
        }
      ]
    },
    {
      "cell_type": "code",
      "metadata": {
        "colab": {
          "base_uri": "https://localhost:8080/"
        },
        "id": "ikjpD_wXiZHY",
        "outputId": "c5eee5f4-6540-489b-bdaf-e7df7ffbb062"
      },
      "source": [
        "X_train = np.array(X_train)\n",
        "X_train = np.reshape(X_train, (X_train.shape[0], X_train.shape[1], 1))\n",
        "X_train.shape"
      ],
      "execution_count": 26,
      "outputs": [
        {
          "output_type": "execute_result",
          "data": {
            "text/plain": [
              "(91670, 9, 1)"
            ]
          },
          "metadata": {},
          "execution_count": 26
        }
      ]
    },
    {
      "cell_type": "code",
      "metadata": {
        "id": "mXUNOlAi2ucr"
      },
      "source": [
        "from tensorflow.keras.utils import to_categorical\n",
        "#one-hot encode target column\n",
        "y_train = to_categorical(y_train)\n",
        "y_test = to_categorical(y_test)"
      ],
      "execution_count": 27,
      "outputs": []
    },
    {
      "cell_type": "code",
      "metadata": {
        "id": "0t6OSy3fiZHZ"
      },
      "source": [
        "from keras.models import Sequential\n",
        "from keras.layers import Dense, Conv1D, Flatten, MaxPooling1D\n",
        "from keras.layers import Dropout\n",
        "model2=Sequential()\n",
        "model2.add(Conv1D(filters=64, kernel_size=3, activation='relu', input_shape= (X_train.shape[1], X_train.shape[2] )))\n",
        "model2.add(Conv1D(filters=64, kernel_size=3, activation='relu'))\n",
        "model2.add(Dropout(0.5))\n",
        "model2.add(MaxPooling1D(pool_size=2))\n",
        "model2.add(Flatten())\n",
        "model2.add(Dense(100, activation='relu'))\n",
        "model2.add(Dense(7, activation='softmax'))"
      ],
      "execution_count": 28,
      "outputs": []
    },
    {
      "cell_type": "code",
      "metadata": {
        "colab": {
          "base_uri": "https://localhost:8080/"
        },
        "id": "Uo8BFyT_jQw0",
        "outputId": "547fd9f5-6425-481c-97d5-0ff91de85b87"
      },
      "source": [
        "from tensorflow.keras.optimizers import Adam\n",
        "model2.compile(loss='binary_crossentropy', optimizer='adam', metrics=['accuracy'])\n",
        "# optimizer = Adam(learning_rate=0.001)\n",
        "# model.compile(optimizer, loss='sparse_categorical_crossentropy',metrics=['accuracy'])\n",
        "\n",
        "print('Model summary')\n",
        "print(model2.summary())"
      ],
      "execution_count": 29,
      "outputs": [
        {
          "output_type": "stream",
          "name": "stdout",
          "text": [
            "Model summary\n",
            "Model: \"sequential\"\n",
            "_________________________________________________________________\n",
            " Layer (type)                Output Shape              Param #   \n",
            "=================================================================\n",
            " conv1d (Conv1D)             (None, 7, 64)             256       \n",
            "                                                                 \n",
            " conv1d_1 (Conv1D)           (None, 5, 64)             12352     \n",
            "                                                                 \n",
            " dropout (Dropout)           (None, 5, 64)             0         \n",
            "                                                                 \n",
            " max_pooling1d (MaxPooling1D  (None, 2, 64)            0         \n",
            " )                                                               \n",
            "                                                                 \n",
            " flatten (Flatten)           (None, 128)               0         \n",
            "                                                                 \n",
            " dense (Dense)               (None, 100)               12900     \n",
            "                                                                 \n",
            " dense_1 (Dense)             (None, 7)                 707       \n",
            "                                                                 \n",
            "=================================================================\n",
            "Total params: 26,215\n",
            "Trainable params: 26,215\n",
            "Non-trainable params: 0\n",
            "_________________________________________________________________\n",
            "None\n"
          ]
        }
      ]
    },
    {
      "cell_type": "code",
      "metadata": {
        "colab": {
          "base_uri": "https://localhost:8080/"
        },
        "id": "RJYEaoifjTkX",
        "outputId": "993d1b49-6a5f-4b4a-b67a-3d0a614f69d4"
      },
      "source": [
        "model2.fit(X_train, y_train, verbose=2, batch_size=128,epochs=100) # 84.60"
      ],
      "execution_count": 30,
      "outputs": [
        {
          "output_type": "stream",
          "name": "stdout",
          "text": [
            "Epoch 1/100\n",
            "717/717 - 16s - loss: 0.1373 - accuracy: 0.7984 - 16s/epoch - 23ms/step\n",
            "Epoch 2/100\n",
            "717/717 - 3s - loss: 0.1063 - accuracy: 0.8370 - 3s/epoch - 5ms/step\n",
            "Epoch 3/100\n",
            "717/717 - 3s - loss: 0.1019 - accuracy: 0.8497 - 3s/epoch - 4ms/step\n",
            "Epoch 4/100\n",
            "717/717 - 3s - loss: 0.0987 - accuracy: 0.8546 - 3s/epoch - 5ms/step\n",
            "Epoch 5/100\n",
            "717/717 - 3s - loss: 0.0965 - accuracy: 0.8582 - 3s/epoch - 4ms/step\n",
            "Epoch 6/100\n",
            "717/717 - 3s - loss: 0.0939 - accuracy: 0.8603 - 3s/epoch - 5ms/step\n",
            "Epoch 7/100\n",
            "717/717 - 3s - loss: 0.0919 - accuracy: 0.8620 - 3s/epoch - 5ms/step\n",
            "Epoch 8/100\n",
            "717/717 - 3s - loss: 0.0899 - accuracy: 0.8656 - 3s/epoch - 4ms/step\n",
            "Epoch 9/100\n",
            "717/717 - 3s - loss: 0.0882 - accuracy: 0.8679 - 3s/epoch - 5ms/step\n",
            "Epoch 10/100\n",
            "717/717 - 3s - loss: 0.0868 - accuracy: 0.8695 - 3s/epoch - 5ms/step\n",
            "Epoch 11/100\n",
            "717/717 - 3s - loss: 0.0852 - accuracy: 0.8713 - 3s/epoch - 5ms/step\n",
            "Epoch 12/100\n",
            "717/717 - 3s - loss: 0.0842 - accuracy: 0.8726 - 3s/epoch - 5ms/step\n",
            "Epoch 13/100\n",
            "717/717 - 3s - loss: 0.0834 - accuracy: 0.8742 - 3s/epoch - 5ms/step\n",
            "Epoch 14/100\n",
            "717/717 - 3s - loss: 0.0820 - accuracy: 0.8766 - 3s/epoch - 4ms/step\n",
            "Epoch 15/100\n",
            "717/717 - 3s - loss: 0.0814 - accuracy: 0.8778 - 3s/epoch - 5ms/step\n",
            "Epoch 16/100\n",
            "717/717 - 3s - loss: 0.0807 - accuracy: 0.8805 - 3s/epoch - 5ms/step\n",
            "Epoch 17/100\n",
            "717/717 - 3s - loss: 0.0802 - accuracy: 0.8806 - 3s/epoch - 5ms/step\n",
            "Epoch 18/100\n",
            "717/717 - 3s - loss: 0.0797 - accuracy: 0.8815 - 3s/epoch - 5ms/step\n",
            "Epoch 19/100\n",
            "717/717 - 3s - loss: 0.0790 - accuracy: 0.8834 - 3s/epoch - 5ms/step\n",
            "Epoch 20/100\n",
            "717/717 - 3s - loss: 0.0786 - accuracy: 0.8845 - 3s/epoch - 5ms/step\n",
            "Epoch 21/100\n",
            "717/717 - 3s - loss: 0.0780 - accuracy: 0.8855 - 3s/epoch - 4ms/step\n",
            "Epoch 22/100\n",
            "717/717 - 3s - loss: 0.0778 - accuracy: 0.8860 - 3s/epoch - 5ms/step\n",
            "Epoch 23/100\n",
            "717/717 - 3s - loss: 0.0775 - accuracy: 0.8860 - 3s/epoch - 5ms/step\n",
            "Epoch 24/100\n",
            "717/717 - 3s - loss: 0.0769 - accuracy: 0.8870 - 3s/epoch - 5ms/step\n",
            "Epoch 25/100\n",
            "717/717 - 3s - loss: 0.0766 - accuracy: 0.8869 - 3s/epoch - 5ms/step\n",
            "Epoch 26/100\n",
            "717/717 - 3s - loss: 0.0763 - accuracy: 0.8887 - 3s/epoch - 5ms/step\n",
            "Epoch 27/100\n",
            "717/717 - 3s - loss: 0.0759 - accuracy: 0.8894 - 3s/epoch - 5ms/step\n",
            "Epoch 28/100\n",
            "717/717 - 3s - loss: 0.0754 - accuracy: 0.8890 - 3s/epoch - 5ms/step\n",
            "Epoch 29/100\n",
            "717/717 - 3s - loss: 0.0751 - accuracy: 0.8905 - 3s/epoch - 5ms/step\n",
            "Epoch 30/100\n",
            "717/717 - 3s - loss: 0.0751 - accuracy: 0.8911 - 3s/epoch - 5ms/step\n",
            "Epoch 31/100\n",
            "717/717 - 3s - loss: 0.0748 - accuracy: 0.8911 - 3s/epoch - 5ms/step\n",
            "Epoch 32/100\n",
            "717/717 - 3s - loss: 0.0746 - accuracy: 0.8914 - 3s/epoch - 5ms/step\n",
            "Epoch 33/100\n",
            "717/717 - 3s - loss: 0.0742 - accuracy: 0.8916 - 3s/epoch - 5ms/step\n",
            "Epoch 34/100\n",
            "717/717 - 3s - loss: 0.0741 - accuracy: 0.8924 - 3s/epoch - 4ms/step\n",
            "Epoch 35/100\n",
            "717/717 - 3s - loss: 0.0736 - accuracy: 0.8935 - 3s/epoch - 5ms/step\n",
            "Epoch 36/100\n",
            "717/717 - 3s - loss: 0.0732 - accuracy: 0.8939 - 3s/epoch - 5ms/step\n",
            "Epoch 37/100\n",
            "717/717 - 3s - loss: 0.0734 - accuracy: 0.8935 - 3s/epoch - 5ms/step\n",
            "Epoch 38/100\n",
            "717/717 - 3s - loss: 0.0729 - accuracy: 0.8941 - 3s/epoch - 5ms/step\n",
            "Epoch 39/100\n",
            "717/717 - 3s - loss: 0.0726 - accuracy: 0.8954 - 3s/epoch - 5ms/step\n",
            "Epoch 40/100\n",
            "717/717 - 3s - loss: 0.0722 - accuracy: 0.8956 - 3s/epoch - 5ms/step\n",
            "Epoch 41/100\n",
            "717/717 - 3s - loss: 0.0725 - accuracy: 0.8945 - 3s/epoch - 5ms/step\n",
            "Epoch 42/100\n",
            "717/717 - 3s - loss: 0.0721 - accuracy: 0.8959 - 3s/epoch - 5ms/step\n",
            "Epoch 43/100\n",
            "717/717 - 3s - loss: 0.0721 - accuracy: 0.8961 - 3s/epoch - 4ms/step\n",
            "Epoch 44/100\n",
            "717/717 - 3s - loss: 0.0720 - accuracy: 0.8962 - 3s/epoch - 5ms/step\n",
            "Epoch 45/100\n",
            "717/717 - 3s - loss: 0.0718 - accuracy: 0.8957 - 3s/epoch - 5ms/step\n",
            "Epoch 46/100\n",
            "717/717 - 3s - loss: 0.0714 - accuracy: 0.8970 - 3s/epoch - 4ms/step\n",
            "Epoch 47/100\n",
            "717/717 - 3s - loss: 0.0712 - accuracy: 0.8978 - 3s/epoch - 5ms/step\n",
            "Epoch 48/100\n",
            "717/717 - 3s - loss: 0.0712 - accuracy: 0.8972 - 3s/epoch - 5ms/step\n",
            "Epoch 49/100\n",
            "717/717 - 3s - loss: 0.0712 - accuracy: 0.8974 - 3s/epoch - 5ms/step\n",
            "Epoch 50/100\n",
            "717/717 - 3s - loss: 0.0707 - accuracy: 0.8979 - 3s/epoch - 5ms/step\n",
            "Epoch 51/100\n",
            "717/717 - 3s - loss: 0.0706 - accuracy: 0.8985 - 3s/epoch - 5ms/step\n",
            "Epoch 52/100\n",
            "717/717 - 3s - loss: 0.0707 - accuracy: 0.8985 - 3s/epoch - 5ms/step\n",
            "Epoch 53/100\n",
            "717/717 - 3s - loss: 0.0700 - accuracy: 0.8998 - 3s/epoch - 5ms/step\n",
            "Epoch 54/100\n",
            "717/717 - 3s - loss: 0.0703 - accuracy: 0.8981 - 3s/epoch - 5ms/step\n",
            "Epoch 55/100\n",
            "717/717 - 3s - loss: 0.0700 - accuracy: 0.8992 - 3s/epoch - 5ms/step\n",
            "Epoch 56/100\n",
            "717/717 - 3s - loss: 0.0699 - accuracy: 0.8996 - 3s/epoch - 5ms/step\n",
            "Epoch 57/100\n",
            "717/717 - 3s - loss: 0.0700 - accuracy: 0.8988 - 3s/epoch - 5ms/step\n",
            "Epoch 58/100\n",
            "717/717 - 3s - loss: 0.0698 - accuracy: 0.8994 - 3s/epoch - 5ms/step\n",
            "Epoch 59/100\n",
            "717/717 - 3s - loss: 0.0695 - accuracy: 0.9003 - 3s/epoch - 5ms/step\n",
            "Epoch 60/100\n",
            "717/717 - 3s - loss: 0.0695 - accuracy: 0.9003 - 3s/epoch - 5ms/step\n",
            "Epoch 61/100\n",
            "717/717 - 3s - loss: 0.0695 - accuracy: 0.9008 - 3s/epoch - 5ms/step\n",
            "Epoch 62/100\n",
            "717/717 - 3s - loss: 0.0695 - accuracy: 0.9001 - 3s/epoch - 5ms/step\n",
            "Epoch 63/100\n",
            "717/717 - 3s - loss: 0.0689 - accuracy: 0.9018 - 3s/epoch - 5ms/step\n",
            "Epoch 64/100\n",
            "717/717 - 3s - loss: 0.0688 - accuracy: 0.9013 - 3s/epoch - 5ms/step\n",
            "Epoch 65/100\n",
            "717/717 - 3s - loss: 0.0686 - accuracy: 0.9013 - 3s/epoch - 5ms/step\n",
            "Epoch 66/100\n",
            "717/717 - 3s - loss: 0.0685 - accuracy: 0.9014 - 3s/epoch - 5ms/step\n",
            "Epoch 67/100\n",
            "717/717 - 3s - loss: 0.0684 - accuracy: 0.9020 - 3s/epoch - 5ms/step\n",
            "Epoch 68/100\n",
            "717/717 - 3s - loss: 0.0683 - accuracy: 0.9027 - 3s/epoch - 5ms/step\n",
            "Epoch 69/100\n",
            "717/717 - 3s - loss: 0.0683 - accuracy: 0.9022 - 3s/epoch - 5ms/step\n",
            "Epoch 70/100\n",
            "717/717 - 3s - loss: 0.0684 - accuracy: 0.9023 - 3s/epoch - 5ms/step\n",
            "Epoch 71/100\n",
            "717/717 - 3s - loss: 0.0681 - accuracy: 0.9028 - 3s/epoch - 5ms/step\n",
            "Epoch 72/100\n",
            "717/717 - 3s - loss: 0.0680 - accuracy: 0.9032 - 3s/epoch - 5ms/step\n",
            "Epoch 73/100\n",
            "717/717 - 3s - loss: 0.0680 - accuracy: 0.9026 - 3s/epoch - 5ms/step\n",
            "Epoch 74/100\n",
            "717/717 - 3s - loss: 0.0676 - accuracy: 0.9032 - 3s/epoch - 5ms/step\n",
            "Epoch 75/100\n",
            "717/717 - 3s - loss: 0.0674 - accuracy: 0.9041 - 3s/epoch - 5ms/step\n",
            "Epoch 76/100\n",
            "717/717 - 3s - loss: 0.0674 - accuracy: 0.9036 - 3s/epoch - 4ms/step\n",
            "Epoch 77/100\n",
            "717/717 - 3s - loss: 0.0673 - accuracy: 0.9045 - 3s/epoch - 5ms/step\n",
            "Epoch 78/100\n",
            "717/717 - 3s - loss: 0.0671 - accuracy: 0.9039 - 3s/epoch - 5ms/step\n",
            "Epoch 79/100\n",
            "717/717 - 3s - loss: 0.0675 - accuracy: 0.9045 - 3s/epoch - 5ms/step\n",
            "Epoch 80/100\n",
            "717/717 - 3s - loss: 0.0671 - accuracy: 0.9036 - 3s/epoch - 5ms/step\n",
            "Epoch 81/100\n",
            "717/717 - 3s - loss: 0.0667 - accuracy: 0.9050 - 3s/epoch - 5ms/step\n",
            "Epoch 82/100\n",
            "717/717 - 3s - loss: 0.0668 - accuracy: 0.9044 - 3s/epoch - 5ms/step\n",
            "Epoch 83/100\n",
            "717/717 - 3s - loss: 0.0668 - accuracy: 0.9045 - 3s/epoch - 5ms/step\n",
            "Epoch 84/100\n",
            "717/717 - 3s - loss: 0.0665 - accuracy: 0.9056 - 3s/epoch - 5ms/step\n",
            "Epoch 85/100\n",
            "717/717 - 3s - loss: 0.0667 - accuracy: 0.9055 - 3s/epoch - 5ms/step\n",
            "Epoch 86/100\n",
            "717/717 - 3s - loss: 0.0664 - accuracy: 0.9049 - 3s/epoch - 5ms/step\n",
            "Epoch 87/100\n",
            "717/717 - 3s - loss: 0.0662 - accuracy: 0.9056 - 3s/epoch - 5ms/step\n",
            "Epoch 88/100\n",
            "717/717 - 3s - loss: 0.0660 - accuracy: 0.9060 - 3s/epoch - 5ms/step\n",
            "Epoch 89/100\n",
            "717/717 - 3s - loss: 0.0660 - accuracy: 0.9056 - 3s/epoch - 5ms/step\n",
            "Epoch 90/100\n",
            "717/717 - 3s - loss: 0.0660 - accuracy: 0.9060 - 3s/epoch - 5ms/step\n",
            "Epoch 91/100\n",
            "717/717 - 3s - loss: 0.0656 - accuracy: 0.9065 - 3s/epoch - 5ms/step\n",
            "Epoch 92/100\n",
            "717/717 - 3s - loss: 0.0658 - accuracy: 0.9063 - 3s/epoch - 5ms/step\n",
            "Epoch 93/100\n",
            "717/717 - 3s - loss: 0.0655 - accuracy: 0.9066 - 3s/epoch - 5ms/step\n",
            "Epoch 94/100\n",
            "717/717 - 3s - loss: 0.0658 - accuracy: 0.9058 - 3s/epoch - 5ms/step\n",
            "Epoch 95/100\n",
            "717/717 - 3s - loss: 0.0659 - accuracy: 0.9060 - 3s/epoch - 5ms/step\n",
            "Epoch 96/100\n",
            "717/717 - 3s - loss: 0.0655 - accuracy: 0.9062 - 3s/epoch - 5ms/step\n",
            "Epoch 97/100\n",
            "717/717 - 3s - loss: 0.0653 - accuracy: 0.9069 - 3s/epoch - 5ms/step\n",
            "Epoch 98/100\n",
            "717/717 - 3s - loss: 0.0651 - accuracy: 0.9081 - 3s/epoch - 5ms/step\n",
            "Epoch 99/100\n",
            "717/717 - 3s - loss: 0.0653 - accuracy: 0.9070 - 3s/epoch - 5ms/step\n",
            "Epoch 100/100\n",
            "717/717 - 3s - loss: 0.0650 - accuracy: 0.9082 - 3s/epoch - 5ms/step\n"
          ]
        },
        {
          "output_type": "execute_result",
          "data": {
            "text/plain": [
              "<keras.callbacks.History at 0x7fc37dabac50>"
            ]
          },
          "metadata": {},
          "execution_count": 30
        }
      ]
    },
    {
      "cell_type": "code",
      "metadata": {
        "colab": {
          "base_uri": "https://localhost:8080/"
        },
        "id": "s5E62zu-jS2J",
        "outputId": "4574e228-cbe2-4158-cf9c-05bccf138e9a"
      },
      "source": [
        "predict2 = model2.predict(X_test, batch_size=128)\n",
        "predict2"
      ],
      "execution_count": 31,
      "outputs": [
        {
          "output_type": "execute_result",
          "data": {
            "text/plain": [
              "array([[9.9881244e-01, 2.7947955e-05, 2.2730695e-05, ..., 3.7179117e-05,\n",
              "        1.2003449e-05, 5.2881963e-04],\n",
              "       [9.0269783e-16, 1.6589686e-13, 2.4790857e-16, ..., 1.4509782e-23,\n",
              "        2.3117304e-32, 5.5185950e-13],\n",
              "       [4.3503665e-16, 1.4081497e-13, 1.8992009e-16, ..., 8.6223783e-24,\n",
              "        1.5147403e-32, 3.4540545e-13],\n",
              "       ...,\n",
              "       [1.0110976e-14, 3.8711623e-13, 1.2205374e-15, ..., 9.5070443e-23,\n",
              "        1.7281936e-31, 4.6872727e-12],\n",
              "       [9.8120761e-01, 4.2131939e-04, 2.9799705e-03, ..., 8.0346285e-07,\n",
              "        2.6013784e-04, 8.6940946e-03],\n",
              "       [1.8730122e-01, 1.4588715e-03, 6.1049429e-03, ..., 2.8138604e-05,\n",
              "        1.4011881e-01, 7.8397147e-02]], dtype=float32)"
            ]
          },
          "metadata": {},
          "execution_count": 31
        }
      ]
    },
    {
      "cell_type": "code",
      "metadata": {
        "colab": {
          "base_uri": "https://localhost:8080/"
        },
        "id": "z7Yp3HO0jWeg",
        "outputId": "784020f1-9e4c-44e2-afed-093cc8c3fb5d"
      },
      "source": [
        "# Model 2 - CNN \n",
        "results2 = model2.evaluate(X_test, y_test)\n",
        "print('Final test set loss', format(results2[0]))\n",
        "print('Final test set accuracy', format(results2[1]))"
      ],
      "execution_count": 32,
      "outputs": [
        {
          "output_type": "stream",
          "name": "stdout",
          "text": [
            "1228/1228 [==============================] - 5s 4ms/step - loss: 0.0607 - accuracy: 0.9153\n",
            "Final test set loss 0.06068933382630348\n",
            "Final test set accuracy 0.9153176546096802\n"
          ]
        }
      ]
    },
    {
      "cell_type": "code",
      "metadata": {
        "id": "ESn44tl7jcqt"
      },
      "source": [
        "y_pred2 = np.argmax(predict2,axis=1)"
      ],
      "execution_count": 33,
      "outputs": []
    },
    {
      "cell_type": "code",
      "metadata": {
        "id": "5gzzEah1jc9A"
      },
      "source": [
        "y_val2 =np.argmax(y_test, axis=1)"
      ],
      "execution_count": 34,
      "outputs": []
    },
    {
      "cell_type": "code",
      "metadata": {
        "colab": {
          "base_uri": "https://localhost:8080/"
        },
        "id": "64JKv6CNjdMZ",
        "outputId": "9f8d9464-db30-4782-8ed7-0257defa85e7"
      },
      "source": [
        "print(classification_report(y_val2,y_pred2))"
      ],
      "execution_count": 35,
      "outputs": [
        {
          "output_type": "stream",
          "name": "stdout",
          "text": [
            "              precision    recall  f1-score   support\n",
            "\n",
            "           0       0.82      0.92      0.87      5424\n",
            "           1       0.00      0.00      0.00        52\n",
            "           2       0.78      0.81      0.79      2104\n",
            "           3       0.96      0.97      0.96     28099\n",
            "           4       0.00      0.00      0.00        34\n",
            "           5       0.81      0.84      0.82      1905\n",
            "           6       0.65      0.29      0.40      1670\n",
            "\n",
            "    accuracy                           0.92     39288\n",
            "   macro avg       0.57      0.55      0.55     39288\n",
            "weighted avg       0.91      0.92      0.91     39288\n",
            "\n"
          ]
        },
        {
          "output_type": "stream",
          "name": "stderr",
          "text": [
            "/usr/local/lib/python3.7/dist-packages/sklearn/metrics/_classification.py:1308: UndefinedMetricWarning: Precision and F-score are ill-defined and being set to 0.0 in labels with no predicted samples. Use `zero_division` parameter to control this behavior.\n",
            "  _warn_prf(average, modifier, msg_start, len(result))\n",
            "/usr/local/lib/python3.7/dist-packages/sklearn/metrics/_classification.py:1308: UndefinedMetricWarning: Precision and F-score are ill-defined and being set to 0.0 in labels with no predicted samples. Use `zero_division` parameter to control this behavior.\n",
            "  _warn_prf(average, modifier, msg_start, len(result))\n",
            "/usr/local/lib/python3.7/dist-packages/sklearn/metrics/_classification.py:1308: UndefinedMetricWarning: Precision and F-score are ill-defined and being set to 0.0 in labels with no predicted samples. Use `zero_division` parameter to control this behavior.\n",
            "  _warn_prf(average, modifier, msg_start, len(result))\n"
          ]
        }
      ]
    },
    {
      "cell_type": "code",
      "metadata": {
        "colab": {
          "base_uri": "https://localhost:8080/"
        },
        "id": "VJsNsGWnjdaQ",
        "outputId": "1078e626-561d-4685-afdb-895c95775c63"
      },
      "source": [
        "confusion_matrix(y_val2, y_pred2)"
      ],
      "execution_count": 36,
      "outputs": [
        {
          "output_type": "execute_result",
          "data": {
            "text/plain": [
              "array([[ 4969,     0,    53,   291,     0,    66,    45],\n",
              "       [   24,     0,     1,    17,     0,     3,     7],\n",
              "       [  118,     0,  1701,   181,     0,    71,    33],\n",
              "       [  385,     0,   123, 27214,     2,   207,   168],\n",
              "       [    4,     0,     0,    30,     0,     0,     0],\n",
              "       [   42,     0,    47,   218,     0,  1595,     3],\n",
              "       [  510,     0,   254,   388,     0,    36,   482]])"
            ]
          },
          "metadata": {},
          "execution_count": 36
        }
      ]
    },
    {
      "cell_type": "code",
      "metadata": {
        "id": "HArFVjAujdpa"
      },
      "source": [
        ""
      ],
      "execution_count": 36,
      "outputs": []
    },
    {
      "cell_type": "code",
      "metadata": {
        "id": "ejMn6AC3kB1i"
      },
      "source": [
        "# Balanced Dataset"
      ],
      "execution_count": 36,
      "outputs": []
    },
    {
      "cell_type": "code",
      "metadata": {
        "colab": {
          "base_uri": "https://localhost:8080/",
          "height": 424
        },
        "id": "V1BcTNsQXT-u",
        "outputId": "050b08c9-ee54-4a13-8f8e-4f0024fb38a1"
      },
      "source": [
        "df = pd.concat(data[frame] for frame in data.keys()) \n",
        "df = df.reset_index()\n",
        "df = df.drop(labels = 'index', axis = 1)\n",
        "df"
      ],
      "execution_count": 37,
      "outputs": [
        {
          "output_type": "execute_result",
          "data": {
            "text/html": [
              "<div>\n",
              "<style scoped>\n",
              "    .dataframe tbody tr th:only-of-type {\n",
              "        vertical-align: middle;\n",
              "    }\n",
              "\n",
              "    .dataframe tbody tr th {\n",
              "        vertical-align: top;\n",
              "    }\n",
              "\n",
              "    .dataframe thead th {\n",
              "        text-align: right;\n",
              "    }\n",
              "</style>\n",
              "<table border=\"1\" class=\"dataframe\">\n",
              "  <thead>\n",
              "    <tr style=\"text-align: right;\">\n",
              "      <th></th>\n",
              "      <th>State</th>\n",
              "      <th>Agency Name</th>\n",
              "      <th>NSN</th>\n",
              "      <th>Item Name</th>\n",
              "      <th>Quantity</th>\n",
              "      <th>UI</th>\n",
              "      <th>Acquisition Value</th>\n",
              "      <th>DEMIL Code</th>\n",
              "      <th>DEMIL IC</th>\n",
              "      <th>Ship Date</th>\n",
              "      <th>Station Type</th>\n",
              "    </tr>\n",
              "  </thead>\n",
              "  <tbody>\n",
              "    <tr>\n",
              "      <th>0</th>\n",
              "      <td>AL</td>\n",
              "      <td>ABBEVILLE POLICE DEPT</td>\n",
              "      <td>2540-01-565-4700</td>\n",
              "      <td>BALLISTIC BLANKET KIT</td>\n",
              "      <td>10</td>\n",
              "      <td>Kit</td>\n",
              "      <td>15871.59</td>\n",
              "      <td>D</td>\n",
              "      <td>1.0</td>\n",
              "      <td>2018-01-30</td>\n",
              "      <td>State</td>\n",
              "    </tr>\n",
              "    <tr>\n",
              "      <th>1</th>\n",
              "      <td>AL</td>\n",
              "      <td>ABBEVILLE POLICE DEPT</td>\n",
              "      <td>1240-DS-OPT-SIGH</td>\n",
              "      <td>OPTICAL SIGHTING AND RANGING EQUIPMENT</td>\n",
              "      <td>1</td>\n",
              "      <td>Each</td>\n",
              "      <td>245.88</td>\n",
              "      <td>D</td>\n",
              "      <td>NaN</td>\n",
              "      <td>2016-06-02</td>\n",
              "      <td>State</td>\n",
              "    </tr>\n",
              "    <tr>\n",
              "      <th>2</th>\n",
              "      <td>AL</td>\n",
              "      <td>ABBEVILLE POLICE DEPT</td>\n",
              "      <td>2355-01-553-4634</td>\n",
              "      <td>MINE RESISTANT VEHICLE</td>\n",
              "      <td>1</td>\n",
              "      <td>Each</td>\n",
              "      <td>658000.00</td>\n",
              "      <td>C</td>\n",
              "      <td>1.0</td>\n",
              "      <td>2016-11-09</td>\n",
              "      <td>State</td>\n",
              "    </tr>\n",
              "    <tr>\n",
              "      <th>3</th>\n",
              "      <td>AL</td>\n",
              "      <td>ABBEVILLE POLICE DEPT</td>\n",
              "      <td>1240-01-411-1265</td>\n",
              "      <td>SIGHT,REFLEX</td>\n",
              "      <td>9</td>\n",
              "      <td>Each</td>\n",
              "      <td>333.00</td>\n",
              "      <td>D</td>\n",
              "      <td>1.0</td>\n",
              "      <td>2016-09-14</td>\n",
              "      <td>State</td>\n",
              "    </tr>\n",
              "    <tr>\n",
              "      <th>4</th>\n",
              "      <td>AL</td>\n",
              "      <td>ABBEVILLE POLICE DEPT</td>\n",
              "      <td>5855-01-577-7174</td>\n",
              "      <td>ILLUMINATOR,INFRARED</td>\n",
              "      <td>10</td>\n",
              "      <td>Each</td>\n",
              "      <td>926.00</td>\n",
              "      <td>D</td>\n",
              "      <td>1.0</td>\n",
              "      <td>2017-03-28</td>\n",
              "      <td>State</td>\n",
              "    </tr>\n",
              "    <tr>\n",
              "      <th>...</th>\n",
              "      <td>...</td>\n",
              "      <td>...</td>\n",
              "      <td>...</td>\n",
              "      <td>...</td>\n",
              "      <td>...</td>\n",
              "      <td>...</td>\n",
              "      <td>...</td>\n",
              "      <td>...</td>\n",
              "      <td>...</td>\n",
              "      <td>...</td>\n",
              "      <td>...</td>\n",
              "    </tr>\n",
              "    <tr>\n",
              "      <th>130953</th>\n",
              "      <td>WY</td>\n",
              "      <td>WESTON COUNTY SHERIFF'S OFFICE</td>\n",
              "      <td>1005-00-589-1271</td>\n",
              "      <td>RIFLE,7.62 MILLIMETER</td>\n",
              "      <td>1</td>\n",
              "      <td>Each</td>\n",
              "      <td>138.00</td>\n",
              "      <td>D</td>\n",
              "      <td>1.0</td>\n",
              "      <td>1993-09-01</td>\n",
              "      <td>State</td>\n",
              "    </tr>\n",
              "    <tr>\n",
              "      <th>130954</th>\n",
              "      <td>WY</td>\n",
              "      <td>WESTON COUNTY SHERIFF'S OFFICE</td>\n",
              "      <td>1005-00-589-1271</td>\n",
              "      <td>RIFLE,7.62 MILLIMETER</td>\n",
              "      <td>1</td>\n",
              "      <td>Each</td>\n",
              "      <td>138.00</td>\n",
              "      <td>D</td>\n",
              "      <td>1.0</td>\n",
              "      <td>1993-09-01</td>\n",
              "      <td>State</td>\n",
              "    </tr>\n",
              "    <tr>\n",
              "      <th>130955</th>\n",
              "      <td>WY</td>\n",
              "      <td>WESTON COUNTY SHERIFF'S OFFICE</td>\n",
              "      <td>1005-00-589-1271</td>\n",
              "      <td>RIFLE,7.62 MILLIMETER</td>\n",
              "      <td>1</td>\n",
              "      <td>Each</td>\n",
              "      <td>138.00</td>\n",
              "      <td>D</td>\n",
              "      <td>1.0</td>\n",
              "      <td>1993-09-01</td>\n",
              "      <td>State</td>\n",
              "    </tr>\n",
              "    <tr>\n",
              "      <th>130956</th>\n",
              "      <td>WY</td>\n",
              "      <td>WESTON COUNTY SHERIFF'S OFFICE</td>\n",
              "      <td>1005-00-589-1271</td>\n",
              "      <td>RIFLE,7.62 MILLIMETER</td>\n",
              "      <td>1</td>\n",
              "      <td>Each</td>\n",
              "      <td>138.00</td>\n",
              "      <td>D</td>\n",
              "      <td>1.0</td>\n",
              "      <td>1993-09-01</td>\n",
              "      <td>State</td>\n",
              "    </tr>\n",
              "    <tr>\n",
              "      <th>130957</th>\n",
              "      <td>WY</td>\n",
              "      <td>WESTON COUNTY SHERIFF'S OFFICE</td>\n",
              "      <td>1005-00-589-1271</td>\n",
              "      <td>RIFLE,7.62 MILLIMETER</td>\n",
              "      <td>1</td>\n",
              "      <td>Each</td>\n",
              "      <td>138.00</td>\n",
              "      <td>D</td>\n",
              "      <td>1.0</td>\n",
              "      <td>1993-09-01</td>\n",
              "      <td>State</td>\n",
              "    </tr>\n",
              "  </tbody>\n",
              "</table>\n",
              "<p>130958 rows × 11 columns</p>\n",
              "</div>"
            ],
            "text/plain": [
              "       State                     Agency Name  ...  Ship Date Station Type\n",
              "0         AL           ABBEVILLE POLICE DEPT  ... 2018-01-30        State\n",
              "1         AL           ABBEVILLE POLICE DEPT  ... 2016-06-02        State\n",
              "2         AL           ABBEVILLE POLICE DEPT  ... 2016-11-09        State\n",
              "3         AL           ABBEVILLE POLICE DEPT  ... 2016-09-14        State\n",
              "4         AL           ABBEVILLE POLICE DEPT  ... 2017-03-28        State\n",
              "...      ...                             ...  ...        ...          ...\n",
              "130953    WY  WESTON COUNTY SHERIFF'S OFFICE  ... 1993-09-01        State\n",
              "130954    WY  WESTON COUNTY SHERIFF'S OFFICE  ... 1993-09-01        State\n",
              "130955    WY  WESTON COUNTY SHERIFF'S OFFICE  ... 1993-09-01        State\n",
              "130956    WY  WESTON COUNTY SHERIFF'S OFFICE  ... 1993-09-01        State\n",
              "130957    WY  WESTON COUNTY SHERIFF'S OFFICE  ... 1993-09-01        State\n",
              "\n",
              "[130958 rows x 11 columns]"
            ]
          },
          "metadata": {},
          "execution_count": 37
        }
      ]
    },
    {
      "cell_type": "code",
      "metadata": {
        "id": "L3n5vBmfXUY-"
      },
      "source": [
        "df = df.fillna(1)"
      ],
      "execution_count": 38,
      "outputs": []
    },
    {
      "cell_type": "code",
      "metadata": {
        "colab": {
          "base_uri": "https://localhost:8080/"
        },
        "id": "bjq69kphe9rX",
        "outputId": "8484995a-f359-4c49-95c6-16c66b307623"
      },
      "source": [
        "# We will drop state since all the instances have station type as state which as no significance \n",
        "df.groupby('Station Type').count()['State']"
      ],
      "execution_count": 39,
      "outputs": [
        {
          "output_type": "execute_result",
          "data": {
            "text/plain": [
              "Station Type\n",
              "State    130958\n",
              "Name: State, dtype: int64"
            ]
          },
          "metadata": {},
          "execution_count": 39
        }
      ]
    },
    {
      "cell_type": "code",
      "metadata": {
        "id": "WiC1Xx9fe-B-"
      },
      "source": [
        "df = df.drop('Station Type', 1)"
      ],
      "execution_count": 40,
      "outputs": []
    },
    {
      "cell_type": "code",
      "metadata": {
        "colab": {
          "base_uri": "https://localhost:8080/",
          "height": 424
        },
        "id": "Tb_Y9MdHYGZ0",
        "outputId": "44aa179e-1b64-428d-d9cb-bd448168edc3"
      },
      "source": [
        "df"
      ],
      "execution_count": 41,
      "outputs": [
        {
          "output_type": "execute_result",
          "data": {
            "text/html": [
              "<div>\n",
              "<style scoped>\n",
              "    .dataframe tbody tr th:only-of-type {\n",
              "        vertical-align: middle;\n",
              "    }\n",
              "\n",
              "    .dataframe tbody tr th {\n",
              "        vertical-align: top;\n",
              "    }\n",
              "\n",
              "    .dataframe thead th {\n",
              "        text-align: right;\n",
              "    }\n",
              "</style>\n",
              "<table border=\"1\" class=\"dataframe\">\n",
              "  <thead>\n",
              "    <tr style=\"text-align: right;\">\n",
              "      <th></th>\n",
              "      <th>State</th>\n",
              "      <th>Agency Name</th>\n",
              "      <th>NSN</th>\n",
              "      <th>Item Name</th>\n",
              "      <th>Quantity</th>\n",
              "      <th>UI</th>\n",
              "      <th>Acquisition Value</th>\n",
              "      <th>DEMIL Code</th>\n",
              "      <th>DEMIL IC</th>\n",
              "      <th>Ship Date</th>\n",
              "    </tr>\n",
              "  </thead>\n",
              "  <tbody>\n",
              "    <tr>\n",
              "      <th>0</th>\n",
              "      <td>AL</td>\n",
              "      <td>ABBEVILLE POLICE DEPT</td>\n",
              "      <td>2540-01-565-4700</td>\n",
              "      <td>BALLISTIC BLANKET KIT</td>\n",
              "      <td>10</td>\n",
              "      <td>Kit</td>\n",
              "      <td>15871.59</td>\n",
              "      <td>D</td>\n",
              "      <td>1.0</td>\n",
              "      <td>2018-01-30</td>\n",
              "    </tr>\n",
              "    <tr>\n",
              "      <th>1</th>\n",
              "      <td>AL</td>\n",
              "      <td>ABBEVILLE POLICE DEPT</td>\n",
              "      <td>1240-DS-OPT-SIGH</td>\n",
              "      <td>OPTICAL SIGHTING AND RANGING EQUIPMENT</td>\n",
              "      <td>1</td>\n",
              "      <td>Each</td>\n",
              "      <td>245.88</td>\n",
              "      <td>D</td>\n",
              "      <td>1.0</td>\n",
              "      <td>2016-06-02</td>\n",
              "    </tr>\n",
              "    <tr>\n",
              "      <th>2</th>\n",
              "      <td>AL</td>\n",
              "      <td>ABBEVILLE POLICE DEPT</td>\n",
              "      <td>2355-01-553-4634</td>\n",
              "      <td>MINE RESISTANT VEHICLE</td>\n",
              "      <td>1</td>\n",
              "      <td>Each</td>\n",
              "      <td>658000.00</td>\n",
              "      <td>C</td>\n",
              "      <td>1.0</td>\n",
              "      <td>2016-11-09</td>\n",
              "    </tr>\n",
              "    <tr>\n",
              "      <th>3</th>\n",
              "      <td>AL</td>\n",
              "      <td>ABBEVILLE POLICE DEPT</td>\n",
              "      <td>1240-01-411-1265</td>\n",
              "      <td>SIGHT,REFLEX</td>\n",
              "      <td>9</td>\n",
              "      <td>Each</td>\n",
              "      <td>333.00</td>\n",
              "      <td>D</td>\n",
              "      <td>1.0</td>\n",
              "      <td>2016-09-14</td>\n",
              "    </tr>\n",
              "    <tr>\n",
              "      <th>4</th>\n",
              "      <td>AL</td>\n",
              "      <td>ABBEVILLE POLICE DEPT</td>\n",
              "      <td>5855-01-577-7174</td>\n",
              "      <td>ILLUMINATOR,INFRARED</td>\n",
              "      <td>10</td>\n",
              "      <td>Each</td>\n",
              "      <td>926.00</td>\n",
              "      <td>D</td>\n",
              "      <td>1.0</td>\n",
              "      <td>2017-03-28</td>\n",
              "    </tr>\n",
              "    <tr>\n",
              "      <th>...</th>\n",
              "      <td>...</td>\n",
              "      <td>...</td>\n",
              "      <td>...</td>\n",
              "      <td>...</td>\n",
              "      <td>...</td>\n",
              "      <td>...</td>\n",
              "      <td>...</td>\n",
              "      <td>...</td>\n",
              "      <td>...</td>\n",
              "      <td>...</td>\n",
              "    </tr>\n",
              "    <tr>\n",
              "      <th>130953</th>\n",
              "      <td>WY</td>\n",
              "      <td>WESTON COUNTY SHERIFF'S OFFICE</td>\n",
              "      <td>1005-00-589-1271</td>\n",
              "      <td>RIFLE,7.62 MILLIMETER</td>\n",
              "      <td>1</td>\n",
              "      <td>Each</td>\n",
              "      <td>138.00</td>\n",
              "      <td>D</td>\n",
              "      <td>1.0</td>\n",
              "      <td>1993-09-01</td>\n",
              "    </tr>\n",
              "    <tr>\n",
              "      <th>130954</th>\n",
              "      <td>WY</td>\n",
              "      <td>WESTON COUNTY SHERIFF'S OFFICE</td>\n",
              "      <td>1005-00-589-1271</td>\n",
              "      <td>RIFLE,7.62 MILLIMETER</td>\n",
              "      <td>1</td>\n",
              "      <td>Each</td>\n",
              "      <td>138.00</td>\n",
              "      <td>D</td>\n",
              "      <td>1.0</td>\n",
              "      <td>1993-09-01</td>\n",
              "    </tr>\n",
              "    <tr>\n",
              "      <th>130955</th>\n",
              "      <td>WY</td>\n",
              "      <td>WESTON COUNTY SHERIFF'S OFFICE</td>\n",
              "      <td>1005-00-589-1271</td>\n",
              "      <td>RIFLE,7.62 MILLIMETER</td>\n",
              "      <td>1</td>\n",
              "      <td>Each</td>\n",
              "      <td>138.00</td>\n",
              "      <td>D</td>\n",
              "      <td>1.0</td>\n",
              "      <td>1993-09-01</td>\n",
              "    </tr>\n",
              "    <tr>\n",
              "      <th>130956</th>\n",
              "      <td>WY</td>\n",
              "      <td>WESTON COUNTY SHERIFF'S OFFICE</td>\n",
              "      <td>1005-00-589-1271</td>\n",
              "      <td>RIFLE,7.62 MILLIMETER</td>\n",
              "      <td>1</td>\n",
              "      <td>Each</td>\n",
              "      <td>138.00</td>\n",
              "      <td>D</td>\n",
              "      <td>1.0</td>\n",
              "      <td>1993-09-01</td>\n",
              "    </tr>\n",
              "    <tr>\n",
              "      <th>130957</th>\n",
              "      <td>WY</td>\n",
              "      <td>WESTON COUNTY SHERIFF'S OFFICE</td>\n",
              "      <td>1005-00-589-1271</td>\n",
              "      <td>RIFLE,7.62 MILLIMETER</td>\n",
              "      <td>1</td>\n",
              "      <td>Each</td>\n",
              "      <td>138.00</td>\n",
              "      <td>D</td>\n",
              "      <td>1.0</td>\n",
              "      <td>1993-09-01</td>\n",
              "    </tr>\n",
              "  </tbody>\n",
              "</table>\n",
              "<p>130958 rows × 10 columns</p>\n",
              "</div>"
            ],
            "text/plain": [
              "       State                     Agency Name  ... DEMIL IC  Ship Date\n",
              "0         AL           ABBEVILLE POLICE DEPT  ...      1.0 2018-01-30\n",
              "1         AL           ABBEVILLE POLICE DEPT  ...      1.0 2016-06-02\n",
              "2         AL           ABBEVILLE POLICE DEPT  ...      1.0 2016-11-09\n",
              "3         AL           ABBEVILLE POLICE DEPT  ...      1.0 2016-09-14\n",
              "4         AL           ABBEVILLE POLICE DEPT  ...      1.0 2017-03-28\n",
              "...      ...                             ...  ...      ...        ...\n",
              "130953    WY  WESTON COUNTY SHERIFF'S OFFICE  ...      1.0 1993-09-01\n",
              "130954    WY  WESTON COUNTY SHERIFF'S OFFICE  ...      1.0 1993-09-01\n",
              "130955    WY  WESTON COUNTY SHERIFF'S OFFICE  ...      1.0 1993-09-01\n",
              "130956    WY  WESTON COUNTY SHERIFF'S OFFICE  ...      1.0 1993-09-01\n",
              "130957    WY  WESTON COUNTY SHERIFF'S OFFICE  ...      1.0 1993-09-01\n",
              "\n",
              "[130958 rows x 10 columns]"
            ]
          },
          "metadata": {},
          "execution_count": 41
        }
      ]
    },
    {
      "cell_type": "code",
      "metadata": {
        "id": "Zc5C1OdpTccz"
      },
      "source": [
        "from sklearn.preprocessing import LabelEncoder\n",
        "\n",
        "le =LabelEncoder()\n",
        "\n",
        "df['State'] = le.fit_transform(df['State'])\n",
        "df['Agency Name'] = le.fit_transform(df['Agency Name'])\n",
        "df['NSN'] = le.fit_transform(df['NSN'])\n",
        "df['Item Name'] = le.fit_transform(df['Item Name'])\n",
        "df['UI'] = le.fit_transform(df['UI'])\n",
        "df['DEMIL Code'] = le.fit_transform(df['DEMIL Code'])\n",
        "df['Ship Date'] = le.fit_transform(df['Ship Date'])"
      ],
      "execution_count": 42,
      "outputs": []
    },
    {
      "cell_type": "code",
      "metadata": {
        "id": "otuXXpQakCHk"
      },
      "source": [
        "# Sampling the dataset to 10000 for each target label so total instances together is 10000 X 7 = 70000\n",
        "sample = 10000\n",
        "df = df.groupby('DEMIL Code').apply(lambda x: x.sample(sample,replace=True))\n",
        "\n",
        "df = df.droplevel(0).reset_index()\n",
        "df = df.drop(labels = 'index', axis =1)"
      ],
      "execution_count": 43,
      "outputs": []
    },
    {
      "cell_type": "code",
      "metadata": {
        "id": "5H2ViWtAkC5T"
      },
      "source": [
        "from sklearn.model_selection import train_test_split\n",
        "from sklearn.metrics import accuracy_score\n",
        "from sklearn.preprocessing import MinMaxScaler\n",
        "from sklearn.metrics import confusion_matrix\n",
        "from sklearn.metrics import classification_report\n",
        "\n",
        "X = df.drop(labels = ['DEMIL Code'], axis = 1)\n",
        "y = df['DEMIL Code']\n",
        "# df['State']\n",
        "X = normalize(X)\n",
        "\n",
        "# y = to_categorical(y)\n",
        "\n",
        "X_train, X_test,y_train, y_test = train_test_split(X, y, test_size = 0.3, random_state = True)\n",
        "\n"
      ],
      "execution_count": 44,
      "outputs": []
    },
    {
      "cell_type": "code",
      "metadata": {
        "colab": {
          "base_uri": "https://localhost:8080/"
        },
        "id": "yNepUZCYkDUE",
        "outputId": "bb8dedd0-5f1d-4974-b123-00cf2b63a19f"
      },
      "source": [
        "X_train = np.array(X_train)\n",
        "X_train = np.reshape(X_train, (X_train.shape[0], X_train.shape[1], 1))\n",
        "X_train.shape"
      ],
      "execution_count": 45,
      "outputs": [
        {
          "output_type": "execute_result",
          "data": {
            "text/plain": [
              "(49000, 9, 1)"
            ]
          },
          "metadata": {},
          "execution_count": 45
        }
      ]
    },
    {
      "cell_type": "code",
      "metadata": {
        "id": "bqtz8I1U4lOQ"
      },
      "source": [
        "from tensorflow.keras.utils import to_categorical\n",
        "#one-hot encode target column\n",
        "y_train = to_categorical(y_train)\n",
        "y_test = to_categorical(y_test)"
      ],
      "execution_count": 46,
      "outputs": []
    },
    {
      "cell_type": "code",
      "metadata": {
        "id": "cLCU7boDkDld"
      },
      "source": [
        "from keras.models import Sequential\n",
        "from keras.layers import Dense, Conv1D, Flatten, MaxPooling1D\n",
        "from keras.layers import Dropout\n",
        "\n",
        "model2_sample=Sequential()\n",
        "model2_sample.add(Conv1D(filters=64, kernel_size=3, activation='relu', input_shape= (X_train.shape[1], X_train.shape[2] )))\n",
        "model2_sample.add(Conv1D(filters=64, kernel_size=3, activation='relu'))\n",
        "model2_sample.add(Dropout(0.5))\n",
        "model2_sample.add(MaxPooling1D(pool_size=2))\n",
        "model2_sample.add(Flatten())\n",
        "model2_sample.add(Dense(100, activation='relu'))\n",
        "model2_sample.add(Dense(7, activation='softmax'))"
      ],
      "execution_count": 47,
      "outputs": []
    },
    {
      "cell_type": "code",
      "metadata": {
        "colab": {
          "base_uri": "https://localhost:8080/"
        },
        "id": "zeiRYFWGkEZN",
        "outputId": "ef742f79-0500-4b47-8bca-a0ebc38cb765"
      },
      "source": [
        "model2_sample.compile(loss='binary_crossentropy', optimizer='adam', metrics=['accuracy'])\n",
        "# optimizer = Adam(learning_rate=0.001)\n",
        "# model.compile(optimizer, loss='sparse_categorical_crossentropy',metrics=['accuracy'])\n",
        "\n",
        "print('Model summary')\n",
        "print(model2_sample.summary())"
      ],
      "execution_count": 48,
      "outputs": [
        {
          "output_type": "stream",
          "name": "stdout",
          "text": [
            "Model summary\n",
            "Model: \"sequential_1\"\n",
            "_________________________________________________________________\n",
            " Layer (type)                Output Shape              Param #   \n",
            "=================================================================\n",
            " conv1d_2 (Conv1D)           (None, 7, 64)             256       \n",
            "                                                                 \n",
            " conv1d_3 (Conv1D)           (None, 5, 64)             12352     \n",
            "                                                                 \n",
            " dropout_1 (Dropout)         (None, 5, 64)             0         \n",
            "                                                                 \n",
            " max_pooling1d_1 (MaxPooling  (None, 2, 64)            0         \n",
            " 1D)                                                             \n",
            "                                                                 \n",
            " flatten_1 (Flatten)         (None, 128)               0         \n",
            "                                                                 \n",
            " dense_2 (Dense)             (None, 100)               12900     \n",
            "                                                                 \n",
            " dense_3 (Dense)             (None, 7)                 707       \n",
            "                                                                 \n",
            "=================================================================\n",
            "Total params: 26,215\n",
            "Trainable params: 26,215\n",
            "Non-trainable params: 0\n",
            "_________________________________________________________________\n",
            "None\n"
          ]
        }
      ]
    },
    {
      "cell_type": "code",
      "metadata": {
        "colab": {
          "base_uri": "https://localhost:8080/"
        },
        "id": "2N6CFQ-OkErf",
        "outputId": "abe3b5a2-0823-415b-ef4c-4645d990ea81"
      },
      "source": [
        "model2_sample.fit(X_train, y_train, verbose=2, batch_size=128,epochs=100)"
      ],
      "execution_count": 49,
      "outputs": [
        {
          "output_type": "stream",
          "name": "stdout",
          "text": [
            "Epoch 1/100\n",
            "383/383 - 3s - loss: 0.3214 - accuracy: 0.4870 - 3s/epoch - 7ms/step\n",
            "Epoch 2/100\n",
            "383/383 - 2s - loss: 0.2681 - accuracy: 0.5743 - 2s/epoch - 5ms/step\n",
            "Epoch 3/100\n",
            "383/383 - 2s - loss: 0.2556 - accuracy: 0.5954 - 2s/epoch - 5ms/step\n",
            "Epoch 4/100\n",
            "383/383 - 2s - loss: 0.2482 - accuracy: 0.6052 - 2s/epoch - 5ms/step\n",
            "Epoch 5/100\n",
            "383/383 - 2s - loss: 0.2411 - accuracy: 0.6169 - 2s/epoch - 4ms/step\n",
            "Epoch 6/100\n",
            "383/383 - 2s - loss: 0.2338 - accuracy: 0.6321 - 2s/epoch - 5ms/step\n",
            "Epoch 7/100\n",
            "383/383 - 2s - loss: 0.2255 - accuracy: 0.6504 - 2s/epoch - 4ms/step\n",
            "Epoch 8/100\n",
            "383/383 - 2s - loss: 0.2181 - accuracy: 0.6650 - 2s/epoch - 5ms/step\n",
            "Epoch 9/100\n",
            "383/383 - 2s - loss: 0.2136 - accuracy: 0.6745 - 2s/epoch - 4ms/step\n",
            "Epoch 10/100\n",
            "383/383 - 2s - loss: 0.2083 - accuracy: 0.6836 - 2s/epoch - 5ms/step\n",
            "Epoch 11/100\n",
            "383/383 - 2s - loss: 0.2048 - accuracy: 0.6898 - 2s/epoch - 5ms/step\n",
            "Epoch 12/100\n",
            "383/383 - 2s - loss: 0.2013 - accuracy: 0.6947 - 2s/epoch - 5ms/step\n",
            "Epoch 13/100\n",
            "383/383 - 2s - loss: 0.1994 - accuracy: 0.6980 - 2s/epoch - 5ms/step\n",
            "Epoch 14/100\n",
            "383/383 - 2s - loss: 0.1971 - accuracy: 0.7024 - 2s/epoch - 5ms/step\n",
            "Epoch 15/100\n",
            "383/383 - 2s - loss: 0.1948 - accuracy: 0.7070 - 2s/epoch - 5ms/step\n",
            "Epoch 16/100\n",
            "383/383 - 2s - loss: 0.1925 - accuracy: 0.7117 - 2s/epoch - 5ms/step\n",
            "Epoch 17/100\n",
            "383/383 - 2s - loss: 0.1906 - accuracy: 0.7142 - 2s/epoch - 5ms/step\n",
            "Epoch 18/100\n",
            "383/383 - 2s - loss: 0.1898 - accuracy: 0.7157 - 2s/epoch - 5ms/step\n",
            "Epoch 19/100\n",
            "383/383 - 2s - loss: 0.1883 - accuracy: 0.7169 - 2s/epoch - 5ms/step\n",
            "Epoch 20/100\n",
            "383/383 - 2s - loss: 0.1871 - accuracy: 0.7180 - 2s/epoch - 5ms/step\n",
            "Epoch 21/100\n",
            "383/383 - 2s - loss: 0.1859 - accuracy: 0.7209 - 2s/epoch - 4ms/step\n",
            "Epoch 22/100\n",
            "383/383 - 2s - loss: 0.1838 - accuracy: 0.7256 - 2s/epoch - 5ms/step\n",
            "Epoch 23/100\n",
            "383/383 - 2s - loss: 0.1831 - accuracy: 0.7264 - 2s/epoch - 4ms/step\n",
            "Epoch 24/100\n",
            "383/383 - 2s - loss: 0.1817 - accuracy: 0.7263 - 2s/epoch - 5ms/step\n",
            "Epoch 25/100\n",
            "383/383 - 2s - loss: 0.1800 - accuracy: 0.7287 - 2s/epoch - 5ms/step\n",
            "Epoch 26/100\n",
            "383/383 - 2s - loss: 0.1796 - accuracy: 0.7317 - 2s/epoch - 5ms/step\n",
            "Epoch 27/100\n",
            "383/383 - 2s - loss: 0.1779 - accuracy: 0.7325 - 2s/epoch - 5ms/step\n",
            "Epoch 28/100\n",
            "383/383 - 2s - loss: 0.1777 - accuracy: 0.7332 - 2s/epoch - 5ms/step\n",
            "Epoch 29/100\n",
            "383/383 - 2s - loss: 0.1769 - accuracy: 0.7343 - 2s/epoch - 5ms/step\n",
            "Epoch 30/100\n",
            "383/383 - 2s - loss: 0.1761 - accuracy: 0.7383 - 2s/epoch - 5ms/step\n",
            "Epoch 31/100\n",
            "383/383 - 2s - loss: 0.1741 - accuracy: 0.7401 - 2s/epoch - 4ms/step\n",
            "Epoch 32/100\n",
            "383/383 - 2s - loss: 0.1740 - accuracy: 0.7385 - 2s/epoch - 5ms/step\n",
            "Epoch 33/100\n",
            "383/383 - 2s - loss: 0.1722 - accuracy: 0.7434 - 2s/epoch - 5ms/step\n",
            "Epoch 34/100\n",
            "383/383 - 2s - loss: 0.1723 - accuracy: 0.7408 - 2s/epoch - 5ms/step\n",
            "Epoch 35/100\n",
            "383/383 - 2s - loss: 0.1718 - accuracy: 0.7426 - 2s/epoch - 5ms/step\n",
            "Epoch 36/100\n",
            "383/383 - 2s - loss: 0.1702 - accuracy: 0.7464 - 2s/epoch - 5ms/step\n",
            "Epoch 37/100\n",
            "383/383 - 2s - loss: 0.1688 - accuracy: 0.7501 - 2s/epoch - 5ms/step\n",
            "Epoch 38/100\n",
            "383/383 - 2s - loss: 0.1692 - accuracy: 0.7463 - 2s/epoch - 5ms/step\n",
            "Epoch 39/100\n",
            "383/383 - 2s - loss: 0.1683 - accuracy: 0.7489 - 2s/epoch - 5ms/step\n",
            "Epoch 40/100\n",
            "383/383 - 2s - loss: 0.1677 - accuracy: 0.7483 - 2s/epoch - 5ms/step\n",
            "Epoch 41/100\n",
            "383/383 - 2s - loss: 0.1663 - accuracy: 0.7509 - 2s/epoch - 4ms/step\n",
            "Epoch 42/100\n",
            "383/383 - 2s - loss: 0.1658 - accuracy: 0.7525 - 2s/epoch - 5ms/step\n",
            "Epoch 43/100\n",
            "383/383 - 2s - loss: 0.1664 - accuracy: 0.7528 - 2s/epoch - 5ms/step\n",
            "Epoch 44/100\n",
            "383/383 - 2s - loss: 0.1645 - accuracy: 0.7533 - 2s/epoch - 5ms/step\n",
            "Epoch 45/100\n",
            "383/383 - 2s - loss: 0.1637 - accuracy: 0.7541 - 2s/epoch - 5ms/step\n",
            "Epoch 46/100\n",
            "383/383 - 2s - loss: 0.1636 - accuracy: 0.7565 - 2s/epoch - 5ms/step\n",
            "Epoch 47/100\n",
            "383/383 - 2s - loss: 0.1638 - accuracy: 0.7564 - 2s/epoch - 5ms/step\n",
            "Epoch 48/100\n",
            "383/383 - 2s - loss: 0.1619 - accuracy: 0.7592 - 2s/epoch - 5ms/step\n",
            "Epoch 49/100\n",
            "383/383 - 2s - loss: 0.1617 - accuracy: 0.7599 - 2s/epoch - 5ms/step\n",
            "Epoch 50/100\n",
            "383/383 - 2s - loss: 0.1614 - accuracy: 0.7581 - 2s/epoch - 5ms/step\n",
            "Epoch 51/100\n",
            "383/383 - 2s - loss: 0.1605 - accuracy: 0.7617 - 2s/epoch - 5ms/step\n",
            "Epoch 52/100\n",
            "383/383 - 2s - loss: 0.1602 - accuracy: 0.7617 - 2s/epoch - 5ms/step\n",
            "Epoch 53/100\n",
            "383/383 - 2s - loss: 0.1597 - accuracy: 0.7630 - 2s/epoch - 5ms/step\n",
            "Epoch 54/100\n",
            "383/383 - 2s - loss: 0.1585 - accuracy: 0.7641 - 2s/epoch - 5ms/step\n",
            "Epoch 55/100\n",
            "383/383 - 2s - loss: 0.1586 - accuracy: 0.7656 - 2s/epoch - 5ms/step\n",
            "Epoch 56/100\n",
            "383/383 - 2s - loss: 0.1575 - accuracy: 0.7676 - 2s/epoch - 5ms/step\n",
            "Epoch 57/100\n",
            "383/383 - 2s - loss: 0.1579 - accuracy: 0.7654 - 2s/epoch - 4ms/step\n",
            "Epoch 58/100\n",
            "383/383 - 2s - loss: 0.1563 - accuracy: 0.7688 - 2s/epoch - 5ms/step\n",
            "Epoch 59/100\n",
            "383/383 - 2s - loss: 0.1570 - accuracy: 0.7673 - 2s/epoch - 5ms/step\n",
            "Epoch 60/100\n",
            "383/383 - 2s - loss: 0.1559 - accuracy: 0.7690 - 2s/epoch - 5ms/step\n",
            "Epoch 61/100\n",
            "383/383 - 2s - loss: 0.1548 - accuracy: 0.7715 - 2s/epoch - 5ms/step\n",
            "Epoch 62/100\n",
            "383/383 - 2s - loss: 0.1551 - accuracy: 0.7716 - 2s/epoch - 5ms/step\n",
            "Epoch 63/100\n",
            "383/383 - 2s - loss: 0.1539 - accuracy: 0.7730 - 2s/epoch - 4ms/step\n",
            "Epoch 64/100\n",
            "383/383 - 2s - loss: 0.1538 - accuracy: 0.7718 - 2s/epoch - 4ms/step\n",
            "Epoch 65/100\n",
            "383/383 - 2s - loss: 0.1532 - accuracy: 0.7736 - 2s/epoch - 5ms/step\n",
            "Epoch 66/100\n",
            "383/383 - 2s - loss: 0.1529 - accuracy: 0.7753 - 2s/epoch - 5ms/step\n",
            "Epoch 67/100\n",
            "383/383 - 2s - loss: 0.1521 - accuracy: 0.7756 - 2s/epoch - 5ms/step\n",
            "Epoch 68/100\n",
            "383/383 - 2s - loss: 0.1518 - accuracy: 0.7753 - 2s/epoch - 5ms/step\n",
            "Epoch 69/100\n",
            "383/383 - 2s - loss: 0.1519 - accuracy: 0.7768 - 2s/epoch - 5ms/step\n",
            "Epoch 70/100\n",
            "383/383 - 2s - loss: 0.1511 - accuracy: 0.7770 - 2s/epoch - 4ms/step\n",
            "Epoch 71/100\n",
            "383/383 - 2s - loss: 0.1505 - accuracy: 0.7784 - 2s/epoch - 4ms/step\n",
            "Epoch 72/100\n",
            "383/383 - 2s - loss: 0.1493 - accuracy: 0.7813 - 2s/epoch - 5ms/step\n",
            "Epoch 73/100\n",
            "383/383 - 2s - loss: 0.1496 - accuracy: 0.7804 - 2s/epoch - 5ms/step\n",
            "Epoch 74/100\n",
            "383/383 - 2s - loss: 0.1493 - accuracy: 0.7830 - 2s/epoch - 4ms/step\n",
            "Epoch 75/100\n",
            "383/383 - 2s - loss: 0.1485 - accuracy: 0.7810 - 2s/epoch - 5ms/step\n",
            "Epoch 76/100\n",
            "383/383 - 2s - loss: 0.1487 - accuracy: 0.7814 - 2s/epoch - 5ms/step\n",
            "Epoch 77/100\n",
            "383/383 - 2s - loss: 0.1464 - accuracy: 0.7854 - 2s/epoch - 4ms/step\n",
            "Epoch 78/100\n",
            "383/383 - 2s - loss: 0.1473 - accuracy: 0.7846 - 2s/epoch - 5ms/step\n",
            "Epoch 79/100\n",
            "383/383 - 2s - loss: 0.1469 - accuracy: 0.7870 - 2s/epoch - 5ms/step\n",
            "Epoch 80/100\n",
            "383/383 - 2s - loss: 0.1464 - accuracy: 0.7863 - 2s/epoch - 5ms/step\n",
            "Epoch 81/100\n",
            "383/383 - 2s - loss: 0.1463 - accuracy: 0.7864 - 2s/epoch - 5ms/step\n",
            "Epoch 82/100\n",
            "383/383 - 2s - loss: 0.1462 - accuracy: 0.7868 - 2s/epoch - 4ms/step\n",
            "Epoch 83/100\n",
            "383/383 - 2s - loss: 0.1455 - accuracy: 0.7891 - 2s/epoch - 5ms/step\n",
            "Epoch 84/100\n",
            "383/383 - 2s - loss: 0.1457 - accuracy: 0.7884 - 2s/epoch - 5ms/step\n",
            "Epoch 85/100\n",
            "383/383 - 2s - loss: 0.1454 - accuracy: 0.7877 - 2s/epoch - 5ms/step\n",
            "Epoch 86/100\n",
            "383/383 - 2s - loss: 0.1446 - accuracy: 0.7896 - 2s/epoch - 5ms/step\n",
            "Epoch 87/100\n",
            "383/383 - 2s - loss: 0.1440 - accuracy: 0.7910 - 2s/epoch - 5ms/step\n",
            "Epoch 88/100\n",
            "383/383 - 2s - loss: 0.1431 - accuracy: 0.7918 - 2s/epoch - 5ms/step\n",
            "Epoch 89/100\n",
            "383/383 - 2s - loss: 0.1432 - accuracy: 0.7902 - 2s/epoch - 5ms/step\n",
            "Epoch 90/100\n",
            "383/383 - 2s - loss: 0.1432 - accuracy: 0.7919 - 2s/epoch - 5ms/step\n",
            "Epoch 91/100\n",
            "383/383 - 2s - loss: 0.1426 - accuracy: 0.7946 - 2s/epoch - 5ms/step\n",
            "Epoch 92/100\n",
            "383/383 - 2s - loss: 0.1424 - accuracy: 0.7924 - 2s/epoch - 5ms/step\n",
            "Epoch 93/100\n",
            "383/383 - 2s - loss: 0.1421 - accuracy: 0.7949 - 2s/epoch - 5ms/step\n",
            "Epoch 94/100\n",
            "383/383 - 2s - loss: 0.1411 - accuracy: 0.7955 - 2s/epoch - 4ms/step\n",
            "Epoch 95/100\n",
            "383/383 - 2s - loss: 0.1420 - accuracy: 0.7962 - 2s/epoch - 5ms/step\n",
            "Epoch 96/100\n",
            "383/383 - 2s - loss: 0.1409 - accuracy: 0.7958 - 2s/epoch - 4ms/step\n",
            "Epoch 97/100\n",
            "383/383 - 2s - loss: 0.1407 - accuracy: 0.7975 - 2s/epoch - 5ms/step\n",
            "Epoch 98/100\n",
            "383/383 - 2s - loss: 0.1402 - accuracy: 0.7982 - 2s/epoch - 5ms/step\n",
            "Epoch 99/100\n",
            "383/383 - 2s - loss: 0.1402 - accuracy: 0.7987 - 2s/epoch - 5ms/step\n",
            "Epoch 100/100\n",
            "383/383 - 2s - loss: 0.1400 - accuracy: 0.7989 - 2s/epoch - 5ms/step\n"
          ]
        },
        {
          "output_type": "execute_result",
          "data": {
            "text/plain": [
              "<keras.callbacks.History at 0x7fc37d6683d0>"
            ]
          },
          "metadata": {},
          "execution_count": 49
        }
      ]
    },
    {
      "cell_type": "code",
      "metadata": {
        "colab": {
          "base_uri": "https://localhost:8080/"
        },
        "id": "4pxN3wl8kFh-",
        "outputId": "cbf4de74-1581-4939-c465-eddc087addbf"
      },
      "source": [
        "predict2_sample = model2_sample.predict(X_test, batch_size=128)\n",
        "predict2_sample"
      ],
      "execution_count": 50,
      "outputs": [
        {
          "output_type": "execute_result",
          "data": {
            "text/plain": [
              "array([[8.7038553e-01, 8.7083885e-03, 2.7654264e-02, ..., 3.4475925e-06,\n",
              "        8.2774705e-04, 7.8393631e-02],\n",
              "       [1.6870337e-06, 2.1137565e-05, 4.3514588e-06, ..., 9.9929535e-01,\n",
              "        7.3736937e-06, 5.5847660e-04],\n",
              "       [6.8280310e-03, 1.2303520e-02, 7.6071504e-03, ..., 1.8767704e-03,\n",
              "        9.1898727e-01, 4.5626871e-02],\n",
              "       ...,\n",
              "       [9.6426642e-01, 3.0859351e-02, 2.7910274e-04, ..., 3.5271094e-06,\n",
              "        1.5575988e-06, 3.8686234e-03],\n",
              "       [6.2889278e-02, 8.7173894e-02, 1.3325925e-02, ..., 9.4022532e-04,\n",
              "        7.4473661e-01, 6.9073886e-02],\n",
              "       [2.5289089e-09, 3.8844167e-11, 7.7569905e-15, ..., 4.3872006e-35,\n",
              "        1.1014056e-15, 8.9555493e-07]], dtype=float32)"
            ]
          },
          "metadata": {},
          "execution_count": 50
        }
      ]
    },
    {
      "cell_type": "code",
      "metadata": {
        "colab": {
          "base_uri": "https://localhost:8080/"
        },
        "id": "m1lQE0fVk4XA",
        "outputId": "6287f755-19b3-4f08-9d24-ce368e7de5d8"
      },
      "source": [
        "# Model 2 - CNN sample\n",
        "results2_sample = model2_sample.evaluate(X_test, y_test)\n",
        "print('Final test set loss', format(results2_sample[0]))\n",
        "print('Final test set accuracy', format(results2_sample[1]))"
      ],
      "execution_count": 51,
      "outputs": [
        {
          "output_type": "stream",
          "name": "stdout",
          "text": [
            "657/657 [==============================] - 3s 4ms/step - loss: 0.1228 - accuracy: 0.8257\n",
            "Final test set loss 0.12283951789140701\n",
            "Final test set accuracy 0.8257142901420593\n"
          ]
        }
      ]
    },
    {
      "cell_type": "code",
      "metadata": {
        "id": "TCn1UB6Ck40B"
      },
      "source": [
        "y_pred2_sample = np.argmax(predict2_sample,axis=1)"
      ],
      "execution_count": 52,
      "outputs": []
    },
    {
      "cell_type": "code",
      "metadata": {
        "id": "4mMnMUw1k5Gg"
      },
      "source": [
        "y_val2_sample =np.argmax(y_test, axis=1)"
      ],
      "execution_count": 53,
      "outputs": []
    },
    {
      "cell_type": "code",
      "metadata": {
        "colab": {
          "base_uri": "https://localhost:8080/"
        },
        "id": "9xa28ibnk5yP",
        "outputId": "30dbffdf-3b43-4575-e14e-babaf68bb25a"
      },
      "source": [
        "print(classification_report(y_val2_sample,y_pred2_sample))"
      ],
      "execution_count": 54,
      "outputs": [
        {
          "output_type": "stream",
          "name": "stdout",
          "text": [
            "              precision    recall  f1-score   support\n",
            "\n",
            "           0       0.71      0.82      0.76      3061\n",
            "           1       0.72      0.88      0.79      3066\n",
            "           2       0.81      0.83      0.82      3032\n",
            "           3       0.95      0.87      0.91      2979\n",
            "           4       0.97      0.99      0.98      2958\n",
            "           5       0.87      0.94      0.90      2949\n",
            "           6       0.78      0.45      0.57      2955\n",
            "\n",
            "    accuracy                           0.83     21000\n",
            "   macro avg       0.83      0.83      0.82     21000\n",
            "weighted avg       0.83      0.83      0.82     21000\n",
            "\n"
          ]
        }
      ]
    },
    {
      "cell_type": "code",
      "metadata": {
        "colab": {
          "base_uri": "https://localhost:8080/"
        },
        "id": "SrKTpXfclnNa",
        "outputId": "52154388-181d-41bd-916f-658e7f904e41"
      },
      "source": [
        "print(classification_report(y_val2_sample, y_pred2_sample))"
      ],
      "execution_count": 55,
      "outputs": [
        {
          "output_type": "stream",
          "name": "stdout",
          "text": [
            "              precision    recall  f1-score   support\n",
            "\n",
            "           0       0.71      0.82      0.76      3061\n",
            "           1       0.72      0.88      0.79      3066\n",
            "           2       0.81      0.83      0.82      3032\n",
            "           3       0.95      0.87      0.91      2979\n",
            "           4       0.97      0.99      0.98      2958\n",
            "           5       0.87      0.94      0.90      2949\n",
            "           6       0.78      0.45      0.57      2955\n",
            "\n",
            "    accuracy                           0.83     21000\n",
            "   macro avg       0.83      0.83      0.82     21000\n",
            "weighted avg       0.83      0.83      0.82     21000\n",
            "\n"
          ]
        }
      ]
    },
    {
      "cell_type": "code",
      "metadata": {
        "id": "3lXFyKDqloDR"
      },
      "source": [
        ""
      ],
      "execution_count": 55,
      "outputs": []
    },
    {
      "cell_type": "code",
      "metadata": {
        "id": "GvZG1CNrloYl"
      },
      "source": [
        ""
      ],
      "execution_count": 55,
      "outputs": []
    },
    {
      "cell_type": "code",
      "metadata": {
        "id": "dMJgJxrQlorc"
      },
      "source": [
        ""
      ],
      "execution_count": 55,
      "outputs": []
    },
    {
      "cell_type": "code",
      "metadata": {
        "id": "flYyo47Klo-w"
      },
      "source": [
        ""
      ],
      "execution_count": 55,
      "outputs": []
    },
    {
      "cell_type": "code",
      "metadata": {
        "id": "MAXvY1xClpVG"
      },
      "source": [
        ""
      ],
      "execution_count": 55,
      "outputs": []
    }
  ]
}