{
  "nbformat": 4,
  "nbformat_minor": 0,
  "metadata": {
    "kernelspec": {
      "name": "python3",
      "display_name": "Python 3"
    },
    "colab": {
      "name": "ANN_Assignment2.ipynb",
      "provenance": [],
      "collapsed_sections": []
    },
    "accelerator": "GPU",
    "language_info": {
      "name": "python"
    }
  },
  "cells": [
    {
      "cell_type": "code",
      "metadata": {
        "id": "Yuv1Eqs1G61t",
        "colab": {
          "base_uri": "https://localhost:8080/"
        },
        "outputId": "202bfaaa-3e33-42cb-a115-dec529d0f7c1"
      },
      "source": [
        "!nvidia-smi"
      ],
      "execution_count": 1,
      "outputs": [
        {
          "output_type": "stream",
          "name": "stdout",
          "text": [
            "Sun Dec  5 08:10:36 2021       \n",
            "+-----------------------------------------------------------------------------+\n",
            "| NVIDIA-SMI 495.44       Driver Version: 460.32.03    CUDA Version: 11.2     |\n",
            "|-------------------------------+----------------------+----------------------+\n",
            "| GPU  Name        Persistence-M| Bus-Id        Disp.A | Volatile Uncorr. ECC |\n",
            "| Fan  Temp  Perf  Pwr:Usage/Cap|         Memory-Usage | GPU-Util  Compute M. |\n",
            "|                               |                      |               MIG M. |\n",
            "|===============================+======================+======================|\n",
            "|   0  Tesla K80           Off  | 00000000:00:04.0 Off |                    0 |\n",
            "| N/A   71C    P8    33W / 149W |      0MiB / 11441MiB |      0%      Default |\n",
            "|                               |                      |                  N/A |\n",
            "+-------------------------------+----------------------+----------------------+\n",
            "                                                                               \n",
            "+-----------------------------------------------------------------------------+\n",
            "| Processes:                                                                  |\n",
            "|  GPU   GI   CI        PID   Type   Process name                  GPU Memory |\n",
            "|        ID   ID                                                   Usage      |\n",
            "|=============================================================================|\n",
            "|  No running processes found                                                 |\n",
            "+-----------------------------------------------------------------------------+\n"
          ]
        }
      ]
    },
    {
      "cell_type": "code",
      "metadata": {
        "id": "00pBjtKIoMC4"
      },
      "source": [
        "import numpy as np\n",
        "import pandas as pd\n"
      ],
      "execution_count": 2,
      "outputs": []
    },
    {
      "cell_type": "code",
      "metadata": {
        "colab": {
          "base_uri": "https://localhost:8080/"
        },
        "id": "HzBe2cW-oST9",
        "outputId": "eea28129-9ea8-4882-bc12-e6f04f92c72b"
      },
      "source": [
        "from google.colab import drive\n",
        "drive.mount('/content/drive')"
      ],
      "execution_count": 3,
      "outputs": [
        {
          "output_type": "stream",
          "name": "stdout",
          "text": [
            "Mounted at /content/drive\n"
          ]
        }
      ]
    },
    {
      "cell_type": "code",
      "metadata": {
        "id": "nWHjgBUJoMC7"
      },
      "source": [
        "# data = pd.read_excel('/content/drive/MyDrive/Colab Notebooks/AllStatesAndTerritoriesQTR4FY21.xlsx', sheet_name = ['ALABAMA', 'ALASKA', 'ARIZONA', 'ARKANSAS', 'CALIFORNIA', 'COLORADO', 'CONNECTICUT', 'DELAWARE', 'FLORIDA', 'GEORGIA', 'GUAM', 'IDAHO', 'ILLINOIS', 'INDIANA', 'IOWA', 'KANSAS', 'KENTUCKY', 'LOUISIANA', 'MAINE', 'MARYLAND', 'MASSACHUSETTS', 'MICHIGAN', 'MINNESOTA', 'MISSISSIPPI', 'MISSOURI', 'MONTANA', 'NEBRASKA', 'NEVADA', 'NEW HAMPSHIRE', 'NEW JERSEY', 'NEW MEXICO', 'NEW YORK', 'NORTH CAROLINA', 'NORTH DAKOTA', 'NORTHERN MARIANA ISLANDS', 'OHIO', 'OKLAHOMA', 'OREGON', 'PENNSYLVANIA', 'PUERTO RICO', 'RHODE ISLAND', 'SOUTH CAROLINA', 'SOUTH DAKOTA', 'TENNESSEE', 'TEXAS', 'UTAH', 'VERMONT', 'VIRGIN ISLANDS OF THE U.S.', 'VIRGINIA', 'WASHINGTON', 'WEST VIRGINIA', 'WISCONSIN', 'WYOMING'])\n",
        "data = pd.read_excel('/content/drive/MyDrive/Colab Notebooks/AllStatesAndTerritoriesQTR4FY21.xlsx', sheet_name = None)\n",
        "# data = pd.read_csv('AllStatesAndTerritoriesQTR4FY21.csv')"
      ],
      "execution_count": 4,
      "outputs": []
    },
    {
      "cell_type": "code",
      "metadata": {
        "scrolled": true,
        "colab": {
          "base_uri": "https://localhost:8080/"
        },
        "id": "6aBLO7B2oMC8",
        "outputId": "c1feb6ac-ce2c-4a3d-fbd9-6e1da8fbdcf0"
      },
      "source": [
        "data.keys()"
      ],
      "execution_count": 5,
      "outputs": [
        {
          "output_type": "execute_result",
          "data": {
            "text/plain": [
              "dict_keys(['ALABAMA', 'ALASKA', 'ARIZONA', 'ARKANSAS', 'CALIFORNIA', 'COLORADO', 'CONNECTICUT', 'DELAWARE', 'FLORIDA', 'GEORGIA', 'GUAM', 'IDAHO', 'ILLINOIS', 'INDIANA', 'IOWA', 'KANSAS', 'KENTUCKY', 'LOUISIANA', 'MAINE', 'MARYLAND', 'MASSACHUSETTS', 'MICHIGAN', 'MINNESOTA', 'MISSISSIPPI', 'MISSOURI', 'MONTANA', 'NEBRASKA', 'NEVADA', 'NEW HAMPSHIRE', 'NEW JERSEY', 'NEW MEXICO', 'NEW YORK', 'NORTH CAROLINA', 'NORTH DAKOTA', 'NORTHERN MARIANA ISLANDS', 'OHIO', 'OKLAHOMA', 'OREGON', 'PENNSYLVANIA', 'PUERTO RICO', 'RHODE ISLAND', 'SOUTH CAROLINA', 'SOUTH DAKOTA', 'TENNESSEE', 'TEXAS', 'UTAH', 'VERMONT', 'VIRGIN ISLANDS OF THE U.S.', 'VIRGINIA', 'WASHINGTON', 'WEST VIRGINIA', 'WISCONSIN', 'WYOMING'])"
            ]
          },
          "metadata": {},
          "execution_count": 5
        }
      ]
    },
    {
      "cell_type": "code",
      "metadata": {
        "id": "LMzGX63boMC9"
      },
      "source": [
        "df = pd.concat(data[frame] for frame in data.keys()) "
      ],
      "execution_count": 6,
      "outputs": []
    },
    {
      "cell_type": "code",
      "metadata": {
        "scrolled": true,
        "id": "zYWQZxmCoMC9"
      },
      "source": [
        "df = df.reset_index()"
      ],
      "execution_count": 7,
      "outputs": []
    },
    {
      "cell_type": "code",
      "metadata": {
        "colab": {
          "base_uri": "https://localhost:8080/",
          "height": 424
        },
        "id": "6-KhY8oXoMC-",
        "outputId": "2fa89fa4-186c-4df6-e8af-c1350a77fd01"
      },
      "source": [
        "df = df.drop(labels = 'index', axis = 1)\n",
        "df"
      ],
      "execution_count": 8,
      "outputs": [
        {
          "output_type": "execute_result",
          "data": {
            "text/html": [
              "<div>\n",
              "<style scoped>\n",
              "    .dataframe tbody tr th:only-of-type {\n",
              "        vertical-align: middle;\n",
              "    }\n",
              "\n",
              "    .dataframe tbody tr th {\n",
              "        vertical-align: top;\n",
              "    }\n",
              "\n",
              "    .dataframe thead th {\n",
              "        text-align: right;\n",
              "    }\n",
              "</style>\n",
              "<table border=\"1\" class=\"dataframe\">\n",
              "  <thead>\n",
              "    <tr style=\"text-align: right;\">\n",
              "      <th></th>\n",
              "      <th>State</th>\n",
              "      <th>Agency Name</th>\n",
              "      <th>NSN</th>\n",
              "      <th>Item Name</th>\n",
              "      <th>Quantity</th>\n",
              "      <th>UI</th>\n",
              "      <th>Acquisition Value</th>\n",
              "      <th>DEMIL Code</th>\n",
              "      <th>DEMIL IC</th>\n",
              "      <th>Ship Date</th>\n",
              "      <th>Station Type</th>\n",
              "    </tr>\n",
              "  </thead>\n",
              "  <tbody>\n",
              "    <tr>\n",
              "      <th>0</th>\n",
              "      <td>AL</td>\n",
              "      <td>ABBEVILLE POLICE DEPT</td>\n",
              "      <td>2540-01-565-4700</td>\n",
              "      <td>BALLISTIC BLANKET KIT</td>\n",
              "      <td>10</td>\n",
              "      <td>Kit</td>\n",
              "      <td>15871.59</td>\n",
              "      <td>D</td>\n",
              "      <td>1.0</td>\n",
              "      <td>2018-01-30</td>\n",
              "      <td>State</td>\n",
              "    </tr>\n",
              "    <tr>\n",
              "      <th>1</th>\n",
              "      <td>AL</td>\n",
              "      <td>ABBEVILLE POLICE DEPT</td>\n",
              "      <td>1240-DS-OPT-SIGH</td>\n",
              "      <td>OPTICAL SIGHTING AND RANGING EQUIPMENT</td>\n",
              "      <td>1</td>\n",
              "      <td>Each</td>\n",
              "      <td>245.88</td>\n",
              "      <td>D</td>\n",
              "      <td>NaN</td>\n",
              "      <td>2016-06-02</td>\n",
              "      <td>State</td>\n",
              "    </tr>\n",
              "    <tr>\n",
              "      <th>2</th>\n",
              "      <td>AL</td>\n",
              "      <td>ABBEVILLE POLICE DEPT</td>\n",
              "      <td>2355-01-553-4634</td>\n",
              "      <td>MINE RESISTANT VEHICLE</td>\n",
              "      <td>1</td>\n",
              "      <td>Each</td>\n",
              "      <td>658000.00</td>\n",
              "      <td>C</td>\n",
              "      <td>1.0</td>\n",
              "      <td>2016-11-09</td>\n",
              "      <td>State</td>\n",
              "    </tr>\n",
              "    <tr>\n",
              "      <th>3</th>\n",
              "      <td>AL</td>\n",
              "      <td>ABBEVILLE POLICE DEPT</td>\n",
              "      <td>1240-01-411-1265</td>\n",
              "      <td>SIGHT,REFLEX</td>\n",
              "      <td>9</td>\n",
              "      <td>Each</td>\n",
              "      <td>333.00</td>\n",
              "      <td>D</td>\n",
              "      <td>1.0</td>\n",
              "      <td>2016-09-14</td>\n",
              "      <td>State</td>\n",
              "    </tr>\n",
              "    <tr>\n",
              "      <th>4</th>\n",
              "      <td>AL</td>\n",
              "      <td>ABBEVILLE POLICE DEPT</td>\n",
              "      <td>5855-01-577-7174</td>\n",
              "      <td>ILLUMINATOR,INFRARED</td>\n",
              "      <td>10</td>\n",
              "      <td>Each</td>\n",
              "      <td>926.00</td>\n",
              "      <td>D</td>\n",
              "      <td>1.0</td>\n",
              "      <td>2017-03-28</td>\n",
              "      <td>State</td>\n",
              "    </tr>\n",
              "    <tr>\n",
              "      <th>...</th>\n",
              "      <td>...</td>\n",
              "      <td>...</td>\n",
              "      <td>...</td>\n",
              "      <td>...</td>\n",
              "      <td>...</td>\n",
              "      <td>...</td>\n",
              "      <td>...</td>\n",
              "      <td>...</td>\n",
              "      <td>...</td>\n",
              "      <td>...</td>\n",
              "      <td>...</td>\n",
              "    </tr>\n",
              "    <tr>\n",
              "      <th>130953</th>\n",
              "      <td>WY</td>\n",
              "      <td>WESTON COUNTY SHERIFF'S OFFICE</td>\n",
              "      <td>1005-00-589-1271</td>\n",
              "      <td>RIFLE,7.62 MILLIMETER</td>\n",
              "      <td>1</td>\n",
              "      <td>Each</td>\n",
              "      <td>138.00</td>\n",
              "      <td>D</td>\n",
              "      <td>1.0</td>\n",
              "      <td>1993-09-01</td>\n",
              "      <td>State</td>\n",
              "    </tr>\n",
              "    <tr>\n",
              "      <th>130954</th>\n",
              "      <td>WY</td>\n",
              "      <td>WESTON COUNTY SHERIFF'S OFFICE</td>\n",
              "      <td>1005-00-589-1271</td>\n",
              "      <td>RIFLE,7.62 MILLIMETER</td>\n",
              "      <td>1</td>\n",
              "      <td>Each</td>\n",
              "      <td>138.00</td>\n",
              "      <td>D</td>\n",
              "      <td>1.0</td>\n",
              "      <td>1993-09-01</td>\n",
              "      <td>State</td>\n",
              "    </tr>\n",
              "    <tr>\n",
              "      <th>130955</th>\n",
              "      <td>WY</td>\n",
              "      <td>WESTON COUNTY SHERIFF'S OFFICE</td>\n",
              "      <td>1005-00-589-1271</td>\n",
              "      <td>RIFLE,7.62 MILLIMETER</td>\n",
              "      <td>1</td>\n",
              "      <td>Each</td>\n",
              "      <td>138.00</td>\n",
              "      <td>D</td>\n",
              "      <td>1.0</td>\n",
              "      <td>1993-09-01</td>\n",
              "      <td>State</td>\n",
              "    </tr>\n",
              "    <tr>\n",
              "      <th>130956</th>\n",
              "      <td>WY</td>\n",
              "      <td>WESTON COUNTY SHERIFF'S OFFICE</td>\n",
              "      <td>1005-00-589-1271</td>\n",
              "      <td>RIFLE,7.62 MILLIMETER</td>\n",
              "      <td>1</td>\n",
              "      <td>Each</td>\n",
              "      <td>138.00</td>\n",
              "      <td>D</td>\n",
              "      <td>1.0</td>\n",
              "      <td>1993-09-01</td>\n",
              "      <td>State</td>\n",
              "    </tr>\n",
              "    <tr>\n",
              "      <th>130957</th>\n",
              "      <td>WY</td>\n",
              "      <td>WESTON COUNTY SHERIFF'S OFFICE</td>\n",
              "      <td>1005-00-589-1271</td>\n",
              "      <td>RIFLE,7.62 MILLIMETER</td>\n",
              "      <td>1</td>\n",
              "      <td>Each</td>\n",
              "      <td>138.00</td>\n",
              "      <td>D</td>\n",
              "      <td>1.0</td>\n",
              "      <td>1993-09-01</td>\n",
              "      <td>State</td>\n",
              "    </tr>\n",
              "  </tbody>\n",
              "</table>\n",
              "<p>130958 rows × 11 columns</p>\n",
              "</div>"
            ],
            "text/plain": [
              "       State                     Agency Name  ...  Ship Date Station Type\n",
              "0         AL           ABBEVILLE POLICE DEPT  ... 2018-01-30        State\n",
              "1         AL           ABBEVILLE POLICE DEPT  ... 2016-06-02        State\n",
              "2         AL           ABBEVILLE POLICE DEPT  ... 2016-11-09        State\n",
              "3         AL           ABBEVILLE POLICE DEPT  ... 2016-09-14        State\n",
              "4         AL           ABBEVILLE POLICE DEPT  ... 2017-03-28        State\n",
              "...      ...                             ...  ...        ...          ...\n",
              "130953    WY  WESTON COUNTY SHERIFF'S OFFICE  ... 1993-09-01        State\n",
              "130954    WY  WESTON COUNTY SHERIFF'S OFFICE  ... 1993-09-01        State\n",
              "130955    WY  WESTON COUNTY SHERIFF'S OFFICE  ... 1993-09-01        State\n",
              "130956    WY  WESTON COUNTY SHERIFF'S OFFICE  ... 1993-09-01        State\n",
              "130957    WY  WESTON COUNTY SHERIFF'S OFFICE  ... 1993-09-01        State\n",
              "\n",
              "[130958 rows x 11 columns]"
            ]
          },
          "metadata": {},
          "execution_count": 8
        }
      ]
    },
    {
      "cell_type": "code",
      "metadata": {
        "scrolled": true,
        "colab": {
          "base_uri": "https://localhost:8080/"
        },
        "id": "a416e4yuoMC-",
        "outputId": "71c9ca47-cae0-4c82-a06a-1d34cdc1bb21"
      },
      "source": [
        "df.count()"
      ],
      "execution_count": 9,
      "outputs": [
        {
          "output_type": "execute_result",
          "data": {
            "text/plain": [
              "State                130958\n",
              "Agency Name          130958\n",
              "NSN                  130958\n",
              "Item Name            130958\n",
              "Quantity             130958\n",
              "UI                   130958\n",
              "Acquisition Value    130958\n",
              "DEMIL Code           130958\n",
              "DEMIL IC             121048\n",
              "Ship Date            130958\n",
              "Station Type         130958\n",
              "dtype: int64"
            ]
          },
          "metadata": {},
          "execution_count": 9
        }
      ]
    },
    {
      "cell_type": "code",
      "metadata": {
        "scrolled": false,
        "colab": {
          "base_uri": "https://localhost:8080/"
        },
        "id": "2T0xdsLmoMC_",
        "outputId": "fd5fda1f-450a-4748-d498-8e224ab03715"
      },
      "source": [
        "# There are 814 rows that are having null values and all are from column DEMIL IC\n",
        "df.isnull().sum()"
      ],
      "execution_count": 10,
      "outputs": [
        {
          "output_type": "execute_result",
          "data": {
            "text/plain": [
              "State                   0\n",
              "Agency Name             0\n",
              "NSN                     0\n",
              "Item Name               0\n",
              "Quantity                0\n",
              "UI                      0\n",
              "Acquisition Value       0\n",
              "DEMIL Code              0\n",
              "DEMIL IC             9910\n",
              "Ship Date               0\n",
              "Station Type            0\n",
              "dtype: int64"
            ]
          },
          "metadata": {},
          "execution_count": 10
        }
      ]
    },
    {
      "cell_type": "code",
      "metadata": {
        "id": "JOySBDXPoMDB"
      },
      "source": [
        "df = df.fillna(1)"
      ],
      "execution_count": 11,
      "outputs": []
    },
    {
      "cell_type": "code",
      "metadata": {
        "colab": {
          "base_uri": "https://localhost:8080/"
        },
        "id": "_2qfoZZJVDBP",
        "outputId": "b16d3532-8c18-47a4-f541-690c7f824058"
      },
      "source": [
        "# We will drop state since all the instances have station type as state which as no significance \n",
        "df.groupby('Station Type').count()['State']"
      ],
      "execution_count": 12,
      "outputs": [
        {
          "output_type": "execute_result",
          "data": {
            "text/plain": [
              "Station Type\n",
              "State    130958\n",
              "Name: State, dtype: int64"
            ]
          },
          "metadata": {},
          "execution_count": 12
        }
      ]
    },
    {
      "cell_type": "code",
      "metadata": {
        "id": "iQOMxs1mVFdV"
      },
      "source": [
        "df = df.drop('Station Type', 1)"
      ],
      "execution_count": 13,
      "outputs": []
    },
    {
      "cell_type": "code",
      "metadata": {
        "colab": {
          "base_uri": "https://localhost:8080/"
        },
        "id": "qM370gWPoMDC",
        "outputId": "9f89daa6-fa50-467f-a180-ace3d48671dc"
      },
      "source": [
        "df.info()"
      ],
      "execution_count": 14,
      "outputs": [
        {
          "output_type": "stream",
          "name": "stdout",
          "text": [
            "<class 'pandas.core.frame.DataFrame'>\n",
            "RangeIndex: 130958 entries, 0 to 130957\n",
            "Data columns (total 10 columns):\n",
            " #   Column             Non-Null Count   Dtype         \n",
            "---  ------             --------------   -----         \n",
            " 0   State              130958 non-null  object        \n",
            " 1   Agency Name        130958 non-null  object        \n",
            " 2   NSN                130958 non-null  object        \n",
            " 3   Item Name          130958 non-null  object        \n",
            " 4   Quantity           130958 non-null  int64         \n",
            " 5   UI                 130958 non-null  object        \n",
            " 6   Acquisition Value  130958 non-null  float64       \n",
            " 7   DEMIL Code         130958 non-null  object        \n",
            " 8   DEMIL IC           130958 non-null  float64       \n",
            " 9   Ship Date          130958 non-null  datetime64[ns]\n",
            "dtypes: datetime64[ns](1), float64(2), int64(1), object(6)\n",
            "memory usage: 10.0+ MB\n"
          ]
        }
      ]
    },
    {
      "cell_type": "code",
      "metadata": {
        "id": "wraikRa0oMDD"
      },
      "source": [
        "from sklearn.preprocessing import LabelEncoder\n",
        "\n",
        "le =LabelEncoder()\n",
        "\n",
        "df['State'] = le.fit_transform(df['State'])\n",
        "df['Agency Name'] = le.fit_transform(df['Agency Name'])\n",
        "df['NSN'] = le.fit_transform(df['NSN'])\n",
        "df['Item Name'] = le.fit_transform(df['Item Name'])\n",
        "df['UI'] = le.fit_transform(df['UI'])\n",
        "df['DEMIL Code'] = le.fit_transform(df['DEMIL Code'])\n",
        "df['Ship Date'] = le.fit_transform(df['Ship Date'])\n",
        "# df['Station Type'] = le.fit_transform(df['Station Type'])\n",
        "\n",
        "\n",
        "\n"
      ],
      "execution_count": 15,
      "outputs": []
    },
    {
      "cell_type": "code",
      "metadata": {
        "scrolled": true,
        "colab": {
          "base_uri": "https://localhost:8080/",
          "height": 363
        },
        "id": "YzNYF_YtoMDD",
        "outputId": "22dd4a0a-3403-426a-f0c7-d80b3752c1d3"
      },
      "source": [
        "df.corr()"
      ],
      "execution_count": 16,
      "outputs": [
        {
          "output_type": "execute_result",
          "data": {
            "text/html": [
              "<div>\n",
              "<style scoped>\n",
              "    .dataframe tbody tr th:only-of-type {\n",
              "        vertical-align: middle;\n",
              "    }\n",
              "\n",
              "    .dataframe tbody tr th {\n",
              "        vertical-align: top;\n",
              "    }\n",
              "\n",
              "    .dataframe thead th {\n",
              "        text-align: right;\n",
              "    }\n",
              "</style>\n",
              "<table border=\"1\" class=\"dataframe\">\n",
              "  <thead>\n",
              "    <tr style=\"text-align: right;\">\n",
              "      <th></th>\n",
              "      <th>State</th>\n",
              "      <th>Agency Name</th>\n",
              "      <th>NSN</th>\n",
              "      <th>Item Name</th>\n",
              "      <th>Quantity</th>\n",
              "      <th>UI</th>\n",
              "      <th>Acquisition Value</th>\n",
              "      <th>DEMIL Code</th>\n",
              "      <th>DEMIL IC</th>\n",
              "      <th>Ship Date</th>\n",
              "    </tr>\n",
              "  </thead>\n",
              "  <tbody>\n",
              "    <tr>\n",
              "      <th>State</th>\n",
              "      <td>1.000000</td>\n",
              "      <td>0.007716</td>\n",
              "      <td>0.009308</td>\n",
              "      <td>0.008374</td>\n",
              "      <td>-0.010061</td>\n",
              "      <td>-0.014232</td>\n",
              "      <td>0.001140</td>\n",
              "      <td>0.005336</td>\n",
              "      <td>0.009781</td>\n",
              "      <td>0.061788</td>\n",
              "    </tr>\n",
              "    <tr>\n",
              "      <th>Agency Name</th>\n",
              "      <td>0.007716</td>\n",
              "      <td>1.000000</td>\n",
              "      <td>0.021460</td>\n",
              "      <td>-0.012198</td>\n",
              "      <td>0.007939</td>\n",
              "      <td>0.026054</td>\n",
              "      <td>-0.004720</td>\n",
              "      <td>-0.031039</td>\n",
              "      <td>-0.004451</td>\n",
              "      <td>0.015957</td>\n",
              "    </tr>\n",
              "    <tr>\n",
              "      <th>NSN</th>\n",
              "      <td>0.009308</td>\n",
              "      <td>0.021460</td>\n",
              "      <td>1.000000</td>\n",
              "      <td>-0.360693</td>\n",
              "      <td>0.081456</td>\n",
              "      <td>0.197884</td>\n",
              "      <td>0.008735</td>\n",
              "      <td>-0.357071</td>\n",
              "      <td>0.160561</td>\n",
              "      <td>0.632406</td>\n",
              "    </tr>\n",
              "    <tr>\n",
              "      <th>Item Name</th>\n",
              "      <td>0.008374</td>\n",
              "      <td>-0.012198</td>\n",
              "      <td>-0.360693</td>\n",
              "      <td>1.000000</td>\n",
              "      <td>-0.067334</td>\n",
              "      <td>-0.081001</td>\n",
              "      <td>-0.032489</td>\n",
              "      <td>0.182463</td>\n",
              "      <td>-0.028624</td>\n",
              "      <td>-0.257155</td>\n",
              "    </tr>\n",
              "    <tr>\n",
              "      <th>Quantity</th>\n",
              "      <td>-0.010061</td>\n",
              "      <td>0.007939</td>\n",
              "      <td>0.081456</td>\n",
              "      <td>-0.067334</td>\n",
              "      <td>1.000000</td>\n",
              "      <td>0.021148</td>\n",
              "      <td>-0.009467</td>\n",
              "      <td>-0.078962</td>\n",
              "      <td>-0.004195</td>\n",
              "      <td>0.099630</td>\n",
              "    </tr>\n",
              "    <tr>\n",
              "      <th>UI</th>\n",
              "      <td>-0.014232</td>\n",
              "      <td>0.026054</td>\n",
              "      <td>0.197884</td>\n",
              "      <td>-0.081001</td>\n",
              "      <td>0.021148</td>\n",
              "      <td>1.000000</td>\n",
              "      <td>-0.006709</td>\n",
              "      <td>-0.170494</td>\n",
              "      <td>-0.009302</td>\n",
              "      <td>0.152234</td>\n",
              "    </tr>\n",
              "    <tr>\n",
              "      <th>Acquisition Value</th>\n",
              "      <td>0.001140</td>\n",
              "      <td>-0.004720</td>\n",
              "      <td>0.008735</td>\n",
              "      <td>-0.032489</td>\n",
              "      <td>-0.009467</td>\n",
              "      <td>-0.006709</td>\n",
              "      <td>1.000000</td>\n",
              "      <td>-0.015225</td>\n",
              "      <td>0.025192</td>\n",
              "      <td>0.053920</td>\n",
              "    </tr>\n",
              "    <tr>\n",
              "      <th>DEMIL Code</th>\n",
              "      <td>0.005336</td>\n",
              "      <td>-0.031039</td>\n",
              "      <td>-0.357071</td>\n",
              "      <td>0.182463</td>\n",
              "      <td>-0.078962</td>\n",
              "      <td>-0.170494</td>\n",
              "      <td>-0.015225</td>\n",
              "      <td>1.000000</td>\n",
              "      <td>0.287777</td>\n",
              "      <td>-0.392149</td>\n",
              "    </tr>\n",
              "    <tr>\n",
              "      <th>DEMIL IC</th>\n",
              "      <td>0.009781</td>\n",
              "      <td>-0.004451</td>\n",
              "      <td>0.160561</td>\n",
              "      <td>-0.028624</td>\n",
              "      <td>-0.004195</td>\n",
              "      <td>-0.009302</td>\n",
              "      <td>0.025192</td>\n",
              "      <td>0.287777</td>\n",
              "      <td>1.000000</td>\n",
              "      <td>0.166042</td>\n",
              "    </tr>\n",
              "    <tr>\n",
              "      <th>Ship Date</th>\n",
              "      <td>0.061788</td>\n",
              "      <td>0.015957</td>\n",
              "      <td>0.632406</td>\n",
              "      <td>-0.257155</td>\n",
              "      <td>0.099630</td>\n",
              "      <td>0.152234</td>\n",
              "      <td>0.053920</td>\n",
              "      <td>-0.392149</td>\n",
              "      <td>0.166042</td>\n",
              "      <td>1.000000</td>\n",
              "    </tr>\n",
              "  </tbody>\n",
              "</table>\n",
              "</div>"
            ],
            "text/plain": [
              "                      State  Agency Name  ...  DEMIL IC  Ship Date\n",
              "State              1.000000     0.007716  ...  0.009781   0.061788\n",
              "Agency Name        0.007716     1.000000  ... -0.004451   0.015957\n",
              "NSN                0.009308     0.021460  ...  0.160561   0.632406\n",
              "Item Name          0.008374    -0.012198  ... -0.028624  -0.257155\n",
              "Quantity          -0.010061     0.007939  ... -0.004195   0.099630\n",
              "UI                -0.014232     0.026054  ... -0.009302   0.152234\n",
              "Acquisition Value  0.001140    -0.004720  ...  0.025192   0.053920\n",
              "DEMIL Code         0.005336    -0.031039  ...  0.287777  -0.392149\n",
              "DEMIL IC           0.009781    -0.004451  ...  1.000000   0.166042\n",
              "Ship Date          0.061788     0.015957  ...  0.166042   1.000000\n",
              "\n",
              "[10 rows x 10 columns]"
            ]
          },
          "metadata": {},
          "execution_count": 16
        }
      ]
    },
    {
      "cell_type": "code",
      "metadata": {
        "id": "bBnX25qToMDE"
      },
      "source": [
        "from tensorflow.keras.optimizers import Adam\n",
        "import numpy as np\n",
        "from sklearn.model_selection import train_test_split\n",
        "from sklearn.preprocessing import OneHotEncoder\n",
        "from keras.models import Sequential\n",
        "from keras.layers import Dense\n",
        "\n"
      ],
      "execution_count": 17,
      "outputs": []
    },
    {
      "cell_type": "code",
      "metadata": {
        "id": "pFDlPEHjoMDE"
      },
      "source": [
        "from sklearn.preprocessing import normalize\n",
        "import keras.utils\n",
        "from tensorflow.keras.utils import to_categorical\n",
        "\n",
        "# 'State','Ship Date', 'Agency Name', 'NSN', 'Item Name', 'Acquisition Value',\n",
        "#                      'DEMIL Code' , 'DEMIL IC'\n",
        "\n",
        "X = df.drop(labels = ['DEMIL Code'], axis = 1)\n",
        "\n",
        "y = df['DEMIL Code']\n",
        "\n",
        "X = normalize(X)\n",
        "\n",
        "\n",
        "X_train, X_test,y_train, y_test = train_test_split(X, y, test_size = 0.3, random_state = True)\n",
        "\n",
        "\n",
        "\n"
      ],
      "execution_count": 18,
      "outputs": []
    },
    {
      "cell_type": "code",
      "metadata": {
        "id": "n4SEBdRloMDE"
      },
      "source": [
        "from sklearn.metrics import accuracy_score\n",
        "from sklearn.preprocessing import MinMaxScaler\n",
        "from sklearn.metrics import confusion_matrix\n",
        "from sklearn.metrics import classification_report"
      ],
      "execution_count": 19,
      "outputs": []
    },
    {
      "cell_type": "code",
      "metadata": {
        "colab": {
          "base_uri": "https://localhost:8080/"
        },
        "id": "2dqFVSIcTop7",
        "outputId": "c213e715-4ae7-4ddc-9486-780b99b5e689"
      },
      "source": [
        "X_train = np.array(X_train)\n",
        "X_train = np.reshape(X_train, (X_train.shape[0], X_train.shape[1], 1))\n",
        "X_train.shape"
      ],
      "execution_count": 20,
      "outputs": [
        {
          "output_type": "execute_result",
          "data": {
            "text/plain": [
              "(91670, 9, 1)"
            ]
          },
          "metadata": {},
          "execution_count": 20
        }
      ]
    },
    {
      "cell_type": "code",
      "metadata": {
        "id": "oDw27hfqwkBk"
      },
      "source": [
        "\n",
        "y_train = to_categorical(y_train)\n",
        "y_test = to_categorical(y_test)"
      ],
      "execution_count": 21,
      "outputs": []
    },
    {
      "cell_type": "code",
      "metadata": {
        "id": "RkRMNgmsoMDF"
      },
      "source": [
        "model=Sequential()\n",
        "model.add(Dense(4000,input_dim=X_train.shape[1], activation='relu'))\n",
        "model.add(Dense(1000,activation='relu'))\n",
        "model.add(Dense(500,activation='relu'))\n",
        "model.add(Dense(7,activation='softmax'))\n",
        "\n"
      ],
      "execution_count": 22,
      "outputs": []
    },
    {
      "cell_type": "code",
      "metadata": {
        "colab": {
          "base_uri": "https://localhost:8080/"
        },
        "id": "LT6WcaDdoMDF",
        "outputId": "81b37456-441a-49fd-d461-02141c01fb69"
      },
      "source": [
        "optimizer = Adam(learning_rate=0.0001)\n",
        "model.compile(optimizer, loss='binary_crossentropy',metrics=['accuracy'])\n",
        "\n",
        "print('Model summary')\n",
        "print(model.summary())"
      ],
      "execution_count": 23,
      "outputs": [
        {
          "output_type": "stream",
          "name": "stdout",
          "text": [
            "Model summary\n",
            "Model: \"sequential\"\n",
            "_________________________________________________________________\n",
            " Layer (type)                Output Shape              Param #   \n",
            "=================================================================\n",
            " dense (Dense)               (None, 4000)              40000     \n",
            "                                                                 \n",
            " dense_1 (Dense)             (None, 1000)              4001000   \n",
            "                                                                 \n",
            " dense_2 (Dense)             (None, 500)               500500    \n",
            "                                                                 \n",
            " dense_3 (Dense)             (None, 7)                 3507      \n",
            "                                                                 \n",
            "=================================================================\n",
            "Total params: 4,545,007\n",
            "Trainable params: 4,545,007\n",
            "Non-trainable params: 0\n",
            "_________________________________________________________________\n",
            "None\n"
          ]
        }
      ]
    },
    {
      "cell_type": "code",
      "metadata": {
        "colab": {
          "base_uri": "https://localhost:8080/"
        },
        "id": "RovW6hpJxOea",
        "outputId": "867ef998-8360-4c1b-8afb-6595e7ad283c"
      },
      "source": [
        "y"
      ],
      "execution_count": 24,
      "outputs": [
        {
          "output_type": "execute_result",
          "data": {
            "text/plain": [
              "0         3\n",
              "1         3\n",
              "2         2\n",
              "3         3\n",
              "4         3\n",
              "         ..\n",
              "130953    3\n",
              "130954    3\n",
              "130955    3\n",
              "130956    3\n",
              "130957    3\n",
              "Name: DEMIL Code, Length: 130958, dtype: int64"
            ]
          },
          "metadata": {},
          "execution_count": 24
        }
      ]
    },
    {
      "cell_type": "code",
      "metadata": {
        "colab": {
          "base_uri": "https://localhost:8080/"
        },
        "id": "z3dY-cTIoMDF",
        "outputId": "66793f58-177b-4611-f5df-d4c615d78435"
      },
      "source": [
        "model.fit(X_train, y_train, verbose=2, batch_size=64,epochs=100)"
      ],
      "execution_count": 25,
      "outputs": [
        {
          "output_type": "stream",
          "name": "stdout",
          "text": [
            "Epoch 1/100\n",
            "1433/1433 - 10s - loss: 0.1147 - accuracy: 0.8363 - 10s/epoch - 7ms/step\n",
            "Epoch 2/100\n",
            "1433/1433 - 7s - loss: 0.0887 - accuracy: 0.8687 - 7s/epoch - 5ms/step\n",
            "Epoch 3/100\n",
            "1433/1433 - 7s - loss: 0.0839 - accuracy: 0.8764 - 7s/epoch - 5ms/step\n",
            "Epoch 4/100\n",
            "1433/1433 - 7s - loss: 0.0806 - accuracy: 0.8811 - 7s/epoch - 5ms/step\n",
            "Epoch 5/100\n",
            "1433/1433 - 7s - loss: 0.0779 - accuracy: 0.8846 - 7s/epoch - 5ms/step\n",
            "Epoch 6/100\n",
            "1433/1433 - 7s - loss: 0.0754 - accuracy: 0.8892 - 7s/epoch - 5ms/step\n",
            "Epoch 7/100\n",
            "1433/1433 - 7s - loss: 0.0732 - accuracy: 0.8937 - 7s/epoch - 5ms/step\n",
            "Epoch 8/100\n",
            "1433/1433 - 7s - loss: 0.0715 - accuracy: 0.8966 - 7s/epoch - 5ms/step\n",
            "Epoch 9/100\n",
            "1433/1433 - 7s - loss: 0.0696 - accuracy: 0.8998 - 7s/epoch - 5ms/step\n",
            "Epoch 10/100\n",
            "1433/1433 - 7s - loss: 0.0683 - accuracy: 0.9027 - 7s/epoch - 5ms/step\n",
            "Epoch 11/100\n",
            "1433/1433 - 7s - loss: 0.0671 - accuracy: 0.9044 - 7s/epoch - 5ms/step\n",
            "Epoch 12/100\n",
            "1433/1433 - 7s - loss: 0.0661 - accuracy: 0.9060 - 7s/epoch - 5ms/step\n",
            "Epoch 13/100\n",
            "1433/1433 - 7s - loss: 0.0650 - accuracy: 0.9076 - 7s/epoch - 5ms/step\n",
            "Epoch 14/100\n",
            "1433/1433 - 7s - loss: 0.0641 - accuracy: 0.9090 - 7s/epoch - 5ms/step\n",
            "Epoch 15/100\n",
            "1433/1433 - 7s - loss: 0.0631 - accuracy: 0.9106 - 7s/epoch - 5ms/step\n",
            "Epoch 16/100\n",
            "1433/1433 - 7s - loss: 0.0625 - accuracy: 0.9113 - 7s/epoch - 5ms/step\n",
            "Epoch 17/100\n",
            "1433/1433 - 7s - loss: 0.0616 - accuracy: 0.9133 - 7s/epoch - 5ms/step\n",
            "Epoch 18/100\n",
            "1433/1433 - 7s - loss: 0.0609 - accuracy: 0.9140 - 7s/epoch - 5ms/step\n",
            "Epoch 19/100\n",
            "1433/1433 - 7s - loss: 0.0601 - accuracy: 0.9152 - 7s/epoch - 5ms/step\n",
            "Epoch 20/100\n",
            "1433/1433 - 7s - loss: 0.0596 - accuracy: 0.9162 - 7s/epoch - 5ms/step\n",
            "Epoch 21/100\n",
            "1433/1433 - 7s - loss: 0.0588 - accuracy: 0.9181 - 7s/epoch - 5ms/step\n",
            "Epoch 22/100\n",
            "1433/1433 - 7s - loss: 0.0582 - accuracy: 0.9183 - 7s/epoch - 5ms/step\n",
            "Epoch 23/100\n",
            "1433/1433 - 7s - loss: 0.0575 - accuracy: 0.9194 - 7s/epoch - 5ms/step\n",
            "Epoch 24/100\n",
            "1433/1433 - 7s - loss: 0.0568 - accuracy: 0.9203 - 7s/epoch - 5ms/step\n",
            "Epoch 25/100\n",
            "1433/1433 - 7s - loss: 0.0562 - accuracy: 0.9218 - 7s/epoch - 5ms/step\n",
            "Epoch 26/100\n",
            "1433/1433 - 7s - loss: 0.0558 - accuracy: 0.9228 - 7s/epoch - 5ms/step\n",
            "Epoch 27/100\n",
            "1433/1433 - 7s - loss: 0.0551 - accuracy: 0.9232 - 7s/epoch - 5ms/step\n",
            "Epoch 28/100\n",
            "1433/1433 - 7s - loss: 0.0543 - accuracy: 0.9248 - 7s/epoch - 5ms/step\n",
            "Epoch 29/100\n",
            "1433/1433 - 7s - loss: 0.0536 - accuracy: 0.9262 - 7s/epoch - 5ms/step\n",
            "Epoch 30/100\n",
            "1433/1433 - 7s - loss: 0.0532 - accuracy: 0.9267 - 7s/epoch - 5ms/step\n",
            "Epoch 31/100\n",
            "1433/1433 - 7s - loss: 0.0524 - accuracy: 0.9291 - 7s/epoch - 5ms/step\n",
            "Epoch 32/100\n",
            "1433/1433 - 7s - loss: 0.0516 - accuracy: 0.9292 - 7s/epoch - 5ms/step\n",
            "Epoch 33/100\n",
            "1433/1433 - 7s - loss: 0.0511 - accuracy: 0.9302 - 7s/epoch - 5ms/step\n",
            "Epoch 34/100\n",
            "1433/1433 - 7s - loss: 0.0505 - accuracy: 0.9309 - 7s/epoch - 5ms/step\n",
            "Epoch 35/100\n",
            "1433/1433 - 7s - loss: 0.0496 - accuracy: 0.9327 - 7s/epoch - 5ms/step\n",
            "Epoch 36/100\n",
            "1433/1433 - 7s - loss: 0.0492 - accuracy: 0.9324 - 7s/epoch - 5ms/step\n",
            "Epoch 37/100\n",
            "1433/1433 - 7s - loss: 0.0486 - accuracy: 0.9344 - 7s/epoch - 5ms/step\n",
            "Epoch 38/100\n",
            "1433/1433 - 7s - loss: 0.0481 - accuracy: 0.9347 - 7s/epoch - 5ms/step\n",
            "Epoch 39/100\n",
            "1433/1433 - 7s - loss: 0.0475 - accuracy: 0.9358 - 7s/epoch - 5ms/step\n",
            "Epoch 40/100\n",
            "1433/1433 - 7s - loss: 0.0473 - accuracy: 0.9356 - 7s/epoch - 5ms/step\n",
            "Epoch 41/100\n",
            "1433/1433 - 7s - loss: 0.0466 - accuracy: 0.9372 - 7s/epoch - 5ms/step\n",
            "Epoch 42/100\n",
            "1433/1433 - 7s - loss: 0.0464 - accuracy: 0.9374 - 7s/epoch - 5ms/step\n",
            "Epoch 43/100\n",
            "1433/1433 - 7s - loss: 0.0459 - accuracy: 0.9383 - 7s/epoch - 5ms/step\n",
            "Epoch 44/100\n",
            "1433/1433 - 7s - loss: 0.0453 - accuracy: 0.9384 - 7s/epoch - 5ms/step\n",
            "Epoch 45/100\n",
            "1433/1433 - 7s - loss: 0.0451 - accuracy: 0.9392 - 7s/epoch - 5ms/step\n",
            "Epoch 46/100\n",
            "1433/1433 - 7s - loss: 0.0447 - accuracy: 0.9403 - 7s/epoch - 5ms/step\n",
            "Epoch 47/100\n",
            "1433/1433 - 7s - loss: 0.0444 - accuracy: 0.9402 - 7s/epoch - 5ms/step\n",
            "Epoch 48/100\n",
            "1433/1433 - 7s - loss: 0.0441 - accuracy: 0.9414 - 7s/epoch - 5ms/step\n",
            "Epoch 49/100\n",
            "1433/1433 - 7s - loss: 0.0436 - accuracy: 0.9416 - 7s/epoch - 5ms/step\n",
            "Epoch 50/100\n",
            "1433/1433 - 7s - loss: 0.0435 - accuracy: 0.9417 - 7s/epoch - 5ms/step\n",
            "Epoch 51/100\n",
            "1433/1433 - 7s - loss: 0.0431 - accuracy: 0.9423 - 7s/epoch - 5ms/step\n",
            "Epoch 52/100\n",
            "1433/1433 - 7s - loss: 0.0426 - accuracy: 0.9437 - 7s/epoch - 5ms/step\n",
            "Epoch 53/100\n",
            "1433/1433 - 7s - loss: 0.0423 - accuracy: 0.9439 - 7s/epoch - 5ms/step\n",
            "Epoch 54/100\n",
            "1433/1433 - 7s - loss: 0.0420 - accuracy: 0.9437 - 7s/epoch - 5ms/step\n",
            "Epoch 55/100\n",
            "1433/1433 - 7s - loss: 0.0419 - accuracy: 0.9441 - 7s/epoch - 5ms/step\n",
            "Epoch 56/100\n",
            "1433/1433 - 7s - loss: 0.0416 - accuracy: 0.9452 - 7s/epoch - 5ms/step\n",
            "Epoch 57/100\n",
            "1433/1433 - 7s - loss: 0.0410 - accuracy: 0.9452 - 7s/epoch - 5ms/step\n",
            "Epoch 58/100\n",
            "1433/1433 - 7s - loss: 0.0409 - accuracy: 0.9464 - 7s/epoch - 5ms/step\n",
            "Epoch 59/100\n",
            "1433/1433 - 7s - loss: 0.0407 - accuracy: 0.9462 - 7s/epoch - 5ms/step\n",
            "Epoch 60/100\n",
            "1433/1433 - 7s - loss: 0.0401 - accuracy: 0.9470 - 7s/epoch - 5ms/step\n",
            "Epoch 61/100\n",
            "1433/1433 - 7s - loss: 0.0399 - accuracy: 0.9470 - 7s/epoch - 5ms/step\n",
            "Epoch 62/100\n",
            "1433/1433 - 7s - loss: 0.0396 - accuracy: 0.9477 - 7s/epoch - 5ms/step\n",
            "Epoch 63/100\n",
            "1433/1433 - 7s - loss: 0.0395 - accuracy: 0.9476 - 7s/epoch - 5ms/step\n",
            "Epoch 64/100\n",
            "1433/1433 - 7s - loss: 0.0391 - accuracy: 0.9489 - 7s/epoch - 5ms/step\n",
            "Epoch 65/100\n",
            "1433/1433 - 7s - loss: 0.0387 - accuracy: 0.9488 - 7s/epoch - 5ms/step\n",
            "Epoch 66/100\n",
            "1433/1433 - 7s - loss: 0.0384 - accuracy: 0.9497 - 7s/epoch - 5ms/step\n",
            "Epoch 67/100\n",
            "1433/1433 - 7s - loss: 0.0380 - accuracy: 0.9505 - 7s/epoch - 5ms/step\n",
            "Epoch 68/100\n",
            "1433/1433 - 7s - loss: 0.0378 - accuracy: 0.9506 - 7s/epoch - 5ms/step\n",
            "Epoch 69/100\n",
            "1433/1433 - 7s - loss: 0.0371 - accuracy: 0.9516 - 7s/epoch - 5ms/step\n",
            "Epoch 70/100\n",
            "1433/1433 - 7s - loss: 0.0370 - accuracy: 0.9517 - 7s/epoch - 5ms/step\n",
            "Epoch 71/100\n",
            "1433/1433 - 7s - loss: 0.0369 - accuracy: 0.9520 - 7s/epoch - 5ms/step\n",
            "Epoch 72/100\n",
            "1433/1433 - 7s - loss: 0.0366 - accuracy: 0.9528 - 7s/epoch - 5ms/step\n",
            "Epoch 73/100\n",
            "1433/1433 - 7s - loss: 0.0362 - accuracy: 0.9534 - 7s/epoch - 5ms/step\n",
            "Epoch 74/100\n",
            "1433/1433 - 7s - loss: 0.0353 - accuracy: 0.9544 - 7s/epoch - 5ms/step\n",
            "Epoch 75/100\n",
            "1433/1433 - 7s - loss: 0.0353 - accuracy: 0.9546 - 7s/epoch - 5ms/step\n",
            "Epoch 76/100\n",
            "1433/1433 - 7s - loss: 0.0349 - accuracy: 0.9545 - 7s/epoch - 5ms/step\n",
            "Epoch 77/100\n",
            "1433/1433 - 7s - loss: 0.0344 - accuracy: 0.9562 - 7s/epoch - 5ms/step\n",
            "Epoch 78/100\n",
            "1433/1433 - 7s - loss: 0.0343 - accuracy: 0.9562 - 7s/epoch - 5ms/step\n",
            "Epoch 79/100\n",
            "1433/1433 - 7s - loss: 0.0335 - accuracy: 0.9570 - 7s/epoch - 5ms/step\n",
            "Epoch 80/100\n",
            "1433/1433 - 7s - loss: 0.0334 - accuracy: 0.9572 - 7s/epoch - 5ms/step\n",
            "Epoch 81/100\n",
            "1433/1433 - 7s - loss: 0.0327 - accuracy: 0.9587 - 7s/epoch - 5ms/step\n",
            "Epoch 82/100\n",
            "1433/1433 - 7s - loss: 0.0325 - accuracy: 0.9589 - 7s/epoch - 5ms/step\n",
            "Epoch 83/100\n",
            "1433/1433 - 7s - loss: 0.0321 - accuracy: 0.9599 - 7s/epoch - 5ms/step\n",
            "Epoch 84/100\n",
            "1433/1433 - 7s - loss: 0.0316 - accuracy: 0.9606 - 7s/epoch - 5ms/step\n",
            "Epoch 85/100\n",
            "1433/1433 - 7s - loss: 0.0315 - accuracy: 0.9602 - 7s/epoch - 5ms/step\n",
            "Epoch 86/100\n",
            "1433/1433 - 7s - loss: 0.0312 - accuracy: 0.9614 - 7s/epoch - 5ms/step\n",
            "Epoch 87/100\n",
            "1433/1433 - 7s - loss: 0.0305 - accuracy: 0.9622 - 7s/epoch - 5ms/step\n",
            "Epoch 88/100\n",
            "1433/1433 - 7s - loss: 0.0302 - accuracy: 0.9627 - 7s/epoch - 5ms/step\n",
            "Epoch 89/100\n",
            "1433/1433 - 7s - loss: 0.0299 - accuracy: 0.9630 - 7s/epoch - 5ms/step\n",
            "Epoch 90/100\n",
            "1433/1433 - 7s - loss: 0.0296 - accuracy: 0.9632 - 7s/epoch - 5ms/step\n",
            "Epoch 91/100\n",
            "1433/1433 - 7s - loss: 0.0293 - accuracy: 0.9642 - 7s/epoch - 5ms/step\n",
            "Epoch 92/100\n",
            "1433/1433 - 7s - loss: 0.0289 - accuracy: 0.9652 - 7s/epoch - 5ms/step\n",
            "Epoch 93/100\n",
            "1433/1433 - 7s - loss: 0.0287 - accuracy: 0.9647 - 7s/epoch - 5ms/step\n",
            "Epoch 94/100\n",
            "1433/1433 - 7s - loss: 0.0282 - accuracy: 0.9656 - 7s/epoch - 5ms/step\n",
            "Epoch 95/100\n",
            "1433/1433 - 7s - loss: 0.0282 - accuracy: 0.9652 - 7s/epoch - 5ms/step\n",
            "Epoch 96/100\n",
            "1433/1433 - 7s - loss: 0.0279 - accuracy: 0.9655 - 7s/epoch - 5ms/step\n",
            "Epoch 97/100\n",
            "1433/1433 - 7s - loss: 0.0274 - accuracy: 0.9668 - 7s/epoch - 5ms/step\n",
            "Epoch 98/100\n",
            "1433/1433 - 7s - loss: 0.0273 - accuracy: 0.9669 - 7s/epoch - 5ms/step\n",
            "Epoch 99/100\n",
            "1433/1433 - 7s - loss: 0.0270 - accuracy: 0.9674 - 7s/epoch - 5ms/step\n",
            "Epoch 100/100\n",
            "1433/1433 - 7s - loss: 0.0268 - accuracy: 0.9675 - 7s/epoch - 5ms/step\n"
          ]
        },
        {
          "output_type": "execute_result",
          "data": {
            "text/plain": [
              "<keras.callbacks.History at 0x7ff8e00fca50>"
            ]
          },
          "metadata": {},
          "execution_count": 25
        }
      ]
    },
    {
      "cell_type": "code",
      "metadata": {
        "id": "9jwHpi4ToMDF"
      },
      "source": [
        ""
      ],
      "execution_count": 25,
      "outputs": []
    },
    {
      "cell_type": "code",
      "metadata": {
        "id": "F3YhmDHFoMDF"
      },
      "source": [
        ""
      ],
      "execution_count": 25,
      "outputs": []
    },
    {
      "cell_type": "code",
      "metadata": {
        "id": "4J5cVLpYoMDG"
      },
      "source": [
        ""
      ],
      "execution_count": 25,
      "outputs": []
    },
    {
      "cell_type": "code",
      "metadata": {
        "id": "0BfI4GMUoMDG"
      },
      "source": [
        "\n",
        "\n",
        "\n"
      ],
      "execution_count": 25,
      "outputs": []
    },
    {
      "cell_type": "code",
      "metadata": {
        "id": "352MM5zmoMDH"
      },
      "source": [
        "# X_train = np.array(X_train)\n",
        "# X_train = np.reshape(X_train, (X_train.shape[0], X_train.shape[1], 1))\n",
        "# X_train.shape"
      ],
      "execution_count": 26,
      "outputs": []
    },
    {
      "cell_type": "code",
      "metadata": {
        "id": "L3SC0_ptaNJH"
      },
      "source": [
        "# from tensorflow.keras.utils import to_categorical\n",
        "# #one-hot encode target column\n",
        "# y_train = to_categorical(y_train)\n",
        "# y_test = to_categorical(y_test)"
      ],
      "execution_count": 27,
      "outputs": []
    },
    {
      "cell_type": "code",
      "metadata": {
        "id": "tP-n398-xISw",
        "colab": {
          "base_uri": "https://localhost:8080/"
        },
        "outputId": "91784760-665e-4fa7-cc25-801cd06145fd"
      },
      "source": [
        "y_test.shape"
      ],
      "execution_count": 28,
      "outputs": [
        {
          "output_type": "execute_result",
          "data": {
            "text/plain": [
              "(39288, 7)"
            ]
          },
          "metadata": {},
          "execution_count": 28
        }
      ]
    },
    {
      "cell_type": "code",
      "metadata": {
        "id": "L6oix9vhYnPz",
        "colab": {
          "base_uri": "https://localhost:8080/"
        },
        "outputId": "096f7dfe-5ccd-4889-ddaf-a2fd92c60060"
      },
      "source": [
        "# Model 1 - ANN \n",
        "results = model.evaluate(X_test, y_test)\n",
        "print('Final test set loss', format(results[0]))\n",
        "print('Final test set accuracy', format(results[1]))"
      ],
      "execution_count": 29,
      "outputs": [
        {
          "output_type": "stream",
          "name": "stdout",
          "text": [
            "1228/1228 [==============================] - 4s 3ms/step - loss: 0.0290 - accuracy: 0.9654\n",
            "Final test set loss 0.02896084263920784\n",
            "Final test set accuracy 0.9654092788696289\n"
          ]
        }
      ]
    },
    {
      "cell_type": "code",
      "metadata": {
        "id": "SiabeUkKzaBy",
        "colab": {
          "base_uri": "https://localhost:8080/"
        },
        "outputId": "a36c3a0e-8ba7-40b0-9995-ce66862b4936"
      },
      "source": [
        "predict = model.predict(X_test, batch_size=128)\n",
        "predict"
      ],
      "execution_count": 30,
      "outputs": [
        {
          "output_type": "execute_result",
          "data": {
            "text/plain": [
              "array([[9.9999750e-01, 5.1500638e-07, 2.3504073e-08, ..., 6.0033038e-08,\n",
              "        1.1264157e-08, 1.2027664e-09],\n",
              "       [0.0000000e+00, 6.4414441e-19, 6.4049343e-27, ..., 0.0000000e+00,\n",
              "        0.0000000e+00, 4.1003516e-28],\n",
              "       [0.0000000e+00, 1.1400008e-19, 2.5604591e-28, ..., 0.0000000e+00,\n",
              "        0.0000000e+00, 6.6161116e-29],\n",
              "       ...,\n",
              "       [0.0000000e+00, 2.9071670e-18, 8.2624348e-26, ..., 0.0000000e+00,\n",
              "        0.0000000e+00, 7.0273632e-27],\n",
              "       [9.9667346e-01, 4.4259094e-05, 1.9902305e-04, ..., 7.7981310e-16,\n",
              "        6.5074059e-06, 1.7740844e-07],\n",
              "       [1.5195879e-05, 1.7921018e-04, 7.3653064e-05, ..., 3.4467793e-09,\n",
              "        7.3670805e-04, 2.9627505e-05]], dtype=float32)"
            ]
          },
          "metadata": {},
          "execution_count": 30
        }
      ]
    },
    {
      "cell_type": "code",
      "metadata": {
        "id": "ckP1bkyWYuJM"
      },
      "source": [
        "y_pred = np.argmax(predict, axis = 1)"
      ],
      "execution_count": 31,
      "outputs": []
    },
    {
      "cell_type": "code",
      "metadata": {
        "id": "NMRx1OO6Ym-h"
      },
      "source": [
        "# y_test_cat = to_categorical(y_test) # converting to categorial\n",
        "y_val =np.argmax(y_test, axis = 1)"
      ],
      "execution_count": 32,
      "outputs": []
    },
    {
      "cell_type": "code",
      "metadata": {
        "id": "UsrLuWhuYmm-",
        "colab": {
          "base_uri": "https://localhost:8080/"
        },
        "outputId": "803cd20d-b024-4fd9-d519-661311c3e6db"
      },
      "source": [
        "print(classification_report(y_val,y_pred))"
      ],
      "execution_count": 33,
      "outputs": [
        {
          "output_type": "stream",
          "name": "stdout",
          "text": [
            "              precision    recall  f1-score   support\n",
            "\n",
            "           0       0.95      0.95      0.95      5424\n",
            "           1       0.25      0.02      0.04        52\n",
            "           2       0.89      0.86      0.87      2104\n",
            "           3       0.98      0.99      0.98     28099\n",
            "           4       0.79      0.56      0.66        34\n",
            "           5       0.94      0.90      0.92      1905\n",
            "           6       0.92      0.89      0.91      1670\n",
            "\n",
            "    accuracy                           0.97     39288\n",
            "   macro avg       0.82      0.74      0.76     39288\n",
            "weighted avg       0.96      0.97      0.96     39288\n",
            "\n"
          ]
        }
      ]
    },
    {
      "cell_type": "code",
      "metadata": {
        "id": "jJiUkQYIYybd",
        "colab": {
          "base_uri": "https://localhost:8080/"
        },
        "outputId": "92274b97-4d36-430c-afbd-7d6feea21955"
      },
      "source": [
        "confusion_matrix(y_val,y_pred)"
      ],
      "execution_count": 34,
      "outputs": [
        {
          "output_type": "execute_result",
          "data": {
            "text/plain": [
              "array([[ 5151,     0,    20,   209,     0,     7,    37],\n",
              "       [    9,     1,     2,    31,     0,     0,     9],\n",
              "       [   44,     0,  1808,   160,     0,    32,    60],\n",
              "       [  161,     2,   114, 27737,     5,    55,    25],\n",
              "       [    4,     0,     0,    10,    19,     0,     1],\n",
              "       [    8,     0,    20,   154,     0,  1723,     0],\n",
              "       [   28,     1,    65,    74,     0,    12,  1490]])"
            ]
          },
          "metadata": {},
          "execution_count": 34
        }
      ]
    },
    {
      "cell_type": "code",
      "metadata": {
        "id": "j0Q70haPViFk"
      },
      "source": [
        ""
      ],
      "execution_count": 34,
      "outputs": []
    },
    {
      "cell_type": "code",
      "metadata": {
        "id": "8touJg6YViuB"
      },
      "source": [
        "# Balanced Dataset"
      ],
      "execution_count": 34,
      "outputs": []
    },
    {
      "cell_type": "code",
      "metadata": {
        "id": "3B1rc0BfYza3",
        "colab": {
          "base_uri": "https://localhost:8080/",
          "height": 424
        },
        "outputId": "a6a15925-f69f-4cc3-a945-e55f55d8d56f"
      },
      "source": [
        "df = pd.concat(data[frame] for frame in data.keys()) \n",
        "df = df.reset_index()\n",
        "df = df.drop(labels = 'index', axis = 1)\n",
        "df"
      ],
      "execution_count": 35,
      "outputs": [
        {
          "output_type": "execute_result",
          "data": {
            "text/html": [
              "<div>\n",
              "<style scoped>\n",
              "    .dataframe tbody tr th:only-of-type {\n",
              "        vertical-align: middle;\n",
              "    }\n",
              "\n",
              "    .dataframe tbody tr th {\n",
              "        vertical-align: top;\n",
              "    }\n",
              "\n",
              "    .dataframe thead th {\n",
              "        text-align: right;\n",
              "    }\n",
              "</style>\n",
              "<table border=\"1\" class=\"dataframe\">\n",
              "  <thead>\n",
              "    <tr style=\"text-align: right;\">\n",
              "      <th></th>\n",
              "      <th>State</th>\n",
              "      <th>Agency Name</th>\n",
              "      <th>NSN</th>\n",
              "      <th>Item Name</th>\n",
              "      <th>Quantity</th>\n",
              "      <th>UI</th>\n",
              "      <th>Acquisition Value</th>\n",
              "      <th>DEMIL Code</th>\n",
              "      <th>DEMIL IC</th>\n",
              "      <th>Ship Date</th>\n",
              "      <th>Station Type</th>\n",
              "    </tr>\n",
              "  </thead>\n",
              "  <tbody>\n",
              "    <tr>\n",
              "      <th>0</th>\n",
              "      <td>AL</td>\n",
              "      <td>ABBEVILLE POLICE DEPT</td>\n",
              "      <td>2540-01-565-4700</td>\n",
              "      <td>BALLISTIC BLANKET KIT</td>\n",
              "      <td>10</td>\n",
              "      <td>Kit</td>\n",
              "      <td>15871.59</td>\n",
              "      <td>D</td>\n",
              "      <td>1.0</td>\n",
              "      <td>2018-01-30</td>\n",
              "      <td>State</td>\n",
              "    </tr>\n",
              "    <tr>\n",
              "      <th>1</th>\n",
              "      <td>AL</td>\n",
              "      <td>ABBEVILLE POLICE DEPT</td>\n",
              "      <td>1240-DS-OPT-SIGH</td>\n",
              "      <td>OPTICAL SIGHTING AND RANGING EQUIPMENT</td>\n",
              "      <td>1</td>\n",
              "      <td>Each</td>\n",
              "      <td>245.88</td>\n",
              "      <td>D</td>\n",
              "      <td>NaN</td>\n",
              "      <td>2016-06-02</td>\n",
              "      <td>State</td>\n",
              "    </tr>\n",
              "    <tr>\n",
              "      <th>2</th>\n",
              "      <td>AL</td>\n",
              "      <td>ABBEVILLE POLICE DEPT</td>\n",
              "      <td>2355-01-553-4634</td>\n",
              "      <td>MINE RESISTANT VEHICLE</td>\n",
              "      <td>1</td>\n",
              "      <td>Each</td>\n",
              "      <td>658000.00</td>\n",
              "      <td>C</td>\n",
              "      <td>1.0</td>\n",
              "      <td>2016-11-09</td>\n",
              "      <td>State</td>\n",
              "    </tr>\n",
              "    <tr>\n",
              "      <th>3</th>\n",
              "      <td>AL</td>\n",
              "      <td>ABBEVILLE POLICE DEPT</td>\n",
              "      <td>1240-01-411-1265</td>\n",
              "      <td>SIGHT,REFLEX</td>\n",
              "      <td>9</td>\n",
              "      <td>Each</td>\n",
              "      <td>333.00</td>\n",
              "      <td>D</td>\n",
              "      <td>1.0</td>\n",
              "      <td>2016-09-14</td>\n",
              "      <td>State</td>\n",
              "    </tr>\n",
              "    <tr>\n",
              "      <th>4</th>\n",
              "      <td>AL</td>\n",
              "      <td>ABBEVILLE POLICE DEPT</td>\n",
              "      <td>5855-01-577-7174</td>\n",
              "      <td>ILLUMINATOR,INFRARED</td>\n",
              "      <td>10</td>\n",
              "      <td>Each</td>\n",
              "      <td>926.00</td>\n",
              "      <td>D</td>\n",
              "      <td>1.0</td>\n",
              "      <td>2017-03-28</td>\n",
              "      <td>State</td>\n",
              "    </tr>\n",
              "    <tr>\n",
              "      <th>...</th>\n",
              "      <td>...</td>\n",
              "      <td>...</td>\n",
              "      <td>...</td>\n",
              "      <td>...</td>\n",
              "      <td>...</td>\n",
              "      <td>...</td>\n",
              "      <td>...</td>\n",
              "      <td>...</td>\n",
              "      <td>...</td>\n",
              "      <td>...</td>\n",
              "      <td>...</td>\n",
              "    </tr>\n",
              "    <tr>\n",
              "      <th>130953</th>\n",
              "      <td>WY</td>\n",
              "      <td>WESTON COUNTY SHERIFF'S OFFICE</td>\n",
              "      <td>1005-00-589-1271</td>\n",
              "      <td>RIFLE,7.62 MILLIMETER</td>\n",
              "      <td>1</td>\n",
              "      <td>Each</td>\n",
              "      <td>138.00</td>\n",
              "      <td>D</td>\n",
              "      <td>1.0</td>\n",
              "      <td>1993-09-01</td>\n",
              "      <td>State</td>\n",
              "    </tr>\n",
              "    <tr>\n",
              "      <th>130954</th>\n",
              "      <td>WY</td>\n",
              "      <td>WESTON COUNTY SHERIFF'S OFFICE</td>\n",
              "      <td>1005-00-589-1271</td>\n",
              "      <td>RIFLE,7.62 MILLIMETER</td>\n",
              "      <td>1</td>\n",
              "      <td>Each</td>\n",
              "      <td>138.00</td>\n",
              "      <td>D</td>\n",
              "      <td>1.0</td>\n",
              "      <td>1993-09-01</td>\n",
              "      <td>State</td>\n",
              "    </tr>\n",
              "    <tr>\n",
              "      <th>130955</th>\n",
              "      <td>WY</td>\n",
              "      <td>WESTON COUNTY SHERIFF'S OFFICE</td>\n",
              "      <td>1005-00-589-1271</td>\n",
              "      <td>RIFLE,7.62 MILLIMETER</td>\n",
              "      <td>1</td>\n",
              "      <td>Each</td>\n",
              "      <td>138.00</td>\n",
              "      <td>D</td>\n",
              "      <td>1.0</td>\n",
              "      <td>1993-09-01</td>\n",
              "      <td>State</td>\n",
              "    </tr>\n",
              "    <tr>\n",
              "      <th>130956</th>\n",
              "      <td>WY</td>\n",
              "      <td>WESTON COUNTY SHERIFF'S OFFICE</td>\n",
              "      <td>1005-00-589-1271</td>\n",
              "      <td>RIFLE,7.62 MILLIMETER</td>\n",
              "      <td>1</td>\n",
              "      <td>Each</td>\n",
              "      <td>138.00</td>\n",
              "      <td>D</td>\n",
              "      <td>1.0</td>\n",
              "      <td>1993-09-01</td>\n",
              "      <td>State</td>\n",
              "    </tr>\n",
              "    <tr>\n",
              "      <th>130957</th>\n",
              "      <td>WY</td>\n",
              "      <td>WESTON COUNTY SHERIFF'S OFFICE</td>\n",
              "      <td>1005-00-589-1271</td>\n",
              "      <td>RIFLE,7.62 MILLIMETER</td>\n",
              "      <td>1</td>\n",
              "      <td>Each</td>\n",
              "      <td>138.00</td>\n",
              "      <td>D</td>\n",
              "      <td>1.0</td>\n",
              "      <td>1993-09-01</td>\n",
              "      <td>State</td>\n",
              "    </tr>\n",
              "  </tbody>\n",
              "</table>\n",
              "<p>130958 rows × 11 columns</p>\n",
              "</div>"
            ],
            "text/plain": [
              "       State                     Agency Name  ...  Ship Date Station Type\n",
              "0         AL           ABBEVILLE POLICE DEPT  ... 2018-01-30        State\n",
              "1         AL           ABBEVILLE POLICE DEPT  ... 2016-06-02        State\n",
              "2         AL           ABBEVILLE POLICE DEPT  ... 2016-11-09        State\n",
              "3         AL           ABBEVILLE POLICE DEPT  ... 2016-09-14        State\n",
              "4         AL           ABBEVILLE POLICE DEPT  ... 2017-03-28        State\n",
              "...      ...                             ...  ...        ...          ...\n",
              "130953    WY  WESTON COUNTY SHERIFF'S OFFICE  ... 1993-09-01        State\n",
              "130954    WY  WESTON COUNTY SHERIFF'S OFFICE  ... 1993-09-01        State\n",
              "130955    WY  WESTON COUNTY SHERIFF'S OFFICE  ... 1993-09-01        State\n",
              "130956    WY  WESTON COUNTY SHERIFF'S OFFICE  ... 1993-09-01        State\n",
              "130957    WY  WESTON COUNTY SHERIFF'S OFFICE  ... 1993-09-01        State\n",
              "\n",
              "[130958 rows x 11 columns]"
            ]
          },
          "metadata": {},
          "execution_count": 35
        }
      ]
    },
    {
      "cell_type": "code",
      "metadata": {
        "id": "oczDSVovXfhR"
      },
      "source": [
        "df = df.fillna(1)"
      ],
      "execution_count": 36,
      "outputs": []
    },
    {
      "cell_type": "code",
      "metadata": {
        "colab": {
          "base_uri": "https://localhost:8080/"
        },
        "id": "3iw7n20HVOqd",
        "outputId": "90671dc5-7e91-4747-8c93-e8cfcd8b0407"
      },
      "source": [
        "# We will drop state since all the instances have station type as state which as no significance \n",
        "df.groupby('Station Type').count()['State']"
      ],
      "execution_count": 37,
      "outputs": [
        {
          "output_type": "execute_result",
          "data": {
            "text/plain": [
              "Station Type\n",
              "State    130958\n",
              "Name: State, dtype: int64"
            ]
          },
          "metadata": {},
          "execution_count": 37
        }
      ]
    },
    {
      "cell_type": "code",
      "metadata": {
        "id": "OyXKhlDjVSqU"
      },
      "source": [
        "df = df.drop('Station Type', 1)"
      ],
      "execution_count": 38,
      "outputs": []
    },
    {
      "cell_type": "code",
      "metadata": {
        "colab": {
          "base_uri": "https://localhost:8080/",
          "height": 424
        },
        "id": "ulqM5FsaXiGE",
        "outputId": "3d6df2b9-2c52-42b9-b520-9c918b014ea1"
      },
      "source": [
        "df"
      ],
      "execution_count": 39,
      "outputs": [
        {
          "output_type": "execute_result",
          "data": {
            "text/html": [
              "<div>\n",
              "<style scoped>\n",
              "    .dataframe tbody tr th:only-of-type {\n",
              "        vertical-align: middle;\n",
              "    }\n",
              "\n",
              "    .dataframe tbody tr th {\n",
              "        vertical-align: top;\n",
              "    }\n",
              "\n",
              "    .dataframe thead th {\n",
              "        text-align: right;\n",
              "    }\n",
              "</style>\n",
              "<table border=\"1\" class=\"dataframe\">\n",
              "  <thead>\n",
              "    <tr style=\"text-align: right;\">\n",
              "      <th></th>\n",
              "      <th>State</th>\n",
              "      <th>Agency Name</th>\n",
              "      <th>NSN</th>\n",
              "      <th>Item Name</th>\n",
              "      <th>Quantity</th>\n",
              "      <th>UI</th>\n",
              "      <th>Acquisition Value</th>\n",
              "      <th>DEMIL Code</th>\n",
              "      <th>DEMIL IC</th>\n",
              "      <th>Ship Date</th>\n",
              "    </tr>\n",
              "  </thead>\n",
              "  <tbody>\n",
              "    <tr>\n",
              "      <th>0</th>\n",
              "      <td>AL</td>\n",
              "      <td>ABBEVILLE POLICE DEPT</td>\n",
              "      <td>2540-01-565-4700</td>\n",
              "      <td>BALLISTIC BLANKET KIT</td>\n",
              "      <td>10</td>\n",
              "      <td>Kit</td>\n",
              "      <td>15871.59</td>\n",
              "      <td>D</td>\n",
              "      <td>1.0</td>\n",
              "      <td>2018-01-30</td>\n",
              "    </tr>\n",
              "    <tr>\n",
              "      <th>1</th>\n",
              "      <td>AL</td>\n",
              "      <td>ABBEVILLE POLICE DEPT</td>\n",
              "      <td>1240-DS-OPT-SIGH</td>\n",
              "      <td>OPTICAL SIGHTING AND RANGING EQUIPMENT</td>\n",
              "      <td>1</td>\n",
              "      <td>Each</td>\n",
              "      <td>245.88</td>\n",
              "      <td>D</td>\n",
              "      <td>1.0</td>\n",
              "      <td>2016-06-02</td>\n",
              "    </tr>\n",
              "    <tr>\n",
              "      <th>2</th>\n",
              "      <td>AL</td>\n",
              "      <td>ABBEVILLE POLICE DEPT</td>\n",
              "      <td>2355-01-553-4634</td>\n",
              "      <td>MINE RESISTANT VEHICLE</td>\n",
              "      <td>1</td>\n",
              "      <td>Each</td>\n",
              "      <td>658000.00</td>\n",
              "      <td>C</td>\n",
              "      <td>1.0</td>\n",
              "      <td>2016-11-09</td>\n",
              "    </tr>\n",
              "    <tr>\n",
              "      <th>3</th>\n",
              "      <td>AL</td>\n",
              "      <td>ABBEVILLE POLICE DEPT</td>\n",
              "      <td>1240-01-411-1265</td>\n",
              "      <td>SIGHT,REFLEX</td>\n",
              "      <td>9</td>\n",
              "      <td>Each</td>\n",
              "      <td>333.00</td>\n",
              "      <td>D</td>\n",
              "      <td>1.0</td>\n",
              "      <td>2016-09-14</td>\n",
              "    </tr>\n",
              "    <tr>\n",
              "      <th>4</th>\n",
              "      <td>AL</td>\n",
              "      <td>ABBEVILLE POLICE DEPT</td>\n",
              "      <td>5855-01-577-7174</td>\n",
              "      <td>ILLUMINATOR,INFRARED</td>\n",
              "      <td>10</td>\n",
              "      <td>Each</td>\n",
              "      <td>926.00</td>\n",
              "      <td>D</td>\n",
              "      <td>1.0</td>\n",
              "      <td>2017-03-28</td>\n",
              "    </tr>\n",
              "    <tr>\n",
              "      <th>...</th>\n",
              "      <td>...</td>\n",
              "      <td>...</td>\n",
              "      <td>...</td>\n",
              "      <td>...</td>\n",
              "      <td>...</td>\n",
              "      <td>...</td>\n",
              "      <td>...</td>\n",
              "      <td>...</td>\n",
              "      <td>...</td>\n",
              "      <td>...</td>\n",
              "    </tr>\n",
              "    <tr>\n",
              "      <th>130953</th>\n",
              "      <td>WY</td>\n",
              "      <td>WESTON COUNTY SHERIFF'S OFFICE</td>\n",
              "      <td>1005-00-589-1271</td>\n",
              "      <td>RIFLE,7.62 MILLIMETER</td>\n",
              "      <td>1</td>\n",
              "      <td>Each</td>\n",
              "      <td>138.00</td>\n",
              "      <td>D</td>\n",
              "      <td>1.0</td>\n",
              "      <td>1993-09-01</td>\n",
              "    </tr>\n",
              "    <tr>\n",
              "      <th>130954</th>\n",
              "      <td>WY</td>\n",
              "      <td>WESTON COUNTY SHERIFF'S OFFICE</td>\n",
              "      <td>1005-00-589-1271</td>\n",
              "      <td>RIFLE,7.62 MILLIMETER</td>\n",
              "      <td>1</td>\n",
              "      <td>Each</td>\n",
              "      <td>138.00</td>\n",
              "      <td>D</td>\n",
              "      <td>1.0</td>\n",
              "      <td>1993-09-01</td>\n",
              "    </tr>\n",
              "    <tr>\n",
              "      <th>130955</th>\n",
              "      <td>WY</td>\n",
              "      <td>WESTON COUNTY SHERIFF'S OFFICE</td>\n",
              "      <td>1005-00-589-1271</td>\n",
              "      <td>RIFLE,7.62 MILLIMETER</td>\n",
              "      <td>1</td>\n",
              "      <td>Each</td>\n",
              "      <td>138.00</td>\n",
              "      <td>D</td>\n",
              "      <td>1.0</td>\n",
              "      <td>1993-09-01</td>\n",
              "    </tr>\n",
              "    <tr>\n",
              "      <th>130956</th>\n",
              "      <td>WY</td>\n",
              "      <td>WESTON COUNTY SHERIFF'S OFFICE</td>\n",
              "      <td>1005-00-589-1271</td>\n",
              "      <td>RIFLE,7.62 MILLIMETER</td>\n",
              "      <td>1</td>\n",
              "      <td>Each</td>\n",
              "      <td>138.00</td>\n",
              "      <td>D</td>\n",
              "      <td>1.0</td>\n",
              "      <td>1993-09-01</td>\n",
              "    </tr>\n",
              "    <tr>\n",
              "      <th>130957</th>\n",
              "      <td>WY</td>\n",
              "      <td>WESTON COUNTY SHERIFF'S OFFICE</td>\n",
              "      <td>1005-00-589-1271</td>\n",
              "      <td>RIFLE,7.62 MILLIMETER</td>\n",
              "      <td>1</td>\n",
              "      <td>Each</td>\n",
              "      <td>138.00</td>\n",
              "      <td>D</td>\n",
              "      <td>1.0</td>\n",
              "      <td>1993-09-01</td>\n",
              "    </tr>\n",
              "  </tbody>\n",
              "</table>\n",
              "<p>130958 rows × 10 columns</p>\n",
              "</div>"
            ],
            "text/plain": [
              "       State                     Agency Name  ... DEMIL IC  Ship Date\n",
              "0         AL           ABBEVILLE POLICE DEPT  ...      1.0 2018-01-30\n",
              "1         AL           ABBEVILLE POLICE DEPT  ...      1.0 2016-06-02\n",
              "2         AL           ABBEVILLE POLICE DEPT  ...      1.0 2016-11-09\n",
              "3         AL           ABBEVILLE POLICE DEPT  ...      1.0 2016-09-14\n",
              "4         AL           ABBEVILLE POLICE DEPT  ...      1.0 2017-03-28\n",
              "...      ...                             ...  ...      ...        ...\n",
              "130953    WY  WESTON COUNTY SHERIFF'S OFFICE  ...      1.0 1993-09-01\n",
              "130954    WY  WESTON COUNTY SHERIFF'S OFFICE  ...      1.0 1993-09-01\n",
              "130955    WY  WESTON COUNTY SHERIFF'S OFFICE  ...      1.0 1993-09-01\n",
              "130956    WY  WESTON COUNTY SHERIFF'S OFFICE  ...      1.0 1993-09-01\n",
              "130957    WY  WESTON COUNTY SHERIFF'S OFFICE  ...      1.0 1993-09-01\n",
              "\n",
              "[130958 rows x 10 columns]"
            ]
          },
          "metadata": {},
          "execution_count": 39
        }
      ]
    },
    {
      "cell_type": "code",
      "metadata": {
        "id": "LI12hbH4Yz8f"
      },
      "source": [
        "# Sampling the dataset to 10000 for each target label so total instances together is 10000 X 7 = 70000\n",
        "sample = 10000\n",
        "df = df.groupby('DEMIL Code').apply(lambda x: x.sample(sample,replace=True))\n",
        "\n",
        "df = df.droplevel(0).reset_index()\n",
        "df = df.drop(labels = 'index', axis =1)"
      ],
      "execution_count": 40,
      "outputs": []
    },
    {
      "cell_type": "code",
      "metadata": {
        "id": "5D_oZ8zQR3BZ"
      },
      "source": [
        "from sklearn.preprocessing import LabelEncoder\n",
        "\n",
        "le =LabelEncoder()\n",
        "\n",
        "df['State'] = le.fit_transform(df['State'])\n",
        "df['Agency Name'] = le.fit_transform(df['Agency Name'])\n",
        "df['NSN'] = le.fit_transform(df['NSN'])\n",
        "df['Item Name'] = le.fit_transform(df['Item Name'])\n",
        "df['UI'] = le.fit_transform(df['UI'])\n",
        "df['DEMIL Code'] = le.fit_transform(df['DEMIL Code'])\n",
        "df['Ship Date'] = le.fit_transform(df['Ship Date'])\n",
        "# df['Station Type'] = le.fit_transform(df['Station Type'])\n"
      ],
      "execution_count": 41,
      "outputs": []
    },
    {
      "cell_type": "code",
      "metadata": {
        "id": "Cc54MCwEY_kl"
      },
      "source": [
        "X = df.drop(labels = ['DEMIL Code'], axis = 1)\n",
        "y = df['DEMIL Code']\n",
        "# df['State']\n",
        "X = normalize(X)\n",
        "\n",
        "# y = to_categorical(y)\n",
        "\n",
        "X_train, X_test,y_train, y_test = train_test_split(X, y, test_size = 0.3, random_state = True)\n",
        "\n"
      ],
      "execution_count": 42,
      "outputs": []
    },
    {
      "cell_type": "code",
      "metadata": {
        "id": "KKuB6SvQ_HEU",
        "colab": {
          "base_uri": "https://localhost:8080/"
        },
        "outputId": "24663cc2-3c62-435e-c195-b0d4ff14dbcb"
      },
      "source": [
        "X_train = np.array(X_train)\n",
        "X_train = np.reshape(X_train, (X_train.shape[0], X_train.shape[1], 1))\n",
        "X_train.shape\n"
      ],
      "execution_count": 43,
      "outputs": [
        {
          "output_type": "execute_result",
          "data": {
            "text/plain": [
              "(49000, 9, 1)"
            ]
          },
          "metadata": {},
          "execution_count": 43
        }
      ]
    },
    {
      "cell_type": "code",
      "metadata": {
        "id": "p7xU3gUSZAhc"
      },
      "source": [
        "from tensorflow.keras.utils import to_categorical\n",
        "#one-hot encode target column\n",
        "y_train = to_categorical(y_train)\n",
        "y_test = to_categorical(y_test)"
      ],
      "execution_count": 44,
      "outputs": []
    },
    {
      "cell_type": "code",
      "metadata": {
        "id": "B8XT8Qb4ZA6B"
      },
      "source": [
        "model_sample=Sequential()\n",
        "model_sample.add(Dense(4000,input_dim=X_train.shape[1], activation='relu'))\n",
        "model_sample.add(Dense(1000,activation='relu'))\n",
        "model_sample.add(Dense(500,activation='relu'))\n",
        "model_sample.add(Dense(7,activation='softmax'))"
      ],
      "execution_count": 45,
      "outputs": []
    },
    {
      "cell_type": "code",
      "metadata": {
        "id": "LfpjTDLC6KkJ",
        "colab": {
          "base_uri": "https://localhost:8080/"
        },
        "outputId": "6e47117a-eb18-4286-a9dc-74a2df54ec5f"
      },
      "source": [
        "optimizer = Adam(learning_rate=0.0001)\n",
        "model_sample.compile(optimizer, loss='binary_crossentropy',metrics=['accuracy'])\n",
        "\n",
        "print('Model summary')\n",
        "print(model_sample.summary())"
      ],
      "execution_count": 46,
      "outputs": [
        {
          "output_type": "stream",
          "name": "stdout",
          "text": [
            "Model summary\n",
            "Model: \"sequential_1\"\n",
            "_________________________________________________________________\n",
            " Layer (type)                Output Shape              Param #   \n",
            "=================================================================\n",
            " dense_4 (Dense)             (None, 4000)              40000     \n",
            "                                                                 \n",
            " dense_5 (Dense)             (None, 1000)              4001000   \n",
            "                                                                 \n",
            " dense_6 (Dense)             (None, 500)               500500    \n",
            "                                                                 \n",
            " dense_7 (Dense)             (None, 7)                 3507      \n",
            "                                                                 \n",
            "=================================================================\n",
            "Total params: 4,545,007\n",
            "Trainable params: 4,545,007\n",
            "Non-trainable params: 0\n",
            "_________________________________________________________________\n",
            "None\n"
          ]
        }
      ]
    },
    {
      "cell_type": "code",
      "metadata": {
        "id": "0grOwNMS6Kz9",
        "colab": {
          "base_uri": "https://localhost:8080/"
        },
        "outputId": "9eef4cea-d83b-47b4-abe8-ebd14f60842d"
      },
      "source": [
        "model_sample.fit(X_train, y_train, verbose=2, batch_size=128,epochs=100)"
      ],
      "execution_count": 47,
      "outputs": [
        {
          "output_type": "stream",
          "name": "stdout",
          "text": [
            "Epoch 1/100\n",
            "383/383 - 3s - loss: 0.2977 - accuracy: 0.5587 - 3s/epoch - 8ms/step\n",
            "Epoch 2/100\n",
            "383/383 - 2s - loss: 0.2371 - accuracy: 0.6483 - 2s/epoch - 6ms/step\n",
            "Epoch 3/100\n",
            "383/383 - 2s - loss: 0.2227 - accuracy: 0.6656 - 2s/epoch - 6ms/step\n",
            "Epoch 4/100\n",
            "383/383 - 2s - loss: 0.2110 - accuracy: 0.6774 - 2s/epoch - 6ms/step\n",
            "Epoch 5/100\n",
            "383/383 - 2s - loss: 0.2025 - accuracy: 0.6910 - 2s/epoch - 6ms/step\n",
            "Epoch 6/100\n",
            "383/383 - 2s - loss: 0.1954 - accuracy: 0.7045 - 2s/epoch - 6ms/step\n",
            "Epoch 7/100\n",
            "383/383 - 2s - loss: 0.1897 - accuracy: 0.7145 - 2s/epoch - 6ms/step\n",
            "Epoch 8/100\n",
            "383/383 - 2s - loss: 0.1849 - accuracy: 0.7234 - 2s/epoch - 6ms/step\n",
            "Epoch 9/100\n",
            "383/383 - 2s - loss: 0.1801 - accuracy: 0.7306 - 2s/epoch - 6ms/step\n",
            "Epoch 10/100\n",
            "383/383 - 2s - loss: 0.1756 - accuracy: 0.7383 - 2s/epoch - 6ms/step\n",
            "Epoch 11/100\n",
            "383/383 - 2s - loss: 0.1719 - accuracy: 0.7461 - 2s/epoch - 6ms/step\n",
            "Epoch 12/100\n",
            "383/383 - 2s - loss: 0.1684 - accuracy: 0.7530 - 2s/epoch - 6ms/step\n",
            "Epoch 13/100\n",
            "383/383 - 2s - loss: 0.1649 - accuracy: 0.7598 - 2s/epoch - 6ms/step\n",
            "Epoch 14/100\n",
            "383/383 - 2s - loss: 0.1617 - accuracy: 0.7675 - 2s/epoch - 6ms/step\n",
            "Epoch 15/100\n",
            "383/383 - 2s - loss: 0.1592 - accuracy: 0.7725 - 2s/epoch - 6ms/step\n",
            "Epoch 16/100\n",
            "383/383 - 2s - loss: 0.1563 - accuracy: 0.7782 - 2s/epoch - 6ms/step\n",
            "Epoch 17/100\n",
            "383/383 - 2s - loss: 0.1540 - accuracy: 0.7821 - 2s/epoch - 6ms/step\n",
            "Epoch 18/100\n",
            "383/383 - 2s - loss: 0.1513 - accuracy: 0.7880 - 2s/epoch - 6ms/step\n",
            "Epoch 19/100\n",
            "383/383 - 2s - loss: 0.1493 - accuracy: 0.7891 - 2s/epoch - 6ms/step\n",
            "Epoch 20/100\n",
            "383/383 - 2s - loss: 0.1472 - accuracy: 0.7933 - 2s/epoch - 6ms/step\n",
            "Epoch 21/100\n",
            "383/383 - 2s - loss: 0.1453 - accuracy: 0.7989 - 2s/epoch - 6ms/step\n",
            "Epoch 22/100\n",
            "383/383 - 2s - loss: 0.1434 - accuracy: 0.8013 - 2s/epoch - 6ms/step\n",
            "Epoch 23/100\n",
            "383/383 - 2s - loss: 0.1411 - accuracy: 0.8052 - 2s/epoch - 6ms/step\n",
            "Epoch 24/100\n",
            "383/383 - 2s - loss: 0.1396 - accuracy: 0.8069 - 2s/epoch - 6ms/step\n",
            "Epoch 25/100\n",
            "383/383 - 2s - loss: 0.1378 - accuracy: 0.8110 - 2s/epoch - 6ms/step\n",
            "Epoch 26/100\n",
            "383/383 - 2s - loss: 0.1356 - accuracy: 0.8139 - 2s/epoch - 6ms/step\n",
            "Epoch 27/100\n",
            "383/383 - 2s - loss: 0.1340 - accuracy: 0.8167 - 2s/epoch - 6ms/step\n",
            "Epoch 28/100\n",
            "383/383 - 2s - loss: 0.1324 - accuracy: 0.8192 - 2s/epoch - 6ms/step\n",
            "Epoch 29/100\n",
            "383/383 - 2s - loss: 0.1307 - accuracy: 0.8223 - 2s/epoch - 6ms/step\n",
            "Epoch 30/100\n",
            "383/383 - 2s - loss: 0.1291 - accuracy: 0.8252 - 2s/epoch - 6ms/step\n",
            "Epoch 31/100\n",
            "383/383 - 2s - loss: 0.1277 - accuracy: 0.8262 - 2s/epoch - 6ms/step\n",
            "Epoch 32/100\n",
            "383/383 - 2s - loss: 0.1258 - accuracy: 0.8320 - 2s/epoch - 6ms/step\n",
            "Epoch 33/100\n",
            "383/383 - 2s - loss: 0.1248 - accuracy: 0.8321 - 2s/epoch - 6ms/step\n",
            "Epoch 34/100\n",
            "383/383 - 2s - loss: 0.1235 - accuracy: 0.8353 - 2s/epoch - 6ms/step\n",
            "Epoch 35/100\n",
            "383/383 - 2s - loss: 0.1215 - accuracy: 0.8395 - 2s/epoch - 6ms/step\n",
            "Epoch 36/100\n",
            "383/383 - 2s - loss: 0.1204 - accuracy: 0.8407 - 2s/epoch - 6ms/step\n",
            "Epoch 37/100\n",
            "383/383 - 2s - loss: 0.1191 - accuracy: 0.8428 - 2s/epoch - 6ms/step\n",
            "Epoch 38/100\n",
            "383/383 - 2s - loss: 0.1172 - accuracy: 0.8451 - 2s/epoch - 6ms/step\n",
            "Epoch 39/100\n",
            "383/383 - 2s - loss: 0.1156 - accuracy: 0.8487 - 2s/epoch - 6ms/step\n",
            "Epoch 40/100\n",
            "383/383 - 2s - loss: 0.1150 - accuracy: 0.8501 - 2s/epoch - 6ms/step\n",
            "Epoch 41/100\n",
            "383/383 - 2s - loss: 0.1137 - accuracy: 0.8513 - 2s/epoch - 6ms/step\n",
            "Epoch 42/100\n",
            "383/383 - 2s - loss: 0.1123 - accuracy: 0.8538 - 2s/epoch - 6ms/step\n",
            "Epoch 43/100\n",
            "383/383 - 2s - loss: 0.1104 - accuracy: 0.8570 - 2s/epoch - 6ms/step\n",
            "Epoch 44/100\n",
            "383/383 - 2s - loss: 0.1094 - accuracy: 0.8591 - 2s/epoch - 6ms/step\n",
            "Epoch 45/100\n",
            "383/383 - 2s - loss: 0.1081 - accuracy: 0.8610 - 2s/epoch - 6ms/step\n",
            "Epoch 46/100\n",
            "383/383 - 2s - loss: 0.1071 - accuracy: 0.8613 - 2s/epoch - 6ms/step\n",
            "Epoch 47/100\n",
            "383/383 - 2s - loss: 0.1057 - accuracy: 0.8656 - 2s/epoch - 6ms/step\n",
            "Epoch 48/100\n",
            "383/383 - 2s - loss: 0.1042 - accuracy: 0.8689 - 2s/epoch - 6ms/step\n",
            "Epoch 49/100\n",
            "383/383 - 2s - loss: 0.1034 - accuracy: 0.8695 - 2s/epoch - 6ms/step\n",
            "Epoch 50/100\n",
            "383/383 - 2s - loss: 0.1015 - accuracy: 0.8715 - 2s/epoch - 6ms/step\n",
            "Epoch 51/100\n",
            "383/383 - 2s - loss: 0.1002 - accuracy: 0.8740 - 2s/epoch - 6ms/step\n",
            "Epoch 52/100\n",
            "383/383 - 2s - loss: 0.0991 - accuracy: 0.8743 - 2s/epoch - 6ms/step\n",
            "Epoch 53/100\n",
            "383/383 - 2s - loss: 0.0970 - accuracy: 0.8805 - 2s/epoch - 6ms/step\n",
            "Epoch 54/100\n",
            "383/383 - 2s - loss: 0.0962 - accuracy: 0.8810 - 2s/epoch - 6ms/step\n",
            "Epoch 55/100\n",
            "383/383 - 2s - loss: 0.0953 - accuracy: 0.8823 - 2s/epoch - 6ms/step\n",
            "Epoch 56/100\n",
            "383/383 - 2s - loss: 0.0942 - accuracy: 0.8830 - 2s/epoch - 6ms/step\n",
            "Epoch 57/100\n",
            "383/383 - 2s - loss: 0.0924 - accuracy: 0.8871 - 2s/epoch - 6ms/step\n",
            "Epoch 58/100\n",
            "383/383 - 2s - loss: 0.0915 - accuracy: 0.8889 - 2s/epoch - 6ms/step\n",
            "Epoch 59/100\n",
            "383/383 - 2s - loss: 0.0903 - accuracy: 0.8900 - 2s/epoch - 6ms/step\n",
            "Epoch 60/100\n",
            "383/383 - 2s - loss: 0.0887 - accuracy: 0.8922 - 2s/epoch - 6ms/step\n",
            "Epoch 61/100\n",
            "383/383 - 2s - loss: 0.0884 - accuracy: 0.8930 - 2s/epoch - 6ms/step\n",
            "Epoch 62/100\n",
            "383/383 - 2s - loss: 0.0869 - accuracy: 0.8960 - 2s/epoch - 6ms/step\n",
            "Epoch 63/100\n",
            "383/383 - 2s - loss: 0.0849 - accuracy: 0.8991 - 2s/epoch - 6ms/step\n",
            "Epoch 64/100\n",
            "383/383 - 2s - loss: 0.0856 - accuracy: 0.8973 - 2s/epoch - 6ms/step\n",
            "Epoch 65/100\n",
            "383/383 - 2s - loss: 0.0841 - accuracy: 0.9003 - 2s/epoch - 6ms/step\n",
            "Epoch 66/100\n",
            "383/383 - 2s - loss: 0.0829 - accuracy: 0.9031 - 2s/epoch - 6ms/step\n",
            "Epoch 67/100\n",
            "383/383 - 2s - loss: 0.0823 - accuracy: 0.9039 - 2s/epoch - 6ms/step\n",
            "Epoch 68/100\n",
            "383/383 - 2s - loss: 0.0814 - accuracy: 0.9040 - 2s/epoch - 6ms/step\n",
            "Epoch 69/100\n",
            "383/383 - 2s - loss: 0.0804 - accuracy: 0.9073 - 2s/epoch - 6ms/step\n",
            "Epoch 70/100\n",
            "383/383 - 2s - loss: 0.0793 - accuracy: 0.9081 - 2s/epoch - 6ms/step\n",
            "Epoch 71/100\n",
            "383/383 - 2s - loss: 0.0798 - accuracy: 0.9075 - 2s/epoch - 6ms/step\n",
            "Epoch 72/100\n",
            "383/383 - 2s - loss: 0.0781 - accuracy: 0.9107 - 2s/epoch - 6ms/step\n",
            "Epoch 73/100\n",
            "383/383 - 2s - loss: 0.0770 - accuracy: 0.9123 - 2s/epoch - 6ms/step\n",
            "Epoch 74/100\n",
            "383/383 - 2s - loss: 0.0773 - accuracy: 0.9118 - 2s/epoch - 6ms/step\n",
            "Epoch 75/100\n",
            "383/383 - 2s - loss: 0.0760 - accuracy: 0.9145 - 2s/epoch - 6ms/step\n",
            "Epoch 76/100\n",
            "383/383 - 2s - loss: 0.0758 - accuracy: 0.9128 - 2s/epoch - 6ms/step\n",
            "Epoch 77/100\n",
            "383/383 - 2s - loss: 0.0756 - accuracy: 0.9142 - 2s/epoch - 6ms/step\n",
            "Epoch 78/100\n",
            "383/383 - 2s - loss: 0.0743 - accuracy: 0.9150 - 2s/epoch - 6ms/step\n",
            "Epoch 79/100\n",
            "383/383 - 2s - loss: 0.0751 - accuracy: 0.9136 - 2s/epoch - 6ms/step\n",
            "Epoch 80/100\n",
            "383/383 - 2s - loss: 0.0731 - accuracy: 0.9182 - 2s/epoch - 6ms/step\n",
            "Epoch 81/100\n",
            "383/383 - 2s - loss: 0.0729 - accuracy: 0.9175 - 2s/epoch - 6ms/step\n",
            "Epoch 82/100\n",
            "383/383 - 2s - loss: 0.0720 - accuracy: 0.9189 - 2s/epoch - 6ms/step\n",
            "Epoch 83/100\n",
            "383/383 - 2s - loss: 0.0720 - accuracy: 0.9185 - 2s/epoch - 6ms/step\n",
            "Epoch 84/100\n",
            "383/383 - 2s - loss: 0.0710 - accuracy: 0.9200 - 2s/epoch - 6ms/step\n",
            "Epoch 85/100\n",
            "383/383 - 2s - loss: 0.0706 - accuracy: 0.9210 - 2s/epoch - 6ms/step\n",
            "Epoch 86/100\n",
            "383/383 - 2s - loss: 0.0702 - accuracy: 0.9214 - 2s/epoch - 6ms/step\n",
            "Epoch 87/100\n",
            "383/383 - 2s - loss: 0.0701 - accuracy: 0.9211 - 2s/epoch - 6ms/step\n",
            "Epoch 88/100\n",
            "383/383 - 2s - loss: 0.0697 - accuracy: 0.9222 - 2s/epoch - 6ms/step\n",
            "Epoch 89/100\n",
            "383/383 - 2s - loss: 0.0696 - accuracy: 0.9224 - 2s/epoch - 6ms/step\n",
            "Epoch 90/100\n",
            "383/383 - 2s - loss: 0.0682 - accuracy: 0.9237 - 2s/epoch - 6ms/step\n",
            "Epoch 91/100\n",
            "383/383 - 2s - loss: 0.0689 - accuracy: 0.9222 - 2s/epoch - 6ms/step\n",
            "Epoch 92/100\n",
            "383/383 - 2s - loss: 0.0679 - accuracy: 0.9232 - 2s/epoch - 6ms/step\n",
            "Epoch 93/100\n",
            "383/383 - 2s - loss: 0.0678 - accuracy: 0.9247 - 2s/epoch - 6ms/step\n",
            "Epoch 94/100\n",
            "383/383 - 2s - loss: 0.0672 - accuracy: 0.9251 - 2s/epoch - 6ms/step\n",
            "Epoch 95/100\n",
            "383/383 - 2s - loss: 0.0668 - accuracy: 0.9256 - 2s/epoch - 6ms/step\n",
            "Epoch 96/100\n",
            "383/383 - 2s - loss: 0.0670 - accuracy: 0.9248 - 2s/epoch - 6ms/step\n",
            "Epoch 97/100\n",
            "383/383 - 2s - loss: 0.0659 - accuracy: 0.9258 - 2s/epoch - 6ms/step\n",
            "Epoch 98/100\n",
            "383/383 - 2s - loss: 0.0656 - accuracy: 0.9270 - 2s/epoch - 6ms/step\n",
            "Epoch 99/100\n",
            "383/383 - 2s - loss: 0.0650 - accuracy: 0.9269 - 2s/epoch - 6ms/step\n",
            "Epoch 100/100\n",
            "383/383 - 2s - loss: 0.0655 - accuracy: 0.9263 - 2s/epoch - 6ms/step\n"
          ]
        },
        {
          "output_type": "execute_result",
          "data": {
            "text/plain": [
              "<keras.callbacks.History at 0x7ff878624a10>"
            ]
          },
          "metadata": {},
          "execution_count": 47
        }
      ]
    },
    {
      "cell_type": "code",
      "metadata": {
        "id": "YI6jEPGZ6LWw",
        "colab": {
          "base_uri": "https://localhost:8080/"
        },
        "outputId": "6079a615-eea1-4ffe-a9e6-d1ac9e7b1095"
      },
      "source": [
        "# Model 1 - ANN \n",
        "results_sample = model_sample.evaluate(X_test, y_test)\n",
        "print('Final test set loss', format(results_sample[0]))\n",
        "print('Final test set accuracy', format(results_sample[1]))"
      ],
      "execution_count": 48,
      "outputs": [
        {
          "output_type": "stream",
          "name": "stdout",
          "text": [
            "657/657 [==============================] - 2s 4ms/step - loss: 0.0671 - accuracy: 0.9241\n",
            "Final test set loss 0.06707040965557098\n",
            "Final test set accuracy 0.9240952134132385\n"
          ]
        }
      ]
    },
    {
      "cell_type": "code",
      "metadata": {
        "id": "O0uaHM_W6LkW",
        "colab": {
          "base_uri": "https://localhost:8080/"
        },
        "outputId": "c983630e-84e8-4d54-f36a-62fc7015d9a4"
      },
      "source": [
        "predict_sample = model_sample.predict(X_test, batch_size=128)\n",
        "predict_sample"
      ],
      "execution_count": 49,
      "outputs": [
        {
          "output_type": "execute_result",
          "data": {
            "text/plain": [
              "array([[9.9966359e-01, 5.4118212e-09, 3.6949788e-09, ..., 3.2306957e-09,\n",
              "        3.2737092e-04, 2.6611638e-06],\n",
              "       [2.2198164e-34, 3.2056688e-12, 1.2678105e-08, ..., 9.9999464e-01,\n",
              "        9.0667099e-11, 2.5451106e-07],\n",
              "       [1.5594561e-16, 1.3930708e-07, 7.1604757e-07, ..., 1.7646209e-11,\n",
              "        9.9997878e-01, 7.1549844e-06],\n",
              "       ...,\n",
              "       [9.9459261e-01, 8.6360897e-06, 5.1435933e-04, ..., 1.9169688e-09,\n",
              "        7.1408867e-04, 5.0885481e-04],\n",
              "       [3.8557278e-06, 1.5998914e-09, 5.5470614e-04, ..., 0.0000000e+00,\n",
              "        7.4437124e-01, 2.0717319e-02],\n",
              "       [0.0000000e+00, 1.6844274e-33, 1.7217628e-18, ..., 0.0000000e+00,\n",
              "        3.2489142e-32, 1.3978943e-18]], dtype=float32)"
            ]
          },
          "metadata": {},
          "execution_count": 49
        }
      ]
    },
    {
      "cell_type": "code",
      "metadata": {
        "id": "iQ9flWBV6Lxs"
      },
      "source": [
        "y_pred_sample = np.argmax(predict_sample, axis = 1)"
      ],
      "execution_count": 50,
      "outputs": []
    },
    {
      "cell_type": "code",
      "metadata": {
        "id": "X2xo_PFh6L9W"
      },
      "source": [
        "# y_test_cat_sample = to_categorical(y_test) # converting to categorial\n",
        "y_val_sample =np.argmax(y_test, axis = 1)"
      ],
      "execution_count": 51,
      "outputs": []
    },
    {
      "cell_type": "code",
      "metadata": {
        "id": "2Hpvv89L6MJL",
        "colab": {
          "base_uri": "https://localhost:8080/"
        },
        "outputId": "c52a7ef3-8c53-4c6a-c53c-3dde083566f2"
      },
      "source": [
        "print(classification_report(y_val_sample,y_pred_sample))"
      ],
      "execution_count": 52,
      "outputs": [
        {
          "output_type": "stream",
          "name": "stdout",
          "text": [
            "              precision    recall  f1-score   support\n",
            "\n",
            "           0       0.94      0.92      0.93      3061\n",
            "           1       0.93      0.99      0.96      3066\n",
            "           2       0.81      0.92      0.86      3032\n",
            "           3       0.98      0.89      0.93      2979\n",
            "           4       0.99      1.00      0.99      2958\n",
            "           5       0.92      0.95      0.94      2949\n",
            "           6       0.92      0.80      0.85      2955\n",
            "\n",
            "    accuracy                           0.92     21000\n",
            "   macro avg       0.93      0.92      0.92     21000\n",
            "weighted avg       0.93      0.92      0.92     21000\n",
            "\n"
          ]
        }
      ]
    },
    {
      "cell_type": "code",
      "metadata": {
        "id": "WMqLdBba6MZz",
        "colab": {
          "base_uri": "https://localhost:8080/"
        },
        "outputId": "1b87e6c7-822c-4fed-919d-ae8c4ba46df2"
      },
      "source": [
        "confusion_matrix(y_val_sample,y_pred_sample)"
      ],
      "execution_count": 53,
      "outputs": [
        {
          "output_type": "execute_result",
          "data": {
            "text/plain": [
              "array([[2809,   78,   64,   22,    4,   40,   44],\n",
              "       [   0, 3046,   20,    0,    0,    0,    0],\n",
              "       [  46,   21, 2787,   14,    3,   83,   78],\n",
              "       [  66,   50,   86, 2642,    8,   54,   73],\n",
              "       [   0,    0,    0,    0, 2958,    0,    0],\n",
              "       [  18,    6,   96,    2,    5, 2808,   14],\n",
              "       [  50,   63,  397,    7,   14,   68, 2356]])"
            ]
          },
          "metadata": {},
          "execution_count": 53
        }
      ]
    },
    {
      "cell_type": "code",
      "metadata": {
        "id": "gZ5OXJoL-Wtl",
        "colab": {
          "base_uri": "https://localhost:8080/"
        },
        "outputId": "a5b071f4-257a-4f0c-f428-02d58122201e"
      },
      "source": [
        "y_train[0]"
      ],
      "execution_count": 54,
      "outputs": [
        {
          "output_type": "execute_result",
          "data": {
            "text/plain": [
              "array([0., 0., 1., 0., 0., 0., 0.], dtype=float32)"
            ]
          },
          "metadata": {},
          "execution_count": 54
        }
      ]
    },
    {
      "cell_type": "code",
      "metadata": {
        "id": "LLelpZeT-YB8"
      },
      "source": [
        ""
      ],
      "execution_count": 54,
      "outputs": []
    }
  ]
}