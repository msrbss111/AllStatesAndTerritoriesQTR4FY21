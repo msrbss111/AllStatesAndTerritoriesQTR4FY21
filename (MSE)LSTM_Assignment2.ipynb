{
  "nbformat": 4,
  "nbformat_minor": 0,
  "metadata": {
    "kernelspec": {
      "name": "python3",
      "display_name": "Python 3"
    },
    "colab": {
      "name": "test_LSTM_Assignment2.ipynb",
      "provenance": [],
      "collapsed_sections": []
    },
    "language_info": {
      "name": "python"
    },
    "accelerator": "GPU"
  },
  "cells": [
    {
      "cell_type": "code",
      "metadata": {
        "id": "rSKgcytwiitR",
        "colab": {
          "base_uri": "https://localhost:8080/"
        },
        "outputId": "b518ed3c-7aa7-4bd5-f888-2c67ac67ca8e"
      },
      "source": [
        "!nvidia-smi"
      ],
      "execution_count": 53,
      "outputs": [
        {
          "output_type": "stream",
          "name": "stdout",
          "text": [
            "Sun Dec  5 10:07:04 2021       \n",
            "+-----------------------------------------------------------------------------+\n",
            "| NVIDIA-SMI 495.44       Driver Version: 460.32.03    CUDA Version: 11.2     |\n",
            "|-------------------------------+----------------------+----------------------+\n",
            "| GPU  Name        Persistence-M| Bus-Id        Disp.A | Volatile Uncorr. ECC |\n",
            "| Fan  Temp  Perf  Pwr:Usage/Cap|         Memory-Usage | GPU-Util  Compute M. |\n",
            "|                               |                      |               MIG M. |\n",
            "|===============================+======================+======================|\n",
            "|   0  Tesla K80           Off  | 00000000:00:04.0 Off |                    0 |\n",
            "| N/A   73C    P0    73W / 149W |    493MiB / 11441MiB |      0%      Default |\n",
            "|                               |                      |                  N/A |\n",
            "+-------------------------------+----------------------+----------------------+\n",
            "                                                                               \n",
            "+-----------------------------------------------------------------------------+\n",
            "| Processes:                                                                  |\n",
            "|  GPU   GI   CI        PID   Type   Process name                  GPU Memory |\n",
            "|        ID   ID                                                   Usage      |\n",
            "|=============================================================================|\n",
            "|  No running processes found                                                 |\n",
            "+-----------------------------------------------------------------------------+\n"
          ]
        }
      ]
    },
    {
      "cell_type": "code",
      "metadata": {
        "colab": {
          "base_uri": "https://localhost:8080/"
        },
        "id": "-vHeo6bax0Pt",
        "outputId": "8d70060e-5d3d-4f5c-bd9b-e8c07d6a9203"
      },
      "source": [
        "from google.colab import drive\n",
        "drive.mount('/content/drive')"
      ],
      "execution_count": 54,
      "outputs": [
        {
          "output_type": "stream",
          "name": "stdout",
          "text": [
            "Drive already mounted at /content/drive; to attempt to forcibly remount, call drive.mount(\"/content/drive\", force_remount=True).\n"
          ]
        }
      ]
    },
    {
      "cell_type": "code",
      "metadata": {
        "id": "smv5yh81iZHI"
      },
      "source": [
        "import numpy as np\n",
        "import pandas as pd\n"
      ],
      "execution_count": 55,
      "outputs": []
    },
    {
      "cell_type": "code",
      "metadata": {
        "id": "SRXXPh2RiZHM"
      },
      "source": [
        "data = pd.read_excel('/content/drive/MyDrive/Colab Notebooks/AllStatesAndTerritoriesQTR4FY21.xlsx', sheet_name = None)"
      ],
      "execution_count": 56,
      "outputs": []
    },
    {
      "cell_type": "code",
      "metadata": {
        "scrolled": true,
        "id": "8R4GZJ47iZHN",
        "colab": {
          "base_uri": "https://localhost:8080/"
        },
        "outputId": "42e8acab-329c-4427-8f7e-685c0f815350"
      },
      "source": [
        "data.keys()"
      ],
      "execution_count": 57,
      "outputs": [
        {
          "output_type": "execute_result",
          "data": {
            "text/plain": [
              "dict_keys(['ALABAMA', 'ALASKA', 'ARIZONA', 'ARKANSAS', 'CALIFORNIA', 'COLORADO', 'CONNECTICUT', 'DELAWARE', 'FLORIDA', 'GEORGIA', 'GUAM', 'IDAHO', 'ILLINOIS', 'INDIANA', 'IOWA', 'KANSAS', 'KENTUCKY', 'LOUISIANA', 'MAINE', 'MARYLAND', 'MASSACHUSETTS', 'MICHIGAN', 'MINNESOTA', 'MISSISSIPPI', 'MISSOURI', 'MONTANA', 'NEBRASKA', 'NEVADA', 'NEW HAMPSHIRE', 'NEW JERSEY', 'NEW MEXICO', 'NEW YORK', 'NORTH CAROLINA', 'NORTH DAKOTA', 'NORTHERN MARIANA ISLANDS', 'OHIO', 'OKLAHOMA', 'OREGON', 'PENNSYLVANIA', 'PUERTO RICO', 'RHODE ISLAND', 'SOUTH CAROLINA', 'SOUTH DAKOTA', 'TENNESSEE', 'TEXAS', 'UTAH', 'VERMONT', 'VIRGIN ISLANDS OF THE U.S.', 'VIRGINIA', 'WASHINGTON', 'WEST VIRGINIA', 'WISCONSIN', 'WYOMING'])"
            ]
          },
          "metadata": {},
          "execution_count": 57
        }
      ]
    },
    {
      "cell_type": "code",
      "metadata": {
        "id": "Y2KZnGyBiZHO"
      },
      "source": [
        "df = pd.concat(data[frame] for frame in data.keys()) "
      ],
      "execution_count": 58,
      "outputs": []
    },
    {
      "cell_type": "code",
      "metadata": {
        "scrolled": true,
        "id": "26E2ku3RiZHO"
      },
      "source": [
        "df = df.reset_index()"
      ],
      "execution_count": 59,
      "outputs": []
    },
    {
      "cell_type": "code",
      "metadata": {
        "id": "Dtzh3h_eiZHP",
        "colab": {
          "base_uri": "https://localhost:8080/",
          "height": 424
        },
        "outputId": "07e6954c-ba71-4374-9345-948bb413738f"
      },
      "source": [
        "df = df.drop(labels = 'index', axis = 1)\n",
        "df"
      ],
      "execution_count": 60,
      "outputs": [
        {
          "output_type": "execute_result",
          "data": {
            "text/html": [
              "<div>\n",
              "<style scoped>\n",
              "    .dataframe tbody tr th:only-of-type {\n",
              "        vertical-align: middle;\n",
              "    }\n",
              "\n",
              "    .dataframe tbody tr th {\n",
              "        vertical-align: top;\n",
              "    }\n",
              "\n",
              "    .dataframe thead th {\n",
              "        text-align: right;\n",
              "    }\n",
              "</style>\n",
              "<table border=\"1\" class=\"dataframe\">\n",
              "  <thead>\n",
              "    <tr style=\"text-align: right;\">\n",
              "      <th></th>\n",
              "      <th>State</th>\n",
              "      <th>Agency Name</th>\n",
              "      <th>NSN</th>\n",
              "      <th>Item Name</th>\n",
              "      <th>Quantity</th>\n",
              "      <th>UI</th>\n",
              "      <th>Acquisition Value</th>\n",
              "      <th>DEMIL Code</th>\n",
              "      <th>DEMIL IC</th>\n",
              "      <th>Ship Date</th>\n",
              "      <th>Station Type</th>\n",
              "    </tr>\n",
              "  </thead>\n",
              "  <tbody>\n",
              "    <tr>\n",
              "      <th>0</th>\n",
              "      <td>AL</td>\n",
              "      <td>ABBEVILLE POLICE DEPT</td>\n",
              "      <td>2540-01-565-4700</td>\n",
              "      <td>BALLISTIC BLANKET KIT</td>\n",
              "      <td>10</td>\n",
              "      <td>Kit</td>\n",
              "      <td>15871.59</td>\n",
              "      <td>D</td>\n",
              "      <td>1.0</td>\n",
              "      <td>2018-01-30</td>\n",
              "      <td>State</td>\n",
              "    </tr>\n",
              "    <tr>\n",
              "      <th>1</th>\n",
              "      <td>AL</td>\n",
              "      <td>ABBEVILLE POLICE DEPT</td>\n",
              "      <td>1240-DS-OPT-SIGH</td>\n",
              "      <td>OPTICAL SIGHTING AND RANGING EQUIPMENT</td>\n",
              "      <td>1</td>\n",
              "      <td>Each</td>\n",
              "      <td>245.88</td>\n",
              "      <td>D</td>\n",
              "      <td>NaN</td>\n",
              "      <td>2016-06-02</td>\n",
              "      <td>State</td>\n",
              "    </tr>\n",
              "    <tr>\n",
              "      <th>2</th>\n",
              "      <td>AL</td>\n",
              "      <td>ABBEVILLE POLICE DEPT</td>\n",
              "      <td>2355-01-553-4634</td>\n",
              "      <td>MINE RESISTANT VEHICLE</td>\n",
              "      <td>1</td>\n",
              "      <td>Each</td>\n",
              "      <td>658000.00</td>\n",
              "      <td>C</td>\n",
              "      <td>1.0</td>\n",
              "      <td>2016-11-09</td>\n",
              "      <td>State</td>\n",
              "    </tr>\n",
              "    <tr>\n",
              "      <th>3</th>\n",
              "      <td>AL</td>\n",
              "      <td>ABBEVILLE POLICE DEPT</td>\n",
              "      <td>1240-01-411-1265</td>\n",
              "      <td>SIGHT,REFLEX</td>\n",
              "      <td>9</td>\n",
              "      <td>Each</td>\n",
              "      <td>333.00</td>\n",
              "      <td>D</td>\n",
              "      <td>1.0</td>\n",
              "      <td>2016-09-14</td>\n",
              "      <td>State</td>\n",
              "    </tr>\n",
              "    <tr>\n",
              "      <th>4</th>\n",
              "      <td>AL</td>\n",
              "      <td>ABBEVILLE POLICE DEPT</td>\n",
              "      <td>5855-01-577-7174</td>\n",
              "      <td>ILLUMINATOR,INFRARED</td>\n",
              "      <td>10</td>\n",
              "      <td>Each</td>\n",
              "      <td>926.00</td>\n",
              "      <td>D</td>\n",
              "      <td>1.0</td>\n",
              "      <td>2017-03-28</td>\n",
              "      <td>State</td>\n",
              "    </tr>\n",
              "    <tr>\n",
              "      <th>...</th>\n",
              "      <td>...</td>\n",
              "      <td>...</td>\n",
              "      <td>...</td>\n",
              "      <td>...</td>\n",
              "      <td>...</td>\n",
              "      <td>...</td>\n",
              "      <td>...</td>\n",
              "      <td>...</td>\n",
              "      <td>...</td>\n",
              "      <td>...</td>\n",
              "      <td>...</td>\n",
              "    </tr>\n",
              "    <tr>\n",
              "      <th>130953</th>\n",
              "      <td>WY</td>\n",
              "      <td>WESTON COUNTY SHERIFF'S OFFICE</td>\n",
              "      <td>1005-00-589-1271</td>\n",
              "      <td>RIFLE,7.62 MILLIMETER</td>\n",
              "      <td>1</td>\n",
              "      <td>Each</td>\n",
              "      <td>138.00</td>\n",
              "      <td>D</td>\n",
              "      <td>1.0</td>\n",
              "      <td>1993-09-01</td>\n",
              "      <td>State</td>\n",
              "    </tr>\n",
              "    <tr>\n",
              "      <th>130954</th>\n",
              "      <td>WY</td>\n",
              "      <td>WESTON COUNTY SHERIFF'S OFFICE</td>\n",
              "      <td>1005-00-589-1271</td>\n",
              "      <td>RIFLE,7.62 MILLIMETER</td>\n",
              "      <td>1</td>\n",
              "      <td>Each</td>\n",
              "      <td>138.00</td>\n",
              "      <td>D</td>\n",
              "      <td>1.0</td>\n",
              "      <td>1993-09-01</td>\n",
              "      <td>State</td>\n",
              "    </tr>\n",
              "    <tr>\n",
              "      <th>130955</th>\n",
              "      <td>WY</td>\n",
              "      <td>WESTON COUNTY SHERIFF'S OFFICE</td>\n",
              "      <td>1005-00-589-1271</td>\n",
              "      <td>RIFLE,7.62 MILLIMETER</td>\n",
              "      <td>1</td>\n",
              "      <td>Each</td>\n",
              "      <td>138.00</td>\n",
              "      <td>D</td>\n",
              "      <td>1.0</td>\n",
              "      <td>1993-09-01</td>\n",
              "      <td>State</td>\n",
              "    </tr>\n",
              "    <tr>\n",
              "      <th>130956</th>\n",
              "      <td>WY</td>\n",
              "      <td>WESTON COUNTY SHERIFF'S OFFICE</td>\n",
              "      <td>1005-00-589-1271</td>\n",
              "      <td>RIFLE,7.62 MILLIMETER</td>\n",
              "      <td>1</td>\n",
              "      <td>Each</td>\n",
              "      <td>138.00</td>\n",
              "      <td>D</td>\n",
              "      <td>1.0</td>\n",
              "      <td>1993-09-01</td>\n",
              "      <td>State</td>\n",
              "    </tr>\n",
              "    <tr>\n",
              "      <th>130957</th>\n",
              "      <td>WY</td>\n",
              "      <td>WESTON COUNTY SHERIFF'S OFFICE</td>\n",
              "      <td>1005-00-589-1271</td>\n",
              "      <td>RIFLE,7.62 MILLIMETER</td>\n",
              "      <td>1</td>\n",
              "      <td>Each</td>\n",
              "      <td>138.00</td>\n",
              "      <td>D</td>\n",
              "      <td>1.0</td>\n",
              "      <td>1993-09-01</td>\n",
              "      <td>State</td>\n",
              "    </tr>\n",
              "  </tbody>\n",
              "</table>\n",
              "<p>130958 rows × 11 columns</p>\n",
              "</div>"
            ],
            "text/plain": [
              "       State                     Agency Name  ...  Ship Date Station Type\n",
              "0         AL           ABBEVILLE POLICE DEPT  ... 2018-01-30        State\n",
              "1         AL           ABBEVILLE POLICE DEPT  ... 2016-06-02        State\n",
              "2         AL           ABBEVILLE POLICE DEPT  ... 2016-11-09        State\n",
              "3         AL           ABBEVILLE POLICE DEPT  ... 2016-09-14        State\n",
              "4         AL           ABBEVILLE POLICE DEPT  ... 2017-03-28        State\n",
              "...      ...                             ...  ...        ...          ...\n",
              "130953    WY  WESTON COUNTY SHERIFF'S OFFICE  ... 1993-09-01        State\n",
              "130954    WY  WESTON COUNTY SHERIFF'S OFFICE  ... 1993-09-01        State\n",
              "130955    WY  WESTON COUNTY SHERIFF'S OFFICE  ... 1993-09-01        State\n",
              "130956    WY  WESTON COUNTY SHERIFF'S OFFICE  ... 1993-09-01        State\n",
              "130957    WY  WESTON COUNTY SHERIFF'S OFFICE  ... 1993-09-01        State\n",
              "\n",
              "[130958 rows x 11 columns]"
            ]
          },
          "metadata": {},
          "execution_count": 60
        }
      ]
    },
    {
      "cell_type": "code",
      "metadata": {
        "scrolled": true,
        "id": "Ndm605WoiZHP",
        "colab": {
          "base_uri": "https://localhost:8080/"
        },
        "outputId": "89541484-ddae-47dd-f1af-0b4e3fa2138f"
      },
      "source": [
        "df.count()"
      ],
      "execution_count": 61,
      "outputs": [
        {
          "output_type": "execute_result",
          "data": {
            "text/plain": [
              "State                130958\n",
              "Agency Name          130958\n",
              "NSN                  130958\n",
              "Item Name            130958\n",
              "Quantity             130958\n",
              "UI                   130958\n",
              "Acquisition Value    130958\n",
              "DEMIL Code           130958\n",
              "DEMIL IC             121048\n",
              "Ship Date            130958\n",
              "Station Type         130958\n",
              "dtype: int64"
            ]
          },
          "metadata": {},
          "execution_count": 61
        }
      ]
    },
    {
      "cell_type": "code",
      "metadata": {
        "scrolled": false,
        "id": "VpwAxGs6iZHQ",
        "colab": {
          "base_uri": "https://localhost:8080/"
        },
        "outputId": "799dc777-24e3-43a4-8edb-cc4d5853e08f"
      },
      "source": [
        "# There are 814 rows that are having null values and all are from column DEMIL IC\n",
        "df.isnull().sum()"
      ],
      "execution_count": 62,
      "outputs": [
        {
          "output_type": "execute_result",
          "data": {
            "text/plain": [
              "State                   0\n",
              "Agency Name             0\n",
              "NSN                     0\n",
              "Item Name               0\n",
              "Quantity                0\n",
              "UI                      0\n",
              "Acquisition Value       0\n",
              "DEMIL Code              0\n",
              "DEMIL IC             9910\n",
              "Ship Date               0\n",
              "Station Type            0\n",
              "dtype: int64"
            ]
          },
          "metadata": {},
          "execution_count": 62
        }
      ]
    },
    {
      "cell_type": "code",
      "metadata": {
        "id": "v3wlTUBuiZHR"
      },
      "source": [
        "df = df.fillna(1)"
      ],
      "execution_count": 63,
      "outputs": []
    },
    {
      "cell_type": "code",
      "metadata": {
        "colab": {
          "base_uri": "https://localhost:8080/"
        },
        "id": "s9glL-B5c6BP",
        "outputId": "5df669b6-9041-4e31-defe-27e03238b9e7"
      },
      "source": [
        "# We will drop state since all the instances have station type as state which as no significance \n",
        "df.groupby('Station Type').count()['State']"
      ],
      "execution_count": 64,
      "outputs": [
        {
          "output_type": "execute_result",
          "data": {
            "text/plain": [
              "Station Type\n",
              "State    130958\n",
              "Name: State, dtype: int64"
            ]
          },
          "metadata": {},
          "execution_count": 64
        }
      ]
    },
    {
      "cell_type": "code",
      "metadata": {
        "id": "Ml_jWYkmc_LE"
      },
      "source": [
        "df = df.drop('Station Type', 1)"
      ],
      "execution_count": 65,
      "outputs": []
    },
    {
      "cell_type": "code",
      "metadata": {
        "id": "fMtha-q-iZHS",
        "colab": {
          "base_uri": "https://localhost:8080/"
        },
        "outputId": "79df08f2-98fa-4217-caf5-032916dc91f9"
      },
      "source": [
        "df.info()"
      ],
      "execution_count": 66,
      "outputs": [
        {
          "output_type": "stream",
          "name": "stdout",
          "text": [
            "<class 'pandas.core.frame.DataFrame'>\n",
            "RangeIndex: 130958 entries, 0 to 130957\n",
            "Data columns (total 10 columns):\n",
            " #   Column             Non-Null Count   Dtype         \n",
            "---  ------             --------------   -----         \n",
            " 0   State              130958 non-null  object        \n",
            " 1   Agency Name        130958 non-null  object        \n",
            " 2   NSN                130958 non-null  object        \n",
            " 3   Item Name          130958 non-null  object        \n",
            " 4   Quantity           130958 non-null  int64         \n",
            " 5   UI                 130958 non-null  object        \n",
            " 6   Acquisition Value  130958 non-null  float64       \n",
            " 7   DEMIL Code         130958 non-null  object        \n",
            " 8   DEMIL IC           130958 non-null  float64       \n",
            " 9   Ship Date          130958 non-null  datetime64[ns]\n",
            "dtypes: datetime64[ns](1), float64(2), int64(1), object(6)\n",
            "memory usage: 10.0+ MB\n"
          ]
        }
      ]
    },
    {
      "cell_type": "code",
      "metadata": {
        "id": "iuXhCALRiZHT"
      },
      "source": [
        "from sklearn.preprocessing import LabelEncoder\n",
        "\n",
        "le =LabelEncoder()\n",
        "\n",
        "df['State'] = le.fit_transform(df['State'])\n",
        "df['Agency Name'] = le.fit_transform(df['Agency Name'])\n",
        "df['NSN'] = le.fit_transform(df['NSN'])\n",
        "df['Item Name'] = le.fit_transform(df['Item Name'])\n",
        "df['UI'] = le.fit_transform(df['UI'])\n",
        "df['DEMIL Code'] = le.fit_transform(df['DEMIL Code'])\n",
        "df['Ship Date'] = le.fit_transform(df['Ship Date'])\n",
        "\n",
        "\n",
        "\n"
      ],
      "execution_count": 67,
      "outputs": []
    },
    {
      "cell_type": "code",
      "metadata": {
        "scrolled": true,
        "id": "Ij6M-S39iZHT",
        "colab": {
          "base_uri": "https://localhost:8080/",
          "height": 363
        },
        "outputId": "ba3e4d69-8500-42f1-e39d-1e02b02ceadb"
      },
      "source": [
        "df.corr()"
      ],
      "execution_count": 68,
      "outputs": [
        {
          "output_type": "execute_result",
          "data": {
            "text/html": [
              "<div>\n",
              "<style scoped>\n",
              "    .dataframe tbody tr th:only-of-type {\n",
              "        vertical-align: middle;\n",
              "    }\n",
              "\n",
              "    .dataframe tbody tr th {\n",
              "        vertical-align: top;\n",
              "    }\n",
              "\n",
              "    .dataframe thead th {\n",
              "        text-align: right;\n",
              "    }\n",
              "</style>\n",
              "<table border=\"1\" class=\"dataframe\">\n",
              "  <thead>\n",
              "    <tr style=\"text-align: right;\">\n",
              "      <th></th>\n",
              "      <th>State</th>\n",
              "      <th>Agency Name</th>\n",
              "      <th>NSN</th>\n",
              "      <th>Item Name</th>\n",
              "      <th>Quantity</th>\n",
              "      <th>UI</th>\n",
              "      <th>Acquisition Value</th>\n",
              "      <th>DEMIL Code</th>\n",
              "      <th>DEMIL IC</th>\n",
              "      <th>Ship Date</th>\n",
              "    </tr>\n",
              "  </thead>\n",
              "  <tbody>\n",
              "    <tr>\n",
              "      <th>State</th>\n",
              "      <td>1.000000</td>\n",
              "      <td>0.007716</td>\n",
              "      <td>0.009308</td>\n",
              "      <td>0.008374</td>\n",
              "      <td>-0.010061</td>\n",
              "      <td>-0.014232</td>\n",
              "      <td>0.001140</td>\n",
              "      <td>0.005336</td>\n",
              "      <td>0.009781</td>\n",
              "      <td>0.061788</td>\n",
              "    </tr>\n",
              "    <tr>\n",
              "      <th>Agency Name</th>\n",
              "      <td>0.007716</td>\n",
              "      <td>1.000000</td>\n",
              "      <td>0.021460</td>\n",
              "      <td>-0.012198</td>\n",
              "      <td>0.007939</td>\n",
              "      <td>0.026054</td>\n",
              "      <td>-0.004720</td>\n",
              "      <td>-0.031039</td>\n",
              "      <td>-0.004451</td>\n",
              "      <td>0.015957</td>\n",
              "    </tr>\n",
              "    <tr>\n",
              "      <th>NSN</th>\n",
              "      <td>0.009308</td>\n",
              "      <td>0.021460</td>\n",
              "      <td>1.000000</td>\n",
              "      <td>-0.360693</td>\n",
              "      <td>0.081456</td>\n",
              "      <td>0.197884</td>\n",
              "      <td>0.008735</td>\n",
              "      <td>-0.357071</td>\n",
              "      <td>0.160561</td>\n",
              "      <td>0.632406</td>\n",
              "    </tr>\n",
              "    <tr>\n",
              "      <th>Item Name</th>\n",
              "      <td>0.008374</td>\n",
              "      <td>-0.012198</td>\n",
              "      <td>-0.360693</td>\n",
              "      <td>1.000000</td>\n",
              "      <td>-0.067334</td>\n",
              "      <td>-0.081001</td>\n",
              "      <td>-0.032489</td>\n",
              "      <td>0.182463</td>\n",
              "      <td>-0.028624</td>\n",
              "      <td>-0.257155</td>\n",
              "    </tr>\n",
              "    <tr>\n",
              "      <th>Quantity</th>\n",
              "      <td>-0.010061</td>\n",
              "      <td>0.007939</td>\n",
              "      <td>0.081456</td>\n",
              "      <td>-0.067334</td>\n",
              "      <td>1.000000</td>\n",
              "      <td>0.021148</td>\n",
              "      <td>-0.009467</td>\n",
              "      <td>-0.078962</td>\n",
              "      <td>-0.004195</td>\n",
              "      <td>0.099630</td>\n",
              "    </tr>\n",
              "    <tr>\n",
              "      <th>UI</th>\n",
              "      <td>-0.014232</td>\n",
              "      <td>0.026054</td>\n",
              "      <td>0.197884</td>\n",
              "      <td>-0.081001</td>\n",
              "      <td>0.021148</td>\n",
              "      <td>1.000000</td>\n",
              "      <td>-0.006709</td>\n",
              "      <td>-0.170494</td>\n",
              "      <td>-0.009302</td>\n",
              "      <td>0.152234</td>\n",
              "    </tr>\n",
              "    <tr>\n",
              "      <th>Acquisition Value</th>\n",
              "      <td>0.001140</td>\n",
              "      <td>-0.004720</td>\n",
              "      <td>0.008735</td>\n",
              "      <td>-0.032489</td>\n",
              "      <td>-0.009467</td>\n",
              "      <td>-0.006709</td>\n",
              "      <td>1.000000</td>\n",
              "      <td>-0.015225</td>\n",
              "      <td>0.025192</td>\n",
              "      <td>0.053920</td>\n",
              "    </tr>\n",
              "    <tr>\n",
              "      <th>DEMIL Code</th>\n",
              "      <td>0.005336</td>\n",
              "      <td>-0.031039</td>\n",
              "      <td>-0.357071</td>\n",
              "      <td>0.182463</td>\n",
              "      <td>-0.078962</td>\n",
              "      <td>-0.170494</td>\n",
              "      <td>-0.015225</td>\n",
              "      <td>1.000000</td>\n",
              "      <td>0.287777</td>\n",
              "      <td>-0.392149</td>\n",
              "    </tr>\n",
              "    <tr>\n",
              "      <th>DEMIL IC</th>\n",
              "      <td>0.009781</td>\n",
              "      <td>-0.004451</td>\n",
              "      <td>0.160561</td>\n",
              "      <td>-0.028624</td>\n",
              "      <td>-0.004195</td>\n",
              "      <td>-0.009302</td>\n",
              "      <td>0.025192</td>\n",
              "      <td>0.287777</td>\n",
              "      <td>1.000000</td>\n",
              "      <td>0.166042</td>\n",
              "    </tr>\n",
              "    <tr>\n",
              "      <th>Ship Date</th>\n",
              "      <td>0.061788</td>\n",
              "      <td>0.015957</td>\n",
              "      <td>0.632406</td>\n",
              "      <td>-0.257155</td>\n",
              "      <td>0.099630</td>\n",
              "      <td>0.152234</td>\n",
              "      <td>0.053920</td>\n",
              "      <td>-0.392149</td>\n",
              "      <td>0.166042</td>\n",
              "      <td>1.000000</td>\n",
              "    </tr>\n",
              "  </tbody>\n",
              "</table>\n",
              "</div>"
            ],
            "text/plain": [
              "                      State  Agency Name  ...  DEMIL IC  Ship Date\n",
              "State              1.000000     0.007716  ...  0.009781   0.061788\n",
              "Agency Name        0.007716     1.000000  ... -0.004451   0.015957\n",
              "NSN                0.009308     0.021460  ...  0.160561   0.632406\n",
              "Item Name          0.008374    -0.012198  ... -0.028624  -0.257155\n",
              "Quantity          -0.010061     0.007939  ... -0.004195   0.099630\n",
              "UI                -0.014232     0.026054  ... -0.009302   0.152234\n",
              "Acquisition Value  0.001140    -0.004720  ...  0.025192   0.053920\n",
              "DEMIL Code         0.005336    -0.031039  ...  0.287777  -0.392149\n",
              "DEMIL IC           0.009781    -0.004451  ...  1.000000   0.166042\n",
              "Ship Date          0.061788     0.015957  ...  0.166042   1.000000\n",
              "\n",
              "[10 rows x 10 columns]"
            ]
          },
          "metadata": {},
          "execution_count": 68
        }
      ]
    },
    {
      "cell_type": "code",
      "metadata": {
        "id": "-oSCygMHiZHT"
      },
      "source": [
        "from tensorflow.keras.optimizers import Adam\n",
        "import numpy as np\n",
        "from sklearn.model_selection import train_test_split\n",
        "from sklearn.preprocessing import OneHotEncoder\n",
        "from keras.models import Sequential\n",
        "from keras.layers import Dense\n",
        "\n"
      ],
      "execution_count": 69,
      "outputs": []
    },
    {
      "cell_type": "code",
      "metadata": {
        "id": "7X-1wsIciZHU"
      },
      "source": [
        "from sklearn.preprocessing import normalize\n",
        "from tensorflow.keras.utils import to_categorical\n",
        "\n",
        "# 'State','Ship Date', 'Agency Name', 'NSN', 'Item Name', 'Acquisition Value',\n",
        "#                      'DEMIL Code' , 'DEMIL IC'\n",
        "\n",
        "X = df.drop(labels = ['DEMIL Code' ], axis = 1)\n",
        "\n",
        "y = df['DEMIL Code']\n",
        "# y = df.iloc[:, 0:1]\n",
        "# df['State']\n",
        "X = normalize(X)\n",
        "\n",
        "# y = to_categorical(y)\n",
        "\n",
        "X_train, X_test,y_train, y_test = train_test_split(X, y, test_size = 0.3, random_state = True)\n",
        "\n",
        "\n",
        "\n"
      ],
      "execution_count": 70,
      "outputs": []
    },
    {
      "cell_type": "code",
      "metadata": {
        "id": "-2tAD4NuiZHU"
      },
      "source": [
        "from sklearn.metrics import accuracy_score\n",
        "from sklearn.preprocessing import MinMaxScaler\n",
        "from sklearn.metrics import confusion_matrix\n",
        "from sklearn.metrics import classification_report"
      ],
      "execution_count": 71,
      "outputs": []
    },
    {
      "cell_type": "code",
      "metadata": {
        "id": "PG1oxqvliZHW"
      },
      "source": [
        ""
      ],
      "execution_count": 71,
      "outputs": []
    },
    {
      "cell_type": "code",
      "metadata": {
        "scrolled": true,
        "id": "1c8umCuEiZHX",
        "colab": {
          "base_uri": "https://localhost:8080/",
          "height": 424
        },
        "outputId": "28a61e7a-6f17-413c-e651-b65a0ff6a4cb"
      },
      "source": [
        "df"
      ],
      "execution_count": 72,
      "outputs": [
        {
          "output_type": "execute_result",
          "data": {
            "text/html": [
              "<div>\n",
              "<style scoped>\n",
              "    .dataframe tbody tr th:only-of-type {\n",
              "        vertical-align: middle;\n",
              "    }\n",
              "\n",
              "    .dataframe tbody tr th {\n",
              "        vertical-align: top;\n",
              "    }\n",
              "\n",
              "    .dataframe thead th {\n",
              "        text-align: right;\n",
              "    }\n",
              "</style>\n",
              "<table border=\"1\" class=\"dataframe\">\n",
              "  <thead>\n",
              "    <tr style=\"text-align: right;\">\n",
              "      <th></th>\n",
              "      <th>State</th>\n",
              "      <th>Agency Name</th>\n",
              "      <th>NSN</th>\n",
              "      <th>Item Name</th>\n",
              "      <th>Quantity</th>\n",
              "      <th>UI</th>\n",
              "      <th>Acquisition Value</th>\n",
              "      <th>DEMIL Code</th>\n",
              "      <th>DEMIL IC</th>\n",
              "      <th>Ship Date</th>\n",
              "    </tr>\n",
              "  </thead>\n",
              "  <tbody>\n",
              "    <tr>\n",
              "      <th>0</th>\n",
              "      <td>1</td>\n",
              "      <td>9</td>\n",
              "      <td>2255</td>\n",
              "      <td>253</td>\n",
              "      <td>10</td>\n",
              "      <td>17</td>\n",
              "      <td>15871.59</td>\n",
              "      <td>3</td>\n",
              "      <td>1.0</td>\n",
              "      <td>4064</td>\n",
              "    </tr>\n",
              "    <tr>\n",
              "      <th>1</th>\n",
              "      <td>1</td>\n",
              "      <td>9</td>\n",
              "      <td>766</td>\n",
              "      <td>2750</td>\n",
              "      <td>1</td>\n",
              "      <td>13</td>\n",
              "      <td>245.88</td>\n",
              "      <td>3</td>\n",
              "      <td>1.0</td>\n",
              "      <td>3600</td>\n",
              "    </tr>\n",
              "    <tr>\n",
              "      <th>2</th>\n",
              "      <td>1</td>\n",
              "      <td>9</td>\n",
              "      <td>1951</td>\n",
              "      <td>2554</td>\n",
              "      <td>1</td>\n",
              "      <td>13</td>\n",
              "      <td>658000.00</td>\n",
              "      <td>2</td>\n",
              "      <td>1.0</td>\n",
              "      <td>3724</td>\n",
              "    </tr>\n",
              "    <tr>\n",
              "      <th>3</th>\n",
              "      <td>1</td>\n",
              "      <td>9</td>\n",
              "      <td>608</td>\n",
              "      <td>3729</td>\n",
              "      <td>9</td>\n",
              "      <td>13</td>\n",
              "      <td>333.00</td>\n",
              "      <td>3</td>\n",
              "      <td>1.0</td>\n",
              "      <td>3677</td>\n",
              "    </tr>\n",
              "    <tr>\n",
              "      <th>4</th>\n",
              "      <td>1</td>\n",
              "      <td>9</td>\n",
              "      <td>5631</td>\n",
              "      <td>1996</td>\n",
              "      <td>10</td>\n",
              "      <td>13</td>\n",
              "      <td>926.00</td>\n",
              "      <td>3</td>\n",
              "      <td>1.0</td>\n",
              "      <td>3832</td>\n",
              "    </tr>\n",
              "    <tr>\n",
              "      <th>...</th>\n",
              "      <td>...</td>\n",
              "      <td>...</td>\n",
              "      <td>...</td>\n",
              "      <td>...</td>\n",
              "      <td>...</td>\n",
              "      <td>...</td>\n",
              "      <td>...</td>\n",
              "      <td>...</td>\n",
              "      <td>...</td>\n",
              "      <td>...</td>\n",
              "    </tr>\n",
              "    <tr>\n",
              "      <th>130953</th>\n",
              "      <td>52</td>\n",
              "      <td>5427</td>\n",
              "      <td>39</td>\n",
              "      <td>3375</td>\n",
              "      <td>1</td>\n",
              "      <td>13</td>\n",
              "      <td>138.00</td>\n",
              "      <td>3</td>\n",
              "      <td>1.0</td>\n",
              "      <td>22</td>\n",
              "    </tr>\n",
              "    <tr>\n",
              "      <th>130954</th>\n",
              "      <td>52</td>\n",
              "      <td>5427</td>\n",
              "      <td>39</td>\n",
              "      <td>3375</td>\n",
              "      <td>1</td>\n",
              "      <td>13</td>\n",
              "      <td>138.00</td>\n",
              "      <td>3</td>\n",
              "      <td>1.0</td>\n",
              "      <td>22</td>\n",
              "    </tr>\n",
              "    <tr>\n",
              "      <th>130955</th>\n",
              "      <td>52</td>\n",
              "      <td>5427</td>\n",
              "      <td>39</td>\n",
              "      <td>3375</td>\n",
              "      <td>1</td>\n",
              "      <td>13</td>\n",
              "      <td>138.00</td>\n",
              "      <td>3</td>\n",
              "      <td>1.0</td>\n",
              "      <td>22</td>\n",
              "    </tr>\n",
              "    <tr>\n",
              "      <th>130956</th>\n",
              "      <td>52</td>\n",
              "      <td>5427</td>\n",
              "      <td>39</td>\n",
              "      <td>3375</td>\n",
              "      <td>1</td>\n",
              "      <td>13</td>\n",
              "      <td>138.00</td>\n",
              "      <td>3</td>\n",
              "      <td>1.0</td>\n",
              "      <td>22</td>\n",
              "    </tr>\n",
              "    <tr>\n",
              "      <th>130957</th>\n",
              "      <td>52</td>\n",
              "      <td>5427</td>\n",
              "      <td>39</td>\n",
              "      <td>3375</td>\n",
              "      <td>1</td>\n",
              "      <td>13</td>\n",
              "      <td>138.00</td>\n",
              "      <td>3</td>\n",
              "      <td>1.0</td>\n",
              "      <td>22</td>\n",
              "    </tr>\n",
              "  </tbody>\n",
              "</table>\n",
              "<p>130958 rows × 10 columns</p>\n",
              "</div>"
            ],
            "text/plain": [
              "        State  Agency Name   NSN  ...  DEMIL Code  DEMIL IC  Ship Date\n",
              "0           1            9  2255  ...           3       1.0       4064\n",
              "1           1            9   766  ...           3       1.0       3600\n",
              "2           1            9  1951  ...           2       1.0       3724\n",
              "3           1            9   608  ...           3       1.0       3677\n",
              "4           1            9  5631  ...           3       1.0       3832\n",
              "...       ...          ...   ...  ...         ...       ...        ...\n",
              "130953     52         5427    39  ...           3       1.0         22\n",
              "130954     52         5427    39  ...           3       1.0         22\n",
              "130955     52         5427    39  ...           3       1.0         22\n",
              "130956     52         5427    39  ...           3       1.0         22\n",
              "130957     52         5427    39  ...           3       1.0         22\n",
              "\n",
              "[130958 rows x 10 columns]"
            ]
          },
          "metadata": {},
          "execution_count": 72
        }
      ]
    },
    {
      "cell_type": "code",
      "metadata": {
        "id": "AhCvyI4uiZHX",
        "colab": {
          "base_uri": "https://localhost:8080/"
        },
        "outputId": "d29f006b-808b-4d7e-e8b3-f643c889bf02"
      },
      "source": [
        "X_train #State #\tAgency Name\tNSN\tItem Name\tQuantity\tUI\tAcquisition Value\tDEMIL Code\tDEMIL IC\tShip Date\tStation Type"
      ],
      "execution_count": 73,
      "outputs": [
        {
          "output_type": "execute_result",
          "data": {
            "text/plain": [
              "array([[2.61332951e-04, 2.56498291e-01, 5.57815183e-01, ...,\n",
              "        4.10031399e-03, 1.30666475e-04, 6.11780437e-01],\n",
              "       [4.23698044e-03, 2.82430915e-01, 5.60624850e-01, ...,\n",
              "        5.49154001e-01, 1.03340986e-04, 3.94969249e-01],\n",
              "       [9.90413176e-03, 5.55981942e-01, 1.37307281e-02, ...,\n",
              "        1.32152631e-02, 2.25093904e-04, 4.98582996e-01],\n",
              "       ...,\n",
              "       [3.77333989e-03, 4.53409390e-01, 5.76103796e-01, ...,\n",
              "        1.02245339e-03, 1.21720642e-04, 5.88154140e-01],\n",
              "       [7.47117938e-03, 8.50985554e-02, 1.20085542e-01, ...,\n",
              "        6.06805545e-02, 1.82223887e-04, 7.16139877e-01],\n",
              "       [9.82978305e-03, 3.91028770e-01, 2.45744576e-02, ...,\n",
              "        1.47250150e-01, 1.96595661e-04, 6.20259310e-01]])"
            ]
          },
          "metadata": {},
          "execution_count": 73
        }
      ]
    },
    {
      "cell_type": "code",
      "metadata": {
        "id": "ikjpD_wXiZHY",
        "colab": {
          "base_uri": "https://localhost:8080/"
        },
        "outputId": "578a26ca-e9c2-4825-a84c-3c56b3c7339f"
      },
      "source": [
        "X_train = np.array(X_train)\n",
        "X_train = np.reshape(X_train, (X_train.shape[0], X_train.shape[1], 1))\n",
        "X_train.shape"
      ],
      "execution_count": 74,
      "outputs": [
        {
          "output_type": "execute_result",
          "data": {
            "text/plain": [
              "(91670, 9, 1)"
            ]
          },
          "metadata": {},
          "execution_count": 74
        }
      ]
    },
    {
      "cell_type": "code",
      "metadata": {
        "id": "mA5iD9UP33EK"
      },
      "source": [
        "from tensorflow.keras.utils import to_categorical\n",
        "#one-hot encode target column\n",
        "y_train = to_categorical(y_train)\n",
        "y_test = to_categorical(y_test)"
      ],
      "execution_count": 75,
      "outputs": []
    },
    {
      "cell_type": "code",
      "metadata": {
        "id": "0t6OSy3fiZHZ"
      },
      "source": [
        "from keras.models import Sequential\n",
        "from keras.layers import Dense\n",
        "from keras.layers import LSTM, Dropout\n",
        "model3=Sequential()\n",
        "model3.add(LSTM(100, return_sequences = True, input_shape = (X_train.shape[1], X_train.shape[2] )))\n",
        "model3.add(Dropout(0.2))\n",
        "model3.add(LSTM(100, return_sequences = True))\n",
        "model3.add(Dropout(0.2))\n",
        "model3.add(LSTM(1000, return_sequences = True))\n",
        "model3.add(Dropout(0.2))\n",
        "model3.add(LSTM(100))\n",
        "model3.add(Dropout(0.2))\n",
        "model3.add(Dense(7))"
      ],
      "execution_count": 76,
      "outputs": []
    },
    {
      "cell_type": "code",
      "metadata": {
        "id": "Uo8BFyT_jQw0",
        "colab": {
          "base_uri": "https://localhost:8080/"
        },
        "outputId": "9914f5b9-0fb4-497a-8f34-d19132263012"
      },
      "source": [
        "from tensorflow.keras.optimizers import Adam\n",
        "model3.compile(loss='mean_squared_error', optimizer='adam', metrics=['accuracy'])\n",
        "print('Model summary')\n",
        "print(model3.summary())"
      ],
      "execution_count": 77,
      "outputs": [
        {
          "output_type": "stream",
          "name": "stdout",
          "text": [
            "Model summary\n",
            "Model: \"sequential_2\"\n",
            "_________________________________________________________________\n",
            " Layer (type)                Output Shape              Param #   \n",
            "=================================================================\n",
            " lstm_8 (LSTM)               (None, 9, 100)            40800     \n",
            "                                                                 \n",
            " dropout_8 (Dropout)         (None, 9, 100)            0         \n",
            "                                                                 \n",
            " lstm_9 (LSTM)               (None, 9, 100)            80400     \n",
            "                                                                 \n",
            " dropout_9 (Dropout)         (None, 9, 100)            0         \n",
            "                                                                 \n",
            " lstm_10 (LSTM)              (None, 9, 1000)           4404000   \n",
            "                                                                 \n",
            " dropout_10 (Dropout)        (None, 9, 1000)           0         \n",
            "                                                                 \n",
            " lstm_11 (LSTM)              (None, 100)               440400    \n",
            "                                                                 \n",
            " dropout_11 (Dropout)        (None, 100)               0         \n",
            "                                                                 \n",
            " dense_2 (Dense)             (None, 7)                 707       \n",
            "                                                                 \n",
            "=================================================================\n",
            "Total params: 4,966,307\n",
            "Trainable params: 4,966,307\n",
            "Non-trainable params: 0\n",
            "_________________________________________________________________\n",
            "None\n"
          ]
        }
      ]
    },
    {
      "cell_type": "code",
      "metadata": {
        "id": "RJYEaoifjTkX",
        "colab": {
          "base_uri": "https://localhost:8080/"
        },
        "outputId": "0e1954ee-46b9-410b-8870-a039c8f01297"
      },
      "source": [
        "model3.fit(X_train, y_train, verbose=2, batch_size=128,epochs=100) # 93.95"
      ],
      "execution_count": 78,
      "outputs": [
        {
          "output_type": "stream",
          "name": "stdout",
          "text": [
            "Epoch 1/100\n",
            "717/717 - 35s - loss: 0.0559 - accuracy: 0.7506 - 35s/epoch - 49ms/step\n",
            "Epoch 2/100\n",
            "717/717 - 27s - loss: 0.0332 - accuracy: 0.8334 - 27s/epoch - 38ms/step\n",
            "Epoch 3/100\n",
            "717/717 - 27s - loss: 0.0300 - accuracy: 0.8515 - 27s/epoch - 38ms/step\n",
            "Epoch 4/100\n",
            "717/717 - 27s - loss: 0.0281 - accuracy: 0.8616 - 27s/epoch - 38ms/step\n",
            "Epoch 5/100\n",
            "717/717 - 27s - loss: 0.0270 - accuracy: 0.8694 - 27s/epoch - 38ms/step\n",
            "Epoch 6/100\n",
            "717/717 - 27s - loss: 0.0258 - accuracy: 0.8763 - 27s/epoch - 38ms/step\n",
            "Epoch 7/100\n",
            "717/717 - 27s - loss: 0.0247 - accuracy: 0.8823 - 27s/epoch - 38ms/step\n",
            "Epoch 8/100\n",
            "717/717 - 27s - loss: 0.0239 - accuracy: 0.8879 - 27s/epoch - 38ms/step\n",
            "Epoch 9/100\n",
            "717/717 - 27s - loss: 0.0231 - accuracy: 0.8913 - 27s/epoch - 38ms/step\n",
            "Epoch 10/100\n",
            "717/717 - 27s - loss: 0.0228 - accuracy: 0.8928 - 27s/epoch - 38ms/step\n",
            "Epoch 11/100\n",
            "717/717 - 27s - loss: 0.0221 - accuracy: 0.8962 - 27s/epoch - 38ms/step\n",
            "Epoch 12/100\n",
            "717/717 - 27s - loss: 0.0215 - accuracy: 0.8997 - 27s/epoch - 38ms/step\n",
            "Epoch 13/100\n",
            "717/717 - 27s - loss: 0.0210 - accuracy: 0.9031 - 27s/epoch - 38ms/step\n",
            "Epoch 14/100\n",
            "717/717 - 27s - loss: 0.0205 - accuracy: 0.9061 - 27s/epoch - 38ms/step\n",
            "Epoch 15/100\n",
            "717/717 - 27s - loss: 0.0202 - accuracy: 0.9071 - 27s/epoch - 38ms/step\n",
            "Epoch 16/100\n",
            "717/717 - 27s - loss: 0.0196 - accuracy: 0.9098 - 27s/epoch - 38ms/step\n",
            "Epoch 17/100\n",
            "717/717 - 27s - loss: 0.0195 - accuracy: 0.9107 - 27s/epoch - 38ms/step\n",
            "Epoch 18/100\n",
            "717/717 - 27s - loss: 0.0192 - accuracy: 0.9112 - 27s/epoch - 38ms/step\n",
            "Epoch 19/100\n",
            "717/717 - 27s - loss: 0.0188 - accuracy: 0.9134 - 27s/epoch - 38ms/step\n",
            "Epoch 20/100\n",
            "717/717 - 27s - loss: 0.0185 - accuracy: 0.9146 - 27s/epoch - 38ms/step\n",
            "Epoch 21/100\n",
            "717/717 - 27s - loss: 0.0182 - accuracy: 0.9163 - 27s/epoch - 38ms/step\n",
            "Epoch 22/100\n",
            "717/717 - 27s - loss: 0.0179 - accuracy: 0.9184 - 27s/epoch - 38ms/step\n",
            "Epoch 23/100\n",
            "717/717 - 27s - loss: 0.0176 - accuracy: 0.9200 - 27s/epoch - 38ms/step\n",
            "Epoch 24/100\n",
            "717/717 - 27s - loss: 0.0175 - accuracy: 0.9209 - 27s/epoch - 38ms/step\n",
            "Epoch 25/100\n",
            "717/717 - 27s - loss: 0.0172 - accuracy: 0.9218 - 27s/epoch - 38ms/step\n",
            "Epoch 26/100\n",
            "717/717 - 27s - loss: 0.0171 - accuracy: 0.9226 - 27s/epoch - 38ms/step\n",
            "Epoch 27/100\n",
            "717/717 - 27s - loss: 0.0166 - accuracy: 0.9253 - 27s/epoch - 38ms/step\n",
            "Epoch 28/100\n",
            "717/717 - 27s - loss: 0.0164 - accuracy: 0.9262 - 27s/epoch - 38ms/step\n",
            "Epoch 29/100\n",
            "717/717 - 27s - loss: 0.0164 - accuracy: 0.9260 - 27s/epoch - 38ms/step\n",
            "Epoch 30/100\n",
            "717/717 - 27s - loss: 0.0159 - accuracy: 0.9293 - 27s/epoch - 38ms/step\n",
            "Epoch 31/100\n",
            "717/717 - 27s - loss: 0.0158 - accuracy: 0.9297 - 27s/epoch - 38ms/step\n",
            "Epoch 32/100\n",
            "717/717 - 27s - loss: 0.0158 - accuracy: 0.9292 - 27s/epoch - 38ms/step\n",
            "Epoch 33/100\n",
            "717/717 - 27s - loss: 0.0153 - accuracy: 0.9317 - 27s/epoch - 38ms/step\n",
            "Epoch 34/100\n",
            "717/717 - 27s - loss: 0.0153 - accuracy: 0.9323 - 27s/epoch - 38ms/step\n",
            "Epoch 35/100\n",
            "717/717 - 27s - loss: 0.0152 - accuracy: 0.9323 - 27s/epoch - 38ms/step\n",
            "Epoch 36/100\n",
            "717/717 - 27s - loss: 0.0150 - accuracy: 0.9340 - 27s/epoch - 38ms/step\n",
            "Epoch 37/100\n",
            "717/717 - 27s - loss: 0.0148 - accuracy: 0.9349 - 27s/epoch - 38ms/step\n",
            "Epoch 38/100\n",
            "717/717 - 27s - loss: 0.0146 - accuracy: 0.9355 - 27s/epoch - 38ms/step\n",
            "Epoch 39/100\n",
            "717/717 - 27s - loss: 0.0143 - accuracy: 0.9374 - 27s/epoch - 38ms/step\n",
            "Epoch 40/100\n",
            "717/717 - 27s - loss: 0.0142 - accuracy: 0.9375 - 27s/epoch - 38ms/step\n",
            "Epoch 41/100\n",
            "717/717 - 27s - loss: 0.0141 - accuracy: 0.9375 - 27s/epoch - 38ms/step\n",
            "Epoch 42/100\n",
            "717/717 - 27s - loss: 0.0138 - accuracy: 0.9397 - 27s/epoch - 38ms/step\n",
            "Epoch 43/100\n",
            "717/717 - 27s - loss: 0.0138 - accuracy: 0.9394 - 27s/epoch - 38ms/step\n",
            "Epoch 44/100\n",
            "717/717 - 27s - loss: 0.0137 - accuracy: 0.9406 - 27s/epoch - 38ms/step\n",
            "Epoch 45/100\n",
            "717/717 - 27s - loss: 0.0135 - accuracy: 0.9407 - 27s/epoch - 38ms/step\n",
            "Epoch 46/100\n",
            "717/717 - 27s - loss: 0.0133 - accuracy: 0.9418 - 27s/epoch - 38ms/step\n",
            "Epoch 47/100\n",
            "717/717 - 27s - loss: 0.0132 - accuracy: 0.9424 - 27s/epoch - 38ms/step\n",
            "Epoch 48/100\n",
            "717/717 - 27s - loss: 0.0131 - accuracy: 0.9428 - 27s/epoch - 38ms/step\n",
            "Epoch 49/100\n",
            "717/717 - 27s - loss: 0.0129 - accuracy: 0.9438 - 27s/epoch - 38ms/step\n",
            "Epoch 50/100\n",
            "717/717 - 27s - loss: 0.0130 - accuracy: 0.9437 - 27s/epoch - 38ms/step\n",
            "Epoch 51/100\n",
            "717/717 - 27s - loss: 0.0126 - accuracy: 0.9455 - 27s/epoch - 38ms/step\n",
            "Epoch 52/100\n",
            "717/717 - 27s - loss: 0.0124 - accuracy: 0.9468 - 27s/epoch - 38ms/step\n",
            "Epoch 53/100\n",
            "717/717 - 27s - loss: 0.0124 - accuracy: 0.9463 - 27s/epoch - 38ms/step\n",
            "Epoch 54/100\n",
            "717/717 - 27s - loss: 0.0122 - accuracy: 0.9474 - 27s/epoch - 38ms/step\n",
            "Epoch 55/100\n",
            "717/717 - 27s - loss: 0.0122 - accuracy: 0.9474 - 27s/epoch - 38ms/step\n",
            "Epoch 56/100\n",
            "717/717 - 27s - loss: 0.0120 - accuracy: 0.9487 - 27s/epoch - 38ms/step\n",
            "Epoch 57/100\n",
            "717/717 - 27s - loss: 0.0119 - accuracy: 0.9493 - 27s/epoch - 38ms/step\n",
            "Epoch 58/100\n",
            "717/717 - 27s - loss: 0.0118 - accuracy: 0.9495 - 27s/epoch - 38ms/step\n",
            "Epoch 59/100\n",
            "717/717 - 27s - loss: 0.0118 - accuracy: 0.9495 - 27s/epoch - 38ms/step\n",
            "Epoch 60/100\n",
            "717/717 - 27s - loss: 0.0118 - accuracy: 0.9497 - 27s/epoch - 38ms/step\n",
            "Epoch 61/100\n",
            "717/717 - 27s - loss: 0.0116 - accuracy: 0.9508 - 27s/epoch - 38ms/step\n",
            "Epoch 62/100\n",
            "717/717 - 27s - loss: 0.0115 - accuracy: 0.9504 - 27s/epoch - 38ms/step\n",
            "Epoch 63/100\n",
            "717/717 - 27s - loss: 0.0115 - accuracy: 0.9510 - 27s/epoch - 38ms/step\n",
            "Epoch 64/100\n",
            "717/717 - 27s - loss: 0.0112 - accuracy: 0.9526 - 27s/epoch - 38ms/step\n",
            "Epoch 65/100\n",
            "717/717 - 27s - loss: 0.0113 - accuracy: 0.9519 - 27s/epoch - 38ms/step\n",
            "Epoch 66/100\n",
            "717/717 - 27s - loss: 0.0112 - accuracy: 0.9525 - 27s/epoch - 38ms/step\n",
            "Epoch 67/100\n",
            "717/717 - 27s - loss: 0.0111 - accuracy: 0.9530 - 27s/epoch - 38ms/step\n",
            "Epoch 68/100\n",
            "717/717 - 27s - loss: 0.0109 - accuracy: 0.9536 - 27s/epoch - 38ms/step\n",
            "Epoch 69/100\n",
            "717/717 - 27s - loss: 0.0108 - accuracy: 0.9540 - 27s/epoch - 38ms/step\n",
            "Epoch 70/100\n",
            "717/717 - 27s - loss: 0.0108 - accuracy: 0.9548 - 27s/epoch - 38ms/step\n",
            "Epoch 71/100\n",
            "717/717 - 27s - loss: 0.0106 - accuracy: 0.9554 - 27s/epoch - 38ms/step\n",
            "Epoch 72/100\n",
            "717/717 - 27s - loss: 0.0107 - accuracy: 0.9553 - 27s/epoch - 38ms/step\n",
            "Epoch 73/100\n",
            "717/717 - 27s - loss: 0.0104 - accuracy: 0.9566 - 27s/epoch - 38ms/step\n",
            "Epoch 74/100\n",
            "717/717 - 27s - loss: 0.0104 - accuracy: 0.9563 - 27s/epoch - 38ms/step\n",
            "Epoch 75/100\n",
            "717/717 - 27s - loss: 0.0103 - accuracy: 0.9572 - 27s/epoch - 38ms/step\n",
            "Epoch 76/100\n",
            "717/717 - 27s - loss: 0.0100 - accuracy: 0.9583 - 27s/epoch - 38ms/step\n",
            "Epoch 77/100\n",
            "717/717 - 27s - loss: 0.0101 - accuracy: 0.9579 - 27s/epoch - 38ms/step\n",
            "Epoch 78/100\n",
            "717/717 - 27s - loss: 0.0102 - accuracy: 0.9572 - 27s/epoch - 38ms/step\n",
            "Epoch 79/100\n",
            "717/717 - 27s - loss: 0.0102 - accuracy: 0.9576 - 27s/epoch - 38ms/step\n",
            "Epoch 80/100\n",
            "717/717 - 27s - loss: 0.0099 - accuracy: 0.9590 - 27s/epoch - 38ms/step\n",
            "Epoch 81/100\n",
            "717/717 - 27s - loss: 0.0100 - accuracy: 0.9585 - 27s/epoch - 38ms/step\n",
            "Epoch 82/100\n",
            "717/717 - 27s - loss: 0.0098 - accuracy: 0.9598 - 27s/epoch - 38ms/step\n",
            "Epoch 83/100\n",
            "717/717 - 27s - loss: 0.0096 - accuracy: 0.9605 - 27s/epoch - 38ms/step\n",
            "Epoch 84/100\n",
            "717/717 - 27s - loss: 0.0095 - accuracy: 0.9606 - 27s/epoch - 38ms/step\n",
            "Epoch 85/100\n",
            "717/717 - 27s - loss: 0.0095 - accuracy: 0.9610 - 27s/epoch - 38ms/step\n",
            "Epoch 86/100\n",
            "717/717 - 27s - loss: 0.0095 - accuracy: 0.9610 - 27s/epoch - 38ms/step\n",
            "Epoch 87/100\n",
            "717/717 - 27s - loss: 0.0093 - accuracy: 0.9619 - 27s/epoch - 38ms/step\n",
            "Epoch 88/100\n",
            "717/717 - 27s - loss: 0.0094 - accuracy: 0.9613 - 27s/epoch - 38ms/step\n",
            "Epoch 89/100\n",
            "717/717 - 27s - loss: 0.0092 - accuracy: 0.9622 - 27s/epoch - 38ms/step\n",
            "Epoch 90/100\n",
            "717/717 - 27s - loss: 0.0092 - accuracy: 0.9618 - 27s/epoch - 38ms/step\n",
            "Epoch 91/100\n",
            "717/717 - 27s - loss: 0.0090 - accuracy: 0.9635 - 27s/epoch - 38ms/step\n",
            "Epoch 92/100\n",
            "717/717 - 27s - loss: 0.0090 - accuracy: 0.9633 - 27s/epoch - 38ms/step\n",
            "Epoch 93/100\n",
            "717/717 - 27s - loss: 0.0090 - accuracy: 0.9631 - 27s/epoch - 38ms/step\n",
            "Epoch 94/100\n",
            "717/717 - 27s - loss: 0.0089 - accuracy: 0.9640 - 27s/epoch - 38ms/step\n",
            "Epoch 95/100\n",
            "717/717 - 27s - loss: 0.0086 - accuracy: 0.9650 - 27s/epoch - 38ms/step\n",
            "Epoch 96/100\n",
            "717/717 - 27s - loss: 0.0087 - accuracy: 0.9646 - 27s/epoch - 38ms/step\n",
            "Epoch 97/100\n",
            "717/717 - 27s - loss: 0.0087 - accuracy: 0.9654 - 27s/epoch - 38ms/step\n",
            "Epoch 98/100\n",
            "717/717 - 27s - loss: 0.0085 - accuracy: 0.9658 - 27s/epoch - 38ms/step\n",
            "Epoch 99/100\n",
            "717/717 - 27s - loss: 0.0085 - accuracy: 0.9659 - 27s/epoch - 38ms/step\n",
            "Epoch 100/100\n",
            "717/717 - 27s - loss: 0.0086 - accuracy: 0.9659 - 27s/epoch - 38ms/step\n"
          ]
        },
        {
          "output_type": "execute_result",
          "data": {
            "text/plain": [
              "<keras.callbacks.History at 0x7fc821dc4190>"
            ]
          },
          "metadata": {},
          "execution_count": 78
        }
      ]
    },
    {
      "cell_type": "code",
      "metadata": {
        "id": "s5E62zu-jS2J",
        "colab": {
          "base_uri": "https://localhost:8080/"
        },
        "outputId": "0ca1e65c-f02c-4f8a-d978-cca7274d6dc4"
      },
      "source": [
        "# Model 3 - LSTM\n",
        "predict3= model3.predict(X_test, batch_size=128)\n",
        "predict3"
      ],
      "execution_count": 79,
      "outputs": [
        {
          "output_type": "execute_result",
          "data": {
            "text/plain": [
              "array([[ 9.8677659e-01, -1.6101281e-04,  6.2092766e-03, ...,\n",
              "         1.3670218e-02, -9.8043457e-03, -1.2417231e-02],\n",
              "       [-5.4548383e-03, -4.4358586e-04, -1.7540604e-03, ...,\n",
              "        -9.2339772e-04,  5.7036802e-04,  5.8335811e-04],\n",
              "       [-5.3414106e-03, -4.6571059e-04, -1.5784055e-03, ...,\n",
              "        -9.5939939e-04,  6.6039711e-04,  6.6276640e-04],\n",
              "       ...,\n",
              "       [-5.5332035e-03, -4.9594307e-04, -2.1260008e-03, ...,\n",
              "        -9.0564392e-04,  5.2510202e-04,  6.1052293e-04],\n",
              "       [ 6.7776930e-01,  7.2694365e-03, -8.7624043e-03, ...,\n",
              "         1.0146133e-02,  1.7850474e-02,  4.0833216e-02],\n",
              "       [ 1.3905764e-02, -5.5020335e-03, -1.5164658e-02, ...,\n",
              "        -8.4399548e-04, -1.8616721e-02,  2.7380161e-02]], dtype=float32)"
            ]
          },
          "metadata": {},
          "execution_count": 79
        }
      ]
    },
    {
      "cell_type": "code",
      "metadata": {
        "id": "z7Yp3HO0jWeg",
        "colab": {
          "base_uri": "https://localhost:8080/"
        },
        "outputId": "1fcd318a-a12d-4ae8-f58d-7dbecdba2ab3"
      },
      "source": [
        "results3 = model3.evaluate(X_test, y_test)\n",
        "print('Final test set loss', format(results3[0]))\n",
        "print('Final test set accuracy', format(results3[1]))"
      ],
      "execution_count": 80,
      "outputs": [
        {
          "output_type": "stream",
          "name": "stdout",
          "text": [
            "1228/1228 [==============================] - 17s 12ms/step - loss: 0.0107 - accuracy: 0.9539\n",
            "Final test set loss 0.010707481764256954\n",
            "Final test set accuracy 0.9538790583610535\n"
          ]
        }
      ]
    },
    {
      "cell_type": "code",
      "metadata": {
        "id": "ESn44tl7jcqt"
      },
      "source": [
        "y_pred3 = np.argmax(predict3,axis=1)"
      ],
      "execution_count": 81,
      "outputs": []
    },
    {
      "cell_type": "code",
      "metadata": {
        "id": "5gzzEah1jc9A"
      },
      "source": [
        "y_val3 =np.argmax(y_test, axis=1)"
      ],
      "execution_count": 82,
      "outputs": []
    },
    {
      "cell_type": "code",
      "metadata": {
        "id": "64JKv6CNjdMZ",
        "colab": {
          "base_uri": "https://localhost:8080/"
        },
        "outputId": "77791e4f-3cad-45dd-ac6f-2fc065354d1a"
      },
      "source": [
        "print(classification_report(y_val3,y_pred3))"
      ],
      "execution_count": 83,
      "outputs": [
        {
          "output_type": "stream",
          "name": "stdout",
          "text": [
            "              precision    recall  f1-score   support\n",
            "\n",
            "           0       0.91      0.94      0.93      5424\n",
            "           1       0.00      0.00      0.00        52\n",
            "           2       0.87      0.91      0.89      2104\n",
            "           3       0.98      0.98      0.98     28099\n",
            "           4       0.67      0.53      0.59        34\n",
            "           5       0.93      0.97      0.95      1905\n",
            "           6       0.77      0.59      0.67      1670\n",
            "\n",
            "    accuracy                           0.95     39288\n",
            "   macro avg       0.73      0.70      0.71     39288\n",
            "weighted avg       0.95      0.95      0.95     39288\n",
            "\n"
          ]
        },
        {
          "output_type": "stream",
          "name": "stderr",
          "text": [
            "/usr/local/lib/python3.7/dist-packages/sklearn/metrics/_classification.py:1308: UndefinedMetricWarning: Precision and F-score are ill-defined and being set to 0.0 in labels with no predicted samples. Use `zero_division` parameter to control this behavior.\n",
            "  _warn_prf(average, modifier, msg_start, len(result))\n",
            "/usr/local/lib/python3.7/dist-packages/sklearn/metrics/_classification.py:1308: UndefinedMetricWarning: Precision and F-score are ill-defined and being set to 0.0 in labels with no predicted samples. Use `zero_division` parameter to control this behavior.\n",
            "  _warn_prf(average, modifier, msg_start, len(result))\n",
            "/usr/local/lib/python3.7/dist-packages/sklearn/metrics/_classification.py:1308: UndefinedMetricWarning: Precision and F-score are ill-defined and being set to 0.0 in labels with no predicted samples. Use `zero_division` parameter to control this behavior.\n",
            "  _warn_prf(average, modifier, msg_start, len(result))\n"
          ]
        }
      ]
    },
    {
      "cell_type": "code",
      "metadata": {
        "id": "VJsNsGWnjdaQ",
        "colab": {
          "base_uri": "https://localhost:8080/"
        },
        "outputId": "0c4136e9-e780-4c96-f37d-9834de802f51"
      },
      "source": [
        "print(classification_report(y_val3, y_pred3))"
      ],
      "execution_count": 84,
      "outputs": [
        {
          "output_type": "stream",
          "name": "stdout",
          "text": [
            "              precision    recall  f1-score   support\n",
            "\n",
            "           0       0.91      0.94      0.93      5424\n",
            "           1       0.00      0.00      0.00        52\n",
            "           2       0.87      0.91      0.89      2104\n",
            "           3       0.98      0.98      0.98     28099\n",
            "           4       0.67      0.53      0.59        34\n",
            "           5       0.93      0.97      0.95      1905\n",
            "           6       0.77      0.59      0.67      1670\n",
            "\n",
            "    accuracy                           0.95     39288\n",
            "   macro avg       0.73      0.70      0.71     39288\n",
            "weighted avg       0.95      0.95      0.95     39288\n",
            "\n"
          ]
        },
        {
          "output_type": "stream",
          "name": "stderr",
          "text": [
            "/usr/local/lib/python3.7/dist-packages/sklearn/metrics/_classification.py:1308: UndefinedMetricWarning: Precision and F-score are ill-defined and being set to 0.0 in labels with no predicted samples. Use `zero_division` parameter to control this behavior.\n",
            "  _warn_prf(average, modifier, msg_start, len(result))\n",
            "/usr/local/lib/python3.7/dist-packages/sklearn/metrics/_classification.py:1308: UndefinedMetricWarning: Precision and F-score are ill-defined and being set to 0.0 in labels with no predicted samples. Use `zero_division` parameter to control this behavior.\n",
            "  _warn_prf(average, modifier, msg_start, len(result))\n",
            "/usr/local/lib/python3.7/dist-packages/sklearn/metrics/_classification.py:1308: UndefinedMetricWarning: Precision and F-score are ill-defined and being set to 0.0 in labels with no predicted samples. Use `zero_division` parameter to control this behavior.\n",
            "  _warn_prf(average, modifier, msg_start, len(result))\n"
          ]
        }
      ]
    },
    {
      "cell_type": "code",
      "metadata": {
        "id": "HArFVjAujdpa"
      },
      "source": [
        ""
      ],
      "execution_count": 84,
      "outputs": []
    },
    {
      "cell_type": "code",
      "metadata": {
        "id": "ejMn6AC3kB1i",
        "colab": {
          "base_uri": "https://localhost:8080/",
          "height": 424
        },
        "outputId": "f36f3809-2f18-43f8-d13b-5d4d11866ffc"
      },
      "source": [
        "df = pd.concat(data[frame] for frame in data.keys()) \n",
        "df = df.reset_index()\n",
        "df = df.drop(labels = 'index', axis = 1)\n",
        "df"
      ],
      "execution_count": 85,
      "outputs": [
        {
          "output_type": "execute_result",
          "data": {
            "text/html": [
              "<div>\n",
              "<style scoped>\n",
              "    .dataframe tbody tr th:only-of-type {\n",
              "        vertical-align: middle;\n",
              "    }\n",
              "\n",
              "    .dataframe tbody tr th {\n",
              "        vertical-align: top;\n",
              "    }\n",
              "\n",
              "    .dataframe thead th {\n",
              "        text-align: right;\n",
              "    }\n",
              "</style>\n",
              "<table border=\"1\" class=\"dataframe\">\n",
              "  <thead>\n",
              "    <tr style=\"text-align: right;\">\n",
              "      <th></th>\n",
              "      <th>State</th>\n",
              "      <th>Agency Name</th>\n",
              "      <th>NSN</th>\n",
              "      <th>Item Name</th>\n",
              "      <th>Quantity</th>\n",
              "      <th>UI</th>\n",
              "      <th>Acquisition Value</th>\n",
              "      <th>DEMIL Code</th>\n",
              "      <th>DEMIL IC</th>\n",
              "      <th>Ship Date</th>\n",
              "      <th>Station Type</th>\n",
              "    </tr>\n",
              "  </thead>\n",
              "  <tbody>\n",
              "    <tr>\n",
              "      <th>0</th>\n",
              "      <td>AL</td>\n",
              "      <td>ABBEVILLE POLICE DEPT</td>\n",
              "      <td>2540-01-565-4700</td>\n",
              "      <td>BALLISTIC BLANKET KIT</td>\n",
              "      <td>10</td>\n",
              "      <td>Kit</td>\n",
              "      <td>15871.59</td>\n",
              "      <td>D</td>\n",
              "      <td>1.0</td>\n",
              "      <td>2018-01-30</td>\n",
              "      <td>State</td>\n",
              "    </tr>\n",
              "    <tr>\n",
              "      <th>1</th>\n",
              "      <td>AL</td>\n",
              "      <td>ABBEVILLE POLICE DEPT</td>\n",
              "      <td>1240-DS-OPT-SIGH</td>\n",
              "      <td>OPTICAL SIGHTING AND RANGING EQUIPMENT</td>\n",
              "      <td>1</td>\n",
              "      <td>Each</td>\n",
              "      <td>245.88</td>\n",
              "      <td>D</td>\n",
              "      <td>NaN</td>\n",
              "      <td>2016-06-02</td>\n",
              "      <td>State</td>\n",
              "    </tr>\n",
              "    <tr>\n",
              "      <th>2</th>\n",
              "      <td>AL</td>\n",
              "      <td>ABBEVILLE POLICE DEPT</td>\n",
              "      <td>2355-01-553-4634</td>\n",
              "      <td>MINE RESISTANT VEHICLE</td>\n",
              "      <td>1</td>\n",
              "      <td>Each</td>\n",
              "      <td>658000.00</td>\n",
              "      <td>C</td>\n",
              "      <td>1.0</td>\n",
              "      <td>2016-11-09</td>\n",
              "      <td>State</td>\n",
              "    </tr>\n",
              "    <tr>\n",
              "      <th>3</th>\n",
              "      <td>AL</td>\n",
              "      <td>ABBEVILLE POLICE DEPT</td>\n",
              "      <td>1240-01-411-1265</td>\n",
              "      <td>SIGHT,REFLEX</td>\n",
              "      <td>9</td>\n",
              "      <td>Each</td>\n",
              "      <td>333.00</td>\n",
              "      <td>D</td>\n",
              "      <td>1.0</td>\n",
              "      <td>2016-09-14</td>\n",
              "      <td>State</td>\n",
              "    </tr>\n",
              "    <tr>\n",
              "      <th>4</th>\n",
              "      <td>AL</td>\n",
              "      <td>ABBEVILLE POLICE DEPT</td>\n",
              "      <td>5855-01-577-7174</td>\n",
              "      <td>ILLUMINATOR,INFRARED</td>\n",
              "      <td>10</td>\n",
              "      <td>Each</td>\n",
              "      <td>926.00</td>\n",
              "      <td>D</td>\n",
              "      <td>1.0</td>\n",
              "      <td>2017-03-28</td>\n",
              "      <td>State</td>\n",
              "    </tr>\n",
              "    <tr>\n",
              "      <th>...</th>\n",
              "      <td>...</td>\n",
              "      <td>...</td>\n",
              "      <td>...</td>\n",
              "      <td>...</td>\n",
              "      <td>...</td>\n",
              "      <td>...</td>\n",
              "      <td>...</td>\n",
              "      <td>...</td>\n",
              "      <td>...</td>\n",
              "      <td>...</td>\n",
              "      <td>...</td>\n",
              "    </tr>\n",
              "    <tr>\n",
              "      <th>130953</th>\n",
              "      <td>WY</td>\n",
              "      <td>WESTON COUNTY SHERIFF'S OFFICE</td>\n",
              "      <td>1005-00-589-1271</td>\n",
              "      <td>RIFLE,7.62 MILLIMETER</td>\n",
              "      <td>1</td>\n",
              "      <td>Each</td>\n",
              "      <td>138.00</td>\n",
              "      <td>D</td>\n",
              "      <td>1.0</td>\n",
              "      <td>1993-09-01</td>\n",
              "      <td>State</td>\n",
              "    </tr>\n",
              "    <tr>\n",
              "      <th>130954</th>\n",
              "      <td>WY</td>\n",
              "      <td>WESTON COUNTY SHERIFF'S OFFICE</td>\n",
              "      <td>1005-00-589-1271</td>\n",
              "      <td>RIFLE,7.62 MILLIMETER</td>\n",
              "      <td>1</td>\n",
              "      <td>Each</td>\n",
              "      <td>138.00</td>\n",
              "      <td>D</td>\n",
              "      <td>1.0</td>\n",
              "      <td>1993-09-01</td>\n",
              "      <td>State</td>\n",
              "    </tr>\n",
              "    <tr>\n",
              "      <th>130955</th>\n",
              "      <td>WY</td>\n",
              "      <td>WESTON COUNTY SHERIFF'S OFFICE</td>\n",
              "      <td>1005-00-589-1271</td>\n",
              "      <td>RIFLE,7.62 MILLIMETER</td>\n",
              "      <td>1</td>\n",
              "      <td>Each</td>\n",
              "      <td>138.00</td>\n",
              "      <td>D</td>\n",
              "      <td>1.0</td>\n",
              "      <td>1993-09-01</td>\n",
              "      <td>State</td>\n",
              "    </tr>\n",
              "    <tr>\n",
              "      <th>130956</th>\n",
              "      <td>WY</td>\n",
              "      <td>WESTON COUNTY SHERIFF'S OFFICE</td>\n",
              "      <td>1005-00-589-1271</td>\n",
              "      <td>RIFLE,7.62 MILLIMETER</td>\n",
              "      <td>1</td>\n",
              "      <td>Each</td>\n",
              "      <td>138.00</td>\n",
              "      <td>D</td>\n",
              "      <td>1.0</td>\n",
              "      <td>1993-09-01</td>\n",
              "      <td>State</td>\n",
              "    </tr>\n",
              "    <tr>\n",
              "      <th>130957</th>\n",
              "      <td>WY</td>\n",
              "      <td>WESTON COUNTY SHERIFF'S OFFICE</td>\n",
              "      <td>1005-00-589-1271</td>\n",
              "      <td>RIFLE,7.62 MILLIMETER</td>\n",
              "      <td>1</td>\n",
              "      <td>Each</td>\n",
              "      <td>138.00</td>\n",
              "      <td>D</td>\n",
              "      <td>1.0</td>\n",
              "      <td>1993-09-01</td>\n",
              "      <td>State</td>\n",
              "    </tr>\n",
              "  </tbody>\n",
              "</table>\n",
              "<p>130958 rows × 11 columns</p>\n",
              "</div>"
            ],
            "text/plain": [
              "       State                     Agency Name  ...  Ship Date Station Type\n",
              "0         AL           ABBEVILLE POLICE DEPT  ... 2018-01-30        State\n",
              "1         AL           ABBEVILLE POLICE DEPT  ... 2016-06-02        State\n",
              "2         AL           ABBEVILLE POLICE DEPT  ... 2016-11-09        State\n",
              "3         AL           ABBEVILLE POLICE DEPT  ... 2016-09-14        State\n",
              "4         AL           ABBEVILLE POLICE DEPT  ... 2017-03-28        State\n",
              "...      ...                             ...  ...        ...          ...\n",
              "130953    WY  WESTON COUNTY SHERIFF'S OFFICE  ... 1993-09-01        State\n",
              "130954    WY  WESTON COUNTY SHERIFF'S OFFICE  ... 1993-09-01        State\n",
              "130955    WY  WESTON COUNTY SHERIFF'S OFFICE  ... 1993-09-01        State\n",
              "130956    WY  WESTON COUNTY SHERIFF'S OFFICE  ... 1993-09-01        State\n",
              "130957    WY  WESTON COUNTY SHERIFF'S OFFICE  ... 1993-09-01        State\n",
              "\n",
              "[130958 rows x 11 columns]"
            ]
          },
          "metadata": {},
          "execution_count": 85
        }
      ]
    },
    {
      "cell_type": "code",
      "metadata": {
        "id": "55nxXVlEXEDz"
      },
      "source": [
        "df = df.fillna(1)"
      ],
      "execution_count": 86,
      "outputs": []
    },
    {
      "cell_type": "code",
      "metadata": {
        "colab": {
          "base_uri": "https://localhost:8080/"
        },
        "id": "xyLBad2mdL3b",
        "outputId": "8d8ceb7b-f2e1-4c36-8e5b-f859d41f0240"
      },
      "source": [
        "# We will drop state since all the instances have station type as state which as no significance \n",
        "df.groupby('Station Type').count()['State']"
      ],
      "execution_count": 87,
      "outputs": [
        {
          "output_type": "execute_result",
          "data": {
            "text/plain": [
              "Station Type\n",
              "State    130958\n",
              "Name: State, dtype: int64"
            ]
          },
          "metadata": {},
          "execution_count": 87
        }
      ]
    },
    {
      "cell_type": "code",
      "metadata": {
        "id": "3GROk7ZgdPu9"
      },
      "source": [
        "df = df.drop('Station Type', 1)"
      ],
      "execution_count": 88,
      "outputs": []
    },
    {
      "cell_type": "code",
      "metadata": {
        "colab": {
          "base_uri": "https://localhost:8080/",
          "height": 424
        },
        "id": "MErkgCxDXE02",
        "outputId": "ffd10411-c463-44ec-f40b-9f9692b2a05e"
      },
      "source": [
        "df"
      ],
      "execution_count": 89,
      "outputs": [
        {
          "output_type": "execute_result",
          "data": {
            "text/html": [
              "<div>\n",
              "<style scoped>\n",
              "    .dataframe tbody tr th:only-of-type {\n",
              "        vertical-align: middle;\n",
              "    }\n",
              "\n",
              "    .dataframe tbody tr th {\n",
              "        vertical-align: top;\n",
              "    }\n",
              "\n",
              "    .dataframe thead th {\n",
              "        text-align: right;\n",
              "    }\n",
              "</style>\n",
              "<table border=\"1\" class=\"dataframe\">\n",
              "  <thead>\n",
              "    <tr style=\"text-align: right;\">\n",
              "      <th></th>\n",
              "      <th>State</th>\n",
              "      <th>Agency Name</th>\n",
              "      <th>NSN</th>\n",
              "      <th>Item Name</th>\n",
              "      <th>Quantity</th>\n",
              "      <th>UI</th>\n",
              "      <th>Acquisition Value</th>\n",
              "      <th>DEMIL Code</th>\n",
              "      <th>DEMIL IC</th>\n",
              "      <th>Ship Date</th>\n",
              "    </tr>\n",
              "  </thead>\n",
              "  <tbody>\n",
              "    <tr>\n",
              "      <th>0</th>\n",
              "      <td>AL</td>\n",
              "      <td>ABBEVILLE POLICE DEPT</td>\n",
              "      <td>2540-01-565-4700</td>\n",
              "      <td>BALLISTIC BLANKET KIT</td>\n",
              "      <td>10</td>\n",
              "      <td>Kit</td>\n",
              "      <td>15871.59</td>\n",
              "      <td>D</td>\n",
              "      <td>1.0</td>\n",
              "      <td>2018-01-30</td>\n",
              "    </tr>\n",
              "    <tr>\n",
              "      <th>1</th>\n",
              "      <td>AL</td>\n",
              "      <td>ABBEVILLE POLICE DEPT</td>\n",
              "      <td>1240-DS-OPT-SIGH</td>\n",
              "      <td>OPTICAL SIGHTING AND RANGING EQUIPMENT</td>\n",
              "      <td>1</td>\n",
              "      <td>Each</td>\n",
              "      <td>245.88</td>\n",
              "      <td>D</td>\n",
              "      <td>1.0</td>\n",
              "      <td>2016-06-02</td>\n",
              "    </tr>\n",
              "    <tr>\n",
              "      <th>2</th>\n",
              "      <td>AL</td>\n",
              "      <td>ABBEVILLE POLICE DEPT</td>\n",
              "      <td>2355-01-553-4634</td>\n",
              "      <td>MINE RESISTANT VEHICLE</td>\n",
              "      <td>1</td>\n",
              "      <td>Each</td>\n",
              "      <td>658000.00</td>\n",
              "      <td>C</td>\n",
              "      <td>1.0</td>\n",
              "      <td>2016-11-09</td>\n",
              "    </tr>\n",
              "    <tr>\n",
              "      <th>3</th>\n",
              "      <td>AL</td>\n",
              "      <td>ABBEVILLE POLICE DEPT</td>\n",
              "      <td>1240-01-411-1265</td>\n",
              "      <td>SIGHT,REFLEX</td>\n",
              "      <td>9</td>\n",
              "      <td>Each</td>\n",
              "      <td>333.00</td>\n",
              "      <td>D</td>\n",
              "      <td>1.0</td>\n",
              "      <td>2016-09-14</td>\n",
              "    </tr>\n",
              "    <tr>\n",
              "      <th>4</th>\n",
              "      <td>AL</td>\n",
              "      <td>ABBEVILLE POLICE DEPT</td>\n",
              "      <td>5855-01-577-7174</td>\n",
              "      <td>ILLUMINATOR,INFRARED</td>\n",
              "      <td>10</td>\n",
              "      <td>Each</td>\n",
              "      <td>926.00</td>\n",
              "      <td>D</td>\n",
              "      <td>1.0</td>\n",
              "      <td>2017-03-28</td>\n",
              "    </tr>\n",
              "    <tr>\n",
              "      <th>...</th>\n",
              "      <td>...</td>\n",
              "      <td>...</td>\n",
              "      <td>...</td>\n",
              "      <td>...</td>\n",
              "      <td>...</td>\n",
              "      <td>...</td>\n",
              "      <td>...</td>\n",
              "      <td>...</td>\n",
              "      <td>...</td>\n",
              "      <td>...</td>\n",
              "    </tr>\n",
              "    <tr>\n",
              "      <th>130953</th>\n",
              "      <td>WY</td>\n",
              "      <td>WESTON COUNTY SHERIFF'S OFFICE</td>\n",
              "      <td>1005-00-589-1271</td>\n",
              "      <td>RIFLE,7.62 MILLIMETER</td>\n",
              "      <td>1</td>\n",
              "      <td>Each</td>\n",
              "      <td>138.00</td>\n",
              "      <td>D</td>\n",
              "      <td>1.0</td>\n",
              "      <td>1993-09-01</td>\n",
              "    </tr>\n",
              "    <tr>\n",
              "      <th>130954</th>\n",
              "      <td>WY</td>\n",
              "      <td>WESTON COUNTY SHERIFF'S OFFICE</td>\n",
              "      <td>1005-00-589-1271</td>\n",
              "      <td>RIFLE,7.62 MILLIMETER</td>\n",
              "      <td>1</td>\n",
              "      <td>Each</td>\n",
              "      <td>138.00</td>\n",
              "      <td>D</td>\n",
              "      <td>1.0</td>\n",
              "      <td>1993-09-01</td>\n",
              "    </tr>\n",
              "    <tr>\n",
              "      <th>130955</th>\n",
              "      <td>WY</td>\n",
              "      <td>WESTON COUNTY SHERIFF'S OFFICE</td>\n",
              "      <td>1005-00-589-1271</td>\n",
              "      <td>RIFLE,7.62 MILLIMETER</td>\n",
              "      <td>1</td>\n",
              "      <td>Each</td>\n",
              "      <td>138.00</td>\n",
              "      <td>D</td>\n",
              "      <td>1.0</td>\n",
              "      <td>1993-09-01</td>\n",
              "    </tr>\n",
              "    <tr>\n",
              "      <th>130956</th>\n",
              "      <td>WY</td>\n",
              "      <td>WESTON COUNTY SHERIFF'S OFFICE</td>\n",
              "      <td>1005-00-589-1271</td>\n",
              "      <td>RIFLE,7.62 MILLIMETER</td>\n",
              "      <td>1</td>\n",
              "      <td>Each</td>\n",
              "      <td>138.00</td>\n",
              "      <td>D</td>\n",
              "      <td>1.0</td>\n",
              "      <td>1993-09-01</td>\n",
              "    </tr>\n",
              "    <tr>\n",
              "      <th>130957</th>\n",
              "      <td>WY</td>\n",
              "      <td>WESTON COUNTY SHERIFF'S OFFICE</td>\n",
              "      <td>1005-00-589-1271</td>\n",
              "      <td>RIFLE,7.62 MILLIMETER</td>\n",
              "      <td>1</td>\n",
              "      <td>Each</td>\n",
              "      <td>138.00</td>\n",
              "      <td>D</td>\n",
              "      <td>1.0</td>\n",
              "      <td>1993-09-01</td>\n",
              "    </tr>\n",
              "  </tbody>\n",
              "</table>\n",
              "<p>130958 rows × 10 columns</p>\n",
              "</div>"
            ],
            "text/plain": [
              "       State                     Agency Name  ... DEMIL IC  Ship Date\n",
              "0         AL           ABBEVILLE POLICE DEPT  ...      1.0 2018-01-30\n",
              "1         AL           ABBEVILLE POLICE DEPT  ...      1.0 2016-06-02\n",
              "2         AL           ABBEVILLE POLICE DEPT  ...      1.0 2016-11-09\n",
              "3         AL           ABBEVILLE POLICE DEPT  ...      1.0 2016-09-14\n",
              "4         AL           ABBEVILLE POLICE DEPT  ...      1.0 2017-03-28\n",
              "...      ...                             ...  ...      ...        ...\n",
              "130953    WY  WESTON COUNTY SHERIFF'S OFFICE  ...      1.0 1993-09-01\n",
              "130954    WY  WESTON COUNTY SHERIFF'S OFFICE  ...      1.0 1993-09-01\n",
              "130955    WY  WESTON COUNTY SHERIFF'S OFFICE  ...      1.0 1993-09-01\n",
              "130956    WY  WESTON COUNTY SHERIFF'S OFFICE  ...      1.0 1993-09-01\n",
              "130957    WY  WESTON COUNTY SHERIFF'S OFFICE  ...      1.0 1993-09-01\n",
              "\n",
              "[130958 rows x 10 columns]"
            ]
          },
          "metadata": {},
          "execution_count": 89
        }
      ]
    },
    {
      "cell_type": "code",
      "metadata": {
        "id": "9QMP6GUOXFT6"
      },
      "source": [
        ""
      ],
      "execution_count": 89,
      "outputs": []
    },
    {
      "cell_type": "code",
      "metadata": {
        "id": "otuXXpQakCHk"
      },
      "source": [
        "# Sampling the dataset to 10000 for each target label so total instances together is 10000 X 7 = 70000\n",
        "sample = 10000\n",
        "df = df.groupby('DEMIL Code').apply(lambda x: x.sample(sample,replace=True))\n",
        "\n",
        "df = df.droplevel(0).reset_index()\n",
        "df = df.drop(labels = 'index', axis =1)"
      ],
      "execution_count": 90,
      "outputs": []
    },
    {
      "cell_type": "code",
      "metadata": {
        "id": "aQCR3gyZFYnt"
      },
      "source": [
        "from sklearn.preprocessing import LabelEncoder\n",
        "\n",
        "le =LabelEncoder()\n",
        "\n",
        "df['State'] = le.fit_transform(df['State'])\n",
        "df['Agency Name'] = le.fit_transform(df['Agency Name'])\n",
        "df['NSN'] = le.fit_transform(df['NSN'])\n",
        "df['Item Name'] = le.fit_transform(df['Item Name'])\n",
        "df['UI'] = le.fit_transform(df['UI'])\n",
        "df['DEMIL Code'] = le.fit_transform(df['DEMIL Code'])\n",
        "df['Ship Date'] = le.fit_transform(df['Ship Date'])\n",
        "\n"
      ],
      "execution_count": 91,
      "outputs": []
    },
    {
      "cell_type": "code",
      "metadata": {
        "id": "5H2ViWtAkC5T"
      },
      "source": [
        "from sklearn.model_selection import train_test_split\n",
        "from sklearn.metrics import accuracy_score\n",
        "from sklearn.preprocessing import MinMaxScaler\n",
        "from sklearn.metrics import confusion_matrix\n",
        "from sklearn.metrics import classification_report\n",
        "\n",
        "X = df.drop(labels = ['DEMIL Code'], axis = 1)\n",
        "y = df['DEMIL Code']\n",
        "# df['State']\n",
        "X = normalize(X)\n",
        "\n",
        "# y = to_categorical(y)\n",
        "\n",
        "X_train, X_test,y_train, y_test = train_test_split(X, y, test_size = 0.3, random_state = True)\n",
        "\n"
      ],
      "execution_count": 92,
      "outputs": []
    },
    {
      "cell_type": "code",
      "metadata": {
        "colab": {
          "base_uri": "https://localhost:8080/"
        },
        "id": "Tb7mryepCTGG",
        "outputId": "aefcc120-be53-487b-c6f6-aea88e7e8f31"
      },
      "source": [
        "X_train = np.array(X_train)\n",
        "X_train = np.reshape(X_train, (X_train.shape[0], X_train.shape[1], 1))\n",
        "X_train.shape"
      ],
      "execution_count": 93,
      "outputs": [
        {
          "output_type": "execute_result",
          "data": {
            "text/plain": [
              "(49000, 9, 1)"
            ]
          },
          "metadata": {},
          "execution_count": 93
        }
      ]
    },
    {
      "cell_type": "code",
      "metadata": {
        "id": "HYI67NqRCZYo"
      },
      "source": [
        "from tensorflow.keras.utils import to_categorical\n",
        "#one-hot encode target column\n",
        "y_train = to_categorical(y_train)\n",
        "y_test = to_categorical(y_test)"
      ],
      "execution_count": 94,
      "outputs": []
    },
    {
      "cell_type": "code",
      "metadata": {
        "colab": {
          "base_uri": "https://localhost:8080/"
        },
        "id": "tExcd0u4SMTR",
        "outputId": "70847866-098c-4f4b-b78f-ef612c6e1b94"
      },
      "source": [
        "y_train.shape"
      ],
      "execution_count": 95,
      "outputs": [
        {
          "output_type": "execute_result",
          "data": {
            "text/plain": [
              "(49000, 7)"
            ]
          },
          "metadata": {},
          "execution_count": 95
        }
      ]
    },
    {
      "cell_type": "code",
      "metadata": {
        "id": "cLCU7boDkDld"
      },
      "source": [
        "from keras.models import Sequential\n",
        "from keras.layers import Dense\n",
        "from keras.layers import LSTM, Dropout\n",
        "model3_sample=Sequential()\n",
        "model3_sample.add(LSTM(100, return_sequences = True, input_shape = (X_train.shape[1], X_train.shape[2] )))\n",
        "model3_sample.add(Dropout(0.2))\n",
        "model3_sample.add(LSTM(100, return_sequences = True))\n",
        "model3_sample.add(Dropout(0.2))\n",
        "model3_sample.add(LSTM(1000, return_sequences = True))\n",
        "model3_sample.add(Dropout(0.2))\n",
        "model3_sample.add(LSTM(100))\n",
        "model3_sample.add(Dropout(0.2))\n",
        "model3_sample.add(Dense(7))"
      ],
      "execution_count": 96,
      "outputs": []
    },
    {
      "cell_type": "code",
      "metadata": {
        "id": "zeiRYFWGkEZN",
        "colab": {
          "base_uri": "https://localhost:8080/"
        },
        "outputId": "f6f24b3c-9e69-49d5-c2da-17988a24e84d"
      },
      "source": [
        "from tensorflow.keras.optimizers import Adam\n",
        "model3_sample.compile(loss='mean_squared_error', optimizer='adam', metrics=['accuracy'])\n",
        "\n",
        "print('Model summary')\n",
        "print(model3_sample.summary())"
      ],
      "execution_count": 97,
      "outputs": [
        {
          "output_type": "stream",
          "name": "stdout",
          "text": [
            "Model summary\n",
            "Model: \"sequential_3\"\n",
            "_________________________________________________________________\n",
            " Layer (type)                Output Shape              Param #   \n",
            "=================================================================\n",
            " lstm_12 (LSTM)              (None, 9, 100)            40800     \n",
            "                                                                 \n",
            " dropout_12 (Dropout)        (None, 9, 100)            0         \n",
            "                                                                 \n",
            " lstm_13 (LSTM)              (None, 9, 100)            80400     \n",
            "                                                                 \n",
            " dropout_13 (Dropout)        (None, 9, 100)            0         \n",
            "                                                                 \n",
            " lstm_14 (LSTM)              (None, 9, 1000)           4404000   \n",
            "                                                                 \n",
            " dropout_14 (Dropout)        (None, 9, 1000)           0         \n",
            "                                                                 \n",
            " lstm_15 (LSTM)              (None, 100)               440400    \n",
            "                                                                 \n",
            " dropout_15 (Dropout)        (None, 100)               0         \n",
            "                                                                 \n",
            " dense_3 (Dense)             (None, 7)                 707       \n",
            "                                                                 \n",
            "=================================================================\n",
            "Total params: 4,966,307\n",
            "Trainable params: 4,966,307\n",
            "Non-trainable params: 0\n",
            "_________________________________________________________________\n",
            "None\n"
          ]
        }
      ]
    },
    {
      "cell_type": "code",
      "metadata": {
        "id": "2N6CFQ-OkErf",
        "colab": {
          "base_uri": "https://localhost:8080/"
        },
        "outputId": "27b1a58d-4e4f-4c7d-e6ed-0e992f9cc431"
      },
      "source": [
        "model3_sample.fit(X_train, y_train, verbose=2, batch_size=128,epochs=100) # 95.09"
      ],
      "execution_count": 98,
      "outputs": [
        {
          "output_type": "stream",
          "name": "stdout",
          "text": [
            "Epoch 1/100\n",
            "383/383 - 22s - loss: 0.1029 - accuracy: 0.4287 - 22s/epoch - 56ms/step\n",
            "Epoch 2/100\n",
            "383/383 - 15s - loss: 0.0830 - accuracy: 0.5903 - 15s/epoch - 38ms/step\n",
            "Epoch 3/100\n",
            "383/383 - 15s - loss: 0.0773 - accuracy: 0.6170 - 15s/epoch - 38ms/step\n",
            "Epoch 4/100\n",
            "383/383 - 15s - loss: 0.0718 - accuracy: 0.6501 - 15s/epoch - 38ms/step\n",
            "Epoch 5/100\n",
            "383/383 - 15s - loss: 0.0658 - accuracy: 0.6808 - 15s/epoch - 38ms/step\n",
            "Epoch 6/100\n",
            "383/383 - 15s - loss: 0.0609 - accuracy: 0.7039 - 15s/epoch - 38ms/step\n",
            "Epoch 7/100\n",
            "383/383 - 15s - loss: 0.0569 - accuracy: 0.7265 - 15s/epoch - 38ms/step\n",
            "Epoch 8/100\n",
            "383/383 - 15s - loss: 0.0539 - accuracy: 0.7475 - 15s/epoch - 38ms/step\n",
            "Epoch 9/100\n",
            "383/383 - 15s - loss: 0.0508 - accuracy: 0.7651 - 15s/epoch - 38ms/step\n",
            "Epoch 10/100\n",
            "383/383 - 15s - loss: 0.0480 - accuracy: 0.7814 - 15s/epoch - 38ms/step\n",
            "Epoch 11/100\n",
            "383/383 - 15s - loss: 0.0460 - accuracy: 0.7911 - 15s/epoch - 38ms/step\n",
            "Epoch 12/100\n",
            "383/383 - 15s - loss: 0.0442 - accuracy: 0.8007 - 15s/epoch - 38ms/step\n",
            "Epoch 13/100\n",
            "383/383 - 15s - loss: 0.0430 - accuracy: 0.8080 - 15s/epoch - 38ms/step\n",
            "Epoch 14/100\n",
            "383/383 - 15s - loss: 0.0413 - accuracy: 0.8177 - 15s/epoch - 38ms/step\n",
            "Epoch 15/100\n",
            "383/383 - 15s - loss: 0.0402 - accuracy: 0.8236 - 15s/epoch - 38ms/step\n",
            "Epoch 16/100\n",
            "383/383 - 14s - loss: 0.0391 - accuracy: 0.8299 - 14s/epoch - 38ms/step\n",
            "Epoch 17/100\n",
            "383/383 - 15s - loss: 0.0381 - accuracy: 0.8322 - 15s/epoch - 38ms/step\n",
            "Epoch 18/100\n",
            "383/383 - 15s - loss: 0.0373 - accuracy: 0.8377 - 15s/epoch - 38ms/step\n",
            "Epoch 19/100\n",
            "383/383 - 14s - loss: 0.0361 - accuracy: 0.8434 - 14s/epoch - 38ms/step\n",
            "Epoch 20/100\n",
            "383/383 - 15s - loss: 0.0353 - accuracy: 0.8481 - 15s/epoch - 38ms/step\n",
            "Epoch 21/100\n",
            "383/383 - 15s - loss: 0.0352 - accuracy: 0.8486 - 15s/epoch - 38ms/step\n",
            "Epoch 22/100\n",
            "383/383 - 15s - loss: 0.0347 - accuracy: 0.8507 - 15s/epoch - 38ms/step\n",
            "Epoch 23/100\n",
            "383/383 - 15s - loss: 0.0338 - accuracy: 0.8548 - 15s/epoch - 38ms/step\n",
            "Epoch 24/100\n",
            "383/383 - 15s - loss: 0.0334 - accuracy: 0.8571 - 15s/epoch - 38ms/step\n",
            "Epoch 25/100\n",
            "383/383 - 15s - loss: 0.0331 - accuracy: 0.8577 - 15s/epoch - 38ms/step\n",
            "Epoch 26/100\n",
            "383/383 - 15s - loss: 0.0320 - accuracy: 0.8638 - 15s/epoch - 38ms/step\n",
            "Epoch 27/100\n",
            "383/383 - 15s - loss: 0.0315 - accuracy: 0.8654 - 15s/epoch - 38ms/step\n",
            "Epoch 28/100\n",
            "383/383 - 15s - loss: 0.0311 - accuracy: 0.8669 - 15s/epoch - 38ms/step\n",
            "Epoch 29/100\n",
            "383/383 - 15s - loss: 0.0313 - accuracy: 0.8658 - 15s/epoch - 38ms/step\n",
            "Epoch 30/100\n",
            "383/383 - 15s - loss: 0.0300 - accuracy: 0.8732 - 15s/epoch - 38ms/step\n",
            "Epoch 31/100\n",
            "383/383 - 15s - loss: 0.0305 - accuracy: 0.8701 - 15s/epoch - 38ms/step\n",
            "Epoch 32/100\n",
            "383/383 - 14s - loss: 0.0298 - accuracy: 0.8727 - 14s/epoch - 38ms/step\n",
            "Epoch 33/100\n",
            "383/383 - 15s - loss: 0.0300 - accuracy: 0.8715 - 15s/epoch - 38ms/step\n",
            "Epoch 34/100\n",
            "383/383 - 15s - loss: 0.0290 - accuracy: 0.8765 - 15s/epoch - 38ms/step\n",
            "Epoch 35/100\n",
            "383/383 - 15s - loss: 0.0290 - accuracy: 0.8769 - 15s/epoch - 38ms/step\n",
            "Epoch 36/100\n",
            "383/383 - 15s - loss: 0.0282 - accuracy: 0.8815 - 15s/epoch - 38ms/step\n",
            "Epoch 37/100\n",
            "383/383 - 15s - loss: 0.0287 - accuracy: 0.8784 - 15s/epoch - 38ms/step\n",
            "Epoch 38/100\n",
            "383/383 - 15s - loss: 0.0279 - accuracy: 0.8832 - 15s/epoch - 38ms/step\n",
            "Epoch 39/100\n",
            "383/383 - 15s - loss: 0.0276 - accuracy: 0.8829 - 15s/epoch - 38ms/step\n",
            "Epoch 40/100\n",
            "383/383 - 15s - loss: 0.0272 - accuracy: 0.8853 - 15s/epoch - 38ms/step\n",
            "Epoch 41/100\n",
            "383/383 - 15s - loss: 0.0271 - accuracy: 0.8870 - 15s/epoch - 38ms/step\n",
            "Epoch 42/100\n",
            "383/383 - 15s - loss: 0.0270 - accuracy: 0.8860 - 15s/epoch - 38ms/step\n",
            "Epoch 43/100\n",
            "383/383 - 15s - loss: 0.0265 - accuracy: 0.8884 - 15s/epoch - 38ms/step\n",
            "Epoch 44/100\n",
            "383/383 - 15s - loss: 0.0264 - accuracy: 0.8911 - 15s/epoch - 38ms/step\n",
            "Epoch 45/100\n",
            "383/383 - 15s - loss: 0.0263 - accuracy: 0.8907 - 15s/epoch - 38ms/step\n",
            "Epoch 46/100\n",
            "383/383 - 15s - loss: 0.0258 - accuracy: 0.8933 - 15s/epoch - 38ms/step\n",
            "Epoch 47/100\n",
            "383/383 - 15s - loss: 0.0257 - accuracy: 0.8930 - 15s/epoch - 38ms/step\n",
            "Epoch 48/100\n",
            "383/383 - 15s - loss: 0.0248 - accuracy: 0.8964 - 15s/epoch - 38ms/step\n",
            "Epoch 49/100\n",
            "383/383 - 15s - loss: 0.0249 - accuracy: 0.8973 - 15s/epoch - 38ms/step\n",
            "Epoch 50/100\n",
            "383/383 - 15s - loss: 0.0247 - accuracy: 0.8986 - 15s/epoch - 38ms/step\n",
            "Epoch 51/100\n",
            "383/383 - 15s - loss: 0.0245 - accuracy: 0.9005 - 15s/epoch - 38ms/step\n",
            "Epoch 52/100\n",
            "383/383 - 15s - loss: 0.0246 - accuracy: 0.8980 - 15s/epoch - 38ms/step\n",
            "Epoch 53/100\n",
            "383/383 - 15s - loss: 0.0242 - accuracy: 0.8992 - 15s/epoch - 38ms/step\n",
            "Epoch 54/100\n",
            "383/383 - 15s - loss: 0.0242 - accuracy: 0.9001 - 15s/epoch - 38ms/step\n",
            "Epoch 55/100\n",
            "383/383 - 15s - loss: 0.0231 - accuracy: 0.9057 - 15s/epoch - 38ms/step\n",
            "Epoch 56/100\n",
            "383/383 - 15s - loss: 0.0240 - accuracy: 0.9007 - 15s/epoch - 38ms/step\n",
            "Epoch 57/100\n",
            "383/383 - 15s - loss: 0.0234 - accuracy: 0.9033 - 15s/epoch - 38ms/step\n",
            "Epoch 58/100\n",
            "383/383 - 15s - loss: 0.0226 - accuracy: 0.9087 - 15s/epoch - 38ms/step\n",
            "Epoch 59/100\n",
            "383/383 - 15s - loss: 0.0231 - accuracy: 0.9048 - 15s/epoch - 38ms/step\n",
            "Epoch 60/100\n",
            "383/383 - 15s - loss: 0.0229 - accuracy: 0.9064 - 15s/epoch - 38ms/step\n",
            "Epoch 61/100\n",
            "383/383 - 15s - loss: 0.0225 - accuracy: 0.9076 - 15s/epoch - 38ms/step\n",
            "Epoch 62/100\n",
            "383/383 - 15s - loss: 0.0221 - accuracy: 0.9097 - 15s/epoch - 38ms/step\n",
            "Epoch 63/100\n",
            "383/383 - 15s - loss: 0.0217 - accuracy: 0.9124 - 15s/epoch - 38ms/step\n",
            "Epoch 64/100\n",
            "383/383 - 15s - loss: 0.0218 - accuracy: 0.9117 - 15s/epoch - 38ms/step\n",
            "Epoch 65/100\n",
            "383/383 - 15s - loss: 0.0225 - accuracy: 0.9078 - 15s/epoch - 38ms/step\n",
            "Epoch 66/100\n",
            "383/383 - 15s - loss: 0.0216 - accuracy: 0.9118 - 15s/epoch - 38ms/step\n",
            "Epoch 67/100\n",
            "383/383 - 15s - loss: 0.0212 - accuracy: 0.9136 - 15s/epoch - 38ms/step\n",
            "Epoch 68/100\n",
            "383/383 - 15s - loss: 0.0210 - accuracy: 0.9151 - 15s/epoch - 38ms/step\n",
            "Epoch 69/100\n",
            "383/383 - 15s - loss: 0.0207 - accuracy: 0.9169 - 15s/epoch - 38ms/step\n",
            "Epoch 70/100\n",
            "383/383 - 14s - loss: 0.0211 - accuracy: 0.9163 - 14s/epoch - 38ms/step\n",
            "Epoch 71/100\n",
            "383/383 - 14s - loss: 0.0203 - accuracy: 0.9194 - 14s/epoch - 38ms/step\n",
            "Epoch 72/100\n",
            "383/383 - 15s - loss: 0.0204 - accuracy: 0.9183 - 15s/epoch - 38ms/step\n",
            "Epoch 73/100\n",
            "383/383 - 14s - loss: 0.0201 - accuracy: 0.9205 - 14s/epoch - 38ms/step\n",
            "Epoch 74/100\n",
            "383/383 - 15s - loss: 0.0200 - accuracy: 0.9217 - 15s/epoch - 38ms/step\n",
            "Epoch 75/100\n",
            "383/383 - 15s - loss: 0.0197 - accuracy: 0.9213 - 15s/epoch - 38ms/step\n",
            "Epoch 76/100\n",
            "383/383 - 15s - loss: 0.0194 - accuracy: 0.9232 - 15s/epoch - 38ms/step\n",
            "Epoch 77/100\n",
            "383/383 - 15s - loss: 0.0197 - accuracy: 0.9218 - 15s/epoch - 38ms/step\n",
            "Epoch 78/100\n",
            "383/383 - 15s - loss: 0.0194 - accuracy: 0.9232 - 15s/epoch - 38ms/step\n",
            "Epoch 79/100\n",
            "383/383 - 15s - loss: 0.0188 - accuracy: 0.9260 - 15s/epoch - 38ms/step\n",
            "Epoch 80/100\n",
            "383/383 - 15s - loss: 0.0191 - accuracy: 0.9250 - 15s/epoch - 38ms/step\n",
            "Epoch 81/100\n",
            "383/383 - 15s - loss: 0.0190 - accuracy: 0.9245 - 15s/epoch - 38ms/step\n",
            "Epoch 82/100\n",
            "383/383 - 15s - loss: 0.0188 - accuracy: 0.9264 - 15s/epoch - 38ms/step\n",
            "Epoch 83/100\n",
            "383/383 - 15s - loss: 0.0183 - accuracy: 0.9286 - 15s/epoch - 38ms/step\n",
            "Epoch 84/100\n",
            "383/383 - 15s - loss: 0.0185 - accuracy: 0.9274 - 15s/epoch - 38ms/step\n",
            "Epoch 85/100\n",
            "383/383 - 15s - loss: 0.0182 - accuracy: 0.9286 - 15s/epoch - 38ms/step\n",
            "Epoch 86/100\n",
            "383/383 - 15s - loss: 0.0183 - accuracy: 0.9285 - 15s/epoch - 38ms/step\n",
            "Epoch 87/100\n",
            "383/383 - 15s - loss: 0.0178 - accuracy: 0.9309 - 15s/epoch - 38ms/step\n",
            "Epoch 88/100\n",
            "383/383 - 15s - loss: 0.0182 - accuracy: 0.9284 - 15s/epoch - 38ms/step\n",
            "Epoch 89/100\n",
            "383/383 - 15s - loss: 0.0176 - accuracy: 0.9315 - 15s/epoch - 38ms/step\n",
            "Epoch 90/100\n",
            "383/383 - 15s - loss: 0.0174 - accuracy: 0.9331 - 15s/epoch - 38ms/step\n",
            "Epoch 91/100\n",
            "383/383 - 15s - loss: 0.0174 - accuracy: 0.9320 - 15s/epoch - 38ms/step\n",
            "Epoch 92/100\n",
            "383/383 - 15s - loss: 0.0174 - accuracy: 0.9320 - 15s/epoch - 38ms/step\n",
            "Epoch 93/100\n",
            "383/383 - 15s - loss: 0.0172 - accuracy: 0.9329 - 15s/epoch - 38ms/step\n",
            "Epoch 94/100\n",
            "383/383 - 15s - loss: 0.0172 - accuracy: 0.9344 - 15s/epoch - 38ms/step\n",
            "Epoch 95/100\n",
            "383/383 - 15s - loss: 0.0170 - accuracy: 0.9343 - 15s/epoch - 38ms/step\n",
            "Epoch 96/100\n",
            "383/383 - 15s - loss: 0.0170 - accuracy: 0.9346 - 15s/epoch - 38ms/step\n",
            "Epoch 97/100\n",
            "383/383 - 15s - loss: 0.0170 - accuracy: 0.9344 - 15s/epoch - 38ms/step\n",
            "Epoch 98/100\n",
            "383/383 - 15s - loss: 0.0163 - accuracy: 0.9381 - 15s/epoch - 38ms/step\n",
            "Epoch 99/100\n",
            "383/383 - 15s - loss: 0.0165 - accuracy: 0.9378 - 15s/epoch - 38ms/step\n",
            "Epoch 100/100\n",
            "383/383 - 15s - loss: 0.0162 - accuracy: 0.9385 - 15s/epoch - 38ms/step\n"
          ]
        },
        {
          "output_type": "execute_result",
          "data": {
            "text/plain": [
              "<keras.callbacks.History at 0x7fc84b59d090>"
            ]
          },
          "metadata": {},
          "execution_count": 98
        }
      ]
    },
    {
      "cell_type": "code",
      "metadata": {
        "id": "4pxN3wl8kFh-",
        "colab": {
          "base_uri": "https://localhost:8080/"
        },
        "outputId": "661046f3-c9a6-489b-f70b-8e3f7cd2b474"
      },
      "source": [
        "predict3_sample = model3_sample.predict(X_test, batch_size=128)\n",
        "predict3_sample"
      ],
      "execution_count": 99,
      "outputs": [
        {
          "output_type": "execute_result",
          "data": {
            "text/plain": [
              "array([[ 9.11717892e-01, -2.28117108e-02,  1.00606680e-02, ...,\n",
              "         4.13538143e-03, -2.09912658e-03,  8.65027457e-02],\n",
              "       [ 2.24735588e-03,  2.86464393e-03,  1.99629366e-03, ...,\n",
              "         9.72890258e-01,  2.50363350e-03, -3.43735516e-03],\n",
              "       [-3.45205516e-03, -8.22402537e-03, -9.85430181e-03, ...,\n",
              "         6.82480633e-04,  1.00228918e+00,  7.43857026e-03],\n",
              "       ...,\n",
              "       [ 8.86987150e-01, -2.28329003e-02,  6.70441985e-03, ...,\n",
              "         3.33087891e-03,  2.96659768e-04,  1.07721813e-01],\n",
              "       [-9.08242911e-03, -7.42605329e-03,  1.58295333e-02, ...,\n",
              "         9.50254500e-04,  9.72570181e-01,  1.10452175e-02],\n",
              "       [ 5.92342764e-03,  1.44323707e-03,  1.16122514e-02, ...,\n",
              "         8.71278346e-04, -4.59010154e-03, -3.44660878e-03]], dtype=float32)"
            ]
          },
          "metadata": {},
          "execution_count": 99
        }
      ]
    },
    {
      "cell_type": "code",
      "metadata": {
        "id": "m1lQE0fVk4XA",
        "colab": {
          "base_uri": "https://localhost:8080/"
        },
        "outputId": "d1cdff5a-97c1-4ed1-b796-3d9021bc41ff"
      },
      "source": [
        "# Model 3 - LSTM sample\n",
        "results3_sample = model3_sample.evaluate(X_test, y_test)\n",
        "print('Final test set loss', format(results3_sample[0]))\n",
        "print('Final test set accuracy', format(results3_sample[1]))"
      ],
      "execution_count": 100,
      "outputs": [
        {
          "output_type": "stream",
          "name": "stdout",
          "text": [
            "657/657 [==============================] - 9s 11ms/step - loss: 0.0158 - accuracy: 0.9278\n",
            "Final test set loss 0.015808116644620895\n",
            "Final test set accuracy 0.9277619123458862\n"
          ]
        }
      ]
    },
    {
      "cell_type": "code",
      "metadata": {
        "id": "TCn1UB6Ck40B"
      },
      "source": [
        "y_pred3_sample = np.argmax(predict3_sample,axis=1)"
      ],
      "execution_count": 101,
      "outputs": []
    },
    {
      "cell_type": "code",
      "metadata": {
        "id": "4mMnMUw1k5Gg"
      },
      "source": [
        "y_val3_sample =np.argmax(y_test, axis=1)"
      ],
      "execution_count": 102,
      "outputs": []
    },
    {
      "cell_type": "code",
      "metadata": {
        "id": "9xa28ibnk5yP",
        "colab": {
          "base_uri": "https://localhost:8080/"
        },
        "outputId": "cf3fbfd6-cc5b-4c89-9b51-056aea3f9fad"
      },
      "source": [
        "print(classification_report(y_val3_sample,y_pred3_sample))"
      ],
      "execution_count": 103,
      "outputs": [
        {
          "output_type": "stream",
          "name": "stdout",
          "text": [
            "              precision    recall  f1-score   support\n",
            "\n",
            "           0       0.91      0.89      0.90      3061\n",
            "           1       0.97      0.98      0.98      3066\n",
            "           2       0.90      0.89      0.90      3032\n",
            "           3       0.96      0.92      0.94      2979\n",
            "           4       0.99      1.00      0.99      2958\n",
            "           5       0.94      0.97      0.96      2949\n",
            "           6       0.84      0.84      0.84      2955\n",
            "\n",
            "    accuracy                           0.93     21000\n",
            "   macro avg       0.93      0.93      0.93     21000\n",
            "weighted avg       0.93      0.93      0.93     21000\n",
            "\n"
          ]
        }
      ]
    },
    {
      "cell_type": "code",
      "metadata": {
        "id": "SrKTpXfclnNa",
        "colab": {
          "base_uri": "https://localhost:8080/"
        },
        "outputId": "4ee47e5a-47ef-4e11-ad50-9382e21573d8"
      },
      "source": [
        "print(classification_report(y_val3_sample, y_pred3_sample))"
      ],
      "execution_count": 104,
      "outputs": [
        {
          "output_type": "stream",
          "name": "stdout",
          "text": [
            "              precision    recall  f1-score   support\n",
            "\n",
            "           0       0.91      0.89      0.90      3061\n",
            "           1       0.97      0.98      0.98      3066\n",
            "           2       0.90      0.89      0.90      3032\n",
            "           3       0.96      0.92      0.94      2979\n",
            "           4       0.99      1.00      0.99      2958\n",
            "           5       0.94      0.97      0.96      2949\n",
            "           6       0.84      0.84      0.84      2955\n",
            "\n",
            "    accuracy                           0.93     21000\n",
            "   macro avg       0.93      0.93      0.93     21000\n",
            "weighted avg       0.93      0.93      0.93     21000\n",
            "\n"
          ]
        }
      ]
    },
    {
      "cell_type": "code",
      "metadata": {
        "id": "3lXFyKDqloDR"
      },
      "source": [
        ""
      ],
      "execution_count": 104,
      "outputs": []
    },
    {
      "cell_type": "code",
      "metadata": {
        "id": "GvZG1CNrloYl"
      },
      "source": [
        ""
      ],
      "execution_count": 104,
      "outputs": []
    },
    {
      "cell_type": "code",
      "metadata": {
        "id": "dMJgJxrQlorc"
      },
      "source": [
        ""
      ],
      "execution_count": 104,
      "outputs": []
    },
    {
      "cell_type": "code",
      "metadata": {
        "id": "flYyo47Klo-w"
      },
      "source": [
        ""
      ],
      "execution_count": 104,
      "outputs": []
    },
    {
      "cell_type": "code",
      "metadata": {
        "id": "MAXvY1xClpVG"
      },
      "source": [
        ""
      ],
      "execution_count": 104,
      "outputs": []
    }
  ]
}