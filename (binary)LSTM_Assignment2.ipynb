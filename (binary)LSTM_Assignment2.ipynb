{
  "nbformat": 4,
  "nbformat_minor": 0,
  "metadata": {
    "kernelspec": {
      "name": "python3",
      "display_name": "Python 3"
    },
    "colab": {
      "name": "LSTM_Assignment2.ipynb",
      "provenance": [],
      "collapsed_sections": []
    },
    "language_info": {
      "name": "python"
    },
    "accelerator": "GPU"
  },
  "cells": [
    {
      "cell_type": "code",
      "metadata": {
        "id": "rSKgcytwiitR",
        "colab": {
          "base_uri": "https://localhost:8080/"
        },
        "outputId": "a28c1127-1553-4b85-a86c-98f85116b205"
      },
      "source": [
        "!nvidia-smi"
      ],
      "execution_count": 1,
      "outputs": [
        {
          "output_type": "stream",
          "name": "stdout",
          "text": [
            "Sun Dec  5 08:23:03 2021       \n",
            "+-----------------------------------------------------------------------------+\n",
            "| NVIDIA-SMI 495.44       Driver Version: 460.32.03    CUDA Version: 11.2     |\n",
            "|-------------------------------+----------------------+----------------------+\n",
            "| GPU  Name        Persistence-M| Bus-Id        Disp.A | Volatile Uncorr. ECC |\n",
            "| Fan  Temp  Perf  Pwr:Usage/Cap|         Memory-Usage | GPU-Util  Compute M. |\n",
            "|                               |                      |               MIG M. |\n",
            "|===============================+======================+======================|\n",
            "|   0  Tesla K80           Off  | 00000000:00:04.0 Off |                    0 |\n",
            "| N/A   46C    P8    27W / 149W |      0MiB / 11441MiB |      0%      Default |\n",
            "|                               |                      |                  N/A |\n",
            "+-------------------------------+----------------------+----------------------+\n",
            "                                                                               \n",
            "+-----------------------------------------------------------------------------+\n",
            "| Processes:                                                                  |\n",
            "|  GPU   GI   CI        PID   Type   Process name                  GPU Memory |\n",
            "|        ID   ID                                                   Usage      |\n",
            "|=============================================================================|\n",
            "|  No running processes found                                                 |\n",
            "+-----------------------------------------------------------------------------+\n"
          ]
        }
      ]
    },
    {
      "cell_type": "code",
      "metadata": {
        "colab": {
          "base_uri": "https://localhost:8080/"
        },
        "id": "-vHeo6bax0Pt",
        "outputId": "4a31fcf0-b6f5-4b18-8a6f-00619ab43d02"
      },
      "source": [
        "from google.colab import drive\n",
        "drive.mount('/content/drive')"
      ],
      "execution_count": 2,
      "outputs": [
        {
          "output_type": "stream",
          "name": "stdout",
          "text": [
            "Mounted at /content/drive\n"
          ]
        }
      ]
    },
    {
      "cell_type": "code",
      "metadata": {
        "id": "smv5yh81iZHI"
      },
      "source": [
        "import numpy as np\n",
        "import pandas as pd\n"
      ],
      "execution_count": 3,
      "outputs": []
    },
    {
      "cell_type": "code",
      "metadata": {
        "id": "SRXXPh2RiZHM"
      },
      "source": [
        "data = pd.read_excel('/content/drive/MyDrive/Colab Notebooks/AllStatesAndTerritoriesQTR4FY21.xlsx', sheet_name = None)"
      ],
      "execution_count": 4,
      "outputs": []
    },
    {
      "cell_type": "code",
      "metadata": {
        "scrolled": true,
        "id": "8R4GZJ47iZHN",
        "colab": {
          "base_uri": "https://localhost:8080/"
        },
        "outputId": "a745a47b-09f6-407b-a567-7a52915e9ab6"
      },
      "source": [
        "data.keys()"
      ],
      "execution_count": 5,
      "outputs": [
        {
          "output_type": "execute_result",
          "data": {
            "text/plain": [
              "dict_keys(['ALABAMA', 'ALASKA', 'ARIZONA', 'ARKANSAS', 'CALIFORNIA', 'COLORADO', 'CONNECTICUT', 'DELAWARE', 'FLORIDA', 'GEORGIA', 'GUAM', 'IDAHO', 'ILLINOIS', 'INDIANA', 'IOWA', 'KANSAS', 'KENTUCKY', 'LOUISIANA', 'MAINE', 'MARYLAND', 'MASSACHUSETTS', 'MICHIGAN', 'MINNESOTA', 'MISSISSIPPI', 'MISSOURI', 'MONTANA', 'NEBRASKA', 'NEVADA', 'NEW HAMPSHIRE', 'NEW JERSEY', 'NEW MEXICO', 'NEW YORK', 'NORTH CAROLINA', 'NORTH DAKOTA', 'NORTHERN MARIANA ISLANDS', 'OHIO', 'OKLAHOMA', 'OREGON', 'PENNSYLVANIA', 'PUERTO RICO', 'RHODE ISLAND', 'SOUTH CAROLINA', 'SOUTH DAKOTA', 'TENNESSEE', 'TEXAS', 'UTAH', 'VERMONT', 'VIRGIN ISLANDS OF THE U.S.', 'VIRGINIA', 'WASHINGTON', 'WEST VIRGINIA', 'WISCONSIN', 'WYOMING'])"
            ]
          },
          "metadata": {},
          "execution_count": 5
        }
      ]
    },
    {
      "cell_type": "code",
      "metadata": {
        "id": "Y2KZnGyBiZHO"
      },
      "source": [
        "df = pd.concat(data[frame] for frame in data.keys()) "
      ],
      "execution_count": 6,
      "outputs": []
    },
    {
      "cell_type": "code",
      "metadata": {
        "scrolled": true,
        "id": "26E2ku3RiZHO"
      },
      "source": [
        "df = df.reset_index()"
      ],
      "execution_count": 7,
      "outputs": []
    },
    {
      "cell_type": "code",
      "metadata": {
        "id": "Dtzh3h_eiZHP",
        "colab": {
          "base_uri": "https://localhost:8080/",
          "height": 424
        },
        "outputId": "12a6554e-3a79-47ff-e403-3f7a0b529363"
      },
      "source": [
        "df = df.drop(labels = 'index', axis = 1)\n",
        "df"
      ],
      "execution_count": 8,
      "outputs": [
        {
          "output_type": "execute_result",
          "data": {
            "text/html": [
              "<div>\n",
              "<style scoped>\n",
              "    .dataframe tbody tr th:only-of-type {\n",
              "        vertical-align: middle;\n",
              "    }\n",
              "\n",
              "    .dataframe tbody tr th {\n",
              "        vertical-align: top;\n",
              "    }\n",
              "\n",
              "    .dataframe thead th {\n",
              "        text-align: right;\n",
              "    }\n",
              "</style>\n",
              "<table border=\"1\" class=\"dataframe\">\n",
              "  <thead>\n",
              "    <tr style=\"text-align: right;\">\n",
              "      <th></th>\n",
              "      <th>State</th>\n",
              "      <th>Agency Name</th>\n",
              "      <th>NSN</th>\n",
              "      <th>Item Name</th>\n",
              "      <th>Quantity</th>\n",
              "      <th>UI</th>\n",
              "      <th>Acquisition Value</th>\n",
              "      <th>DEMIL Code</th>\n",
              "      <th>DEMIL IC</th>\n",
              "      <th>Ship Date</th>\n",
              "      <th>Station Type</th>\n",
              "    </tr>\n",
              "  </thead>\n",
              "  <tbody>\n",
              "    <tr>\n",
              "      <th>0</th>\n",
              "      <td>AL</td>\n",
              "      <td>ABBEVILLE POLICE DEPT</td>\n",
              "      <td>2540-01-565-4700</td>\n",
              "      <td>BALLISTIC BLANKET KIT</td>\n",
              "      <td>10</td>\n",
              "      <td>Kit</td>\n",
              "      <td>15871.59</td>\n",
              "      <td>D</td>\n",
              "      <td>1.0</td>\n",
              "      <td>2018-01-30</td>\n",
              "      <td>State</td>\n",
              "    </tr>\n",
              "    <tr>\n",
              "      <th>1</th>\n",
              "      <td>AL</td>\n",
              "      <td>ABBEVILLE POLICE DEPT</td>\n",
              "      <td>1240-DS-OPT-SIGH</td>\n",
              "      <td>OPTICAL SIGHTING AND RANGING EQUIPMENT</td>\n",
              "      <td>1</td>\n",
              "      <td>Each</td>\n",
              "      <td>245.88</td>\n",
              "      <td>D</td>\n",
              "      <td>NaN</td>\n",
              "      <td>2016-06-02</td>\n",
              "      <td>State</td>\n",
              "    </tr>\n",
              "    <tr>\n",
              "      <th>2</th>\n",
              "      <td>AL</td>\n",
              "      <td>ABBEVILLE POLICE DEPT</td>\n",
              "      <td>2355-01-553-4634</td>\n",
              "      <td>MINE RESISTANT VEHICLE</td>\n",
              "      <td>1</td>\n",
              "      <td>Each</td>\n",
              "      <td>658000.00</td>\n",
              "      <td>C</td>\n",
              "      <td>1.0</td>\n",
              "      <td>2016-11-09</td>\n",
              "      <td>State</td>\n",
              "    </tr>\n",
              "    <tr>\n",
              "      <th>3</th>\n",
              "      <td>AL</td>\n",
              "      <td>ABBEVILLE POLICE DEPT</td>\n",
              "      <td>1240-01-411-1265</td>\n",
              "      <td>SIGHT,REFLEX</td>\n",
              "      <td>9</td>\n",
              "      <td>Each</td>\n",
              "      <td>333.00</td>\n",
              "      <td>D</td>\n",
              "      <td>1.0</td>\n",
              "      <td>2016-09-14</td>\n",
              "      <td>State</td>\n",
              "    </tr>\n",
              "    <tr>\n",
              "      <th>4</th>\n",
              "      <td>AL</td>\n",
              "      <td>ABBEVILLE POLICE DEPT</td>\n",
              "      <td>5855-01-577-7174</td>\n",
              "      <td>ILLUMINATOR,INFRARED</td>\n",
              "      <td>10</td>\n",
              "      <td>Each</td>\n",
              "      <td>926.00</td>\n",
              "      <td>D</td>\n",
              "      <td>1.0</td>\n",
              "      <td>2017-03-28</td>\n",
              "      <td>State</td>\n",
              "    </tr>\n",
              "    <tr>\n",
              "      <th>...</th>\n",
              "      <td>...</td>\n",
              "      <td>...</td>\n",
              "      <td>...</td>\n",
              "      <td>...</td>\n",
              "      <td>...</td>\n",
              "      <td>...</td>\n",
              "      <td>...</td>\n",
              "      <td>...</td>\n",
              "      <td>...</td>\n",
              "      <td>...</td>\n",
              "      <td>...</td>\n",
              "    </tr>\n",
              "    <tr>\n",
              "      <th>130953</th>\n",
              "      <td>WY</td>\n",
              "      <td>WESTON COUNTY SHERIFF'S OFFICE</td>\n",
              "      <td>1005-00-589-1271</td>\n",
              "      <td>RIFLE,7.62 MILLIMETER</td>\n",
              "      <td>1</td>\n",
              "      <td>Each</td>\n",
              "      <td>138.00</td>\n",
              "      <td>D</td>\n",
              "      <td>1.0</td>\n",
              "      <td>1993-09-01</td>\n",
              "      <td>State</td>\n",
              "    </tr>\n",
              "    <tr>\n",
              "      <th>130954</th>\n",
              "      <td>WY</td>\n",
              "      <td>WESTON COUNTY SHERIFF'S OFFICE</td>\n",
              "      <td>1005-00-589-1271</td>\n",
              "      <td>RIFLE,7.62 MILLIMETER</td>\n",
              "      <td>1</td>\n",
              "      <td>Each</td>\n",
              "      <td>138.00</td>\n",
              "      <td>D</td>\n",
              "      <td>1.0</td>\n",
              "      <td>1993-09-01</td>\n",
              "      <td>State</td>\n",
              "    </tr>\n",
              "    <tr>\n",
              "      <th>130955</th>\n",
              "      <td>WY</td>\n",
              "      <td>WESTON COUNTY SHERIFF'S OFFICE</td>\n",
              "      <td>1005-00-589-1271</td>\n",
              "      <td>RIFLE,7.62 MILLIMETER</td>\n",
              "      <td>1</td>\n",
              "      <td>Each</td>\n",
              "      <td>138.00</td>\n",
              "      <td>D</td>\n",
              "      <td>1.0</td>\n",
              "      <td>1993-09-01</td>\n",
              "      <td>State</td>\n",
              "    </tr>\n",
              "    <tr>\n",
              "      <th>130956</th>\n",
              "      <td>WY</td>\n",
              "      <td>WESTON COUNTY SHERIFF'S OFFICE</td>\n",
              "      <td>1005-00-589-1271</td>\n",
              "      <td>RIFLE,7.62 MILLIMETER</td>\n",
              "      <td>1</td>\n",
              "      <td>Each</td>\n",
              "      <td>138.00</td>\n",
              "      <td>D</td>\n",
              "      <td>1.0</td>\n",
              "      <td>1993-09-01</td>\n",
              "      <td>State</td>\n",
              "    </tr>\n",
              "    <tr>\n",
              "      <th>130957</th>\n",
              "      <td>WY</td>\n",
              "      <td>WESTON COUNTY SHERIFF'S OFFICE</td>\n",
              "      <td>1005-00-589-1271</td>\n",
              "      <td>RIFLE,7.62 MILLIMETER</td>\n",
              "      <td>1</td>\n",
              "      <td>Each</td>\n",
              "      <td>138.00</td>\n",
              "      <td>D</td>\n",
              "      <td>1.0</td>\n",
              "      <td>1993-09-01</td>\n",
              "      <td>State</td>\n",
              "    </tr>\n",
              "  </tbody>\n",
              "</table>\n",
              "<p>130958 rows × 11 columns</p>\n",
              "</div>"
            ],
            "text/plain": [
              "       State                     Agency Name  ...  Ship Date Station Type\n",
              "0         AL           ABBEVILLE POLICE DEPT  ... 2018-01-30        State\n",
              "1         AL           ABBEVILLE POLICE DEPT  ... 2016-06-02        State\n",
              "2         AL           ABBEVILLE POLICE DEPT  ... 2016-11-09        State\n",
              "3         AL           ABBEVILLE POLICE DEPT  ... 2016-09-14        State\n",
              "4         AL           ABBEVILLE POLICE DEPT  ... 2017-03-28        State\n",
              "...      ...                             ...  ...        ...          ...\n",
              "130953    WY  WESTON COUNTY SHERIFF'S OFFICE  ... 1993-09-01        State\n",
              "130954    WY  WESTON COUNTY SHERIFF'S OFFICE  ... 1993-09-01        State\n",
              "130955    WY  WESTON COUNTY SHERIFF'S OFFICE  ... 1993-09-01        State\n",
              "130956    WY  WESTON COUNTY SHERIFF'S OFFICE  ... 1993-09-01        State\n",
              "130957    WY  WESTON COUNTY SHERIFF'S OFFICE  ... 1993-09-01        State\n",
              "\n",
              "[130958 rows x 11 columns]"
            ]
          },
          "metadata": {},
          "execution_count": 8
        }
      ]
    },
    {
      "cell_type": "code",
      "metadata": {
        "scrolled": true,
        "id": "Ndm605WoiZHP",
        "colab": {
          "base_uri": "https://localhost:8080/"
        },
        "outputId": "173a354d-cc35-4bb4-9906-9ad463bde31a"
      },
      "source": [
        "df.count()"
      ],
      "execution_count": 9,
      "outputs": [
        {
          "output_type": "execute_result",
          "data": {
            "text/plain": [
              "State                130958\n",
              "Agency Name          130958\n",
              "NSN                  130958\n",
              "Item Name            130958\n",
              "Quantity             130958\n",
              "UI                   130958\n",
              "Acquisition Value    130958\n",
              "DEMIL Code           130958\n",
              "DEMIL IC             121048\n",
              "Ship Date            130958\n",
              "Station Type         130958\n",
              "dtype: int64"
            ]
          },
          "metadata": {},
          "execution_count": 9
        }
      ]
    },
    {
      "cell_type": "code",
      "metadata": {
        "scrolled": false,
        "id": "VpwAxGs6iZHQ",
        "colab": {
          "base_uri": "https://localhost:8080/"
        },
        "outputId": "61f70f95-2ce6-4e5e-b239-b157e82a4577"
      },
      "source": [
        "# There are 814 rows that are having null values and all are from column DEMIL IC\n",
        "df.isnull().sum()"
      ],
      "execution_count": 10,
      "outputs": [
        {
          "output_type": "execute_result",
          "data": {
            "text/plain": [
              "State                   0\n",
              "Agency Name             0\n",
              "NSN                     0\n",
              "Item Name               0\n",
              "Quantity                0\n",
              "UI                      0\n",
              "Acquisition Value       0\n",
              "DEMIL Code              0\n",
              "DEMIL IC             9910\n",
              "Ship Date               0\n",
              "Station Type            0\n",
              "dtype: int64"
            ]
          },
          "metadata": {},
          "execution_count": 10
        }
      ]
    },
    {
      "cell_type": "code",
      "metadata": {
        "id": "v3wlTUBuiZHR"
      },
      "source": [
        "df = df.fillna(1)"
      ],
      "execution_count": 11,
      "outputs": []
    },
    {
      "cell_type": "code",
      "metadata": {
        "colab": {
          "base_uri": "https://localhost:8080/"
        },
        "id": "s9glL-B5c6BP",
        "outputId": "5d0e28a7-30cf-47d7-cdae-7b315a2464d4"
      },
      "source": [
        "# We will drop state since all the instances have station type as state which as no significance \n",
        "df.groupby('Station Type').count()['State']"
      ],
      "execution_count": 12,
      "outputs": [
        {
          "output_type": "execute_result",
          "data": {
            "text/plain": [
              "Station Type\n",
              "State    130958\n",
              "Name: State, dtype: int64"
            ]
          },
          "metadata": {},
          "execution_count": 12
        }
      ]
    },
    {
      "cell_type": "code",
      "metadata": {
        "id": "Ml_jWYkmc_LE"
      },
      "source": [
        "df = df.drop('Station Type', 1)"
      ],
      "execution_count": 13,
      "outputs": []
    },
    {
      "cell_type": "code",
      "metadata": {
        "id": "fMtha-q-iZHS",
        "colab": {
          "base_uri": "https://localhost:8080/"
        },
        "outputId": "b9a47a90-6232-4bb5-ac6d-3987472ae81c"
      },
      "source": [
        "df.info()"
      ],
      "execution_count": 14,
      "outputs": [
        {
          "output_type": "stream",
          "name": "stdout",
          "text": [
            "<class 'pandas.core.frame.DataFrame'>\n",
            "RangeIndex: 130958 entries, 0 to 130957\n",
            "Data columns (total 10 columns):\n",
            " #   Column             Non-Null Count   Dtype         \n",
            "---  ------             --------------   -----         \n",
            " 0   State              130958 non-null  object        \n",
            " 1   Agency Name        130958 non-null  object        \n",
            " 2   NSN                130958 non-null  object        \n",
            " 3   Item Name          130958 non-null  object        \n",
            " 4   Quantity           130958 non-null  int64         \n",
            " 5   UI                 130958 non-null  object        \n",
            " 6   Acquisition Value  130958 non-null  float64       \n",
            " 7   DEMIL Code         130958 non-null  object        \n",
            " 8   DEMIL IC           130958 non-null  float64       \n",
            " 9   Ship Date          130958 non-null  datetime64[ns]\n",
            "dtypes: datetime64[ns](1), float64(2), int64(1), object(6)\n",
            "memory usage: 10.0+ MB\n"
          ]
        }
      ]
    },
    {
      "cell_type": "code",
      "metadata": {
        "id": "iuXhCALRiZHT"
      },
      "source": [
        "from sklearn.preprocessing import LabelEncoder\n",
        "\n",
        "le =LabelEncoder()\n",
        "\n",
        "df['State'] = le.fit_transform(df['State'])\n",
        "df['Agency Name'] = le.fit_transform(df['Agency Name'])\n",
        "df['NSN'] = le.fit_transform(df['NSN'])\n",
        "df['Item Name'] = le.fit_transform(df['Item Name'])\n",
        "df['UI'] = le.fit_transform(df['UI'])\n",
        "df['DEMIL Code'] = le.fit_transform(df['DEMIL Code'])\n",
        "df['Ship Date'] = le.fit_transform(df['Ship Date'])\n",
        "\n",
        "\n",
        "\n"
      ],
      "execution_count": 15,
      "outputs": []
    },
    {
      "cell_type": "code",
      "metadata": {
        "scrolled": true,
        "id": "Ij6M-S39iZHT",
        "colab": {
          "base_uri": "https://localhost:8080/",
          "height": 363
        },
        "outputId": "fad0a78d-f532-47db-e487-0aca5929ef4f"
      },
      "source": [
        "df.corr()"
      ],
      "execution_count": 16,
      "outputs": [
        {
          "output_type": "execute_result",
          "data": {
            "text/html": [
              "<div>\n",
              "<style scoped>\n",
              "    .dataframe tbody tr th:only-of-type {\n",
              "        vertical-align: middle;\n",
              "    }\n",
              "\n",
              "    .dataframe tbody tr th {\n",
              "        vertical-align: top;\n",
              "    }\n",
              "\n",
              "    .dataframe thead th {\n",
              "        text-align: right;\n",
              "    }\n",
              "</style>\n",
              "<table border=\"1\" class=\"dataframe\">\n",
              "  <thead>\n",
              "    <tr style=\"text-align: right;\">\n",
              "      <th></th>\n",
              "      <th>State</th>\n",
              "      <th>Agency Name</th>\n",
              "      <th>NSN</th>\n",
              "      <th>Item Name</th>\n",
              "      <th>Quantity</th>\n",
              "      <th>UI</th>\n",
              "      <th>Acquisition Value</th>\n",
              "      <th>DEMIL Code</th>\n",
              "      <th>DEMIL IC</th>\n",
              "      <th>Ship Date</th>\n",
              "    </tr>\n",
              "  </thead>\n",
              "  <tbody>\n",
              "    <tr>\n",
              "      <th>State</th>\n",
              "      <td>1.000000</td>\n",
              "      <td>0.007716</td>\n",
              "      <td>0.009308</td>\n",
              "      <td>0.008374</td>\n",
              "      <td>-0.010061</td>\n",
              "      <td>-0.014232</td>\n",
              "      <td>0.001140</td>\n",
              "      <td>0.005336</td>\n",
              "      <td>0.009781</td>\n",
              "      <td>0.061788</td>\n",
              "    </tr>\n",
              "    <tr>\n",
              "      <th>Agency Name</th>\n",
              "      <td>0.007716</td>\n",
              "      <td>1.000000</td>\n",
              "      <td>0.021460</td>\n",
              "      <td>-0.012198</td>\n",
              "      <td>0.007939</td>\n",
              "      <td>0.026054</td>\n",
              "      <td>-0.004720</td>\n",
              "      <td>-0.031039</td>\n",
              "      <td>-0.004451</td>\n",
              "      <td>0.015957</td>\n",
              "    </tr>\n",
              "    <tr>\n",
              "      <th>NSN</th>\n",
              "      <td>0.009308</td>\n",
              "      <td>0.021460</td>\n",
              "      <td>1.000000</td>\n",
              "      <td>-0.360693</td>\n",
              "      <td>0.081456</td>\n",
              "      <td>0.197884</td>\n",
              "      <td>0.008735</td>\n",
              "      <td>-0.357071</td>\n",
              "      <td>0.160561</td>\n",
              "      <td>0.632406</td>\n",
              "    </tr>\n",
              "    <tr>\n",
              "      <th>Item Name</th>\n",
              "      <td>0.008374</td>\n",
              "      <td>-0.012198</td>\n",
              "      <td>-0.360693</td>\n",
              "      <td>1.000000</td>\n",
              "      <td>-0.067334</td>\n",
              "      <td>-0.081001</td>\n",
              "      <td>-0.032489</td>\n",
              "      <td>0.182463</td>\n",
              "      <td>-0.028624</td>\n",
              "      <td>-0.257155</td>\n",
              "    </tr>\n",
              "    <tr>\n",
              "      <th>Quantity</th>\n",
              "      <td>-0.010061</td>\n",
              "      <td>0.007939</td>\n",
              "      <td>0.081456</td>\n",
              "      <td>-0.067334</td>\n",
              "      <td>1.000000</td>\n",
              "      <td>0.021148</td>\n",
              "      <td>-0.009467</td>\n",
              "      <td>-0.078962</td>\n",
              "      <td>-0.004195</td>\n",
              "      <td>0.099630</td>\n",
              "    </tr>\n",
              "    <tr>\n",
              "      <th>UI</th>\n",
              "      <td>-0.014232</td>\n",
              "      <td>0.026054</td>\n",
              "      <td>0.197884</td>\n",
              "      <td>-0.081001</td>\n",
              "      <td>0.021148</td>\n",
              "      <td>1.000000</td>\n",
              "      <td>-0.006709</td>\n",
              "      <td>-0.170494</td>\n",
              "      <td>-0.009302</td>\n",
              "      <td>0.152234</td>\n",
              "    </tr>\n",
              "    <tr>\n",
              "      <th>Acquisition Value</th>\n",
              "      <td>0.001140</td>\n",
              "      <td>-0.004720</td>\n",
              "      <td>0.008735</td>\n",
              "      <td>-0.032489</td>\n",
              "      <td>-0.009467</td>\n",
              "      <td>-0.006709</td>\n",
              "      <td>1.000000</td>\n",
              "      <td>-0.015225</td>\n",
              "      <td>0.025192</td>\n",
              "      <td>0.053920</td>\n",
              "    </tr>\n",
              "    <tr>\n",
              "      <th>DEMIL Code</th>\n",
              "      <td>0.005336</td>\n",
              "      <td>-0.031039</td>\n",
              "      <td>-0.357071</td>\n",
              "      <td>0.182463</td>\n",
              "      <td>-0.078962</td>\n",
              "      <td>-0.170494</td>\n",
              "      <td>-0.015225</td>\n",
              "      <td>1.000000</td>\n",
              "      <td>0.287777</td>\n",
              "      <td>-0.392149</td>\n",
              "    </tr>\n",
              "    <tr>\n",
              "      <th>DEMIL IC</th>\n",
              "      <td>0.009781</td>\n",
              "      <td>-0.004451</td>\n",
              "      <td>0.160561</td>\n",
              "      <td>-0.028624</td>\n",
              "      <td>-0.004195</td>\n",
              "      <td>-0.009302</td>\n",
              "      <td>0.025192</td>\n",
              "      <td>0.287777</td>\n",
              "      <td>1.000000</td>\n",
              "      <td>0.166042</td>\n",
              "    </tr>\n",
              "    <tr>\n",
              "      <th>Ship Date</th>\n",
              "      <td>0.061788</td>\n",
              "      <td>0.015957</td>\n",
              "      <td>0.632406</td>\n",
              "      <td>-0.257155</td>\n",
              "      <td>0.099630</td>\n",
              "      <td>0.152234</td>\n",
              "      <td>0.053920</td>\n",
              "      <td>-0.392149</td>\n",
              "      <td>0.166042</td>\n",
              "      <td>1.000000</td>\n",
              "    </tr>\n",
              "  </tbody>\n",
              "</table>\n",
              "</div>"
            ],
            "text/plain": [
              "                      State  Agency Name  ...  DEMIL IC  Ship Date\n",
              "State              1.000000     0.007716  ...  0.009781   0.061788\n",
              "Agency Name        0.007716     1.000000  ... -0.004451   0.015957\n",
              "NSN                0.009308     0.021460  ...  0.160561   0.632406\n",
              "Item Name          0.008374    -0.012198  ... -0.028624  -0.257155\n",
              "Quantity          -0.010061     0.007939  ... -0.004195   0.099630\n",
              "UI                -0.014232     0.026054  ... -0.009302   0.152234\n",
              "Acquisition Value  0.001140    -0.004720  ...  0.025192   0.053920\n",
              "DEMIL Code         0.005336    -0.031039  ...  0.287777  -0.392149\n",
              "DEMIL IC           0.009781    -0.004451  ...  1.000000   0.166042\n",
              "Ship Date          0.061788     0.015957  ...  0.166042   1.000000\n",
              "\n",
              "[10 rows x 10 columns]"
            ]
          },
          "metadata": {},
          "execution_count": 16
        }
      ]
    },
    {
      "cell_type": "code",
      "metadata": {
        "id": "-oSCygMHiZHT"
      },
      "source": [
        "from tensorflow.keras.optimizers import Adam\n",
        "import numpy as np\n",
        "from sklearn.model_selection import train_test_split\n",
        "from sklearn.preprocessing import OneHotEncoder\n",
        "from keras.models import Sequential\n",
        "from keras.layers import Dense\n",
        "\n"
      ],
      "execution_count": 17,
      "outputs": []
    },
    {
      "cell_type": "code",
      "metadata": {
        "id": "7X-1wsIciZHU"
      },
      "source": [
        "from sklearn.preprocessing import normalize\n",
        "from tensorflow.keras.utils import to_categorical\n",
        "\n",
        "# 'State','Ship Date', 'Agency Name', 'NSN', 'Item Name', 'Acquisition Value',\n",
        "#                      'DEMIL Code' , 'DEMIL IC'\n",
        "\n",
        "X = df.drop(labels = ['DEMIL Code' ], axis = 1)\n",
        "\n",
        "y = df['DEMIL Code']\n",
        "# y = df.iloc[:, 0:1]\n",
        "# df['State']\n",
        "X = normalize(X)\n",
        "\n",
        "# y = to_categorical(y)\n",
        "\n",
        "X_train, X_test,y_train, y_test = train_test_split(X, y, test_size = 0.3, random_state = True)\n",
        "\n",
        "\n",
        "\n"
      ],
      "execution_count": 18,
      "outputs": []
    },
    {
      "cell_type": "code",
      "metadata": {
        "id": "-2tAD4NuiZHU"
      },
      "source": [
        "from sklearn.metrics import accuracy_score\n",
        "from sklearn.preprocessing import MinMaxScaler\n",
        "from sklearn.metrics import confusion_matrix\n",
        "from sklearn.metrics import classification_report"
      ],
      "execution_count": 19,
      "outputs": []
    },
    {
      "cell_type": "code",
      "metadata": {
        "id": "PG1oxqvliZHW"
      },
      "source": [
        ""
      ],
      "execution_count": 19,
      "outputs": []
    },
    {
      "cell_type": "code",
      "metadata": {
        "scrolled": true,
        "id": "1c8umCuEiZHX",
        "colab": {
          "base_uri": "https://localhost:8080/",
          "height": 424
        },
        "outputId": "d8eae4e3-1215-45b4-e9ec-b7c11104ba24"
      },
      "source": [
        "df"
      ],
      "execution_count": 20,
      "outputs": [
        {
          "output_type": "execute_result",
          "data": {
            "text/html": [
              "<div>\n",
              "<style scoped>\n",
              "    .dataframe tbody tr th:only-of-type {\n",
              "        vertical-align: middle;\n",
              "    }\n",
              "\n",
              "    .dataframe tbody tr th {\n",
              "        vertical-align: top;\n",
              "    }\n",
              "\n",
              "    .dataframe thead th {\n",
              "        text-align: right;\n",
              "    }\n",
              "</style>\n",
              "<table border=\"1\" class=\"dataframe\">\n",
              "  <thead>\n",
              "    <tr style=\"text-align: right;\">\n",
              "      <th></th>\n",
              "      <th>State</th>\n",
              "      <th>Agency Name</th>\n",
              "      <th>NSN</th>\n",
              "      <th>Item Name</th>\n",
              "      <th>Quantity</th>\n",
              "      <th>UI</th>\n",
              "      <th>Acquisition Value</th>\n",
              "      <th>DEMIL Code</th>\n",
              "      <th>DEMIL IC</th>\n",
              "      <th>Ship Date</th>\n",
              "    </tr>\n",
              "  </thead>\n",
              "  <tbody>\n",
              "    <tr>\n",
              "      <th>0</th>\n",
              "      <td>1</td>\n",
              "      <td>9</td>\n",
              "      <td>2255</td>\n",
              "      <td>253</td>\n",
              "      <td>10</td>\n",
              "      <td>17</td>\n",
              "      <td>15871.59</td>\n",
              "      <td>3</td>\n",
              "      <td>1.0</td>\n",
              "      <td>4064</td>\n",
              "    </tr>\n",
              "    <tr>\n",
              "      <th>1</th>\n",
              "      <td>1</td>\n",
              "      <td>9</td>\n",
              "      <td>766</td>\n",
              "      <td>2750</td>\n",
              "      <td>1</td>\n",
              "      <td>13</td>\n",
              "      <td>245.88</td>\n",
              "      <td>3</td>\n",
              "      <td>1.0</td>\n",
              "      <td>3600</td>\n",
              "    </tr>\n",
              "    <tr>\n",
              "      <th>2</th>\n",
              "      <td>1</td>\n",
              "      <td>9</td>\n",
              "      <td>1951</td>\n",
              "      <td>2554</td>\n",
              "      <td>1</td>\n",
              "      <td>13</td>\n",
              "      <td>658000.00</td>\n",
              "      <td>2</td>\n",
              "      <td>1.0</td>\n",
              "      <td>3724</td>\n",
              "    </tr>\n",
              "    <tr>\n",
              "      <th>3</th>\n",
              "      <td>1</td>\n",
              "      <td>9</td>\n",
              "      <td>608</td>\n",
              "      <td>3729</td>\n",
              "      <td>9</td>\n",
              "      <td>13</td>\n",
              "      <td>333.00</td>\n",
              "      <td>3</td>\n",
              "      <td>1.0</td>\n",
              "      <td>3677</td>\n",
              "    </tr>\n",
              "    <tr>\n",
              "      <th>4</th>\n",
              "      <td>1</td>\n",
              "      <td>9</td>\n",
              "      <td>5631</td>\n",
              "      <td>1996</td>\n",
              "      <td>10</td>\n",
              "      <td>13</td>\n",
              "      <td>926.00</td>\n",
              "      <td>3</td>\n",
              "      <td>1.0</td>\n",
              "      <td>3832</td>\n",
              "    </tr>\n",
              "    <tr>\n",
              "      <th>...</th>\n",
              "      <td>...</td>\n",
              "      <td>...</td>\n",
              "      <td>...</td>\n",
              "      <td>...</td>\n",
              "      <td>...</td>\n",
              "      <td>...</td>\n",
              "      <td>...</td>\n",
              "      <td>...</td>\n",
              "      <td>...</td>\n",
              "      <td>...</td>\n",
              "    </tr>\n",
              "    <tr>\n",
              "      <th>130953</th>\n",
              "      <td>52</td>\n",
              "      <td>5427</td>\n",
              "      <td>39</td>\n",
              "      <td>3375</td>\n",
              "      <td>1</td>\n",
              "      <td>13</td>\n",
              "      <td>138.00</td>\n",
              "      <td>3</td>\n",
              "      <td>1.0</td>\n",
              "      <td>22</td>\n",
              "    </tr>\n",
              "    <tr>\n",
              "      <th>130954</th>\n",
              "      <td>52</td>\n",
              "      <td>5427</td>\n",
              "      <td>39</td>\n",
              "      <td>3375</td>\n",
              "      <td>1</td>\n",
              "      <td>13</td>\n",
              "      <td>138.00</td>\n",
              "      <td>3</td>\n",
              "      <td>1.0</td>\n",
              "      <td>22</td>\n",
              "    </tr>\n",
              "    <tr>\n",
              "      <th>130955</th>\n",
              "      <td>52</td>\n",
              "      <td>5427</td>\n",
              "      <td>39</td>\n",
              "      <td>3375</td>\n",
              "      <td>1</td>\n",
              "      <td>13</td>\n",
              "      <td>138.00</td>\n",
              "      <td>3</td>\n",
              "      <td>1.0</td>\n",
              "      <td>22</td>\n",
              "    </tr>\n",
              "    <tr>\n",
              "      <th>130956</th>\n",
              "      <td>52</td>\n",
              "      <td>5427</td>\n",
              "      <td>39</td>\n",
              "      <td>3375</td>\n",
              "      <td>1</td>\n",
              "      <td>13</td>\n",
              "      <td>138.00</td>\n",
              "      <td>3</td>\n",
              "      <td>1.0</td>\n",
              "      <td>22</td>\n",
              "    </tr>\n",
              "    <tr>\n",
              "      <th>130957</th>\n",
              "      <td>52</td>\n",
              "      <td>5427</td>\n",
              "      <td>39</td>\n",
              "      <td>3375</td>\n",
              "      <td>1</td>\n",
              "      <td>13</td>\n",
              "      <td>138.00</td>\n",
              "      <td>3</td>\n",
              "      <td>1.0</td>\n",
              "      <td>22</td>\n",
              "    </tr>\n",
              "  </tbody>\n",
              "</table>\n",
              "<p>130958 rows × 10 columns</p>\n",
              "</div>"
            ],
            "text/plain": [
              "        State  Agency Name   NSN  ...  DEMIL Code  DEMIL IC  Ship Date\n",
              "0           1            9  2255  ...           3       1.0       4064\n",
              "1           1            9   766  ...           3       1.0       3600\n",
              "2           1            9  1951  ...           2       1.0       3724\n",
              "3           1            9   608  ...           3       1.0       3677\n",
              "4           1            9  5631  ...           3       1.0       3832\n",
              "...       ...          ...   ...  ...         ...       ...        ...\n",
              "130953     52         5427    39  ...           3       1.0         22\n",
              "130954     52         5427    39  ...           3       1.0         22\n",
              "130955     52         5427    39  ...           3       1.0         22\n",
              "130956     52         5427    39  ...           3       1.0         22\n",
              "130957     52         5427    39  ...           3       1.0         22\n",
              "\n",
              "[130958 rows x 10 columns]"
            ]
          },
          "metadata": {},
          "execution_count": 20
        }
      ]
    },
    {
      "cell_type": "code",
      "metadata": {
        "id": "AhCvyI4uiZHX",
        "colab": {
          "base_uri": "https://localhost:8080/"
        },
        "outputId": "ca82e8be-95b2-47c4-a595-001706256e3e"
      },
      "source": [
        "X_train #State #\tAgency Name\tNSN\tItem Name\tQuantity\tUI\tAcquisition Value\tDEMIL Code\tDEMIL IC\tShip Date\tStation Type"
      ],
      "execution_count": 21,
      "outputs": [
        {
          "output_type": "execute_result",
          "data": {
            "text/plain": [
              "array([[2.61332951e-04, 2.56498291e-01, 5.57815183e-01, ...,\n",
              "        4.10031399e-03, 1.30666475e-04, 6.11780437e-01],\n",
              "       [4.23698044e-03, 2.82430915e-01, 5.60624850e-01, ...,\n",
              "        5.49154001e-01, 1.03340986e-04, 3.94969249e-01],\n",
              "       [9.90413176e-03, 5.55981942e-01, 1.37307281e-02, ...,\n",
              "        1.32152631e-02, 2.25093904e-04, 4.98582996e-01],\n",
              "       ...,\n",
              "       [3.77333989e-03, 4.53409390e-01, 5.76103796e-01, ...,\n",
              "        1.02245339e-03, 1.21720642e-04, 5.88154140e-01],\n",
              "       [7.47117938e-03, 8.50985554e-02, 1.20085542e-01, ...,\n",
              "        6.06805545e-02, 1.82223887e-04, 7.16139877e-01],\n",
              "       [9.82978305e-03, 3.91028770e-01, 2.45744576e-02, ...,\n",
              "        1.47250150e-01, 1.96595661e-04, 6.20259310e-01]])"
            ]
          },
          "metadata": {},
          "execution_count": 21
        }
      ]
    },
    {
      "cell_type": "code",
      "metadata": {
        "id": "ikjpD_wXiZHY",
        "colab": {
          "base_uri": "https://localhost:8080/"
        },
        "outputId": "7b2ed50f-d8ae-4536-cb42-c793286c71fb"
      },
      "source": [
        "X_train = np.array(X_train)\n",
        "X_train = np.reshape(X_train, (X_train.shape[0], X_train.shape[1], 1))\n",
        "X_train.shape"
      ],
      "execution_count": 22,
      "outputs": [
        {
          "output_type": "execute_result",
          "data": {
            "text/plain": [
              "(91670, 9, 1)"
            ]
          },
          "metadata": {},
          "execution_count": 22
        }
      ]
    },
    {
      "cell_type": "code",
      "metadata": {
        "id": "mA5iD9UP33EK"
      },
      "source": [
        "from tensorflow.keras.utils import to_categorical\n",
        "#one-hot encode target column\n",
        "y_train = to_categorical(y_train)\n",
        "y_test = to_categorical(y_test)"
      ],
      "execution_count": 23,
      "outputs": []
    },
    {
      "cell_type": "code",
      "metadata": {
        "id": "0t6OSy3fiZHZ"
      },
      "source": [
        "from keras.models import Sequential\n",
        "from keras.layers import Dense\n",
        "from keras.layers import LSTM, Dropout\n",
        "model3=Sequential()\n",
        "model3.add(LSTM(100, return_sequences = True, input_shape = (X_train.shape[1], X_train.shape[2] )))\n",
        "model3.add(Dropout(0.2))\n",
        "model3.add(LSTM(100, return_sequences = True))\n",
        "model3.add(Dropout(0.2))\n",
        "model3.add(LSTM(1000, return_sequences = True))\n",
        "model3.add(Dropout(0.2))\n",
        "model3.add(LSTM(100))\n",
        "model3.add(Dropout(0.2))\n",
        "model3.add(Dense(7))"
      ],
      "execution_count": 24,
      "outputs": []
    },
    {
      "cell_type": "code",
      "metadata": {
        "id": "Uo8BFyT_jQw0",
        "colab": {
          "base_uri": "https://localhost:8080/"
        },
        "outputId": "5591cbdb-2a57-4610-f666-ca4766e61989"
      },
      "source": [
        "from tensorflow.keras.optimizers import Adam\n",
        "model3.compile(loss='binary_crossentropy', optimizer='adam', metrics=['accuracy'])\n",
        "\n",
        "print('Model summary')\n",
        "print(model3.summary())"
      ],
      "execution_count": 25,
      "outputs": [
        {
          "output_type": "stream",
          "name": "stdout",
          "text": [
            "Model summary\n",
            "Model: \"sequential\"\n",
            "_________________________________________________________________\n",
            " Layer (type)                Output Shape              Param #   \n",
            "=================================================================\n",
            " lstm (LSTM)                 (None, 9, 100)            40800     \n",
            "                                                                 \n",
            " dropout (Dropout)           (None, 9, 100)            0         \n",
            "                                                                 \n",
            " lstm_1 (LSTM)               (None, 9, 100)            80400     \n",
            "                                                                 \n",
            " dropout_1 (Dropout)         (None, 9, 100)            0         \n",
            "                                                                 \n",
            " lstm_2 (LSTM)               (None, 9, 1000)           4404000   \n",
            "                                                                 \n",
            " dropout_2 (Dropout)         (None, 9, 1000)           0         \n",
            "                                                                 \n",
            " lstm_3 (LSTM)               (None, 100)               440400    \n",
            "                                                                 \n",
            " dropout_3 (Dropout)         (None, 100)               0         \n",
            "                                                                 \n",
            " dense (Dense)               (None, 7)                 707       \n",
            "                                                                 \n",
            "=================================================================\n",
            "Total params: 4,966,307\n",
            "Trainable params: 4,966,307\n",
            "Non-trainable params: 0\n",
            "_________________________________________________________________\n",
            "None\n"
          ]
        }
      ]
    },
    {
      "cell_type": "code",
      "metadata": {
        "id": "RJYEaoifjTkX",
        "colab": {
          "base_uri": "https://localhost:8080/"
        },
        "outputId": "bbb25b24-54ed-4f78-c930-576c6e8244d7"
      },
      "source": [
        "model3.fit(X_train, y_train, verbose=2, batch_size=128,epochs=100) # 93.95"
      ],
      "execution_count": 26,
      "outputs": [
        {
          "output_type": "stream",
          "name": "stdout",
          "text": [
            "Epoch 1/100\n",
            "717/717 - 37s - loss: 0.2534 - accuracy: 0.7077 - 37s/epoch - 51ms/step\n",
            "Epoch 2/100\n",
            "717/717 - 26s - loss: 0.2138 - accuracy: 0.7305 - 26s/epoch - 36ms/step\n",
            "Epoch 3/100\n",
            "717/717 - 26s - loss: 0.1757 - accuracy: 0.7778 - 26s/epoch - 36ms/step\n",
            "Epoch 4/100\n",
            "717/717 - 26s - loss: 0.1897 - accuracy: 0.7575 - 26s/epoch - 36ms/step\n",
            "Epoch 5/100\n",
            "717/717 - 26s - loss: 0.1667 - accuracy: 0.7521 - 26s/epoch - 36ms/step\n",
            "Epoch 6/100\n",
            "717/717 - 26s - loss: 0.1737 - accuracy: 0.7565 - 26s/epoch - 36ms/step\n",
            "Epoch 7/100\n",
            "717/717 - 26s - loss: 0.1527 - accuracy: 0.7770 - 26s/epoch - 36ms/step\n",
            "Epoch 8/100\n",
            "717/717 - 26s - loss: 0.1470 - accuracy: 0.7885 - 26s/epoch - 36ms/step\n",
            "Epoch 9/100\n",
            "717/717 - 26s - loss: 0.1445 - accuracy: 0.7928 - 26s/epoch - 36ms/step\n",
            "Epoch 10/100\n",
            "717/717 - 26s - loss: 0.1485 - accuracy: 0.7872 - 26s/epoch - 36ms/step\n",
            "Epoch 11/100\n",
            "717/717 - 26s - loss: 0.1461 - accuracy: 0.7858 - 26s/epoch - 36ms/step\n",
            "Epoch 12/100\n",
            "717/717 - 26s - loss: 0.1544 - accuracy: 0.7724 - 26s/epoch - 36ms/step\n",
            "Epoch 13/100\n",
            "717/717 - 26s - loss: 0.2363 - accuracy: 0.7037 - 26s/epoch - 36ms/step\n",
            "Epoch 14/100\n",
            "717/717 - 26s - loss: 0.2321 - accuracy: 0.7126 - 26s/epoch - 36ms/step\n",
            "Epoch 15/100\n",
            "717/717 - 26s - loss: 0.2316 - accuracy: 0.7143 - 26s/epoch - 36ms/step\n",
            "Epoch 16/100\n",
            "717/717 - 26s - loss: 0.2320 - accuracy: 0.7113 - 26s/epoch - 36ms/step\n",
            "Epoch 17/100\n",
            "717/717 - 26s - loss: 0.9625 - accuracy: 0.7122 - 26s/epoch - 36ms/step\n",
            "Epoch 18/100\n",
            "717/717 - 26s - loss: 1.2568 - accuracy: 0.7132 - 26s/epoch - 36ms/step\n",
            "Epoch 19/100\n",
            "717/717 - 26s - loss: 1.2568 - accuracy: 0.7132 - 26s/epoch - 36ms/step\n",
            "Epoch 20/100\n",
            "717/717 - 26s - loss: 1.2568 - accuracy: 0.7132 - 26s/epoch - 36ms/step\n",
            "Epoch 21/100\n",
            "717/717 - 26s - loss: 1.2568 - accuracy: 0.7132 - 26s/epoch - 36ms/step\n",
            "Epoch 22/100\n",
            "717/717 - 26s - loss: 1.2568 - accuracy: 0.7132 - 26s/epoch - 36ms/step\n",
            "Epoch 23/100\n",
            "717/717 - 26s - loss: 1.2568 - accuracy: 0.7132 - 26s/epoch - 36ms/step\n",
            "Epoch 24/100\n",
            "717/717 - 26s - loss: 1.2568 - accuracy: 0.7132 - 26s/epoch - 36ms/step\n",
            "Epoch 25/100\n",
            "717/717 - 26s - loss: 1.2568 - accuracy: 0.7132 - 26s/epoch - 36ms/step\n",
            "Epoch 26/100\n",
            "717/717 - 26s - loss: 1.2568 - accuracy: 0.7132 - 26s/epoch - 36ms/step\n",
            "Epoch 27/100\n",
            "717/717 - 26s - loss: 1.2568 - accuracy: 0.7132 - 26s/epoch - 36ms/step\n",
            "Epoch 28/100\n",
            "717/717 - 26s - loss: 1.2568 - accuracy: 0.7132 - 26s/epoch - 36ms/step\n",
            "Epoch 29/100\n",
            "717/717 - 26s - loss: 1.2568 - accuracy: 0.7132 - 26s/epoch - 36ms/step\n",
            "Epoch 30/100\n",
            "717/717 - 26s - loss: 1.2568 - accuracy: 0.7132 - 26s/epoch - 36ms/step\n",
            "Epoch 31/100\n",
            "717/717 - 26s - loss: 1.2568 - accuracy: 0.7132 - 26s/epoch - 36ms/step\n",
            "Epoch 32/100\n",
            "717/717 - 26s - loss: 1.2568 - accuracy: 0.7132 - 26s/epoch - 36ms/step\n",
            "Epoch 33/100\n",
            "717/717 - 26s - loss: 1.2568 - accuracy: 0.7132 - 26s/epoch - 36ms/step\n",
            "Epoch 34/100\n",
            "717/717 - 26s - loss: 1.2568 - accuracy: 0.7132 - 26s/epoch - 36ms/step\n",
            "Epoch 35/100\n",
            "717/717 - 26s - loss: 1.2568 - accuracy: 0.7132 - 26s/epoch - 36ms/step\n",
            "Epoch 36/100\n",
            "717/717 - 26s - loss: 1.2568 - accuracy: 0.7132 - 26s/epoch - 36ms/step\n",
            "Epoch 37/100\n",
            "717/717 - 26s - loss: 1.2568 - accuracy: 0.7132 - 26s/epoch - 36ms/step\n",
            "Epoch 38/100\n",
            "717/717 - 26s - loss: 1.2568 - accuracy: 0.7132 - 26s/epoch - 36ms/step\n",
            "Epoch 39/100\n",
            "717/717 - 26s - loss: 1.2568 - accuracy: 0.7132 - 26s/epoch - 36ms/step\n",
            "Epoch 40/100\n",
            "717/717 - 26s - loss: 1.2568 - accuracy: 0.7132 - 26s/epoch - 36ms/step\n",
            "Epoch 41/100\n",
            "717/717 - 26s - loss: 1.2568 - accuracy: 0.7132 - 26s/epoch - 36ms/step\n",
            "Epoch 42/100\n",
            "717/717 - 26s - loss: 1.2568 - accuracy: 0.7132 - 26s/epoch - 36ms/step\n",
            "Epoch 43/100\n",
            "717/717 - 26s - loss: 1.2568 - accuracy: 0.7132 - 26s/epoch - 36ms/step\n",
            "Epoch 44/100\n",
            "717/717 - 26s - loss: 1.2568 - accuracy: 0.7132 - 26s/epoch - 36ms/step\n",
            "Epoch 45/100\n",
            "717/717 - 26s - loss: 1.2568 - accuracy: 0.7132 - 26s/epoch - 36ms/step\n",
            "Epoch 46/100\n",
            "717/717 - 26s - loss: 1.2568 - accuracy: 0.7132 - 26s/epoch - 36ms/step\n",
            "Epoch 47/100\n",
            "717/717 - 26s - loss: 1.2568 - accuracy: 0.7132 - 26s/epoch - 36ms/step\n",
            "Epoch 48/100\n",
            "717/717 - 26s - loss: 1.2568 - accuracy: 0.7132 - 26s/epoch - 36ms/step\n",
            "Epoch 49/100\n",
            "717/717 - 26s - loss: 1.2568 - accuracy: 0.7132 - 26s/epoch - 36ms/step\n",
            "Epoch 50/100\n",
            "717/717 - 26s - loss: 1.2568 - accuracy: 0.7132 - 26s/epoch - 36ms/step\n",
            "Epoch 51/100\n",
            "717/717 - 26s - loss: 1.2568 - accuracy: 0.7132 - 26s/epoch - 36ms/step\n",
            "Epoch 52/100\n",
            "717/717 - 26s - loss: 1.2568 - accuracy: 0.7132 - 26s/epoch - 36ms/step\n",
            "Epoch 53/100\n",
            "717/717 - 26s - loss: 1.2568 - accuracy: 0.7132 - 26s/epoch - 36ms/step\n",
            "Epoch 54/100\n",
            "717/717 - 26s - loss: 1.2568 - accuracy: 0.7132 - 26s/epoch - 36ms/step\n",
            "Epoch 55/100\n",
            "717/717 - 26s - loss: 1.2568 - accuracy: 0.7132 - 26s/epoch - 36ms/step\n",
            "Epoch 56/100\n",
            "717/717 - 26s - loss: 1.2568 - accuracy: 0.7132 - 26s/epoch - 36ms/step\n",
            "Epoch 57/100\n",
            "717/717 - 26s - loss: 1.2568 - accuracy: 0.7132 - 26s/epoch - 36ms/step\n",
            "Epoch 58/100\n",
            "717/717 - 26s - loss: 1.2568 - accuracy: 0.7132 - 26s/epoch - 36ms/step\n",
            "Epoch 59/100\n",
            "717/717 - 26s - loss: 1.2568 - accuracy: 0.7132 - 26s/epoch - 36ms/step\n",
            "Epoch 60/100\n",
            "717/717 - 26s - loss: 1.2568 - accuracy: 0.7132 - 26s/epoch - 36ms/step\n",
            "Epoch 61/100\n",
            "717/717 - 26s - loss: 1.2568 - accuracy: 0.7132 - 26s/epoch - 36ms/step\n",
            "Epoch 62/100\n",
            "717/717 - 26s - loss: 1.2568 - accuracy: 0.7132 - 26s/epoch - 36ms/step\n",
            "Epoch 63/100\n",
            "717/717 - 26s - loss: 1.2568 - accuracy: 0.7132 - 26s/epoch - 36ms/step\n",
            "Epoch 64/100\n",
            "717/717 - 26s - loss: 1.2568 - accuracy: 0.7132 - 26s/epoch - 36ms/step\n",
            "Epoch 65/100\n",
            "717/717 - 26s - loss: 1.2568 - accuracy: 0.7132 - 26s/epoch - 36ms/step\n",
            "Epoch 66/100\n",
            "717/717 - 26s - loss: 1.2568 - accuracy: 0.7132 - 26s/epoch - 36ms/step\n",
            "Epoch 67/100\n",
            "717/717 - 26s - loss: 1.2568 - accuracy: 0.7132 - 26s/epoch - 36ms/step\n",
            "Epoch 68/100\n",
            "717/717 - 26s - loss: 1.2568 - accuracy: 0.7132 - 26s/epoch - 36ms/step\n",
            "Epoch 69/100\n",
            "717/717 - 26s - loss: 1.2568 - accuracy: 0.7132 - 26s/epoch - 36ms/step\n",
            "Epoch 70/100\n",
            "717/717 - 26s - loss: 1.2568 - accuracy: 0.7132 - 26s/epoch - 36ms/step\n",
            "Epoch 71/100\n",
            "717/717 - 26s - loss: 1.2568 - accuracy: 0.7132 - 26s/epoch - 36ms/step\n",
            "Epoch 72/100\n",
            "717/717 - 26s - loss: 1.2568 - accuracy: 0.7132 - 26s/epoch - 36ms/step\n",
            "Epoch 73/100\n",
            "717/717 - 26s - loss: 1.2568 - accuracy: 0.7132 - 26s/epoch - 36ms/step\n",
            "Epoch 74/100\n",
            "717/717 - 26s - loss: 1.2568 - accuracy: 0.7132 - 26s/epoch - 36ms/step\n",
            "Epoch 75/100\n",
            "717/717 - 26s - loss: 1.2568 - accuracy: 0.7132 - 26s/epoch - 36ms/step\n",
            "Epoch 76/100\n",
            "717/717 - 26s - loss: 1.2568 - accuracy: 0.7132 - 26s/epoch - 36ms/step\n",
            "Epoch 77/100\n",
            "717/717 - 26s - loss: 1.2568 - accuracy: 0.7132 - 26s/epoch - 36ms/step\n",
            "Epoch 78/100\n",
            "717/717 - 26s - loss: 1.2568 - accuracy: 0.7132 - 26s/epoch - 36ms/step\n",
            "Epoch 79/100\n",
            "717/717 - 26s - loss: 1.2568 - accuracy: 0.7132 - 26s/epoch - 36ms/step\n",
            "Epoch 80/100\n",
            "717/717 - 26s - loss: 1.2568 - accuracy: 0.7132 - 26s/epoch - 36ms/step\n",
            "Epoch 81/100\n",
            "717/717 - 26s - loss: 1.2568 - accuracy: 0.7132 - 26s/epoch - 36ms/step\n",
            "Epoch 82/100\n",
            "717/717 - 26s - loss: 1.2568 - accuracy: 0.7132 - 26s/epoch - 36ms/step\n",
            "Epoch 83/100\n",
            "717/717 - 26s - loss: 1.2568 - accuracy: 0.7132 - 26s/epoch - 36ms/step\n",
            "Epoch 84/100\n",
            "717/717 - 26s - loss: 1.2568 - accuracy: 0.7132 - 26s/epoch - 36ms/step\n",
            "Epoch 85/100\n",
            "717/717 - 26s - loss: 1.2568 - accuracy: 0.7132 - 26s/epoch - 36ms/step\n",
            "Epoch 86/100\n",
            "717/717 - 26s - loss: 1.2568 - accuracy: 0.7132 - 26s/epoch - 36ms/step\n",
            "Epoch 87/100\n",
            "717/717 - 26s - loss: 1.2568 - accuracy: 0.7132 - 26s/epoch - 36ms/step\n",
            "Epoch 88/100\n",
            "717/717 - 26s - loss: 1.2568 - accuracy: 0.7132 - 26s/epoch - 36ms/step\n",
            "Epoch 89/100\n",
            "717/717 - 26s - loss: 1.2568 - accuracy: 0.7132 - 26s/epoch - 36ms/step\n",
            "Epoch 90/100\n",
            "717/717 - 26s - loss: 1.2568 - accuracy: 0.7132 - 26s/epoch - 36ms/step\n",
            "Epoch 91/100\n",
            "717/717 - 26s - loss: 1.2568 - accuracy: 0.7132 - 26s/epoch - 36ms/step\n",
            "Epoch 92/100\n",
            "717/717 - 26s - loss: 1.2568 - accuracy: 0.7132 - 26s/epoch - 36ms/step\n",
            "Epoch 93/100\n",
            "717/717 - 26s - loss: 1.2568 - accuracy: 0.7132 - 26s/epoch - 36ms/step\n",
            "Epoch 94/100\n",
            "717/717 - 26s - loss: 1.2568 - accuracy: 0.7132 - 26s/epoch - 36ms/step\n",
            "Epoch 95/100\n",
            "717/717 - 26s - loss: 1.2568 - accuracy: 0.7132 - 26s/epoch - 36ms/step\n",
            "Epoch 96/100\n",
            "717/717 - 26s - loss: 1.2568 - accuracy: 0.7132 - 26s/epoch - 36ms/step\n",
            "Epoch 97/100\n",
            "717/717 - 26s - loss: 1.2568 - accuracy: 0.7132 - 26s/epoch - 36ms/step\n",
            "Epoch 98/100\n",
            "717/717 - 26s - loss: 1.2568 - accuracy: 0.7132 - 26s/epoch - 36ms/step\n",
            "Epoch 99/100\n",
            "717/717 - 26s - loss: 1.2568 - accuracy: 0.7132 - 26s/epoch - 36ms/step\n",
            "Epoch 100/100\n",
            "717/717 - 26s - loss: 1.2568 - accuracy: 0.7132 - 26s/epoch - 36ms/step\n"
          ]
        },
        {
          "output_type": "execute_result",
          "data": {
            "text/plain": [
              "<keras.callbacks.History at 0x7f81e02c8610>"
            ]
          },
          "metadata": {},
          "execution_count": 26
        }
      ]
    },
    {
      "cell_type": "code",
      "metadata": {
        "id": "s5E62zu-jS2J",
        "colab": {
          "base_uri": "https://localhost:8080/"
        },
        "outputId": "c0321eb0-31db-4cb9-bba9-e79156654a7a"
      },
      "source": [
        "# Model 3 - LSTM\n",
        "predict3= model3.predict(X_test, batch_size=128)\n",
        "predict3"
      ],
      "execution_count": 27,
      "outputs": [
        {
          "output_type": "execute_result",
          "data": {
            "text/plain": [
              "array([[-2.5858252, -3.2311158, -2.2690825, ..., -3.1942554, -2.35785  ,\n",
              "        -1.0026394],\n",
              "       [-2.5860562, -3.2258618, -2.2740066, ..., -3.1844494, -2.351328 ,\n",
              "        -1.0011686],\n",
              "       [-2.5860472, -3.225985 , -2.2738817, ..., -3.1847036, -2.35149  ,\n",
              "        -1.0012035],\n",
              "       ...,\n",
              "       [-2.5861087, -3.2250812, -2.2747736, ..., -3.1829462, -2.3503525,\n",
              "        -1.0009571],\n",
              "       [-2.5859008, -3.2298086, -2.27035  , ..., -3.191794 , -2.3561969,\n",
              "        -1.0022787],\n",
              "       [-2.5858269, -3.2310705, -2.2691305, ..., -3.194147 , -2.3577816,\n",
              "        -1.0026246]], dtype=float32)"
            ]
          },
          "metadata": {},
          "execution_count": 27
        }
      ]
    },
    {
      "cell_type": "code",
      "metadata": {
        "id": "z7Yp3HO0jWeg",
        "colab": {
          "base_uri": "https://localhost:8080/"
        },
        "outputId": "384fe8c0-fa5f-4972-be14-65b18144e107"
      },
      "source": [
        "results3 = model3.evaluate(X_test, y_test)\n",
        "print('Final test set loss', format(results3[0]))\n",
        "print('Final test set accuracy', format(results3[1]))"
      ],
      "execution_count": 28,
      "outputs": [
        {
          "output_type": "stream",
          "name": "stdout",
          "text": [
            "1228/1228 [==============================] - 15s 11ms/step - loss: 1.2480 - accuracy: 0.7152\n",
            "Final test set loss 1.247977614402771\n",
            "Final test set accuracy 0.7152056694030762\n"
          ]
        }
      ]
    },
    {
      "cell_type": "code",
      "metadata": {
        "id": "ESn44tl7jcqt"
      },
      "source": [
        "y_pred3 = np.argmax(predict3,axis=1)"
      ],
      "execution_count": 29,
      "outputs": []
    },
    {
      "cell_type": "code",
      "metadata": {
        "id": "5gzzEah1jc9A"
      },
      "source": [
        "y_val3 =np.argmax(y_test, axis=1)"
      ],
      "execution_count": 30,
      "outputs": []
    },
    {
      "cell_type": "code",
      "metadata": {
        "id": "64JKv6CNjdMZ",
        "colab": {
          "base_uri": "https://localhost:8080/"
        },
        "outputId": "0ebdaa90-9d7a-4b53-8264-46a8a41efc81"
      },
      "source": [
        "print(classification_report(y_val3,y_pred3))"
      ],
      "execution_count": 31,
      "outputs": [
        {
          "output_type": "stream",
          "name": "stdout",
          "text": [
            "              precision    recall  f1-score   support\n",
            "\n",
            "           0       0.00      0.00      0.00      5424\n",
            "           1       0.00      0.00      0.00        52\n",
            "           2       0.00      0.00      0.00      2104\n",
            "           3       0.72      1.00      0.83     28099\n",
            "           4       0.00      0.00      0.00        34\n",
            "           5       0.00      0.00      0.00      1905\n",
            "           6       0.00      0.00      0.00      1670\n",
            "\n",
            "    accuracy                           0.72     39288\n",
            "   macro avg       0.10      0.14      0.12     39288\n",
            "weighted avg       0.51      0.72      0.60     39288\n",
            "\n"
          ]
        },
        {
          "output_type": "stream",
          "name": "stderr",
          "text": [
            "/usr/local/lib/python3.7/dist-packages/sklearn/metrics/_classification.py:1308: UndefinedMetricWarning: Precision and F-score are ill-defined and being set to 0.0 in labels with no predicted samples. Use `zero_division` parameter to control this behavior.\n",
            "  _warn_prf(average, modifier, msg_start, len(result))\n",
            "/usr/local/lib/python3.7/dist-packages/sklearn/metrics/_classification.py:1308: UndefinedMetricWarning: Precision and F-score are ill-defined and being set to 0.0 in labels with no predicted samples. Use `zero_division` parameter to control this behavior.\n",
            "  _warn_prf(average, modifier, msg_start, len(result))\n",
            "/usr/local/lib/python3.7/dist-packages/sklearn/metrics/_classification.py:1308: UndefinedMetricWarning: Precision and F-score are ill-defined and being set to 0.0 in labels with no predicted samples. Use `zero_division` parameter to control this behavior.\n",
            "  _warn_prf(average, modifier, msg_start, len(result))\n"
          ]
        }
      ]
    },
    {
      "cell_type": "code",
      "metadata": {
        "id": "VJsNsGWnjdaQ",
        "colab": {
          "base_uri": "https://localhost:8080/"
        },
        "outputId": "81b380c4-ea78-4def-8cf7-99d702cb8378"
      },
      "source": [
        "print(classification_report(y_val3, y_pred3))"
      ],
      "execution_count": 32,
      "outputs": [
        {
          "output_type": "stream",
          "name": "stdout",
          "text": [
            "              precision    recall  f1-score   support\n",
            "\n",
            "           0       0.00      0.00      0.00      5424\n",
            "           1       0.00      0.00      0.00        52\n",
            "           2       0.00      0.00      0.00      2104\n",
            "           3       0.72      1.00      0.83     28099\n",
            "           4       0.00      0.00      0.00        34\n",
            "           5       0.00      0.00      0.00      1905\n",
            "           6       0.00      0.00      0.00      1670\n",
            "\n",
            "    accuracy                           0.72     39288\n",
            "   macro avg       0.10      0.14      0.12     39288\n",
            "weighted avg       0.51      0.72      0.60     39288\n",
            "\n"
          ]
        },
        {
          "output_type": "stream",
          "name": "stderr",
          "text": [
            "/usr/local/lib/python3.7/dist-packages/sklearn/metrics/_classification.py:1308: UndefinedMetricWarning: Precision and F-score are ill-defined and being set to 0.0 in labels with no predicted samples. Use `zero_division` parameter to control this behavior.\n",
            "  _warn_prf(average, modifier, msg_start, len(result))\n",
            "/usr/local/lib/python3.7/dist-packages/sklearn/metrics/_classification.py:1308: UndefinedMetricWarning: Precision and F-score are ill-defined and being set to 0.0 in labels with no predicted samples. Use `zero_division` parameter to control this behavior.\n",
            "  _warn_prf(average, modifier, msg_start, len(result))\n",
            "/usr/local/lib/python3.7/dist-packages/sklearn/metrics/_classification.py:1308: UndefinedMetricWarning: Precision and F-score are ill-defined and being set to 0.0 in labels with no predicted samples. Use `zero_division` parameter to control this behavior.\n",
            "  _warn_prf(average, modifier, msg_start, len(result))\n"
          ]
        }
      ]
    },
    {
      "cell_type": "code",
      "metadata": {
        "id": "HArFVjAujdpa"
      },
      "source": [
        ""
      ],
      "execution_count": 32,
      "outputs": []
    },
    {
      "cell_type": "code",
      "metadata": {
        "id": "ejMn6AC3kB1i",
        "colab": {
          "base_uri": "https://localhost:8080/",
          "height": 424
        },
        "outputId": "02a3c0be-f5b6-4405-b8de-099878b73097"
      },
      "source": [
        "df = pd.concat(data[frame] for frame in data.keys()) \n",
        "df = df.reset_index()\n",
        "df = df.drop(labels = 'index', axis = 1)\n",
        "df"
      ],
      "execution_count": 33,
      "outputs": [
        {
          "output_type": "execute_result",
          "data": {
            "text/html": [
              "<div>\n",
              "<style scoped>\n",
              "    .dataframe tbody tr th:only-of-type {\n",
              "        vertical-align: middle;\n",
              "    }\n",
              "\n",
              "    .dataframe tbody tr th {\n",
              "        vertical-align: top;\n",
              "    }\n",
              "\n",
              "    .dataframe thead th {\n",
              "        text-align: right;\n",
              "    }\n",
              "</style>\n",
              "<table border=\"1\" class=\"dataframe\">\n",
              "  <thead>\n",
              "    <tr style=\"text-align: right;\">\n",
              "      <th></th>\n",
              "      <th>State</th>\n",
              "      <th>Agency Name</th>\n",
              "      <th>NSN</th>\n",
              "      <th>Item Name</th>\n",
              "      <th>Quantity</th>\n",
              "      <th>UI</th>\n",
              "      <th>Acquisition Value</th>\n",
              "      <th>DEMIL Code</th>\n",
              "      <th>DEMIL IC</th>\n",
              "      <th>Ship Date</th>\n",
              "      <th>Station Type</th>\n",
              "    </tr>\n",
              "  </thead>\n",
              "  <tbody>\n",
              "    <tr>\n",
              "      <th>0</th>\n",
              "      <td>AL</td>\n",
              "      <td>ABBEVILLE POLICE DEPT</td>\n",
              "      <td>2540-01-565-4700</td>\n",
              "      <td>BALLISTIC BLANKET KIT</td>\n",
              "      <td>10</td>\n",
              "      <td>Kit</td>\n",
              "      <td>15871.59</td>\n",
              "      <td>D</td>\n",
              "      <td>1.0</td>\n",
              "      <td>2018-01-30</td>\n",
              "      <td>State</td>\n",
              "    </tr>\n",
              "    <tr>\n",
              "      <th>1</th>\n",
              "      <td>AL</td>\n",
              "      <td>ABBEVILLE POLICE DEPT</td>\n",
              "      <td>1240-DS-OPT-SIGH</td>\n",
              "      <td>OPTICAL SIGHTING AND RANGING EQUIPMENT</td>\n",
              "      <td>1</td>\n",
              "      <td>Each</td>\n",
              "      <td>245.88</td>\n",
              "      <td>D</td>\n",
              "      <td>NaN</td>\n",
              "      <td>2016-06-02</td>\n",
              "      <td>State</td>\n",
              "    </tr>\n",
              "    <tr>\n",
              "      <th>2</th>\n",
              "      <td>AL</td>\n",
              "      <td>ABBEVILLE POLICE DEPT</td>\n",
              "      <td>2355-01-553-4634</td>\n",
              "      <td>MINE RESISTANT VEHICLE</td>\n",
              "      <td>1</td>\n",
              "      <td>Each</td>\n",
              "      <td>658000.00</td>\n",
              "      <td>C</td>\n",
              "      <td>1.0</td>\n",
              "      <td>2016-11-09</td>\n",
              "      <td>State</td>\n",
              "    </tr>\n",
              "    <tr>\n",
              "      <th>3</th>\n",
              "      <td>AL</td>\n",
              "      <td>ABBEVILLE POLICE DEPT</td>\n",
              "      <td>1240-01-411-1265</td>\n",
              "      <td>SIGHT,REFLEX</td>\n",
              "      <td>9</td>\n",
              "      <td>Each</td>\n",
              "      <td>333.00</td>\n",
              "      <td>D</td>\n",
              "      <td>1.0</td>\n",
              "      <td>2016-09-14</td>\n",
              "      <td>State</td>\n",
              "    </tr>\n",
              "    <tr>\n",
              "      <th>4</th>\n",
              "      <td>AL</td>\n",
              "      <td>ABBEVILLE POLICE DEPT</td>\n",
              "      <td>5855-01-577-7174</td>\n",
              "      <td>ILLUMINATOR,INFRARED</td>\n",
              "      <td>10</td>\n",
              "      <td>Each</td>\n",
              "      <td>926.00</td>\n",
              "      <td>D</td>\n",
              "      <td>1.0</td>\n",
              "      <td>2017-03-28</td>\n",
              "      <td>State</td>\n",
              "    </tr>\n",
              "    <tr>\n",
              "      <th>...</th>\n",
              "      <td>...</td>\n",
              "      <td>...</td>\n",
              "      <td>...</td>\n",
              "      <td>...</td>\n",
              "      <td>...</td>\n",
              "      <td>...</td>\n",
              "      <td>...</td>\n",
              "      <td>...</td>\n",
              "      <td>...</td>\n",
              "      <td>...</td>\n",
              "      <td>...</td>\n",
              "    </tr>\n",
              "    <tr>\n",
              "      <th>130953</th>\n",
              "      <td>WY</td>\n",
              "      <td>WESTON COUNTY SHERIFF'S OFFICE</td>\n",
              "      <td>1005-00-589-1271</td>\n",
              "      <td>RIFLE,7.62 MILLIMETER</td>\n",
              "      <td>1</td>\n",
              "      <td>Each</td>\n",
              "      <td>138.00</td>\n",
              "      <td>D</td>\n",
              "      <td>1.0</td>\n",
              "      <td>1993-09-01</td>\n",
              "      <td>State</td>\n",
              "    </tr>\n",
              "    <tr>\n",
              "      <th>130954</th>\n",
              "      <td>WY</td>\n",
              "      <td>WESTON COUNTY SHERIFF'S OFFICE</td>\n",
              "      <td>1005-00-589-1271</td>\n",
              "      <td>RIFLE,7.62 MILLIMETER</td>\n",
              "      <td>1</td>\n",
              "      <td>Each</td>\n",
              "      <td>138.00</td>\n",
              "      <td>D</td>\n",
              "      <td>1.0</td>\n",
              "      <td>1993-09-01</td>\n",
              "      <td>State</td>\n",
              "    </tr>\n",
              "    <tr>\n",
              "      <th>130955</th>\n",
              "      <td>WY</td>\n",
              "      <td>WESTON COUNTY SHERIFF'S OFFICE</td>\n",
              "      <td>1005-00-589-1271</td>\n",
              "      <td>RIFLE,7.62 MILLIMETER</td>\n",
              "      <td>1</td>\n",
              "      <td>Each</td>\n",
              "      <td>138.00</td>\n",
              "      <td>D</td>\n",
              "      <td>1.0</td>\n",
              "      <td>1993-09-01</td>\n",
              "      <td>State</td>\n",
              "    </tr>\n",
              "    <tr>\n",
              "      <th>130956</th>\n",
              "      <td>WY</td>\n",
              "      <td>WESTON COUNTY SHERIFF'S OFFICE</td>\n",
              "      <td>1005-00-589-1271</td>\n",
              "      <td>RIFLE,7.62 MILLIMETER</td>\n",
              "      <td>1</td>\n",
              "      <td>Each</td>\n",
              "      <td>138.00</td>\n",
              "      <td>D</td>\n",
              "      <td>1.0</td>\n",
              "      <td>1993-09-01</td>\n",
              "      <td>State</td>\n",
              "    </tr>\n",
              "    <tr>\n",
              "      <th>130957</th>\n",
              "      <td>WY</td>\n",
              "      <td>WESTON COUNTY SHERIFF'S OFFICE</td>\n",
              "      <td>1005-00-589-1271</td>\n",
              "      <td>RIFLE,7.62 MILLIMETER</td>\n",
              "      <td>1</td>\n",
              "      <td>Each</td>\n",
              "      <td>138.00</td>\n",
              "      <td>D</td>\n",
              "      <td>1.0</td>\n",
              "      <td>1993-09-01</td>\n",
              "      <td>State</td>\n",
              "    </tr>\n",
              "  </tbody>\n",
              "</table>\n",
              "<p>130958 rows × 11 columns</p>\n",
              "</div>"
            ],
            "text/plain": [
              "       State                     Agency Name  ...  Ship Date Station Type\n",
              "0         AL           ABBEVILLE POLICE DEPT  ... 2018-01-30        State\n",
              "1         AL           ABBEVILLE POLICE DEPT  ... 2016-06-02        State\n",
              "2         AL           ABBEVILLE POLICE DEPT  ... 2016-11-09        State\n",
              "3         AL           ABBEVILLE POLICE DEPT  ... 2016-09-14        State\n",
              "4         AL           ABBEVILLE POLICE DEPT  ... 2017-03-28        State\n",
              "...      ...                             ...  ...        ...          ...\n",
              "130953    WY  WESTON COUNTY SHERIFF'S OFFICE  ... 1993-09-01        State\n",
              "130954    WY  WESTON COUNTY SHERIFF'S OFFICE  ... 1993-09-01        State\n",
              "130955    WY  WESTON COUNTY SHERIFF'S OFFICE  ... 1993-09-01        State\n",
              "130956    WY  WESTON COUNTY SHERIFF'S OFFICE  ... 1993-09-01        State\n",
              "130957    WY  WESTON COUNTY SHERIFF'S OFFICE  ... 1993-09-01        State\n",
              "\n",
              "[130958 rows x 11 columns]"
            ]
          },
          "metadata": {},
          "execution_count": 33
        }
      ]
    },
    {
      "cell_type": "code",
      "metadata": {
        "id": "55nxXVlEXEDz"
      },
      "source": [
        "df = df.fillna(1)"
      ],
      "execution_count": 34,
      "outputs": []
    },
    {
      "cell_type": "code",
      "metadata": {
        "colab": {
          "base_uri": "https://localhost:8080/"
        },
        "id": "xyLBad2mdL3b",
        "outputId": "b4c28ec8-7679-478f-dd31-6938e0f36572"
      },
      "source": [
        "# We will drop state since all the instances have station type as state which as no significance \n",
        "df.groupby('Station Type').count()['State']"
      ],
      "execution_count": 35,
      "outputs": [
        {
          "output_type": "execute_result",
          "data": {
            "text/plain": [
              "Station Type\n",
              "State    130958\n",
              "Name: State, dtype: int64"
            ]
          },
          "metadata": {},
          "execution_count": 35
        }
      ]
    },
    {
      "cell_type": "code",
      "metadata": {
        "id": "3GROk7ZgdPu9"
      },
      "source": [
        "df = df.drop('Station Type', 1)"
      ],
      "execution_count": 36,
      "outputs": []
    },
    {
      "cell_type": "code",
      "metadata": {
        "colab": {
          "base_uri": "https://localhost:8080/",
          "height": 424
        },
        "id": "MErkgCxDXE02",
        "outputId": "178156d1-6e8d-46d2-ee31-7e472bcc22b7"
      },
      "source": [
        "df"
      ],
      "execution_count": 37,
      "outputs": [
        {
          "output_type": "execute_result",
          "data": {
            "text/html": [
              "<div>\n",
              "<style scoped>\n",
              "    .dataframe tbody tr th:only-of-type {\n",
              "        vertical-align: middle;\n",
              "    }\n",
              "\n",
              "    .dataframe tbody tr th {\n",
              "        vertical-align: top;\n",
              "    }\n",
              "\n",
              "    .dataframe thead th {\n",
              "        text-align: right;\n",
              "    }\n",
              "</style>\n",
              "<table border=\"1\" class=\"dataframe\">\n",
              "  <thead>\n",
              "    <tr style=\"text-align: right;\">\n",
              "      <th></th>\n",
              "      <th>State</th>\n",
              "      <th>Agency Name</th>\n",
              "      <th>NSN</th>\n",
              "      <th>Item Name</th>\n",
              "      <th>Quantity</th>\n",
              "      <th>UI</th>\n",
              "      <th>Acquisition Value</th>\n",
              "      <th>DEMIL Code</th>\n",
              "      <th>DEMIL IC</th>\n",
              "      <th>Ship Date</th>\n",
              "    </tr>\n",
              "  </thead>\n",
              "  <tbody>\n",
              "    <tr>\n",
              "      <th>0</th>\n",
              "      <td>AL</td>\n",
              "      <td>ABBEVILLE POLICE DEPT</td>\n",
              "      <td>2540-01-565-4700</td>\n",
              "      <td>BALLISTIC BLANKET KIT</td>\n",
              "      <td>10</td>\n",
              "      <td>Kit</td>\n",
              "      <td>15871.59</td>\n",
              "      <td>D</td>\n",
              "      <td>1.0</td>\n",
              "      <td>2018-01-30</td>\n",
              "    </tr>\n",
              "    <tr>\n",
              "      <th>1</th>\n",
              "      <td>AL</td>\n",
              "      <td>ABBEVILLE POLICE DEPT</td>\n",
              "      <td>1240-DS-OPT-SIGH</td>\n",
              "      <td>OPTICAL SIGHTING AND RANGING EQUIPMENT</td>\n",
              "      <td>1</td>\n",
              "      <td>Each</td>\n",
              "      <td>245.88</td>\n",
              "      <td>D</td>\n",
              "      <td>1.0</td>\n",
              "      <td>2016-06-02</td>\n",
              "    </tr>\n",
              "    <tr>\n",
              "      <th>2</th>\n",
              "      <td>AL</td>\n",
              "      <td>ABBEVILLE POLICE DEPT</td>\n",
              "      <td>2355-01-553-4634</td>\n",
              "      <td>MINE RESISTANT VEHICLE</td>\n",
              "      <td>1</td>\n",
              "      <td>Each</td>\n",
              "      <td>658000.00</td>\n",
              "      <td>C</td>\n",
              "      <td>1.0</td>\n",
              "      <td>2016-11-09</td>\n",
              "    </tr>\n",
              "    <tr>\n",
              "      <th>3</th>\n",
              "      <td>AL</td>\n",
              "      <td>ABBEVILLE POLICE DEPT</td>\n",
              "      <td>1240-01-411-1265</td>\n",
              "      <td>SIGHT,REFLEX</td>\n",
              "      <td>9</td>\n",
              "      <td>Each</td>\n",
              "      <td>333.00</td>\n",
              "      <td>D</td>\n",
              "      <td>1.0</td>\n",
              "      <td>2016-09-14</td>\n",
              "    </tr>\n",
              "    <tr>\n",
              "      <th>4</th>\n",
              "      <td>AL</td>\n",
              "      <td>ABBEVILLE POLICE DEPT</td>\n",
              "      <td>5855-01-577-7174</td>\n",
              "      <td>ILLUMINATOR,INFRARED</td>\n",
              "      <td>10</td>\n",
              "      <td>Each</td>\n",
              "      <td>926.00</td>\n",
              "      <td>D</td>\n",
              "      <td>1.0</td>\n",
              "      <td>2017-03-28</td>\n",
              "    </tr>\n",
              "    <tr>\n",
              "      <th>...</th>\n",
              "      <td>...</td>\n",
              "      <td>...</td>\n",
              "      <td>...</td>\n",
              "      <td>...</td>\n",
              "      <td>...</td>\n",
              "      <td>...</td>\n",
              "      <td>...</td>\n",
              "      <td>...</td>\n",
              "      <td>...</td>\n",
              "      <td>...</td>\n",
              "    </tr>\n",
              "    <tr>\n",
              "      <th>130953</th>\n",
              "      <td>WY</td>\n",
              "      <td>WESTON COUNTY SHERIFF'S OFFICE</td>\n",
              "      <td>1005-00-589-1271</td>\n",
              "      <td>RIFLE,7.62 MILLIMETER</td>\n",
              "      <td>1</td>\n",
              "      <td>Each</td>\n",
              "      <td>138.00</td>\n",
              "      <td>D</td>\n",
              "      <td>1.0</td>\n",
              "      <td>1993-09-01</td>\n",
              "    </tr>\n",
              "    <tr>\n",
              "      <th>130954</th>\n",
              "      <td>WY</td>\n",
              "      <td>WESTON COUNTY SHERIFF'S OFFICE</td>\n",
              "      <td>1005-00-589-1271</td>\n",
              "      <td>RIFLE,7.62 MILLIMETER</td>\n",
              "      <td>1</td>\n",
              "      <td>Each</td>\n",
              "      <td>138.00</td>\n",
              "      <td>D</td>\n",
              "      <td>1.0</td>\n",
              "      <td>1993-09-01</td>\n",
              "    </tr>\n",
              "    <tr>\n",
              "      <th>130955</th>\n",
              "      <td>WY</td>\n",
              "      <td>WESTON COUNTY SHERIFF'S OFFICE</td>\n",
              "      <td>1005-00-589-1271</td>\n",
              "      <td>RIFLE,7.62 MILLIMETER</td>\n",
              "      <td>1</td>\n",
              "      <td>Each</td>\n",
              "      <td>138.00</td>\n",
              "      <td>D</td>\n",
              "      <td>1.0</td>\n",
              "      <td>1993-09-01</td>\n",
              "    </tr>\n",
              "    <tr>\n",
              "      <th>130956</th>\n",
              "      <td>WY</td>\n",
              "      <td>WESTON COUNTY SHERIFF'S OFFICE</td>\n",
              "      <td>1005-00-589-1271</td>\n",
              "      <td>RIFLE,7.62 MILLIMETER</td>\n",
              "      <td>1</td>\n",
              "      <td>Each</td>\n",
              "      <td>138.00</td>\n",
              "      <td>D</td>\n",
              "      <td>1.0</td>\n",
              "      <td>1993-09-01</td>\n",
              "    </tr>\n",
              "    <tr>\n",
              "      <th>130957</th>\n",
              "      <td>WY</td>\n",
              "      <td>WESTON COUNTY SHERIFF'S OFFICE</td>\n",
              "      <td>1005-00-589-1271</td>\n",
              "      <td>RIFLE,7.62 MILLIMETER</td>\n",
              "      <td>1</td>\n",
              "      <td>Each</td>\n",
              "      <td>138.00</td>\n",
              "      <td>D</td>\n",
              "      <td>1.0</td>\n",
              "      <td>1993-09-01</td>\n",
              "    </tr>\n",
              "  </tbody>\n",
              "</table>\n",
              "<p>130958 rows × 10 columns</p>\n",
              "</div>"
            ],
            "text/plain": [
              "       State                     Agency Name  ... DEMIL IC  Ship Date\n",
              "0         AL           ABBEVILLE POLICE DEPT  ...      1.0 2018-01-30\n",
              "1         AL           ABBEVILLE POLICE DEPT  ...      1.0 2016-06-02\n",
              "2         AL           ABBEVILLE POLICE DEPT  ...      1.0 2016-11-09\n",
              "3         AL           ABBEVILLE POLICE DEPT  ...      1.0 2016-09-14\n",
              "4         AL           ABBEVILLE POLICE DEPT  ...      1.0 2017-03-28\n",
              "...      ...                             ...  ...      ...        ...\n",
              "130953    WY  WESTON COUNTY SHERIFF'S OFFICE  ...      1.0 1993-09-01\n",
              "130954    WY  WESTON COUNTY SHERIFF'S OFFICE  ...      1.0 1993-09-01\n",
              "130955    WY  WESTON COUNTY SHERIFF'S OFFICE  ...      1.0 1993-09-01\n",
              "130956    WY  WESTON COUNTY SHERIFF'S OFFICE  ...      1.0 1993-09-01\n",
              "130957    WY  WESTON COUNTY SHERIFF'S OFFICE  ...      1.0 1993-09-01\n",
              "\n",
              "[130958 rows x 10 columns]"
            ]
          },
          "metadata": {},
          "execution_count": 37
        }
      ]
    },
    {
      "cell_type": "code",
      "metadata": {
        "id": "9QMP6GUOXFT6"
      },
      "source": [
        ""
      ],
      "execution_count": 37,
      "outputs": []
    },
    {
      "cell_type": "code",
      "metadata": {
        "id": "otuXXpQakCHk"
      },
      "source": [
        "# Sampling the dataset to 10000 for each target label so total instances together is 10000 X 7 = 70000\n",
        "sample = 10000\n",
        "df = df.groupby('DEMIL Code').apply(lambda x: x.sample(sample,replace=True))\n",
        "\n",
        "df = df.droplevel(0).reset_index()\n",
        "df = df.drop(labels = 'index', axis =1)"
      ],
      "execution_count": 38,
      "outputs": []
    },
    {
      "cell_type": "code",
      "metadata": {
        "id": "aQCR3gyZFYnt"
      },
      "source": [
        "from sklearn.preprocessing import LabelEncoder\n",
        "\n",
        "le =LabelEncoder()\n",
        "\n",
        "df['State'] = le.fit_transform(df['State'])\n",
        "df['Agency Name'] = le.fit_transform(df['Agency Name'])\n",
        "df['NSN'] = le.fit_transform(df['NSN'])\n",
        "df['Item Name'] = le.fit_transform(df['Item Name'])\n",
        "df['UI'] = le.fit_transform(df['UI'])\n",
        "df['DEMIL Code'] = le.fit_transform(df['DEMIL Code'])\n",
        "df['Ship Date'] = le.fit_transform(df['Ship Date'])\n",
        "\n"
      ],
      "execution_count": 39,
      "outputs": []
    },
    {
      "cell_type": "code",
      "metadata": {
        "id": "5H2ViWtAkC5T"
      },
      "source": [
        "from sklearn.model_selection import train_test_split\n",
        "from sklearn.metrics import accuracy_score\n",
        "from sklearn.preprocessing import MinMaxScaler\n",
        "from sklearn.metrics import confusion_matrix\n",
        "from sklearn.metrics import classification_report\n",
        "\n",
        "X = df.drop(labels = ['DEMIL Code'], axis = 1)\n",
        "y = df['DEMIL Code']\n",
        "# df['State']\n",
        "X = normalize(X)\n",
        "\n",
        "# y = to_categorical(y)\n",
        "\n",
        "X_train, X_test,y_train, y_test = train_test_split(X, y, test_size = 0.3, random_state = True)\n",
        "\n"
      ],
      "execution_count": 40,
      "outputs": []
    },
    {
      "cell_type": "code",
      "metadata": {
        "colab": {
          "base_uri": "https://localhost:8080/"
        },
        "id": "Tb7mryepCTGG",
        "outputId": "20076a4d-a18d-4833-af43-9cfdd377db6d"
      },
      "source": [
        "X_train = np.array(X_train)\n",
        "X_train = np.reshape(X_train, (X_train.shape[0], X_train.shape[1], 1))\n",
        "X_train.shape"
      ],
      "execution_count": 41,
      "outputs": [
        {
          "output_type": "execute_result",
          "data": {
            "text/plain": [
              "(49000, 9, 1)"
            ]
          },
          "metadata": {},
          "execution_count": 41
        }
      ]
    },
    {
      "cell_type": "code",
      "metadata": {
        "id": "HYI67NqRCZYo"
      },
      "source": [
        "from tensorflow.keras.utils import to_categorical\n",
        "#one-hot encode target column\n",
        "y_train = to_categorical(y_train)\n",
        "y_test = to_categorical(y_test)"
      ],
      "execution_count": 42,
      "outputs": []
    },
    {
      "cell_type": "code",
      "metadata": {
        "colab": {
          "base_uri": "https://localhost:8080/"
        },
        "id": "tExcd0u4SMTR",
        "outputId": "78871100-ff3d-4da9-dd2d-cef0789832f3"
      },
      "source": [
        "y_train.shape"
      ],
      "execution_count": 43,
      "outputs": [
        {
          "output_type": "execute_result",
          "data": {
            "text/plain": [
              "(49000, 7)"
            ]
          },
          "metadata": {},
          "execution_count": 43
        }
      ]
    },
    {
      "cell_type": "code",
      "metadata": {
        "id": "cLCU7boDkDld"
      },
      "source": [
        "from keras.models import Sequential\n",
        "from keras.layers import Dense\n",
        "from keras.layers import LSTM, Dropout\n",
        "model3_sample=Sequential()\n",
        "model3_sample.add(LSTM(100, return_sequences = True, input_shape = (X_train.shape[1], X_train.shape[2] )))\n",
        "model3_sample.add(Dropout(0.2))\n",
        "model3_sample.add(LSTM(100, return_sequences = True))\n",
        "model3_sample.add(Dropout(0.2))\n",
        "model3_sample.add(LSTM(1000, return_sequences = True))\n",
        "model3_sample.add(Dropout(0.2))\n",
        "model3_sample.add(LSTM(100))\n",
        "model3_sample.add(Dropout(0.2))\n",
        "model3_sample.add(Dense(7))"
      ],
      "execution_count": 44,
      "outputs": []
    },
    {
      "cell_type": "code",
      "metadata": {
        "id": "zeiRYFWGkEZN",
        "colab": {
          "base_uri": "https://localhost:8080/"
        },
        "outputId": "fd252684-3022-4e0c-f604-9c06d590f158"
      },
      "source": [
        "from tensorflow.keras.optimizers import Adam\n",
        "model3_sample.compile(loss='binary_crossentropy', optimizer='adam', metrics=['accuracy'])\n",
        "\n",
        "print('Model summary')\n",
        "print(model3_sample.summary())"
      ],
      "execution_count": 45,
      "outputs": [
        {
          "output_type": "stream",
          "name": "stdout",
          "text": [
            "Model summary\n",
            "Model: \"sequential_1\"\n",
            "_________________________________________________________________\n",
            " Layer (type)                Output Shape              Param #   \n",
            "=================================================================\n",
            " lstm_4 (LSTM)               (None, 9, 100)            40800     \n",
            "                                                                 \n",
            " dropout_4 (Dropout)         (None, 9, 100)            0         \n",
            "                                                                 \n",
            " lstm_5 (LSTM)               (None, 9, 100)            80400     \n",
            "                                                                 \n",
            " dropout_5 (Dropout)         (None, 9, 100)            0         \n",
            "                                                                 \n",
            " lstm_6 (LSTM)               (None, 9, 1000)           4404000   \n",
            "                                                                 \n",
            " dropout_6 (Dropout)         (None, 9, 1000)           0         \n",
            "                                                                 \n",
            " lstm_7 (LSTM)               (None, 100)               440400    \n",
            "                                                                 \n",
            " dropout_7 (Dropout)         (None, 100)               0         \n",
            "                                                                 \n",
            " dense_1 (Dense)             (None, 7)                 707       \n",
            "                                                                 \n",
            "=================================================================\n",
            "Total params: 4,966,307\n",
            "Trainable params: 4,966,307\n",
            "Non-trainable params: 0\n",
            "_________________________________________________________________\n",
            "None\n"
          ]
        }
      ]
    },
    {
      "cell_type": "code",
      "metadata": {
        "id": "2N6CFQ-OkErf",
        "colab": {
          "base_uri": "https://localhost:8080/"
        },
        "outputId": "69ca8f64-151d-4f04-dade-1f1d281a61d9"
      },
      "source": [
        "model3_sample.fit(X_train, y_train, verbose=2, batch_size=128,epochs=100) # 95.09"
      ],
      "execution_count": 46,
      "outputs": [
        {
          "output_type": "stream",
          "name": "stdout",
          "text": [
            "Epoch 1/100\n",
            "383/383 - 21s - loss: 0.4583 - accuracy: 0.1798 - 21s/epoch - 54ms/step\n",
            "Epoch 2/100\n",
            "383/383 - 14s - loss: 0.4080 - accuracy: 0.1997 - 14s/epoch - 36ms/step\n",
            "Epoch 3/100\n",
            "383/383 - 14s - loss: 0.3952 - accuracy: 0.2274 - 14s/epoch - 36ms/step\n",
            "Epoch 4/100\n",
            "383/383 - 14s - loss: 0.4020 - accuracy: 0.2131 - 14s/epoch - 36ms/step\n",
            "Epoch 5/100\n",
            "383/383 - 14s - loss: 0.3945 - accuracy: 0.2645 - 14s/epoch - 36ms/step\n",
            "Epoch 6/100\n",
            "383/383 - 14s - loss: 0.3657 - accuracy: 0.3871 - 14s/epoch - 36ms/step\n",
            "Epoch 7/100\n",
            "383/383 - 14s - loss: 0.3615 - accuracy: 0.4320 - 14s/epoch - 36ms/step\n",
            "Epoch 8/100\n",
            "383/383 - 14s - loss: 2.7055 - accuracy: 0.3065 - 14s/epoch - 36ms/step\n",
            "Epoch 9/100\n",
            "383/383 - 14s - loss: 5.0003 - accuracy: 0.1435 - 14s/epoch - 36ms/step\n",
            "Epoch 10/100\n",
            "383/383 - 14s - loss: 4.8669 - accuracy: 0.1437 - 14s/epoch - 36ms/step\n",
            "Epoch 11/100\n",
            "383/383 - 14s - loss: 4.7803 - accuracy: 0.1441 - 14s/epoch - 36ms/step\n",
            "Epoch 12/100\n",
            "383/383 - 14s - loss: 4.7555 - accuracy: 0.1436 - 14s/epoch - 36ms/step\n",
            "Epoch 13/100\n",
            "383/383 - 14s - loss: 4.7320 - accuracy: 0.1440 - 14s/epoch - 36ms/step\n",
            "Epoch 14/100\n",
            "383/383 - 14s - loss: 4.6745 - accuracy: 0.1439 - 14s/epoch - 36ms/step\n",
            "Epoch 15/100\n",
            "383/383 - 14s - loss: 4.4577 - accuracy: 0.1441 - 14s/epoch - 36ms/step\n",
            "Epoch 16/100\n",
            "383/383 - 14s - loss: 4.3951 - accuracy: 0.1437 - 14s/epoch - 36ms/step\n",
            "Epoch 17/100\n",
            "383/383 - 14s - loss: 4.3612 - accuracy: 0.1433 - 14s/epoch - 36ms/step\n",
            "Epoch 18/100\n",
            "383/383 - 14s - loss: 4.3489 - accuracy: 0.1426 - 14s/epoch - 36ms/step\n",
            "Epoch 19/100\n",
            "383/383 - 14s - loss: 4.3199 - accuracy: 0.1455 - 14s/epoch - 36ms/step\n",
            "Epoch 20/100\n",
            "383/383 - 14s - loss: 4.3119 - accuracy: 0.1431 - 14s/epoch - 36ms/step\n",
            "Epoch 21/100\n",
            "383/383 - 14s - loss: 4.3096 - accuracy: 0.1440 - 14s/epoch - 36ms/step\n",
            "Epoch 22/100\n",
            "383/383 - 14s - loss: 4.3013 - accuracy: 0.1428 - 14s/epoch - 36ms/step\n",
            "Epoch 23/100\n",
            "383/383 - 14s - loss: 4.3011 - accuracy: 0.1419 - 14s/epoch - 36ms/step\n",
            "Epoch 24/100\n",
            "383/383 - 14s - loss: 4.2924 - accuracy: 0.1425 - 14s/epoch - 36ms/step\n",
            "Epoch 25/100\n",
            "383/383 - 14s - loss: 4.2891 - accuracy: 0.1432 - 14s/epoch - 36ms/step\n",
            "Epoch 26/100\n",
            "383/383 - 14s - loss: 4.2881 - accuracy: 0.1443 - 14s/epoch - 36ms/step\n",
            "Epoch 27/100\n",
            "383/383 - 14s - loss: 4.2879 - accuracy: 0.1427 - 14s/epoch - 36ms/step\n",
            "Epoch 28/100\n",
            "383/383 - 14s - loss: 4.2876 - accuracy: 0.1422 - 14s/epoch - 36ms/step\n",
            "Epoch 29/100\n",
            "383/383 - 14s - loss: 4.2871 - accuracy: 0.1436 - 14s/epoch - 36ms/step\n",
            "Epoch 30/100\n",
            "383/383 - 14s - loss: 1.3580 - accuracy: 0.1416 - 14s/epoch - 36ms/step\n",
            "Epoch 31/100\n",
            "383/383 - 14s - loss: 0.4136 - accuracy: 0.1408 - 14s/epoch - 36ms/step\n",
            "Epoch 32/100\n",
            "383/383 - 14s - loss: 0.4112 - accuracy: 0.1420 - 14s/epoch - 36ms/step\n",
            "Epoch 33/100\n",
            "383/383 - 14s - loss: 0.4107 - accuracy: 0.1433 - 14s/epoch - 36ms/step\n",
            "Epoch 34/100\n",
            "383/383 - 14s - loss: 0.4087 - accuracy: 0.1910 - 14s/epoch - 36ms/step\n",
            "Epoch 35/100\n",
            "383/383 - 14s - loss: 0.4013 - accuracy: 0.2167 - 14s/epoch - 36ms/step\n",
            "Epoch 36/100\n",
            "383/383 - 14s - loss: 0.4057 - accuracy: 0.2942 - 14s/epoch - 36ms/step\n",
            "Epoch 37/100\n",
            "383/383 - 14s - loss: 0.3943 - accuracy: 0.2503 - 14s/epoch - 36ms/step\n",
            "Epoch 38/100\n",
            "383/383 - 14s - loss: 0.3775 - accuracy: 0.3164 - 14s/epoch - 36ms/step\n",
            "Epoch 39/100\n",
            "383/383 - 14s - loss: 0.3735 - accuracy: 0.3468 - 14s/epoch - 36ms/step\n",
            "Epoch 40/100\n",
            "383/383 - 14s - loss: 0.3693 - accuracy: 0.3612 - 14s/epoch - 36ms/step\n",
            "Epoch 41/100\n",
            "383/383 - 14s - loss: 0.4229 - accuracy: 0.1662 - 14s/epoch - 36ms/step\n",
            "Epoch 42/100\n",
            "383/383 - 14s - loss: 0.4103 - accuracy: 0.1436 - 14s/epoch - 36ms/step\n",
            "Epoch 43/100\n",
            "383/383 - 14s - loss: 0.4102 - accuracy: 0.1424 - 14s/epoch - 36ms/step\n",
            "Epoch 44/100\n",
            "383/383 - 14s - loss: 0.4076 - accuracy: 0.1901 - 14s/epoch - 36ms/step\n",
            "Epoch 45/100\n",
            "383/383 - 14s - loss: 0.4093 - accuracy: 0.1560 - 14s/epoch - 36ms/step\n",
            "Epoch 46/100\n",
            "383/383 - 14s - loss: 0.3773 - accuracy: 0.3184 - 14s/epoch - 36ms/step\n",
            "Epoch 47/100\n",
            "383/383 - 14s - loss: 0.3752 - accuracy: 0.3323 - 14s/epoch - 36ms/step\n",
            "Epoch 48/100\n",
            "383/383 - 14s - loss: 0.4164 - accuracy: 0.1882 - 14s/epoch - 36ms/step\n",
            "Epoch 49/100\n",
            "383/383 - 14s - loss: 0.3810 - accuracy: 0.2947 - 14s/epoch - 36ms/step\n",
            "Epoch 50/100\n",
            "383/383 - 14s - loss: 0.4091 - accuracy: 0.1879 - 14s/epoch - 36ms/step\n",
            "Epoch 51/100\n",
            "383/383 - 14s - loss: 0.3892 - accuracy: 0.2628 - 14s/epoch - 36ms/step\n",
            "Epoch 52/100\n",
            "383/383 - 14s - loss: 0.3896 - accuracy: 0.2597 - 14s/epoch - 36ms/step\n",
            "Epoch 53/100\n",
            "383/383 - 14s - loss: 0.3759 - accuracy: 0.2839 - 14s/epoch - 36ms/step\n",
            "Epoch 54/100\n",
            "383/383 - 14s - loss: 0.3554 - accuracy: 0.3542 - 14s/epoch - 36ms/step\n",
            "Epoch 55/100\n",
            "383/383 - 14s - loss: 0.3735 - accuracy: 0.3251 - 14s/epoch - 36ms/step\n",
            "Epoch 56/100\n",
            "383/383 - 14s - loss: 0.3714 - accuracy: 0.3156 - 14s/epoch - 36ms/step\n",
            "Epoch 57/100\n",
            "383/383 - 14s - loss: 0.3597 - accuracy: 0.3442 - 14s/epoch - 36ms/step\n",
            "Epoch 58/100\n",
            "383/383 - 14s - loss: 0.3466 - accuracy: 0.3666 - 14s/epoch - 36ms/step\n",
            "Epoch 59/100\n",
            "383/383 - 14s - loss: 0.3856 - accuracy: 0.3132 - 14s/epoch - 36ms/step\n",
            "Epoch 60/100\n",
            "383/383 - 14s - loss: 0.3756 - accuracy: 0.3230 - 14s/epoch - 36ms/step\n",
            "Epoch 61/100\n",
            "383/383 - 14s - loss: 0.3616 - accuracy: 0.3646 - 14s/epoch - 36ms/step\n",
            "Epoch 62/100\n",
            "383/383 - 14s - loss: 0.4915 - accuracy: 0.1961 - 14s/epoch - 36ms/step\n",
            "Epoch 63/100\n",
            "383/383 - 14s - loss: 0.3879 - accuracy: 0.2667 - 14s/epoch - 36ms/step\n",
            "Epoch 64/100\n",
            "383/383 - 14s - loss: 0.3874 - accuracy: 0.2521 - 14s/epoch - 36ms/step\n",
            "Epoch 65/100\n",
            "383/383 - 14s - loss: 0.4030 - accuracy: 0.1891 - 14s/epoch - 36ms/step\n",
            "Epoch 66/100\n",
            "383/383 - 14s - loss: 0.3838 - accuracy: 0.2992 - 14s/epoch - 36ms/step\n",
            "Epoch 67/100\n",
            "383/383 - 14s - loss: 0.3903 - accuracy: 0.2640 - 14s/epoch - 36ms/step\n",
            "Epoch 68/100\n",
            "383/383 - 14s - loss: 0.3912 - accuracy: 0.2664 - 14s/epoch - 36ms/step\n",
            "Epoch 69/100\n",
            "383/383 - 14s - loss: 0.3844 - accuracy: 0.2825 - 14s/epoch - 36ms/step\n",
            "Epoch 70/100\n",
            "383/383 - 14s - loss: 0.3677 - accuracy: 0.3407 - 14s/epoch - 36ms/step\n",
            "Epoch 71/100\n",
            "383/383 - 14s - loss: 0.3675 - accuracy: 0.3670 - 14s/epoch - 36ms/step\n",
            "Epoch 72/100\n",
            "383/383 - 14s - loss: 0.3461 - accuracy: 0.4346 - 14s/epoch - 36ms/step\n",
            "Epoch 73/100\n",
            "383/383 - 14s - loss: 0.3407 - accuracy: 0.4609 - 14s/epoch - 36ms/step\n",
            "Epoch 74/100\n",
            "383/383 - 14s - loss: 0.5756 - accuracy: 0.2670 - 14s/epoch - 36ms/step\n",
            "Epoch 75/100\n",
            "383/383 - 14s - loss: 0.3547 - accuracy: 0.4451 - 14s/epoch - 36ms/step\n",
            "Epoch 76/100\n",
            "383/383 - 14s - loss: 0.3589 - accuracy: 0.4227 - 14s/epoch - 36ms/step\n",
            "Epoch 77/100\n",
            "383/383 - 14s - loss: 0.3982 - accuracy: 0.2194 - 14s/epoch - 36ms/step\n",
            "Epoch 78/100\n",
            "383/383 - 14s - loss: 0.3702 - accuracy: 0.3577 - 14s/epoch - 36ms/step\n",
            "Epoch 79/100\n",
            "383/383 - 14s - loss: 0.3573 - accuracy: 0.3995 - 14s/epoch - 36ms/step\n",
            "Epoch 80/100\n",
            "383/383 - 14s - loss: 0.3413 - accuracy: 0.4270 - 14s/epoch - 36ms/step\n",
            "Epoch 81/100\n",
            "383/383 - 14s - loss: 0.3406 - accuracy: 0.4426 - 14s/epoch - 36ms/step\n",
            "Epoch 82/100\n",
            "383/383 - 14s - loss: 0.3325 - accuracy: 0.4428 - 14s/epoch - 36ms/step\n",
            "Epoch 83/100\n",
            "383/383 - 14s - loss: 0.3389 - accuracy: 0.4334 - 14s/epoch - 36ms/step\n",
            "Epoch 84/100\n",
            "383/383 - 14s - loss: 0.3301 - accuracy: 0.4490 - 14s/epoch - 36ms/step\n",
            "Epoch 85/100\n",
            "383/383 - 14s - loss: 0.3230 - accuracy: 0.4528 - 14s/epoch - 36ms/step\n",
            "Epoch 86/100\n",
            "383/383 - 14s - loss: 0.3119 - accuracy: 0.5042 - 14s/epoch - 36ms/step\n",
            "Epoch 87/100\n",
            "383/383 - 14s - loss: 0.3086 - accuracy: 0.5194 - 14s/epoch - 36ms/step\n",
            "Epoch 88/100\n",
            "383/383 - 14s - loss: 0.3195 - accuracy: 0.5353 - 14s/epoch - 36ms/step\n",
            "Epoch 89/100\n",
            "383/383 - 14s - loss: 0.3316 - accuracy: 0.5128 - 14s/epoch - 36ms/step\n",
            "Epoch 90/100\n",
            "383/383 - 14s - loss: 0.3197 - accuracy: 0.5025 - 14s/epoch - 36ms/step\n",
            "Epoch 91/100\n",
            "383/383 - 14s - loss: 0.3119 - accuracy: 0.5164 - 14s/epoch - 36ms/step\n",
            "Epoch 92/100\n",
            "383/383 - 14s - loss: 0.3077 - accuracy: 0.5386 - 14s/epoch - 36ms/step\n",
            "Epoch 93/100\n",
            "383/383 - 14s - loss: 0.3059 - accuracy: 0.5442 - 14s/epoch - 36ms/step\n",
            "Epoch 94/100\n",
            "383/383 - 14s - loss: 0.2952 - accuracy: 0.5810 - 14s/epoch - 36ms/step\n",
            "Epoch 95/100\n",
            "383/383 - 14s - loss: 0.2928 - accuracy: 0.5766 - 14s/epoch - 36ms/step\n",
            "Epoch 96/100\n",
            "383/383 - 14s - loss: 0.3016 - accuracy: 0.5343 - 14s/epoch - 36ms/step\n",
            "Epoch 97/100\n",
            "383/383 - 14s - loss: 0.2879 - accuracy: 0.5833 - 14s/epoch - 36ms/step\n",
            "Epoch 98/100\n",
            "383/383 - 14s - loss: 0.3092 - accuracy: 0.5247 - 14s/epoch - 36ms/step\n",
            "Epoch 99/100\n",
            "383/383 - 14s - loss: 0.3192 - accuracy: 0.5047 - 14s/epoch - 36ms/step\n",
            "Epoch 100/100\n",
            "383/383 - 14s - loss: 0.3289 - accuracy: 0.5032 - 14s/epoch - 36ms/step\n"
          ]
        },
        {
          "output_type": "execute_result",
          "data": {
            "text/plain": [
              "<keras.callbacks.History at 0x7f81455492d0>"
            ]
          },
          "metadata": {},
          "execution_count": 46
        }
      ]
    },
    {
      "cell_type": "code",
      "metadata": {
        "id": "4pxN3wl8kFh-",
        "colab": {
          "base_uri": "https://localhost:8080/"
        },
        "outputId": "4885ffa0-ba04-417b-918f-bec57fa5c0ac"
      },
      "source": [
        "predict3_sample = model3_sample.predict(X_test, batch_size=128)\n",
        "predict3_sample"
      ],
      "execution_count": 47,
      "outputs": [
        {
          "output_type": "execute_result",
          "data": {
            "text/plain": [
              "array([[0.16767995, 0.17569104, 0.11355378, ..., 0.2062814 , 0.19453596,\n",
              "        0.1774943 ],\n",
              "       [0.07880415, 0.1497052 , 0.09377091, ..., 0.42356133, 0.20251301,\n",
              "        0.14533314],\n",
              "       [0.16408595, 0.16980708, 0.12279931, ..., 0.22006884, 0.22159882,\n",
              "        0.16437449],\n",
              "       ...,\n",
              "       [0.16616398, 0.17723277, 0.10992573, ..., 0.18873309, 0.18387617,\n",
              "        0.18254346],\n",
              "       [0.17104001, 0.1733331 , 0.12100273, ..., 0.2033903 , 0.21284436,\n",
              "        0.17031105],\n",
              "       [0.14813495, 0.17453636, 0.10737564, ..., 0.13389997, 0.18233943,\n",
              "        0.17726797]], dtype=float32)"
            ]
          },
          "metadata": {},
          "execution_count": 47
        }
      ]
    },
    {
      "cell_type": "code",
      "metadata": {
        "id": "m1lQE0fVk4XA",
        "colab": {
          "base_uri": "https://localhost:8080/"
        },
        "outputId": "acda65b4-e01d-4900-f102-d9d62d1523b9"
      },
      "source": [
        "# Model 3 - LSTM sample\n",
        "results3_sample = model3_sample.evaluate(X_test, y_test)\n",
        "print('Final test set loss', format(results3_sample[0]))\n",
        "print('Final test set accuracy', format(results3_sample[1]))"
      ],
      "execution_count": 48,
      "outputs": [
        {
          "output_type": "stream",
          "name": "stdout",
          "text": [
            "657/657 [==============================] - 9s 11ms/step - loss: 0.3854 - accuracy: 0.2503\n",
            "Final test set loss 0.38543781638145447\n",
            "Final test set accuracy 0.25028571486473083\n"
          ]
        }
      ]
    },
    {
      "cell_type": "code",
      "metadata": {
        "id": "TCn1UB6Ck40B"
      },
      "source": [
        "y_pred3_sample = np.argmax(predict3_sample,axis=1)"
      ],
      "execution_count": 49,
      "outputs": []
    },
    {
      "cell_type": "code",
      "metadata": {
        "id": "4mMnMUw1k5Gg"
      },
      "source": [
        "y_val3_sample =np.argmax(y_test, axis=1)"
      ],
      "execution_count": 50,
      "outputs": []
    },
    {
      "cell_type": "code",
      "metadata": {
        "id": "9xa28ibnk5yP",
        "colab": {
          "base_uri": "https://localhost:8080/"
        },
        "outputId": "84047215-2676-4d21-8ad4-2d198c49597d"
      },
      "source": [
        "print(classification_report(y_val3_sample,y_pred3_sample))"
      ],
      "execution_count": 51,
      "outputs": [
        {
          "output_type": "stream",
          "name": "stdout",
          "text": [
            "              precision    recall  f1-score   support\n",
            "\n",
            "           0       0.00      0.00      0.00      3061\n",
            "           1       0.00      0.00      0.00      3066\n",
            "           2       0.00      0.00      0.00      3032\n",
            "           3       0.16      0.99      0.28      2979\n",
            "           4       0.86      0.78      0.82      2958\n",
            "           5       0.00      0.00      0.00      2949\n",
            "           6       0.00      0.00      0.00      2955\n",
            "\n",
            "    accuracy                           0.25     21000\n",
            "   macro avg       0.15      0.25      0.16     21000\n",
            "weighted avg       0.14      0.25      0.15     21000\n",
            "\n"
          ]
        },
        {
          "output_type": "stream",
          "name": "stderr",
          "text": [
            "/usr/local/lib/python3.7/dist-packages/sklearn/metrics/_classification.py:1308: UndefinedMetricWarning: Precision and F-score are ill-defined and being set to 0.0 in labels with no predicted samples. Use `zero_division` parameter to control this behavior.\n",
            "  _warn_prf(average, modifier, msg_start, len(result))\n",
            "/usr/local/lib/python3.7/dist-packages/sklearn/metrics/_classification.py:1308: UndefinedMetricWarning: Precision and F-score are ill-defined and being set to 0.0 in labels with no predicted samples. Use `zero_division` parameter to control this behavior.\n",
            "  _warn_prf(average, modifier, msg_start, len(result))\n",
            "/usr/local/lib/python3.7/dist-packages/sklearn/metrics/_classification.py:1308: UndefinedMetricWarning: Precision and F-score are ill-defined and being set to 0.0 in labels with no predicted samples. Use `zero_division` parameter to control this behavior.\n",
            "  _warn_prf(average, modifier, msg_start, len(result))\n"
          ]
        }
      ]
    },
    {
      "cell_type": "code",
      "metadata": {
        "id": "SrKTpXfclnNa",
        "colab": {
          "base_uri": "https://localhost:8080/"
        },
        "outputId": "33ed430b-1105-463c-9a00-5d590ba3c20a"
      },
      "source": [
        "print(classification_report(y_val3_sample, y_pred3_sample))"
      ],
      "execution_count": 52,
      "outputs": [
        {
          "output_type": "stream",
          "name": "stdout",
          "text": [
            "              precision    recall  f1-score   support\n",
            "\n",
            "           0       0.00      0.00      0.00      3061\n",
            "           1       0.00      0.00      0.00      3066\n",
            "           2       0.00      0.00      0.00      3032\n",
            "           3       0.16      0.99      0.28      2979\n",
            "           4       0.86      0.78      0.82      2958\n",
            "           5       0.00      0.00      0.00      2949\n",
            "           6       0.00      0.00      0.00      2955\n",
            "\n",
            "    accuracy                           0.25     21000\n",
            "   macro avg       0.15      0.25      0.16     21000\n",
            "weighted avg       0.14      0.25      0.15     21000\n",
            "\n"
          ]
        },
        {
          "output_type": "stream",
          "name": "stderr",
          "text": [
            "/usr/local/lib/python3.7/dist-packages/sklearn/metrics/_classification.py:1308: UndefinedMetricWarning: Precision and F-score are ill-defined and being set to 0.0 in labels with no predicted samples. Use `zero_division` parameter to control this behavior.\n",
            "  _warn_prf(average, modifier, msg_start, len(result))\n",
            "/usr/local/lib/python3.7/dist-packages/sklearn/metrics/_classification.py:1308: UndefinedMetricWarning: Precision and F-score are ill-defined and being set to 0.0 in labels with no predicted samples. Use `zero_division` parameter to control this behavior.\n",
            "  _warn_prf(average, modifier, msg_start, len(result))\n",
            "/usr/local/lib/python3.7/dist-packages/sklearn/metrics/_classification.py:1308: UndefinedMetricWarning: Precision and F-score are ill-defined and being set to 0.0 in labels with no predicted samples. Use `zero_division` parameter to control this behavior.\n",
            "  _warn_prf(average, modifier, msg_start, len(result))\n"
          ]
        }
      ]
    },
    {
      "cell_type": "code",
      "metadata": {
        "id": "3lXFyKDqloDR"
      },
      "source": [
        ""
      ],
      "execution_count": 52,
      "outputs": []
    },
    {
      "cell_type": "code",
      "metadata": {
        "id": "GvZG1CNrloYl"
      },
      "source": [
        ""
      ],
      "execution_count": 52,
      "outputs": []
    },
    {
      "cell_type": "code",
      "metadata": {
        "id": "dMJgJxrQlorc"
      },
      "source": [
        ""
      ],
      "execution_count": 52,
      "outputs": []
    },
    {
      "cell_type": "code",
      "metadata": {
        "id": "flYyo47Klo-w"
      },
      "source": [
        ""
      ],
      "execution_count": 52,
      "outputs": []
    },
    {
      "cell_type": "code",
      "metadata": {
        "id": "MAXvY1xClpVG"
      },
      "source": [
        ""
      ],
      "execution_count": 52,
      "outputs": []
    }
  ]
}